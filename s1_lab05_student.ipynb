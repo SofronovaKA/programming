{
  "cells": [
    {
      "cell_type": "markdown",
      "metadata": {
        "id": "view-in-github",
        "colab_type": "text"
      },
      "source": [
        "<a href=\"https://colab.research.google.com/github/SofronovaKA/programming/blob/main/s1_lab05_student.ipynb\" target=\"_parent\"><img src=\"https://colab.research.google.com/assets/colab-badge.svg\" alt=\"Open In Colab\"/></a>"
      ]
    },
    {
      "cell_type": "code",
      "execution_count": null,
      "id": "abc1e4fa",
      "metadata": {
        "id": "abc1e4fa"
      },
      "outputs": [],
      "source": [
        "- title: Занятие 5\n",
        "- ipynb_url: download/s1_lab05.ipynb"
      ]
    },
    {
      "cell_type": "markdown",
      "id": "1e48c462",
      "metadata": {
        "id": "1e48c462"
      },
      "source": [
        "# Практическое занятие 5: еще раз про списки\n",
        "## Цель: Рассмотреть алгоритмы обработки числовых последовательностей с использованием списков **Python**\n",
        "## Задачи:\n",
        "1. Свойства и методы списков в **Python**\n",
        "2. Сортировка вставками\n",
        "3. Решето Эратосфена\n",
        "4. Частотный анализ"
      ]
    },
    {
      "cell_type": "markdown",
      "id": "015c63aa",
      "metadata": {
        "id": "015c63aa"
      },
      "source": [
        "## Срезы списков\n",
        "В практическом занятии 3 мы рассмотрели срезы строк. Аналогично срезы работают для списков:"
      ]
    },
    {
      "cell_type": "code",
      "execution_count": null,
      "id": "e9aa3ca8",
      "metadata": {
        "id": "e9aa3ca8",
        "colab": {
          "base_uri": "https://localhost:8080/"
        },
        "outputId": "040a65ec-31f7-4b65-d9ae-c8ee5294d53c"
      },
      "outputs": [
        {
          "output_type": "stream",
          "name": "stdout",
          "text": [
            "[2, 3]\n"
          ]
        }
      ],
      "source": [
        "a = [1, 2, 3, 4, 5]\n",
        "print(a[1:3])"
      ]
    },
    {
      "cell_type": "code",
      "execution_count": null,
      "id": "abf39778",
      "metadata": {
        "id": "abf39778",
        "colab": {
          "base_uri": "https://localhost:8080/"
        },
        "outputId": "e76e72f4-55ad-4be5-b86c-f4c4867ed81f"
      },
      "outputs": [
        {
          "output_type": "stream",
          "name": "stdout",
          "text": [
            "[2, 4]\n"
          ]
        }
      ],
      "source": [
        "print(a[1:5:2])"
      ]
    },
    {
      "cell_type": "markdown",
      "id": "07a5aa52",
      "metadata": {
        "id": "07a5aa52"
      },
      "source": [
        "Если не указать первый элемент, то срез будет взят с первого элемента:"
      ]
    },
    {
      "cell_type": "code",
      "execution_count": null,
      "id": "efaba5aa",
      "metadata": {
        "id": "efaba5aa",
        "colab": {
          "base_uri": "https://localhost:8080/"
        },
        "outputId": "1104ea87-f1c8-4a71-b0ba-833ff5ce7e7a"
      },
      "outputs": [
        {
          "output_type": "stream",
          "name": "stdout",
          "text": [
            "[1, 2, 3]\n"
          ]
        }
      ],
      "source": [
        "print(a[:3])"
      ]
    },
    {
      "cell_type": "markdown",
      "id": "8383dd0f",
      "metadata": {
        "id": "8383dd0f"
      },
      "source": [
        "Если не указать последний элемент — срез будет взят до последнего элемента:"
      ]
    },
    {
      "cell_type": "code",
      "execution_count": null,
      "id": "6f7bcb3c",
      "metadata": {
        "id": "6f7bcb3c",
        "colab": {
          "base_uri": "https://localhost:8080/"
        },
        "outputId": "bb1b4f8d-a4d3-4936-f370-1e494fb66b45"
      },
      "outputs": [
        {
          "output_type": "stream",
          "name": "stdout",
          "text": [
            "[4, 5]\n"
          ]
        }
      ],
      "source": [
        "print(a[3:])"
      ]
    },
    {
      "cell_type": "markdown",
      "id": "4219e0ff",
      "metadata": {
        "id": "4219e0ff"
      },
      "source": [
        "Индексы могут быть отрицательными:"
      ]
    },
    {
      "cell_type": "code",
      "execution_count": null,
      "id": "a4b77800",
      "metadata": {
        "id": "a4b77800",
        "colab": {
          "base_uri": "https://localhost:8080/"
        },
        "outputId": "0098fd7f-aee1-4678-e29e-22cb0517d60a"
      },
      "outputs": [
        {
          "output_type": "stream",
          "name": "stdout",
          "text": [
            "[1, 2, 3]\n"
          ]
        }
      ],
      "source": [
        "print(a[:-2])"
      ]
    },
    {
      "cell_type": "markdown",
      "id": "cb8b65a0",
      "metadata": {
        "id": "cb8b65a0"
      },
      "source": [
        "Объясните результат выше."
      ]
    },
    {
      "cell_type": "code",
      "execution_count": null,
      "id": "d1f4c239",
      "metadata": {
        "id": "d1f4c239",
        "colab": {
          "base_uri": "https://localhost:8080/"
        },
        "outputId": "d67dd258-283e-4179-fec5-a9f513a95066"
      },
      "outputs": [
        {
          "output_type": "stream",
          "name": "stdout",
          "text": [
            "[3, 4, 5]\n"
          ]
        }
      ],
      "source": [
        "print(a[-3:])"
      ]
    },
    {
      "cell_type": "markdown",
      "id": "eeb541ec",
      "metadata": {
        "id": "eeb541ec"
      },
      "source": [
        "Объясните результат выше."
      ]
    },
    {
      "cell_type": "markdown",
      "id": "0e578ce9",
      "metadata": {
        "id": "0e578ce9"
      },
      "source": [
        "Отрицательным может быть не только индекс, но и шаг:"
      ]
    },
    {
      "cell_type": "code",
      "execution_count": null,
      "id": "18134630",
      "metadata": {
        "id": "18134630",
        "colab": {
          "base_uri": "https://localhost:8080/"
        },
        "outputId": "060336c3-421d-44e1-9b8d-278e28962037"
      },
      "outputs": [
        {
          "output_type": "stream",
          "name": "stdout",
          "text": [
            "[5, 4, 3, 2, 1]\n"
          ]
        }
      ],
      "source": [
        "print(a[::-1])"
      ]
    },
    {
      "cell_type": "markdown",
      "id": "cbafb0ab",
      "metadata": {
        "id": "cbafb0ab"
      },
      "source": [
        "Срез списка представляет собой новый список:"
      ]
    },
    {
      "cell_type": "code",
      "execution_count": null,
      "id": "c02286a1",
      "metadata": {
        "id": "c02286a1",
        "colab": {
          "base_uri": "https://localhost:8080/"
        },
        "outputId": "9356bf4e-7b0b-4e28-ae41-569489dd57e3"
      },
      "outputs": [
        {
          "output_type": "stream",
          "name": "stdout",
          "text": [
            "[1, 2, 3, 4, 5]\n",
            "[3, 4]\n"
          ]
        }
      ],
      "source": [
        "b = a[-3:-1]\n",
        "print(a)\n",
        "print(b)"
      ]
    },
    {
      "cell_type": "code",
      "execution_count": null,
      "id": "08089d1b",
      "metadata": {
        "id": "08089d1b",
        "colab": {
          "base_uri": "https://localhost:8080/"
        },
        "outputId": "9c937f86-c404-43dc-fcf0-66bd5dc18da6"
      },
      "outputs": [
        {
          "output_type": "stream",
          "name": "stdout",
          "text": [
            "[1, 2, 3, 4, 5]\n",
            "[3, 8]\n"
          ]
        }
      ],
      "source": [
        "b[1] = 8\n",
        "print(a)\n",
        "print(b)"
      ]
    },
    {
      "cell_type": "markdown",
      "id": "b0f5a27e",
      "metadata": {
        "id": "b0f5a27e"
      },
      "source": [
        "Расположив срез списка слева от оператора присваивания мы можем изменить часть элементов списка:"
      ]
    },
    {
      "cell_type": "code",
      "execution_count": null,
      "id": "c4c9e2be",
      "metadata": {
        "id": "c4c9e2be",
        "colab": {
          "base_uri": "https://localhost:8080/"
        },
        "outputId": "85bfc0ab-bf7b-46ad-928c-6639346e93d2"
      },
      "outputs": [
        {
          "output_type": "stream",
          "name": "stdout",
          "text": [
            "[1, 6, 7, 8, 5]\n"
          ]
        }
      ],
      "source": [
        "a[1:4] = [6, 7, 8]\n",
        "print(a)"
      ]
    },
    {
      "cell_type": "markdown",
      "id": "79c7c9e0",
      "metadata": {
        "id": "79c7c9e0"
      },
      "source": [
        "Та же операция, но с использованием функции `range()`:"
      ]
    },
    {
      "cell_type": "code",
      "execution_count": null,
      "id": "4d1e5a6e",
      "metadata": {
        "id": "4d1e5a6e",
        "colab": {
          "base_uri": "https://localhost:8080/"
        },
        "outputId": "8ca5edc8-b82d-4e7f-c232-1311151acd35"
      },
      "outputs": [
        {
          "output_type": "stream",
          "name": "stdout",
          "text": [
            "[1, 9, 10, 11, 5]\n"
          ]
        }
      ],
      "source": [
        "a[1:4] = range(9, 12)\n",
        "print(a)"
      ]
    },
    {
      "cell_type": "markdown",
      "id": "455e51e7",
      "metadata": {
        "id": "455e51e7"
      },
      "source": [
        "Также можно присвоить в срез значения исходного списка. Например, код ниже осуществляет реверс элементов списка:"
      ]
    },
    {
      "cell_type": "code",
      "execution_count": null,
      "id": "c8aa5120",
      "metadata": {
        "id": "c8aa5120",
        "colab": {
          "base_uri": "https://localhost:8080/"
        },
        "outputId": "292859f2-837a-4537-ed1a-cd86762d41ba"
      },
      "outputs": [
        {
          "output_type": "stream",
          "name": "stdout",
          "text": [
            "[5, 11, 10, 9, 1]\n"
          ]
        }
      ],
      "source": [
        "a[::-1] = a[:]\n",
        "print(a)"
      ]
    },
    {
      "cell_type": "markdown",
      "id": "5d5dbeba",
      "metadata": {
        "id": "5d5dbeba"
      },
      "source": [
        "## Методы списков\n",
        "Помимо методов `append()` и `count()`, рассмотренных в [практическом занятии 3](), существуют и другие [методы списков](https://docs.python.org/3/tutorial/datastructures.html).\n",
        "\n",
        "Например, метод `insert(i, x)` добавляет новый элемент *x* перед элементом с индексом *i* в список:"
      ]
    },
    {
      "cell_type": "code",
      "execution_count": null,
      "id": "db3a0489",
      "metadata": {
        "id": "db3a0489",
        "colab": {
          "base_uri": "https://localhost:8080/"
        },
        "outputId": "271827cb-5899-4982-e8f2-322db8874853"
      },
      "outputs": [
        {
          "output_type": "stream",
          "name": "stdout",
          "text": [
            "[5, 11, 10, 20, 20, 9, 1]\n",
            "[5, 11, 10, 20, 20, 20, 9, 1]\n"
          ]
        }
      ],
      "source": [
        "print(a)\n",
        "a.insert(3, 20)\n",
        "print(a)"
      ]
    },
    {
      "cell_type": "markdown",
      "id": "a2f4fac2",
      "metadata": {
        "id": "a2f4fac2"
      },
      "source": [
        "### Удаление элемента из списка\n",
        "Удалить элемент с индексом *i* из списка можно несколькими способами.\n",
        "\n",
        "С помощью инструкции **del**:"
      ]
    },
    {
      "cell_type": "code",
      "execution_count": null,
      "id": "73350af0",
      "metadata": {
        "id": "73350af0",
        "colab": {
          "base_uri": "https://localhost:8080/"
        },
        "outputId": "f5412c29-3442-4583-951b-8990115ed3ec"
      },
      "outputs": [
        {
          "output_type": "stream",
          "name": "stdout",
          "text": [
            "[5, 11, 10, 20, 20, 20, 9, 1]\n",
            "[5, 11, 20, 20, 20, 9, 1]\n"
          ]
        }
      ],
      "source": [
        "print(a)\n",
        "del a[2]\n",
        "print(a)"
      ]
    },
    {
      "cell_type": "markdown",
      "id": "d3c1fb9b",
      "metadata": {
        "id": "d3c1fb9b"
      },
      "source": [
        "С помощью метода `pop(i)`:"
      ]
    },
    {
      "cell_type": "code",
      "execution_count": null,
      "id": "5676fd34",
      "metadata": {
        "id": "5676fd34",
        "colab": {
          "base_uri": "https://localhost:8080/"
        },
        "outputId": "81482f7f-ba32-4fd0-b749-0815a6daf3f4"
      },
      "outputs": [
        {
          "output_type": "stream",
          "name": "stdout",
          "text": [
            "[5, 11, 20, 20, 20, 9, 1]\n",
            "[5, 20, 20, 20, 9, 1]\n"
          ]
        }
      ],
      "source": [
        "print(a)\n",
        "a.pop(1)\n",
        "print(a)"
      ]
    },
    {
      "cell_type": "markdown",
      "id": "73ae126d",
      "metadata": {
        "id": "73ae126d"
      },
      "source": [
        "Если не указать аргумент при вызове метода `pop()`, то будет удален последний элемент:"
      ]
    },
    {
      "cell_type": "code",
      "execution_count": null,
      "id": "050351ca",
      "metadata": {
        "id": "050351ca",
        "colab": {
          "base_uri": "https://localhost:8080/"
        },
        "outputId": "b8f0b18f-3eb0-433a-a04e-5aec6ded1766"
      },
      "outputs": [
        {
          "output_type": "stream",
          "name": "stdout",
          "text": [
            "[5, 20, 20, 20, 9, 1]\n",
            "1\n",
            "[5, 20, 20, 20, 9]\n"
          ]
        }
      ],
      "source": [
        "print(a)\n",
        "print(a.pop())\n",
        "print(a)"
      ]
    },
    {
      "cell_type": "markdown",
      "id": "8297a788",
      "metadata": {
        "id": "8297a788"
      },
      "source": [
        "Пример выше также демоснтрирует, что метод `pop()` возвращает значение удаленного из списка элемента."
      ]
    },
    {
      "cell_type": "markdown",
      "id": "a1a79cdd",
      "metadata": {
        "id": "a1a79cdd"
      },
      "source": [
        "При использовании списков важно помнить, что наименее трудоемкая операция при удалении элемента — это удаление с конца списка. По возможности, лучше использовать именно ее."
      ]
    },
    {
      "cell_type": "markdown",
      "id": "169deb87",
      "metadata": {
        "id": "169deb87"
      },
      "source": [
        "### Добавление нескольких элементов\n",
        "Добавить несколько элементов в конец списка можно с помощью метода `extend()`, которому в качестве аргумента передается итерируемый объект:"
      ]
    },
    {
      "cell_type": "code",
      "execution_count": null,
      "id": "a2f88c56",
      "metadata": {
        "id": "a2f88c56",
        "colab": {
          "base_uri": "https://localhost:8080/"
        },
        "outputId": "7bec175b-157b-4098-ca68-5963f4505e64"
      },
      "outputs": [
        {
          "output_type": "stream",
          "name": "stdout",
          "text": [
            "[5, 20, 20, 20, 9]\n",
            "[5, 20, 20, 20, 9, 30, 33, 36, 39, 42, 45, 48, 51, 54]\n"
          ]
        }
      ],
      "source": [
        "print(a)\n",
        "a.extend(range(30, 55, 3))\n",
        "print(a)"
      ]
    },
    {
      "cell_type": "markdown",
      "id": "1d99be07",
      "metadata": {
        "id": "1d99be07"
      },
      "source": [
        "Аналогичного результата можно добиться с помощью оператора `+=`:"
      ]
    },
    {
      "cell_type": "code",
      "execution_count": null,
      "id": "8a2b6533",
      "metadata": {
        "id": "8a2b6533",
        "colab": {
          "base_uri": "https://localhost:8080/"
        },
        "outputId": "f4c6f38b-a872-43c4-c1af-9dc6ea42cb5d"
      },
      "outputs": [
        {
          "output_type": "stream",
          "name": "stdout",
          "text": [
            "[5, 20, 20, 20, 9, 30, 33, 36, 39, 42, 45, 48, 51, 54]\n",
            "[5, 20, 20, 20, 9, 30, 33, 36, 39, 42, 45, 48, 51, 54, 55, 56, 57, 58, 59]\n"
          ]
        }
      ],
      "source": [
        "print(a)\n",
        "a += range(55, 60)\n",
        "print(a)"
      ]
    },
    {
      "cell_type": "markdown",
      "id": "0cab161e",
      "metadata": {
        "id": "0cab161e"
      },
      "source": [
        "Если при присваивании в срез, длина итерируемого объекта больше среза, то список будет увеличен:"
      ]
    },
    {
      "cell_type": "code",
      "execution_count": null,
      "id": "a39b9c02",
      "metadata": {
        "id": "a39b9c02",
        "colab": {
          "base_uri": "https://localhost:8080/"
        },
        "outputId": "d327dffb-c537-41d9-d29d-8306b003ce91"
      },
      "outputs": [
        {
          "output_type": "stream",
          "name": "stdout",
          "text": [
            "[5, 20, 20, 20, 9, 30, 33, 36, 39, 42, 45, 48, 51, 54, 55, 56, 57, 58, 59]\n",
            "[5, 20, 20, 20, 9, 30, 33, 36, 39, 42, 45, 48, 51, 54, 55, 60, 61, 62, 63, 64, 65, 59]\n"
          ]
        }
      ],
      "source": [
        "print(a)\n",
        "a[-4:-1] = range(60, 66)\n",
        "print(a)"
      ]
    },
    {
      "cell_type": "markdown",
      "id": "a7725e05",
      "metadata": {
        "id": "a7725e05"
      },
      "source": [
        "И наоборот, если при присваивании в срез, длина итерируемого объекта меньше среза, то список будет уменьшен:"
      ]
    },
    {
      "cell_type": "code",
      "execution_count": null,
      "id": "9ab40994",
      "metadata": {
        "id": "9ab40994",
        "colab": {
          "base_uri": "https://localhost:8080/"
        },
        "outputId": "e2b3ede3-5737-4d06-cf77-c8bc10543cb4"
      },
      "outputs": [
        {
          "output_type": "stream",
          "name": "stdout",
          "text": [
            "[5, 20, 20, 20, 9, 30, 33, 36, 39, 42, 45, 48, 51, 54, 55, 60, 61, 62, 63, 64, 65, 59]\n",
            "[5, 20, 20, 20, 9, 30, 33, 36, 39, 42, 45, 48, 51, 54, 55, 66, 67]\n"
          ]
        }
      ],
      "source": [
        "print(a)\n",
        "a[-7:] = range(66, 68)\n",
        "print(a)"
      ]
    },
    {
      "cell_type": "markdown",
      "id": "fc2e2550",
      "metadata": {
        "id": "fc2e2550"
      },
      "source": [
        "В частности, при помощи присваивания в срез можно удалить часть списка, если присвоить в срез пустую последовательность:"
      ]
    },
    {
      "cell_type": "code",
      "execution_count": null,
      "id": "a494bb68",
      "metadata": {
        "id": "a494bb68",
        "colab": {
          "base_uri": "https://localhost:8080/"
        },
        "outputId": "8c180bd2-6fdb-4230-e915-02e4a01d3752"
      },
      "outputs": [
        {
          "output_type": "stream",
          "name": "stdout",
          "text": [
            "[5, 20, 20, 20, 9, 30, 33, 36, 39, 42, 45, 48, 51, 54, 55, 66, 67]\n",
            "[33, 36, 39, 42, 45, 48, 51, 54, 55, 66, 67]\n"
          ]
        }
      ],
      "source": [
        "print(a)\n",
        "a[0:6] = []\n",
        "print(a)"
      ]
    },
    {
      "cell_type": "markdown",
      "id": "bb3d39a1",
      "metadata": {
        "id": "bb3d39a1"
      },
      "source": [
        "## Сортировка списков\n",
        "В [практическом занятии 3]() мы рассмотрели сортировку списков в **Python** с помощью функций `sort()` и `sorted()` (используют сортировку *TimSort*). На этом занятии мы рассмотрим \"ручную\" сортировку с помощью алгоритма *сортировки вставками*."
      ]
    },
    {
      "cell_type": "markdown",
      "id": "f7f951ab",
      "metadata": {
        "id": "f7f951ab"
      },
      "source": [
        "### Сортировка вставками\n",
        "На каждой итерации алгоритма сортировки вставками выполняется сортировка только первых i элементов списка *a*. Пусть уже первые i − 1 элементов списка *a* отсортированы (то есть срез ``a[:i]`` отсортирован), и мы добавили в конец новый элемент. Этот новый элемент ``a[i]`` нужно передвинуть на правильное место, чтобы снова получить отсортированный массив. Будем просто пытаться обменивать его местами с соседом слева, если этот сосед больше нового элемента.\n",
        "\n",
        "Например, пусть i = 7 и срез ``a[:i] равен [42, 45, 54, 55, 66, 67]``, а значение ``a[i]`` равно 48. Тогда элемент ``a[i]`` нужно поставить после элемента ``a[1]``, равного 45, а все элементы, которые больше 48, сдвинуть вправо на 1. Получится cрез ``a[:i+1], равный [42, 45, 48, 51, 54, 55, 66, 67]``. Таким образом, при вставке элемента ``a[i]`` в срез ``a[:i]`` так, чтобы в результате получился упорядоченный срез, все элементы, которые больше ``a[i]`` будут двигаться вправо на одну позицию. А в освободившуюся позицию и будет вставлен элемент ``a[i]``.\n",
        "При этом значение ``a[i]`` нужно сохранить в переменной, т. к. на место элемента ``a[i]``, возможно, будет записан элемент ``a[i–1]``."
      ]
    },
    {
      "cell_type": "markdown",
      "id": "a51af8c7",
      "metadata": {
        "id": "a51af8c7"
      },
      "source": [
        "Получим следующий алгоритм:"
      ]
    },
    {
      "cell_type": "code",
      "execution_count": null,
      "id": "0f7c1361",
      "metadata": {
        "id": "0f7c1361",
        "colab": {
          "base_uri": "https://localhost:8080/"
        },
        "outputId": "87d8e71b-99d4-4b25-d978-29d8d90e3219"
      },
      "outputs": [
        {
          "output_type": "stream",
          "name": "stdout",
          "text": [
            "[42, 45, 48, 51, 54, 55, 66, 67]\n"
          ]
        }
      ],
      "source": [
        "a = [66, 54, 42, 45, 51, 55, 67, 48]\n",
        "for i in range(1, len(a)):\n",
        "    vrem = a[i] # сохраним текущий элемент во временной переменной\n",
        "    j = i - 1\n",
        "    # определяем элементы большие vrem\n",
        "    while j >= 0 and a[j] > vrem:\n",
        "        # сдвигаем вправо на 1\n",
        "        a[j+1] = a[j]\n",
        "        j -= 1\n",
        "    # На свободное место записываем vrem\n",
        "    a[j+1] = vrem\n",
        "print(a)"
      ]
    },
    {
      "cell_type": "markdown",
      "id": "1506539c",
      "metadata": {
        "id": "1506539c"
      },
      "source": [
        "## Решето Эратосфена\n",
        "При решении практических задач часто возникает необходимость поиска простых чисел не превосходящих натурального числа N. Проверка всех чисел от 2 до N на простоту с помощью алгоритма, рассмотренного на [практическом занятии 2]() не является эффективным — ассимптотическая сложность такого подхода равна $O(n*\\sqrt{n})$.\n",
        "\n",
        "Более эффективным является алгоритм, предложенный греческим математиком Эратосфеном Киренским, согласно ему необходимо:\n",
        "1. Выписать все числа от 2 до N;\n",
        "2. Начать с n = 2;\n",
        "3. Вычеркнуть все числа, кратные n: 2n, 3n, и т.д.;\n",
        "4. Найти следующее невычеркнутой число и присвоить его переменной n;\n",
        "5. Повторять шаги 3 и 4 до тех пор, пока n < N."
      ]
    },
    {
      "cell_type": "markdown",
      "id": "17def71a",
      "metadata": {
        "id": "17def71a"
      },
      "source": [
        "Для N = 10 алгоритм будет выглядеть следующим образом:\n",
        "1. 2 3 4 5 6 7 8 9 10\n",
        "2. 2 3 ~~4~~~ 5 ~~6~~ 7 ~~8~~ 9 ~~10~~\n",
        "3. 2 3 ~~4~~~ 5 ~~6~~ 7 ~~8~~ ~~9~~ ~~10~~\n",
        "4. Чисел кратных 5 и 7 не осталось и в итоге получим список простых чисел: 2, 3, 5 и 7"
      ]
    },
    {
      "cell_type": "markdown",
      "id": "c9db9c63",
      "metadata": {
        "id": "c9db9c63"
      },
      "source": [
        "Заметим, что при вычеркивании чисел, кратных `3` число `6` оказалось вычеркнутым ранее (оно кратно двум — `3*2`). Этот факт позволяет улучшить алгоритм, начиная вычеркивать числа на шаге *3* не с `2n`, а с $n^2$. При этом получится, что при $n^2 > N$ вычеркивать будет нечего, что мы и увидели для чисел `5` и `7` в примере выше.\n",
        "\n",
        "С учетом сказанного, алгоритм примет следующий вид:"
      ]
    },
    {
      "cell_type": "markdown",
      "id": "0037fd54",
      "metadata": {
        "id": "0037fd54"
      },
      "source": [
        "1. Выписать все числа от 2 до N;\n",
        "2. Начать с n = 2;\n",
        "3. Вычеркнуть все числа, кратные n, начиная с  $n^2$;\n",
        "4. Найти следующее невычеркнутой число и присвоить его переменной n;\n",
        "5. Повторять шаги 3 и 4 до тех пор, пока $n^2 \\leq N$."
      ]
    },
    {
      "cell_type": "markdown",
      "id": "12887dcb",
      "metadata": {
        "id": "12887dcb"
      },
      "source": [
        "Реалдизация алгоритма на языке **Python** будет выглядеть следующим образом.\n",
        "\n",
        "Пусть переменная `N` содержит исходное число, а массив `a` — инициирован значениями `True`. Далее для числа `i` его элемент `a[i]` будет содержать значение `False`, если число `i` вычеркнуто.  "
      ]
    },
    {
      "cell_type": "code",
      "execution_count": null,
      "id": "d4b7a6f6",
      "metadata": {
        "id": "d4b7a6f6",
        "colab": {
          "base_uri": "https://localhost:8080/"
        },
        "outputId": "1a017b32-435a-4d88-8cf4-917c2308b579"
      },
      "outputs": [
        {
          "name": "stdout",
          "output_type": "stream",
          "text": [
            "10\n"
          ]
        }
      ],
      "source": [
        "N = int(input())\n",
        "a = [True] * (N + 1)"
      ]
    },
    {
      "cell_type": "markdown",
      "id": "98205051",
      "metadata": {
        "id": "98205051"
      },
      "source": [
        "Элементы `a[0]` и `a[1]` сразу заполним значением `False`:"
      ]
    },
    {
      "cell_type": "code",
      "execution_count": null,
      "id": "0af544e6",
      "metadata": {
        "id": "0af544e6"
      },
      "outputs": [],
      "source": [
        "a[0] = False\n",
        "a[1] = False"
      ]
    },
    {
      "cell_type": "markdown",
      "id": "fa924ed0",
      "metadata": {
        "id": "fa924ed0"
      },
      "source": [
        "Строки ниже реализуют шаги со 2 по 5 из приведенного выше алгоритма:"
      ]
    },
    {
      "cell_type": "code",
      "execution_count": null,
      "id": "1af7e73c",
      "metadata": {
        "id": "1af7e73c"
      },
      "outputs": [],
      "source": [
        "n = 2\n",
        "while n*n <= N:\n",
        "    if a[n]:\n",
        "        i = n*n\n",
        "        while i <= N:\n",
        "            a[i] = False\n",
        "            i += n\n",
        "    n += 1"
      ]
    },
    {
      "cell_type": "markdown",
      "id": "41da26db",
      "metadata": {
        "id": "41da26db"
      },
      "source": [
        "Выведем полученную последовательность простых чисел:"
      ]
    },
    {
      "cell_type": "code",
      "execution_count": null,
      "id": "9c0be936",
      "metadata": {
        "colab": {
          "base_uri": "https://localhost:8080/"
        },
        "id": "9c0be936",
        "outputId": "192b818d-1fc9-416d-d115-a23e6556fde2"
      },
      "outputs": [
        {
          "output_type": "stream",
          "name": "stdout",
          "text": [
            "2 3 5 7 "
          ]
        }
      ],
      "source": [
        "for i in range(2, N+1):\n",
        "    if a[i]:\n",
        "        print(i, end=' ')"
      ]
    },
    {
      "cell_type": "markdown",
      "id": "ca50fdee",
      "metadata": {
        "id": "ca50fdee"
      },
      "source": [
        "## Задача частотного анализа\n"
      ]
    },
    {
      "cell_type": "markdown",
      "id": "da87330a",
      "metadata": {
        "id": "da87330a"
      },
      "source": [
        "**Задача:**\n",
        "На вход программы подается текст на английском языке, заканчивающийся\n",
        "точкой (другие символы “.” в тексте отсутствуют). Требуется написать\n",
        "программу, которая будет определять и выводить на экран английскую\n",
        "букву, встречающуюся в этом тексте чаще всего, и количество там таких\n",
        "букв. Строчные и прописные буквы при этом считаются не различимыми.\n",
        "Если искомых букв несколько, то программа должна выводить на экран\n",
        "первую из них по алфавиту. Например, пусть файл содержит следующую\n",
        "запись:\n",
        "     It is not a simple task. Yes!\n",
        "Чаще всего здесь встречаются буквы I, S и T (слово Yes в подсчете не\n",
        "учитывается, так как расположено после точки). Следовательно, в данном\n",
        "случае программа должна вывести два символа, разделенных пробелом:\n",
        "I 3\n",
        "\n",
        "Для работы алгоритма ниже потребуется файл `text.txt`. [download file text.txt]()"
      ]
    },
    {
      "cell_type": "code",
      "source": [
        "from google.colab import files\n",
        "\n",
        "uploaded = files.upload()  # Откроется окно выбора файла"
      ],
      "metadata": {
        "colab": {
          "base_uri": "https://localhost:8080/",
          "height": 73
        },
        "id": "k35rbKLy3UpT",
        "outputId": "2fa4f591-f93b-487a-90a6-56fd84387955"
      },
      "id": "k35rbKLy3UpT",
      "execution_count": 44,
      "outputs": [
        {
          "output_type": "display_data",
          "data": {
            "text/plain": [
              "<IPython.core.display.HTML object>"
            ],
            "text/html": [
              "\n",
              "     <input type=\"file\" id=\"files-6943a9c1-d83f-4ad8-96af-0a61a5637bca\" name=\"files[]\" multiple disabled\n",
              "        style=\"border:none\" />\n",
              "     <output id=\"result-6943a9c1-d83f-4ad8-96af-0a61a5637bca\">\n",
              "      Upload widget is only available when the cell has been executed in the\n",
              "      current browser session. Please rerun this cell to enable.\n",
              "      </output>\n",
              "      <script>// Copyright 2017 Google LLC\n",
              "//\n",
              "// Licensed under the Apache License, Version 2.0 (the \"License\");\n",
              "// you may not use this file except in compliance with the License.\n",
              "// You may obtain a copy of the License at\n",
              "//\n",
              "//      http://www.apache.org/licenses/LICENSE-2.0\n",
              "//\n",
              "// Unless required by applicable law or agreed to in writing, software\n",
              "// distributed under the License is distributed on an \"AS IS\" BASIS,\n",
              "// WITHOUT WARRANTIES OR CONDITIONS OF ANY KIND, either express or implied.\n",
              "// See the License for the specific language governing permissions and\n",
              "// limitations under the License.\n",
              "\n",
              "/**\n",
              " * @fileoverview Helpers for google.colab Python module.\n",
              " */\n",
              "(function(scope) {\n",
              "function span(text, styleAttributes = {}) {\n",
              "  const element = document.createElement('span');\n",
              "  element.textContent = text;\n",
              "  for (const key of Object.keys(styleAttributes)) {\n",
              "    element.style[key] = styleAttributes[key];\n",
              "  }\n",
              "  return element;\n",
              "}\n",
              "\n",
              "// Max number of bytes which will be uploaded at a time.\n",
              "const MAX_PAYLOAD_SIZE = 100 * 1024;\n",
              "\n",
              "function _uploadFiles(inputId, outputId) {\n",
              "  const steps = uploadFilesStep(inputId, outputId);\n",
              "  const outputElement = document.getElementById(outputId);\n",
              "  // Cache steps on the outputElement to make it available for the next call\n",
              "  // to uploadFilesContinue from Python.\n",
              "  outputElement.steps = steps;\n",
              "\n",
              "  return _uploadFilesContinue(outputId);\n",
              "}\n",
              "\n",
              "// This is roughly an async generator (not supported in the browser yet),\n",
              "// where there are multiple asynchronous steps and the Python side is going\n",
              "// to poll for completion of each step.\n",
              "// This uses a Promise to block the python side on completion of each step,\n",
              "// then passes the result of the previous step as the input to the next step.\n",
              "function _uploadFilesContinue(outputId) {\n",
              "  const outputElement = document.getElementById(outputId);\n",
              "  const steps = outputElement.steps;\n",
              "\n",
              "  const next = steps.next(outputElement.lastPromiseValue);\n",
              "  return Promise.resolve(next.value.promise).then((value) => {\n",
              "    // Cache the last promise value to make it available to the next\n",
              "    // step of the generator.\n",
              "    outputElement.lastPromiseValue = value;\n",
              "    return next.value.response;\n",
              "  });\n",
              "}\n",
              "\n",
              "/**\n",
              " * Generator function which is called between each async step of the upload\n",
              " * process.\n",
              " * @param {string} inputId Element ID of the input file picker element.\n",
              " * @param {string} outputId Element ID of the output display.\n",
              " * @return {!Iterable<!Object>} Iterable of next steps.\n",
              " */\n",
              "function* uploadFilesStep(inputId, outputId) {\n",
              "  const inputElement = document.getElementById(inputId);\n",
              "  inputElement.disabled = false;\n",
              "\n",
              "  const outputElement = document.getElementById(outputId);\n",
              "  outputElement.innerHTML = '';\n",
              "\n",
              "  const pickedPromise = new Promise((resolve) => {\n",
              "    inputElement.addEventListener('change', (e) => {\n",
              "      resolve(e.target.files);\n",
              "    });\n",
              "  });\n",
              "\n",
              "  const cancel = document.createElement('button');\n",
              "  inputElement.parentElement.appendChild(cancel);\n",
              "  cancel.textContent = 'Cancel upload';\n",
              "  const cancelPromise = new Promise((resolve) => {\n",
              "    cancel.onclick = () => {\n",
              "      resolve(null);\n",
              "    };\n",
              "  });\n",
              "\n",
              "  // Wait for the user to pick the files.\n",
              "  const files = yield {\n",
              "    promise: Promise.race([pickedPromise, cancelPromise]),\n",
              "    response: {\n",
              "      action: 'starting',\n",
              "    }\n",
              "  };\n",
              "\n",
              "  cancel.remove();\n",
              "\n",
              "  // Disable the input element since further picks are not allowed.\n",
              "  inputElement.disabled = true;\n",
              "\n",
              "  if (!files) {\n",
              "    return {\n",
              "      response: {\n",
              "        action: 'complete',\n",
              "      }\n",
              "    };\n",
              "  }\n",
              "\n",
              "  for (const file of files) {\n",
              "    const li = document.createElement('li');\n",
              "    li.append(span(file.name, {fontWeight: 'bold'}));\n",
              "    li.append(span(\n",
              "        `(${file.type || 'n/a'}) - ${file.size} bytes, ` +\n",
              "        `last modified: ${\n",
              "            file.lastModifiedDate ? file.lastModifiedDate.toLocaleDateString() :\n",
              "                                    'n/a'} - `));\n",
              "    const percent = span('0% done');\n",
              "    li.appendChild(percent);\n",
              "\n",
              "    outputElement.appendChild(li);\n",
              "\n",
              "    const fileDataPromise = new Promise((resolve) => {\n",
              "      const reader = new FileReader();\n",
              "      reader.onload = (e) => {\n",
              "        resolve(e.target.result);\n",
              "      };\n",
              "      reader.readAsArrayBuffer(file);\n",
              "    });\n",
              "    // Wait for the data to be ready.\n",
              "    let fileData = yield {\n",
              "      promise: fileDataPromise,\n",
              "      response: {\n",
              "        action: 'continue',\n",
              "      }\n",
              "    };\n",
              "\n",
              "    // Use a chunked sending to avoid message size limits. See b/62115660.\n",
              "    let position = 0;\n",
              "    do {\n",
              "      const length = Math.min(fileData.byteLength - position, MAX_PAYLOAD_SIZE);\n",
              "      const chunk = new Uint8Array(fileData, position, length);\n",
              "      position += length;\n",
              "\n",
              "      const base64 = btoa(String.fromCharCode.apply(null, chunk));\n",
              "      yield {\n",
              "        response: {\n",
              "          action: 'append',\n",
              "          file: file.name,\n",
              "          data: base64,\n",
              "        },\n",
              "      };\n",
              "\n",
              "      let percentDone = fileData.byteLength === 0 ?\n",
              "          100 :\n",
              "          Math.round((position / fileData.byteLength) * 100);\n",
              "      percent.textContent = `${percentDone}% done`;\n",
              "\n",
              "    } while (position < fileData.byteLength);\n",
              "  }\n",
              "\n",
              "  // All done.\n",
              "  yield {\n",
              "    response: {\n",
              "      action: 'complete',\n",
              "    }\n",
              "  };\n",
              "}\n",
              "\n",
              "scope.google = scope.google || {};\n",
              "scope.google.colab = scope.google.colab || {};\n",
              "scope.google.colab._files = {\n",
              "  _uploadFiles,\n",
              "  _uploadFilesContinue,\n",
              "};\n",
              "})(self);\n",
              "</script> "
            ]
          },
          "metadata": {}
        },
        {
          "output_type": "stream",
          "name": "stdout",
          "text": [
            "Saving text-data.txt to text-data.txt\n"
          ]
        }
      ]
    },
    {
      "cell_type": "code",
      "execution_count": 31,
      "id": "0ccbadd9",
      "metadata": {
        "id": "0ccbadd9",
        "colab": {
          "base_uri": "https://localhost:8080/"
        },
        "outputId": "77300604-6dcf-4d5f-f275-4ee76dfd9833"
      },
      "outputs": [
        {
          "output_type": "stream",
          "name": "stdout",
          "text": [
            "I 3\n"
          ]
        }
      ],
      "source": [
        "# Определим список заглавных английских букв\n",
        "letters = ['A', 'B', 'C', 'D', 'E', 'F', 'G', 'H', 'I', 'J', 'K', 'L', 'M', 'N', 'O', 'P', 'Q', 'R', 'S', 'T', 'U', 'V', 'W', 'X', 'Y', 'Z']\n",
        "\n",
        "# Определим список частоты встречающихся букв в предложении\n",
        "cnt = [0]*len(letters)\n",
        "\n",
        "with open('text.txt', 'r') as F:\n",
        "    s = F.readline().split('.')[0].upper() # выделим предложение, переведя все символы в верхний регистр\n",
        "    for c in s:\n",
        "        # подсчет частоты встречающихся букв\n",
        "        if c in letters:\n",
        "            cnt[letters.index(c)] += 1\n",
        "# Выведем результат\n",
        "print(letters[cnt.index(max(cnt))], max(cnt))\n"
      ]
    },
    {
      "cell_type": "markdown",
      "id": "a527e89d",
      "metadata": {
        "id": "a527e89d"
      },
      "source": [
        "## **Задание 1.**  \n",
        "Модифицируйте код приведенный выше так, чтобы в результате на экран выводились 10 наиболее встречаемых букв и их частоты (в порядке убывания)."
      ]
    },
    {
      "cell_type": "code",
      "execution_count": 36,
      "id": "1a12a57d",
      "metadata": {
        "id": "1a12a57d",
        "colab": {
          "base_uri": "https://localhost:8080/"
        },
        "outputId": "15f52c1c-4152-4c1d-b5e0-966639cb77cd"
      },
      "outputs": [
        {
          "output_type": "stream",
          "name": "stdout",
          "text": [
            "I 3\n",
            "S 3\n",
            "T 3\n",
            "A 2\n",
            "E 1\n",
            "K 1\n",
            "L 1\n",
            "M 1\n",
            "N 1\n",
            "O 1\n"
          ]
        }
      ],
      "source": [
        "# Определим список заглавных английских букв\n",
        "letters = [chr(i) for i in range(65, 91)] # Генерация списка букв A-Z\n",
        "\n",
        "# Определим список частоты встречающихся букв в предложении\n",
        "cnt = [0] * len(letters)\n",
        "\n",
        "# Открываем файл и анализируем текст\n",
        "with open ('text.txt', 'r') as F:\n",
        "  s = F. readline(). split('.')[0]. upper() # Выделяем предложение и переводим в верхний регистр\n",
        "  for c in s:\n",
        "    if c in letters:\n",
        "      cnt [letters.index (c)] += 1 # Подсчет частоты встречающихся букв\n",
        "\n",
        "# Создаем список пар (буква, частота) и сортируем его по убыванию частоты\n",
        "sorted_letters = sorted (zip(letters, cnt), key=lambda x: x[1], reverse=True)\n",
        "\n",
        "# Выводим 10 наиболее встречающихся букв\n",
        "for letter, frequency in sorted_letters[:10]:\n",
        "  print(letter, frequency)"
      ]
    },
    {
      "cell_type": "markdown",
      "id": "ce5a0ba8",
      "metadata": {
        "id": "ce5a0ba8"
      },
      "source": [
        "## **Задание 2.**\n",
        "\n",
        "Модифицируйте код из предыдущего задания чтобы он анализировал все предложения из исходного текста и проведите частотный анализ разделов History и Academic reputation статьи https://en.wikipedia.org/wiki/Moscow_City_University. Сравните полученные результаты."
      ]
    },
    {
      "cell_type": "markdown",
      "source": [
        "Вывести:\n",
        "\n",
        "- **Топ-10** самых частых букв для раздела *History*.\n",
        "- **Топ-10** самых частых букв для раздела *Academic reputation*.\n",
        "- Сравнительную таблицу частот всех букв между разделами."
      ],
      "metadata": {
        "id": "f9yrBOE26xSy"
      },
      "id": "f9yrBOE26xSy"
    },
    {
      "cell_type": "code",
      "execution_count": 41,
      "id": "3825bd84",
      "metadata": {
        "id": "3825bd84"
      },
      "outputs": [],
      "source": [
        "def analyze_section(text):\n",
        "    # Определим список заглавных английских букв\n",
        "    letters = [chr(i) for i in range(65, 91)]  # Генерация списка букв A-Z\n",
        "\n",
        "    # Определим список частоты встречающихся букв\n",
        "    cnt = [0] * len(letters)\n",
        "\n",
        "    # Переводим весь текст в верхний регистр\n",
        "    text = text.upper()\n",
        "\n",
        "    # Подсчитываем частоту каждой буквы во всех предложениях\n",
        "    for c in text:\n",
        "        if c in letters:\n",
        "            cnt[letters.index(c)] += 1\n",
        "\n",
        "    # Создаем список пар (буква, частота) и сортируем его по убыванию частоты\n",
        "    sorted_letters = sorted(zip(letters, cnt), key=lambda x: x[1], reverse=True)\n",
        "\n",
        "    return sorted_letters\n",
        "\n",
        "def print_analysis(section_name, sorted_letters):\n",
        "    print(f\"\\nAnalysis for {section_name} section:\")\n",
        "    print(\"Top 10 most frequent letters:\")\n",
        "    for letter, frequency in sorted_letters[:10]:\n",
        "        print(f\"{letter}: {frequency}\")"
      ]
    },
    {
      "cell_type": "code",
      "source": [
        "from google.colab import files\n",
        "\n",
        "uploaded = files.upload()  # Откроется окно выбора файла"
      ],
      "metadata": {
        "colab": {
          "base_uri": "https://localhost:8080/",
          "height": 73
        },
        "id": "O7VUrpCrC3pS",
        "outputId": "de49c9bf-e27e-49af-d454-8fb06a9b92c6"
      },
      "id": "O7VUrpCrC3pS",
      "execution_count": 53,
      "outputs": [
        {
          "output_type": "display_data",
          "data": {
            "text/plain": [
              "<IPython.core.display.HTML object>"
            ],
            "text/html": [
              "\n",
              "     <input type=\"file\" id=\"files-98711845-d0e3-4500-8ccb-c63ae2046d21\" name=\"files[]\" multiple disabled\n",
              "        style=\"border:none\" />\n",
              "     <output id=\"result-98711845-d0e3-4500-8ccb-c63ae2046d21\">\n",
              "      Upload widget is only available when the cell has been executed in the\n",
              "      current browser session. Please rerun this cell to enable.\n",
              "      </output>\n",
              "      <script>// Copyright 2017 Google LLC\n",
              "//\n",
              "// Licensed under the Apache License, Version 2.0 (the \"License\");\n",
              "// you may not use this file except in compliance with the License.\n",
              "// You may obtain a copy of the License at\n",
              "//\n",
              "//      http://www.apache.org/licenses/LICENSE-2.0\n",
              "//\n",
              "// Unless required by applicable law or agreed to in writing, software\n",
              "// distributed under the License is distributed on an \"AS IS\" BASIS,\n",
              "// WITHOUT WARRANTIES OR CONDITIONS OF ANY KIND, either express or implied.\n",
              "// See the License for the specific language governing permissions and\n",
              "// limitations under the License.\n",
              "\n",
              "/**\n",
              " * @fileoverview Helpers for google.colab Python module.\n",
              " */\n",
              "(function(scope) {\n",
              "function span(text, styleAttributes = {}) {\n",
              "  const element = document.createElement('span');\n",
              "  element.textContent = text;\n",
              "  for (const key of Object.keys(styleAttributes)) {\n",
              "    element.style[key] = styleAttributes[key];\n",
              "  }\n",
              "  return element;\n",
              "}\n",
              "\n",
              "// Max number of bytes which will be uploaded at a time.\n",
              "const MAX_PAYLOAD_SIZE = 100 * 1024;\n",
              "\n",
              "function _uploadFiles(inputId, outputId) {\n",
              "  const steps = uploadFilesStep(inputId, outputId);\n",
              "  const outputElement = document.getElementById(outputId);\n",
              "  // Cache steps on the outputElement to make it available for the next call\n",
              "  // to uploadFilesContinue from Python.\n",
              "  outputElement.steps = steps;\n",
              "\n",
              "  return _uploadFilesContinue(outputId);\n",
              "}\n",
              "\n",
              "// This is roughly an async generator (not supported in the browser yet),\n",
              "// where there are multiple asynchronous steps and the Python side is going\n",
              "// to poll for completion of each step.\n",
              "// This uses a Promise to block the python side on completion of each step,\n",
              "// then passes the result of the previous step as the input to the next step.\n",
              "function _uploadFilesContinue(outputId) {\n",
              "  const outputElement = document.getElementById(outputId);\n",
              "  const steps = outputElement.steps;\n",
              "\n",
              "  const next = steps.next(outputElement.lastPromiseValue);\n",
              "  return Promise.resolve(next.value.promise).then((value) => {\n",
              "    // Cache the last promise value to make it available to the next\n",
              "    // step of the generator.\n",
              "    outputElement.lastPromiseValue = value;\n",
              "    return next.value.response;\n",
              "  });\n",
              "}\n",
              "\n",
              "/**\n",
              " * Generator function which is called between each async step of the upload\n",
              " * process.\n",
              " * @param {string} inputId Element ID of the input file picker element.\n",
              " * @param {string} outputId Element ID of the output display.\n",
              " * @return {!Iterable<!Object>} Iterable of next steps.\n",
              " */\n",
              "function* uploadFilesStep(inputId, outputId) {\n",
              "  const inputElement = document.getElementById(inputId);\n",
              "  inputElement.disabled = false;\n",
              "\n",
              "  const outputElement = document.getElementById(outputId);\n",
              "  outputElement.innerHTML = '';\n",
              "\n",
              "  const pickedPromise = new Promise((resolve) => {\n",
              "    inputElement.addEventListener('change', (e) => {\n",
              "      resolve(e.target.files);\n",
              "    });\n",
              "  });\n",
              "\n",
              "  const cancel = document.createElement('button');\n",
              "  inputElement.parentElement.appendChild(cancel);\n",
              "  cancel.textContent = 'Cancel upload';\n",
              "  const cancelPromise = new Promise((resolve) => {\n",
              "    cancel.onclick = () => {\n",
              "      resolve(null);\n",
              "    };\n",
              "  });\n",
              "\n",
              "  // Wait for the user to pick the files.\n",
              "  const files = yield {\n",
              "    promise: Promise.race([pickedPromise, cancelPromise]),\n",
              "    response: {\n",
              "      action: 'starting',\n",
              "    }\n",
              "  };\n",
              "\n",
              "  cancel.remove();\n",
              "\n",
              "  // Disable the input element since further picks are not allowed.\n",
              "  inputElement.disabled = true;\n",
              "\n",
              "  if (!files) {\n",
              "    return {\n",
              "      response: {\n",
              "        action: 'complete',\n",
              "      }\n",
              "    };\n",
              "  }\n",
              "\n",
              "  for (const file of files) {\n",
              "    const li = document.createElement('li');\n",
              "    li.append(span(file.name, {fontWeight: 'bold'}));\n",
              "    li.append(span(\n",
              "        `(${file.type || 'n/a'}) - ${file.size} bytes, ` +\n",
              "        `last modified: ${\n",
              "            file.lastModifiedDate ? file.lastModifiedDate.toLocaleDateString() :\n",
              "                                    'n/a'} - `));\n",
              "    const percent = span('0% done');\n",
              "    li.appendChild(percent);\n",
              "\n",
              "    outputElement.appendChild(li);\n",
              "\n",
              "    const fileDataPromise = new Promise((resolve) => {\n",
              "      const reader = new FileReader();\n",
              "      reader.onload = (e) => {\n",
              "        resolve(e.target.result);\n",
              "      };\n",
              "      reader.readAsArrayBuffer(file);\n",
              "    });\n",
              "    // Wait for the data to be ready.\n",
              "    let fileData = yield {\n",
              "      promise: fileDataPromise,\n",
              "      response: {\n",
              "        action: 'continue',\n",
              "      }\n",
              "    };\n",
              "\n",
              "    // Use a chunked sending to avoid message size limits. See b/62115660.\n",
              "    let position = 0;\n",
              "    do {\n",
              "      const length = Math.min(fileData.byteLength - position, MAX_PAYLOAD_SIZE);\n",
              "      const chunk = new Uint8Array(fileData, position, length);\n",
              "      position += length;\n",
              "\n",
              "      const base64 = btoa(String.fromCharCode.apply(null, chunk));\n",
              "      yield {\n",
              "        response: {\n",
              "          action: 'append',\n",
              "          file: file.name,\n",
              "          data: base64,\n",
              "        },\n",
              "      };\n",
              "\n",
              "      let percentDone = fileData.byteLength === 0 ?\n",
              "          100 :\n",
              "          Math.round((position / fileData.byteLength) * 100);\n",
              "      percent.textContent = `${percentDone}% done`;\n",
              "\n",
              "    } while (position < fileData.byteLength);\n",
              "  }\n",
              "\n",
              "  // All done.\n",
              "  yield {\n",
              "    response: {\n",
              "      action: 'complete',\n",
              "    }\n",
              "  };\n",
              "}\n",
              "\n",
              "scope.google = scope.google || {};\n",
              "scope.google.colab = scope.google.colab || {};\n",
              "scope.google.colab._files = {\n",
              "  _uploadFiles,\n",
              "  _uploadFilesContinue,\n",
              "};\n",
              "})(self);\n",
              "</script> "
            ]
          },
          "metadata": {}
        },
        {
          "output_type": "stream",
          "name": "stdout",
          "text": [
            "Saving new_text.txt to new_text.txt\n"
          ]
        }
      ]
    },
    {
      "cell_type": "code",
      "source": [
        "!ls"
      ],
      "metadata": {
        "colab": {
          "base_uri": "https://localhost:8080/"
        },
        "id": "00wFigX1C8VR",
        "outputId": "1ba29dae-241c-4522-9049-0fe88155c19f"
      },
      "id": "00wFigX1C8VR",
      "execution_count": 52,
      "outputs": [
        {
          "output_type": "stream",
          "name": "stdout",
          "text": [
            " frequency_comparison.png   sample_data  'text (1).txt'\n"
          ]
        }
      ]
    },
    {
      "cell_type": "code",
      "source": [
        "!rm text.txt"
      ],
      "metadata": {
        "id": "ZhQc6atKDE7X"
      },
      "id": "ZhQc6atKDE7X",
      "execution_count": 51,
      "outputs": []
    },
    {
      "cell_type": "code",
      "source": [
        "# Разделяем текст на секции\n",
        "with open('text-data.txt', 'r') as file:\n",
        "    text = file.read()\n",
        "\n",
        "sections = text.split('###')[1:]  # Пропускаем пустой элемент в начале\n",
        "history_section = sections[0].strip()\n",
        "academic_section = sections[1].strip()\n",
        "\n",
        "# Анализируем каждую секцию\n",
        "history_analysis = analyze_section(history_section)\n",
        "academic_analysis = analyze_section(academic_section)\n",
        "\n",
        "# Выводим результаты\n",
        "print_analysis(\"History\", history_analysis)\n",
        "print_analysis(\"Academic reputation\", academic_analysis)\n",
        "\n",
        "# Сравнение результатов\n",
        "print(\"\\n Сравнение частот букв между разделами:\")\n",
        "history_dict = dict(history_analysis)\n",
        "academic_dict = dict(academic_analysis)\n",
        "\n",
        "for letter in 'ABCDEFGHIJKLMNOPQRSTUVWXYZ':\n",
        "    history_freq = history_dict.get(letter, 0)\n",
        "    academic_freq = academic_dict.get(letter, 0)\n",
        "    if history_freq > 0 or academic_freq > 0:\n",
        "        print(f\"Letter {letter}: History: {history_freq}, Academic: {academic_freq}\")"
      ],
      "metadata": {
        "colab": {
          "base_uri": "https://localhost:8080/"
        },
        "id": "CryEi14R1KiJ",
        "outputId": "d952364a-6a58-42b2-9027-6fe8c00fc4f2"
      },
      "id": "CryEi14R1KiJ",
      "execution_count": 45,
      "outputs": [
        {
          "output_type": "stream",
          "name": "stdout",
          "text": [
            "Analysis for History section:\n",
            "Top 10 most frequent letters:\n",
            "E: 160\n",
            "T: 141\n",
            "I: 120\n",
            "O: 114\n",
            "N: 106\n",
            "A: 104\n",
            "S: 103\n",
            "R: 67\n",
            "D: 55\n",
            "C: 54\n",
            "Analysis for Academic reputation section:\n",
            "Top 10 most frequent letters:\n",
            "S: 19\n",
            "I: 18\n",
            "E: 15\n",
            "R: 14\n",
            "T: 13\n",
            "N: 12\n",
            "A: 11\n",
            "U: 7\n",
            "B: 6\n",
            "Y: 6\n",
            "\n",
            " Сравнение частот букв между разделами:\n",
            "Letter A: History: 104, Academic: 11\n",
            "Letter B: History: 14, Academic: 6\n",
            "Letter C: History: 54, Academic: 4\n",
            "Letter D: History: 55, Academic: 3\n",
            "Letter E: History: 160, Academic: 15\n",
            "Letter F: History: 33, Academic: 1\n",
            "Letter G: History: 31, Academic: 3\n",
            "Letter H: History: 51, Academic: 4\n",
            "Letter I: History: 120, Academic: 18\n",
            "Letter J: History: 3, Academic: 0\n",
            "Letter K: History: 2, Academic: 4\n",
            "Letter L: History: 39, Academic: 1\n",
            "Letter M: History: 38, Academic: 2\n",
            "Letter N: History: 106, Academic: 12\n",
            "Letter O: History: 114, Academic: 5\n",
            "Letter P: History: 25, Academic: 1\n",
            "Letter Q: History: 0, Academic: 1\n",
            "Letter R: History: 67, Academic: 14\n",
            "Letter S: History: 103, Academic: 19\n",
            "Letter T: History: 141, Academic: 13\n",
            "Letter U: History: 44, Academic: 7\n",
            "Letter V: History: 20, Academic: 4\n",
            "Letter W: History: 23, Academic: 3\n",
            "Letter X: History: 1, Academic: 1\n",
            "Letter Y: History: 34, Academic: 6\n"
          ]
        }
      ]
    },
    {
      "cell_type": "code",
      "source": [
        "import matplotlib.pyplot as plt\n",
        "import numpy as np\n",
        "\n",
        "def analyze_section(text):\n",
        "    letters = [chr(i) for i in range(65, 91)]\n",
        "    cnt = [0] * len(letters)\n",
        "    text = text.upper()\n",
        "\n",
        "    for c in text:\n",
        "        if c in letters:\n",
        "            cnt[letters.index(c)] += 1\n",
        "\n",
        "    sorted_letters = sorted(zip(letters, cnt), key=lambda x: x[1], reverse=True)\n",
        "    return sorted_letters\n",
        "\n",
        "def print_analysis(section_name, sorted_letters):\n",
        "    print(f\"\\\n",
        "Analysis for {section_name} section:\")\n",
        "    print(\"Top 10 most frequent letters:\")\n",
        "    for letter, frequency in sorted_letters[:10]:\n",
        "        print(f\"{letter}: {frequency}\")\n",
        "\n",
        "def visualize_comparison(history_analysis, academic_analysis):\n",
        "    # Создаем фигуру с двумя подграфиками\n",
        "    fig, (ax1, ax2) = plt.subplots(2, 1, figsize=(12, 8))\n",
        "\n",
        "    # Преобразуем данные для визуализации\n",
        "    history_letters, history_freq = zip(*history_analysis)\n",
        "    academic_letters, academic_freq = zip(*academic_analysis)\n",
        "\n",
        "    # Создаем позиции для столбцов\n",
        "    x = np.arange(len(history_letters))\n",
        "\n",
        "    # Построение графиков\n",
        "    ax1.bar(x, history_freq, align='center', alpha=0.8, label='History')\n",
        "    ax1.set_title('Letter Frequency in History Section')\n",
        "    ax1.set_xticks(x)\n",
        "    ax1.set_xticklabels(history_letters)\n",
        "\n",
        "    ax2.bar(x, academic_freq, align='center', alpha=0.8, color='green', label='Academic')\n",
        "    ax2.set_title('Letter Frequency in Academic Section')\n",
        "    ax2.set_xticks(x)\n",
        "    ax2.set_xticklabels(academic_letters)\n",
        "\n",
        "    # Поворачиваем подписи букв для лучшей читаемости\n",
        "    for label in ax1.get_xticklabels():\n",
        "        label.set_rotation(45)\n",
        "    for label in ax2.get_xticklabels():\n",
        "        label.set_rotation(45)\n",
        "\n",
        "    # Добавляем подписи осей\n",
        "    ax1.set_ylabel('Frequency')\n",
        "    ax2.set_ylabel('Frequency')\n",
        "\n",
        "    # Добавляем легенду\n",
        "    ax1.legend()\n",
        "    ax2.legend()\n",
        "\n",
        "    # Настраиваем расположение графиков\n",
        "    plt.tight_layout()\n",
        "\n",
        "    # Показываем график\n",
        "    plt.show()\n",
        "\n",
        "# Анализируем текст\n",
        "with open('text-data.txt', 'r') as file:\n",
        "    text = file.read()\n",
        "\n",
        "sections = text.split('###')[1:]\n",
        "history_section = sections[0].strip()\n",
        "academic_section = sections[1].strip()\n",
        "\n",
        "# Проводим анализ\n",
        "history_analysis = analyze_section(history_section)\n",
        "academic_analysis = analyze_section(academic_section)\n",
        "\n",
        "# Выводим текстовый анализ\n",
        "print_analysis(\"History\", history_analysis)\n",
        "print_analysis(\"Academic reputation\", academic_analysis)\n",
        "\n",
        "# Визуализируем результаты\n",
        "visualize_comparison(history_analysis, academic_analysis)\n",
        "\n",
        "# Сравнение результатов\n",
        "print(\"\\\n",
        "Comparison of letter frequencies between sections:\")\n",
        "history_dict = dict(history_analysis)\n",
        "academic_dict = dict(academic_analysis)\n",
        "\n",
        "for letter in 'ABCDEFGHIJKLMNOPQRSTUVWXYZ':\n",
        "    history_freq = history_dict.get(letter, 0)\n",
        "    academic_freq = academic_dict.get(letter, 0)\n",
        "    if history_freq > 0 or academic_freq > 0:\n",
        "        print(f\"Letter {letter}: History: {history_freq}, Academic: {academic_freq}\")"
      ],
      "metadata": {
        "colab": {
          "base_uri": "https://localhost:8080/",
          "height": 1000
        },
        "id": "4Q41X9Hb2DM0",
        "outputId": "a7d8c102-c276-49b5-fb2c-24fe47039776"
      },
      "id": "4Q41X9Hb2DM0",
      "execution_count": 46,
      "outputs": [
        {
          "output_type": "stream",
          "name": "stdout",
          "text": [
            "Analysis for History section:\n",
            "Top 10 most frequent letters:\n",
            "E: 160\n",
            "T: 141\n",
            "I: 120\n",
            "O: 114\n",
            "N: 106\n",
            "A: 104\n",
            "S: 103\n",
            "R: 67\n",
            "D: 55\n",
            "C: 54\n",
            "Analysis for Academic reputation section:\n",
            "Top 10 most frequent letters:\n",
            "S: 19\n",
            "I: 18\n",
            "E: 15\n",
            "R: 14\n",
            "T: 13\n",
            "N: 12\n",
            "A: 11\n",
            "U: 7\n",
            "B: 6\n",
            "Y: 6\n"
          ]
        },
        {
          "output_type": "display_data",
          "data": {
            "text/plain": [
              "<Figure size 1200x800 with 2 Axes>"
            ],
            "image/png": "[encoded data removed]"
          },
          "metadata": {}
        },
        {
          "output_type": "stream",
          "name": "stdout",
          "text": [
            "Comparison of letter frequencies between sections:\n",
            "Letter A: History: 104, Academic: 11\n",
            "Letter B: History: 14, Academic: 6\n",
            "Letter C: History: 54, Academic: 4\n",
            "Letter D: History: 55, Academic: 3\n",
            "Letter E: History: 160, Academic: 15\n",
            "Letter F: History: 33, Academic: 1\n",
            "Letter G: History: 31, Academic: 3\n",
            "Letter H: History: 51, Academic: 4\n",
            "Letter I: History: 120, Academic: 18\n",
            "Letter J: History: 3, Academic: 0\n",
            "Letter K: History: 2, Academic: 4\n",
            "Letter L: History: 39, Academic: 1\n",
            "Letter M: History: 38, Academic: 2\n",
            "Letter N: History: 106, Academic: 12\n",
            "Letter O: History: 114, Academic: 5\n",
            "Letter P: History: 25, Academic: 1\n",
            "Letter Q: History: 0, Academic: 1\n",
            "Letter R: History: 67, Academic: 14\n",
            "Letter S: History: 103, Academic: 19\n",
            "Letter T: History: 141, Academic: 13\n",
            "Letter U: History: 44, Academic: 7\n",
            "Letter V: History: 20, Academic: 4\n",
            "Letter W: History: 23, Academic: 3\n",
            "Letter X: History: 1, Academic: 1\n",
            "Letter Y: History: 34, Academic: 6\n"
          ]
        }
      ]
    },
    {
      "cell_type": "code",
      "source": [
        "import matplotlib.pyplot as plt\n",
        "import numpy as np\n",
        "from google.colab import files\n",
        "\n",
        "def visualize_comparison(history_analysis, academic_analysis):\n",
        "    # Преобразуем результаты анализа в словари для удобства\n",
        "    history_dict = dict(history_analysis)\n",
        "    academic_dict = dict(academic_analysis)\n",
        "\n",
        "    # Получаем все уникальные буквы\n",
        "    letters = sorted(set(list(history_dict.keys()) + list(academic_dict.keys())))\n",
        "\n",
        "    # Подготавливаем данные для графика\n",
        "    history_freq = [history_dict.get(letter, 0) for letter in letters]\n",
        "    academic_freq = [academic_dict.get(letter, 0) for letter in letters]\n",
        "\n",
        "    # Настраиваем параметры графика\n",
        "    x = np.arange(len(letters))\n",
        "    width = 0.35\n",
        "\n",
        "    # Создаем фигуру большего размера и с белым фоном\n",
        "    plt.style.use('default')\n",
        "    fig, (ax1, ax2) = plt.subplots(2, 1, figsize=(15, 12), facecolor='white')\n",
        "\n",
        "    # График столбцов\n",
        "    rects1 = ax1.bar(x - width/2, history_freq, width, label='History', color='skyblue')\n",
        "    rects2 = ax1.bar(x + width/2, academic_freq, width, label='Academic', color='lightcoral')\n",
        "\n",
        "    ax1.set_ylabel('Frequency', fontsize=12)\n",
        "    ax1.set_title('Letter Frequency Comparison', fontsize=14, pad=20)\n",
        "    ax1.set_xticks(x)\n",
        "    ax1.set_xticklabels(letters)\n",
        "    ax1.legend(fontsize=10)\n",
        "    ax1.set_facecolor('white')\n",
        "\n",
        "    # Добавляем числовые значения над столбцами\n",
        "    def autolabel(rects):\n",
        "        for rect in rects:\n",
        "            height = rect.get_height()\n",
        "            ax1.annotate(f'{int(height)}',\n",
        "                        xy=(rect.get_x() + rect.get_width() / 2, height),\n",
        "                        xytext=(0, 3),  # 3 points vertical offset\n",
        "                        textcoords=\"offset points\",\n",
        "                        ha='center', va='bottom', rotation=90,\n",
        "                        fontsize=8)\n",
        "\n",
        "    autolabel(rects1)\n",
        "    autolabel(rects2)\n",
        "\n",
        "    # График линий для сравнения трендов\n",
        "    ax2.plot(x, history_freq, marker='o', label='History', color='skyblue', linewidth=2)\n",
        "    ax2.plot(x, academic_freq, marker='s', label='Academic', color='lightcoral', linewidth=2)\n",
        "    ax2.set_ylabel('Frequency', fontsize=12)\n",
        "    ax2.set_title('Letter Frequency Trends', fontsize=14, pad=20)\n",
        "    ax2.set_xticks(x)\n",
        "    ax2.set_xticklabels(letters)\n",
        "    ax2.legend(fontsize=10)\n",
        "    ax2.set_facecolor('white')\n",
        "\n",
        "    # Добавляем сетку для лучшей читаемости\n",
        "    ax2.grid(True, linestyle='--', alpha=0.7)\n",
        "\n",
        "    # Поворачиваем подписи букв для лучшей читаемости\n",
        "    for ax in [ax1, ax2]:\n",
        "        ax.tick_params(axis='x', rotation=45)\n",
        "\n",
        "    # Настраиваем layout\n",
        "    plt.tight_layout()\n",
        "\n",
        "    # Сохраняем график\n",
        "    plt.savefig('frequency_comparison.png', dpi=300, bbox_inches='tight')\n",
        "\n",
        "    # Отображаем график в Colab\n",
        "    plt.show()\n",
        "\n",
        "    # Скачиваем файл\n",
        "    files.download('frequency_comparison.png')\n",
        "\n",
        "# Анализируем текст\n",
        "with open('text-data.txt', 'r') as file:\n",
        "    text = file.read()\n",
        "\n",
        "sections = text.split('###')[1:]  # Пропускаем пустой элемент в начале\n",
        "history_section = sections[0].strip()\n",
        "academic_section = sections[1].strip()\n",
        "\n",
        "# Проводим анализ\n",
        "history_analysis = analyze_section(history_section)\n",
        "academic_analysis = analyze_section(academic_section)\n",
        "\n",
        "# Визуализируем результаты\n",
        "visualize_comparison(history_analysis, academic_analysis)"
      ],
      "metadata": {
        "colab": {
          "base_uri": "https://localhost:8080/",
          "height": 1000
        },
        "id": "IAwRapyR3idH",
        "outputId": "9265d48f-4443-45c9-faaa-caaee9f7f443"
      },
      "id": "IAwRapyR3idH",
      "execution_count": 47,
      "outputs": [
        {
          "output_type": "display_data",
          "data": {
            "text/plain": [
              "<Figure size 1500x1200 with 2 Axes>"
            ],
            "image/png": "[encoded data removed]"
          },
          "metadata": {}
        },
        {
          "output_type": "display_data",
          "data": {
            "text/plain": [
              "<IPython.core.display.Javascript object>"
            ],
            "application/javascript": [
              "\n",
              "    async function download(id, filename, size) {\n",
              "      if (!google.colab.kernel.accessAllowed) {\n",
              "        return;\n",
              "      }\n",
              "      const div = document.createElement('div');\n",
              "      const label = document.createElement('label');\n",
              "      label.textContent = `Downloading \"${filename}\": `;\n",
              "      div.appendChild(label);\n",
              "      const progress = document.createElement('progress');\n",
              "      progress.max = size;\n",
              "      div.appendChild(progress);\n",
              "      document.body.appendChild(div);\n",
              "\n",
              "      const buffers = [];\n",
              "      let downloaded = 0;\n",
              "\n",
              "      const channel = await google.colab.kernel.comms.open(id);\n",
              "      // Send a message to notify the kernel that we're ready.\n",
              "      channel.send({})\n",
              "\n",
              "      for await (const message of channel.messages) {\n",
              "        // Send a message to notify the kernel that we're ready.\n",
              "        channel.send({})\n",
              "        if (message.buffers) {\n",
              "          for (const buffer of message.buffers) {\n",
              "            buffers.push(buffer);\n",
              "            downloaded += buffer.byteLength;\n",
              "            progress.value = downloaded;\n",
              "          }\n",
              "        }\n",
              "      }\n",
              "      const blob = new Blob(buffers, {type: 'application/binary'});\n",
              "      const a = document.createElement('a');\n",
              "      a.href = window.URL.createObjectURL(blob);\n",
              "      a.download = filename;\n",
              "      div.appendChild(a);\n",
              "      a.click();\n",
              "      div.remove();\n",
              "    }\n",
              "  "
            ]
          },
          "metadata": {}
        },
        {
          "output_type": "display_data",
          "data": {
            "text/plain": [
              "<IPython.core.display.Javascript object>"
            ],
            "application/javascript": [
              "download(\"download_820df4cc-3da1-4b3e-8403-367eeeec6c7c\", \"frequency_comparison.png\", 512638)"
            ]
          },
          "metadata": {}
        }
      ]
    },
    {
      "cell_type": "code",
      "source": [
        "from google.colab import files\n",
        "\n",
        "uploaded = files.upload()  # Откроется окно выбора файла"
      ],
      "metadata": {
        "colab": {
          "base_uri": "https://localhost:8080/",
          "height": 73
        },
        "id": "qsT_C6ojDrSU",
        "outputId": "3cb440eb-f320-4e9f-bec0-84d79d54911e"
      },
      "id": "qsT_C6ojDrSU",
      "execution_count": 70,
      "outputs": [
        {
          "output_type": "display_data",
          "data": {
            "text/plain": [
              "<IPython.core.display.HTML object>"
            ],
            "text/html": [
              "\n",
              "     <input type=\"file\" id=\"files-6b79375e-8c46-429d-a6f4-d936d4643e85\" name=\"files[]\" multiple disabled\n",
              "        style=\"border:none\" />\n",
              "     <output id=\"result-6b79375e-8c46-429d-a6f4-d936d4643e85\">\n",
              "      Upload widget is only available when the cell has been executed in the\n",
              "      current browser session. Please rerun this cell to enable.\n",
              "      </output>\n",
              "      <script>// Copyright 2017 Google LLC\n",
              "//\n",
              "// Licensed under the Apache License, Version 2.0 (the \"License\");\n",
              "// you may not use this file except in compliance with the License.\n",
              "// You may obtain a copy of the License at\n",
              "//\n",
              "//      http://www.apache.org/licenses/LICENSE-2.0\n",
              "//\n",
              "// Unless required by applicable law or agreed to in writing, software\n",
              "// distributed under the License is distributed on an \"AS IS\" BASIS,\n",
              "// WITHOUT WARRANTIES OR CONDITIONS OF ANY KIND, either express or implied.\n",
              "// See the License for the specific language governing permissions and\n",
              "// limitations under the License.\n",
              "\n",
              "/**\n",
              " * @fileoverview Helpers for google.colab Python module.\n",
              " */\n",
              "(function(scope) {\n",
              "function span(text, styleAttributes = {}) {\n",
              "  const element = document.createElement('span');\n",
              "  element.textContent = text;\n",
              "  for (const key of Object.keys(styleAttributes)) {\n",
              "    element.style[key] = styleAttributes[key];\n",
              "  }\n",
              "  return element;\n",
              "}\n",
              "\n",
              "// Max number of bytes which will be uploaded at a time.\n",
              "const MAX_PAYLOAD_SIZE = 100 * 1024;\n",
              "\n",
              "function _uploadFiles(inputId, outputId) {\n",
              "  const steps = uploadFilesStep(inputId, outputId);\n",
              "  const outputElement = document.getElementById(outputId);\n",
              "  // Cache steps on the outputElement to make it available for the next call\n",
              "  // to uploadFilesContinue from Python.\n",
              "  outputElement.steps = steps;\n",
              "\n",
              "  return _uploadFilesContinue(outputId);\n",
              "}\n",
              "\n",
              "// This is roughly an async generator (not supported in the browser yet),\n",
              "// where there are multiple asynchronous steps and the Python side is going\n",
              "// to poll for completion of each step.\n",
              "// This uses a Promise to block the python side on completion of each step,\n",
              "// then passes the result of the previous step as the input to the next step.\n",
              "function _uploadFilesContinue(outputId) {\n",
              "  const outputElement = document.getElementById(outputId);\n",
              "  const steps = outputElement.steps;\n",
              "\n",
              "  const next = steps.next(outputElement.lastPromiseValue);\n",
              "  return Promise.resolve(next.value.promise).then((value) => {\n",
              "    // Cache the last promise value to make it available to the next\n",
              "    // step of the generator.\n",
              "    outputElement.lastPromiseValue = value;\n",
              "    return next.value.response;\n",
              "  });\n",
              "}\n",
              "\n",
              "/**\n",
              " * Generator function which is called between each async step of the upload\n",
              " * process.\n",
              " * @param {string} inputId Element ID of the input file picker element.\n",
              " * @param {string} outputId Element ID of the output display.\n",
              " * @return {!Iterable<!Object>} Iterable of next steps.\n",
              " */\n",
              "function* uploadFilesStep(inputId, outputId) {\n",
              "  const inputElement = document.getElementById(inputId);\n",
              "  inputElement.disabled = false;\n",
              "\n",
              "  const outputElement = document.getElementById(outputId);\n",
              "  outputElement.innerHTML = '';\n",
              "\n",
              "  const pickedPromise = new Promise((resolve) => {\n",
              "    inputElement.addEventListener('change', (e) => {\n",
              "      resolve(e.target.files);\n",
              "    });\n",
              "  });\n",
              "\n",
              "  const cancel = document.createElement('button');\n",
              "  inputElement.parentElement.appendChild(cancel);\n",
              "  cancel.textContent = 'Cancel upload';\n",
              "  const cancelPromise = new Promise((resolve) => {\n",
              "    cancel.onclick = () => {\n",
              "      resolve(null);\n",
              "    };\n",
              "  });\n",
              "\n",
              "  // Wait for the user to pick the files.\n",
              "  const files = yield {\n",
              "    promise: Promise.race([pickedPromise, cancelPromise]),\n",
              "    response: {\n",
              "      action: 'starting',\n",
              "    }\n",
              "  };\n",
              "\n",
              "  cancel.remove();\n",
              "\n",
              "  // Disable the input element since further picks are not allowed.\n",
              "  inputElement.disabled = true;\n",
              "\n",
              "  if (!files) {\n",
              "    return {\n",
              "      response: {\n",
              "        action: 'complete',\n",
              "      }\n",
              "    };\n",
              "  }\n",
              "\n",
              "  for (const file of files) {\n",
              "    const li = document.createElement('li');\n",
              "    li.append(span(file.name, {fontWeight: 'bold'}));\n",
              "    li.append(span(\n",
              "        `(${file.type || 'n/a'}) - ${file.size} bytes, ` +\n",
              "        `last modified: ${\n",
              "            file.lastModifiedDate ? file.lastModifiedDate.toLocaleDateString() :\n",
              "                                    'n/a'} - `));\n",
              "    const percent = span('0% done');\n",
              "    li.appendChild(percent);\n",
              "\n",
              "    outputElement.appendChild(li);\n",
              "\n",
              "    const fileDataPromise = new Promise((resolve) => {\n",
              "      const reader = new FileReader();\n",
              "      reader.onload = (e) => {\n",
              "        resolve(e.target.result);\n",
              "      };\n",
              "      reader.readAsArrayBuffer(file);\n",
              "    });\n",
              "    // Wait for the data to be ready.\n",
              "    let fileData = yield {\n",
              "      promise: fileDataPromise,\n",
              "      response: {\n",
              "        action: 'continue',\n",
              "      }\n",
              "    };\n",
              "\n",
              "    // Use a chunked sending to avoid message size limits. See b/62115660.\n",
              "    let position = 0;\n",
              "    do {\n",
              "      const length = Math.min(fileData.byteLength - position, MAX_PAYLOAD_SIZE);\n",
              "      const chunk = new Uint8Array(fileData, position, length);\n",
              "      position += length;\n",
              "\n",
              "      const base64 = btoa(String.fromCharCode.apply(null, chunk));\n",
              "      yield {\n",
              "        response: {\n",
              "          action: 'append',\n",
              "          file: file.name,\n",
              "          data: base64,\n",
              "        },\n",
              "      };\n",
              "\n",
              "      let percentDone = fileData.byteLength === 0 ?\n",
              "          100 :\n",
              "          Math.round((position / fileData.byteLength) * 100);\n",
              "      percent.textContent = `${percentDone}% done`;\n",
              "\n",
              "    } while (position < fileData.byteLength);\n",
              "  }\n",
              "\n",
              "  // All done.\n",
              "  yield {\n",
              "    response: {\n",
              "      action: 'complete',\n",
              "    }\n",
              "  };\n",
              "}\n",
              "\n",
              "scope.google = scope.google || {};\n",
              "scope.google.colab = scope.google.colab || {};\n",
              "scope.google.colab._files = {\n",
              "  _uploadFiles,\n",
              "  _uploadFilesContinue,\n",
              "};\n",
              "})(self);\n",
              "</script> "
            ]
          },
          "metadata": {}
        },
        {
          "output_type": "stream",
          "name": "stdout",
          "text": [
            "Saving text-data.txt to text-data.txt\n"
          ]
        }
      ]
    },
    {
      "cell_type": "code",
      "source": [
        "# Разделяем текст на секции\n",
        "with open('text-data.txt', 'r') as file:\n",
        "    text = file.read()\n",
        "\n",
        "sections = text.split('###')[1:]  # Пропускаем пустой элемент в начале\n",
        "history_section = sections[0].strip()\n",
        "academic_section = sections[1].strip()\n",
        "\n",
        "# Анализируем каждую секцию\n",
        "history_analysis = analyze_section(history_section)\n",
        "academic_analysis = analyze_section(academic_section)\n",
        "\n",
        "# Выводим результаты\n",
        "print_analysis(\"History\", history_analysis)\n",
        "print_analysis(\"Academic reputation\", academic_analysis)\n",
        "\n",
        "# Сравнение результатов\n",
        "print(\"\\n Сравнение частот букв между разделами:\")\n",
        "history_dict = dict(history_analysis)\n",
        "academic_dict = dict(academic_analysis)\n",
        "\n",
        "for letter in 'ABCDEFGHIJKLMNOPQRSTUVWXYZ':\n",
        "    history_freq = history_dict.get(letter, 0)\n",
        "    academic_freq = academic_dict.get(letter, 0)\n",
        "    if history_freq > 0 or academic_freq > 0:\n",
        "        print(f\"Letter {letter}: History: {history_freq}, Academic: {academic_freq}\")"
      ],
      "metadata": {
        "colab": {
          "base_uri": "https://localhost:8080/"
        },
        "id": "S6JWa0KSEJE8",
        "outputId": "e4022233-dd41-48d3-db58-c7e962f72a67"
      },
      "id": "S6JWa0KSEJE8",
      "execution_count": 71,
      "outputs": [
        {
          "output_type": "stream",
          "name": "stdout",
          "text": [
            "Analysis for History section:\n",
            "Top 10 most frequent letters:\n",
            "E: 492\n",
            "S: 416\n",
            "O: 289\n",
            "N: 288\n",
            "A: 270\n",
            "I: 268\n",
            "T: 267\n",
            "R: 232\n",
            "C: 197\n",
            "P: 133\n",
            "Analysis for Academic reputation section:\n",
            "Top 10 most frequent letters:\n",
            "E: 276\n",
            "O: 210\n",
            "T: 182\n",
            "N: 173\n",
            "I: 170\n",
            "S: 166\n",
            "A: 140\n",
            "R: 136\n",
            "C: 107\n",
            "M: 78\n",
            "\n",
            " Сравнение частот букв между разделами:\n",
            "Letter A: History: 270, Academic: 140\n",
            "Letter B: History: 51, Academic: 30\n",
            "Letter C: History: 197, Academic: 107\n",
            "Letter D: History: 124, Academic: 51\n",
            "Letter E: History: 492, Academic: 276\n",
            "Letter F: History: 76, Academic: 76\n",
            "Letter G: History: 75, Academic: 44\n",
            "Letter H: History: 95, Academic: 60\n",
            "Letter I: History: 268, Academic: 170\n",
            "Letter J: History: 6, Academic: 3\n",
            "Letter K: History: 7, Academic: 13\n",
            "Letter L: History: 115, Academic: 70\n",
            "Letter M: History: 115, Academic: 78\n",
            "Letter N: History: 288, Academic: 173\n",
            "Letter O: History: 289, Academic: 210\n",
            "Letter P: History: 133, Academic: 66\n",
            "Letter Q: History: 5, Academic: 3\n",
            "Letter R: History: 232, Academic: 136\n",
            "Letter S: History: 416, Academic: 166\n",
            "Letter T: History: 267, Academic: 182\n",
            "Letter U: History: 89, Academic: 52\n",
            "Letter V: History: 36, Academic: 21\n",
            "Letter W: History: 27, Academic: 29\n",
            "Letter X: History: 8, Academic: 2\n",
            "Letter Y: History: 39, Academic: 24\n",
            "Letter Z: History: 13, Academic: 6\n"
          ]
        }
      ]
    },
    {
      "cell_type": "code",
      "source": [
        "import matplotlib.pyplot as plt\n",
        "import numpy as np\n",
        "from google.colab import files\n",
        "\n",
        "def visualize_comparison(history_analysis, academic_analysis):\n",
        "    # Преобразуем результаты анализа в словари для удобства\n",
        "    history_dict = dict(history_analysis)\n",
        "    academic_dict = dict(academic_analysis)\n",
        "\n",
        "    # Получаем все уникальные буквы\n",
        "    letters = sorted(set(list(history_dict.keys()) + list(academic_dict.keys())))\n",
        "\n",
        "    # Подготавливаем данные для графика\n",
        "    history_freq = [history_dict.get(letter, 0) for letter in letters]\n",
        "    academic_freq = [academic_dict.get(letter, 0) for letter in letters]\n",
        "\n",
        "    # Настраиваем параметры графика\n",
        "    x = np.arange(len(letters))\n",
        "    width = 0.35\n",
        "\n",
        "    # Создаем фигуру большего размера и с белым фоном\n",
        "    plt.style.use('default')\n",
        "    fig, (ax1, ax2) = plt.subplots(2, 1, figsize=(15, 12), facecolor='white')\n",
        "\n",
        "    # График столбцов\n",
        "    rects1 = ax1.bar(x - width/2, history_freq, width, label='History', color='skyblue')\n",
        "    rects2 = ax1.bar(x + width/2, academic_freq, width, label='Academic', color='lightcoral')\n",
        "\n",
        "    ax1.set_ylabel('Frequency', fontsize=12)\n",
        "    ax1.set_title('Letter Frequency Comparison', fontsize=14, pad=20)\n",
        "    ax1.set_xticks(x)\n",
        "    ax1.set_xticklabels(letters)\n",
        "    ax1.legend(fontsize=10)\n",
        "    ax1.set_facecolor('white')\n",
        "\n",
        "    # Добавляем числовые значения над столбцами\n",
        "    def autolabel(rects):\n",
        "        for rect in rects:\n",
        "            height = rect.get_height()\n",
        "            ax1.annotate(f'{int(height)}',\n",
        "                        xy=(rect.get_x() + rect.get_width() / 2, height),\n",
        "                        xytext=(0, 3),  # 3 points vertical offset\n",
        "                        textcoords=\"offset points\",\n",
        "                        ha='center', va='bottom', rotation=90,\n",
        "                        fontsize=8)\n",
        "\n",
        "    autolabel(rects1)\n",
        "    autolabel(rects2)\n",
        "\n",
        "    # График линий для сравнения трендов\n",
        "    ax2.plot(x, history_freq, marker='o', label='History', color='skyblue', linewidth=2)\n",
        "    ax2.plot(x, academic_freq, marker='s', label='Academic', color='lightcoral', linewidth=2)\n",
        "    ax2.set_ylabel('Frequency', fontsize=12)\n",
        "    ax2.set_title('Letter Frequency Trends', fontsize=14, pad=20)\n",
        "    ax2.set_xticks(x)\n",
        "    ax2.set_xticklabels(letters)\n",
        "    ax2.legend(fontsize=10)\n",
        "    ax2.set_facecolor('white')\n",
        "\n",
        "    # Добавляем сетку для лучшей читаемости\n",
        "    ax2.grid(True, linestyle='--', alpha=0.7)\n",
        "\n",
        "    # Поворачиваем подписи букв для лучшей читаемости\n",
        "    for ax in [ax1, ax2]:\n",
        "        ax.tick_params(axis='x', rotation=45)\n",
        "\n",
        "    # Настраиваем layout\n",
        "    plt.tight_layout()\n",
        "\n",
        "    # Сохраняем график\n",
        "    plt.savefig('frequency_comparison.png', dpi=300, bbox_inches='tight')\n",
        "\n",
        "    # Отображаем график в Colab\n",
        "    plt.show()\n",
        "\n",
        "    # Скачиваем файл\n",
        "    files.download('frequency_comparison.png')\n",
        "\n",
        "# Анализируем текст\n",
        "with open('text-data.txt', 'r') as file:\n",
        "    text = file.read()\n",
        "\n",
        "sections = text.split('###')[1:]  # Пропускаем пустой элемент в начале\n",
        "history_section = sections[0].strip()\n",
        "academic_section = sections[1].strip()\n",
        "\n",
        "# Проводим анализ\n",
        "history_analysis = analyze_section(history_section)\n",
        "academic_analysis = analyze_section(academic_section)\n",
        "\n",
        "# Визуализируем результаты\n",
        "visualize_comparison(history_analysis, academic_analysis)"
      ],
      "metadata": {
        "colab": {
          "base_uri": "https://localhost:8080/",
          "height": 1000
        },
        "id": "rqzaSlSAEbQ3",
        "outputId": "31f4134c-904c-47ae-f808-443b7d6f0480"
      },
      "id": "rqzaSlSAEbQ3",
      "execution_count": 72,
      "outputs": [
        {
          "output_type": "display_data",
          "data": {
            "text/plain": [
              "<Figure size 1500x1200 with 2 Axes>"
            ],
            "image/png": "[encoded data removed]"
          },
          "metadata": {}
        },
        {
          "output_type": "display_data",
          "data": {
            "text/plain": [
              "<IPython.core.display.Javascript object>"
            ],
            "application/javascript": [
              "\n",
              "    async function download(id, filename, size) {\n",
              "      if (!google.colab.kernel.accessAllowed) {\n",
              "        return;\n",
              "      }\n",
              "      const div = document.createElement('div');\n",
              "      const label = document.createElement('label');\n",
              "      label.textContent = `Downloading \"${filename}\": `;\n",
              "      div.appendChild(label);\n",
              "      const progress = document.createElement('progress');\n",
              "      progress.max = size;\n",
              "      div.appendChild(progress);\n",
              "      document.body.appendChild(div);\n",
              "\n",
              "      const buffers = [];\n",
              "      let downloaded = 0;\n",
              "\n",
              "      const channel = await google.colab.kernel.comms.open(id);\n",
              "      // Send a message to notify the kernel that we're ready.\n",
              "      channel.send({})\n",
              "\n",
              "      for await (const message of channel.messages) {\n",
              "        // Send a message to notify the kernel that we're ready.\n",
              "        channel.send({})\n",
              "        if (message.buffers) {\n",
              "          for (const buffer of message.buffers) {\n",
              "            buffers.push(buffer);\n",
              "            downloaded += buffer.byteLength;\n",
              "            progress.value = downloaded;\n",
              "          }\n",
              "        }\n",
              "      }\n",
              "      const blob = new Blob(buffers, {type: 'application/binary'});\n",
              "      const a = document.createElement('a');\n",
              "      a.href = window.URL.createObjectURL(blob);\n",
              "      a.download = filename;\n",
              "      div.appendChild(a);\n",
              "      a.click();\n",
              "      div.remove();\n",
              "    }\n",
              "  "
            ]
          },
          "metadata": {}
        },
        {
          "output_type": "display_data",
          "data": {
            "text/plain": [
              "<IPython.core.display.Javascript object>"
            ],
            "application/javascript": [
              "download(\"download_8dc0d155-6fb1-4c9b-9817-6cd0dd328097\", \"frequency_comparison.png\", 576755)"
            ]
          },
          "metadata": {}
        }
      ]
    },
    {
      "cell_type": "markdown",
      "source": [
        "### Индивидуальное задание"
      ],
      "metadata": {
        "id": "GOxqKqPB_gKL"
      },
      "id": "GOxqKqPB_gKL"
    },
    {
      "cell_type": "markdown",
      "source": [
        "## Общая формулировка задания для всех вариантов:\n",
        "\n",
        "Модифицируйте код из предыдущего задания чтобы он анализировал все предложения из исходного текста и проведите частотный анализ указанных разделов статьи. Сравните полученные результаты.\n",
        "\n",
        "Необходимо вывести:\n",
        "1. Топ-10 самых частых букв для первого указанного раздела\n",
        "2. Топ-10 самых частых букв для второго указанного раздела\n",
        "3. Сравнительную таблицу частот всех букв между разделами\n",
        "\n",
        "## Варианты заданий:\n",
        "\n",
        "### **Вариант 1**\n",
        "**Статья:** Business informatics\n",
        "\n",
        "**Разделы:** Introduction, Applications\n",
        "\n",
        "**Ссылка:** https://en.wikipedia.org/wiki/Business_informatics\n",
        "\n",
        "### **Вариант 2**\n",
        "**Статья:** Enterprise resource planning\n",
        "\n",
        "**Разделы:** History, Components\n",
        "\n",
        "**Ссылка:** https://en.wikipedia.org/wiki/Enterprise_resource_planning\n",
        "\n",
        "\n",
        "### **Вариант 3**\n",
        "**Статья:** Business intelligence\n",
        "\n",
        "**Разделы:** Definition, Functions\n",
        "\n",
        "**Ссылка:** https://en.wikipedia.org/wiki/Business_intelligence\n",
        "\n",
        "\n",
        "### **Вариант 4**\n",
        "**Статья:** Data mining\n",
        "\n",
        "**Разделы:** Process, Standards\n",
        "\n",
        "**Ссылка:** https://en.wikipedia.org/wiki/Data_mining\n",
        "\n",
        "\n",
        "### **Вариант 5**\n",
        "**Статья:** Business process management\n",
        "\n",
        "**Разделы:** Overview, Activities\n",
        "\n",
        "**Ссылка:** https://en.wikipedia.org/wiki/Business_process_management\n",
        "\n",
        "\n",
        "### **Вариант 6**\n",
        "**Статья:** Information system\n",
        "\n",
        "**Разделы:** Types, Components\n",
        "\n",
        "**Ссылка:** https://en.wikipedia.org/wiki/Information_system\n",
        "\n",
        "\n",
        "### **Вариант 7**\n",
        "**Статья:** Knowledge management\n",
        "\n",
        "**Разделы:** History, Strategies\n",
        "\n",
        "**Ссылка:** https://en.wikipedia.org/wiki/Knowledge_management\n",
        "\n",
        "\n",
        "### **Вариант 8**\n",
        "**Статья:** Business analytics\n",
        "\n",
        "**Разделы:** Applications, Methods\n",
        "\n",
        "**Ссылка:** https://en.wikipedia.org/wiki/Business_analytics\n",
        "\n",
        "\n",
        "### Вариант 9\n",
        "**Статья:** Digital transformation\n",
        "\n",
        "**Разделы:** Definition, Impact\n",
        "\n",
        "**Ссылка:** https://en.wikipedia.org/wiki/Digital_transformation\n",
        "\n",
        "### Вариант 10\n",
        "**Статья:** Cloud computing\n",
        "\n",
        "**Разделы:** Architecture, Service models\n",
        "\n",
        "**Ссылка:** https://en.wikipedia.org/wiki/Cloud_computing\n",
        "\n",
        "### Вариант 11\n",
        "**Статья:** Big data\n",
        "\n",
        "**Разделы:** Definition, Characteristics\n",
        "\n",
        "**Ссылка:** https://en.wikipedia.org/wiki/Big_data\n",
        "\n",
        "### Вариант 12\n",
        "**Статья:** Database management system\n",
        "\n",
        "**Разделы:** History, Features\n",
        "\n",
        "**Ссылка:** https://en.wikipedia.org/wiki/Database_management_system\\n\\n\n",
        "\n",
        "### Вариант 13\n",
        "**Статья:** Customer relationship management\n",
        "\n",
        "**Разделы:** Types, Implementation\n",
        "\n",
        "**Ссылка:** https://en.wikipedia.org/wiki/Customer_relationship_management\n",
        "\n",
        "### Вариант 14\n",
        "**Статья:** Supply chain management\n",
        "\n",
        "**Разделы:** Activities, Development\n",
        "\n",
        "**Ссылка:** https://en.wikipedia.org/wiki/Supply_chain_management\n",
        "\n",
        "### Вариант 15\n",
        "**Статья:** Electronic data interchange\n",
        "\n",
        "**Разделы:** Standards, Benefits\n",
        "\n",
        "**Ссылка:** https://en.wikipedia.org/wiki/Electronic_data_interchange\n",
        "\n",
        "### Вариант 16\n",
        "**Статья:** Information technology management\n",
        "\n",
        "**Разделы:** Functions, Challenges\n",
        "\n",
        "**Ссылка:** https://en.wikipedia.org/wiki/Information_technology_management\n",
        "\n",
        "### Вариант 17\n",
        "**Статья:** Business process modeling\n",
        "\n",
        "**Разделы:** Methods, Applications\n",
        "\n",
        "**Ссылка:** https://en.wikipedia.org/wiki/Business_process_modeling\n",
        "\n",
        "### Вариант 18\n",
        "**Статья:** Data warehouse\n",
        "\n",
        "**Разделы:** Architecture, Implementation\n",
        "\n",
        "**Ссылка:** https://en.wikipedia.org/wiki/Data_warehouse\n",
        "\n",
        "### Вариант 19\n",
        "**Статья:** Systems analysis\n",
        "**Разделы:** Overview, Techniques\n",
        "**Ссылка:** https://en.wikipedia.org/wiki/Systems_analysis\n",
        "\n",
        "### Вариант 20\n",
        "**Статья:** Digital economy\n",
        "\n",
        "**Разделы:** Characteristics, Impact\n",
        "\n",
        "**Ссылка:** https://en.wikipedia.org/wiki/Digital_economy\n",
        "\n",
        "### Вариант 21\n",
        "**Статья:** Enterprise architecture\n",
        "\n",
        "**Разделы:** Frameworks, Benefits\n",
        "\n",
        "**Ссылка:** https://en.wikipedia.org/wiki/Enterprise_architecture\n",
        "\n",
        "### Вариант 22\n",
        "**Статья:** Information security\n",
        "\n",
        "**Разделы:** Principles, Methods\n",
        "\n",
        "**Ссылка:** https://en.wikipedia.org/wiki/Information_security\n",
        "\n",
        "### Вариант 23\n",
        "**Статья:** Project management\n",
        "\n",
        "**Разделы:** Approaches, Processes\n",
        "\n",
        "**Ссылка:** https://en.wikipedia.org/wiki/Project_management\n",
        "\n",
        "### Вариант 24\n",
        "**Статья:** Business model\n",
        "\n",
        "**Разделы:** Components, Types\n",
        "\n",
        "**Ссылка:** https://en.wikipedia.org/wiki/Business_model\n",
        "\n",
        "### Вариант 25\n",
        "**Статья:** Information technology\n",
        "\n",
        "**Разделы:** History, Applications\n",
        "\n",
        "**Ссылка:** https://en.wikipedia.org/wiki/Information_technology\n",
        "\n",
        "### Вариант 26\n",
        "**Статья:** Data analysis\n",
        "\n",
        "**Разделы:** Methods, Tools\n",
        "\n",
        "**Ссылка:** https://en.wikipedia.org/wiki/Data_analysis\n",
        "\n",
        "### Вариант 27\n",
        "**Статья:** Business process automation\n",
        "\n",
        "**Разделы:** Benefits, Implementation\n",
        "\n",
        "**Ссылка:** https://en.wikipedia.org/wiki/Business_process_automation\n",
        "\n",
        "### Вариант 28\n",
        "**Статья:** Digital marketing\n",
        "\n",
        "**Разделы:** Channels, Strategies\n",
        "\n",
        "**Ссылка:** https://en.wikipedia.org/wiki/Digital_marketing\n",
        "\n",
        "\n",
        "### Вариант 29\n",
        "**Статья:** Machine learning\n",
        "\n",
        "**Разделы:** Applications, Methods\n",
        "\n",
        "**Ссылка:** https://en.wikipedia.org/wiki/Machine_learning\n",
        "\n",
        "### Вариант 30\n",
        "**Статья:** Artificial intelligence in business\n",
        "\n",
        "**Разделы:** Implementation, Impact\n",
        "\n",
        "**Ссылка:** https://en.wikipedia.org/wiki/Artificial_intelligence_in_business\n",
        "\n"
      ],
      "metadata": {
        "id": "xOcwYhGB_n9d"
      },
      "id": "xOcwYhGB_n9d"
    }
  ],
  "metadata": {
    "kernelspec": {
      "display_name": "Python 3 (ipykernel)",
      "language": "python",
      "name": "python3"
    },
    "language_info": {
      "codemirror_mode": {
        "name": "ipython",
        "version": 3
      },
      "file_extension": ".py",
      "mimetype": "text/x-python",
      "name": "python",
      "nbconvert_exporter": "python",
      "pygments_lexer": "ipython3",
      "version": "3.9.0"
    },
    "colab": {
      "provenance": [],
      "include_colab_link": true
    }
  },
  "nbformat": 4,
  "nbformat_minor": 5
}