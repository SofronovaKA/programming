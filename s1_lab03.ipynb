{
  "cells": [
    {
      "cell_type": "markdown",
      "metadata": {
        "id": "view-in-github",
        "colab_type": "text"
      },
      "source": [
        "<a href=\"https://colab.research.google.com/github/SofronovaKA/programming/blob/main/s1_lab03.ipynb\" target=\"_parent\"><img src=\"https://colab.research.google.com/assets/colab-badge.svg\" alt=\"Open In Colab\"/></a>"
      ]
    },
    {
      "cell_type": "code",
      "execution_count": null,
      "id": "abc1e4fa",
      "metadata": {
        "id": "abc1e4fa"
      },
      "outputs": [],
      "source": [
        "- title: Занятие 3\n",
        "- slug: s1_lab03"
      ]
    },
    {
      "cell_type": "markdown",
      "id": "1e48c462",
      "metadata": {
        "id": "1e48c462"
      },
      "source": [
        "# Практическое занятие 3: Составные типы данных и файлы в **Python**\n",
        "## Цель: Рассмотреть основы языка **Python**\n",
        "## Задачи:\n",
        "1. Списки в **Python**\n",
        "2. Генераторы списков  \n",
        "3. Разложение числа на множители\n",
        "4. Двумерные списки  в **Python**\n",
        "5. Оператор **in**\n",
        "6. Методы строк\n",
        "7. Функции, возвращающие значения\n",
        "8. Функции как аргументы функций map и filter\n",
        "9. Работа с файлами\n",
        "10. Сортировка списков"
      ]
    },
    {
      "cell_type": "markdown",
      "id": "fe0e7133",
      "metadata": {
        "id": "fe0e7133"
      },
      "source": [
        "## Списки в **Python**\n",
        "В большинстве практических задач возникает необходимость сохранять не отдельные значения в отдельных переменных, а целые последовательности значений: значения температуры за несколько дней, показания датчиков за некоторый временной интервал, показатели эффективности работы за период времени и т.п.\n",
        "\n",
        "Для хранения таких данных в **Python** можно использовать структуру данных, называемую список (тип *list*). Список представляет собой последовательность элементов, пронумерованных от 0. Список можно задать перечислением элементов списка в квадратных скобках, например, список можно задать так:\n",
        "```python\n",
        "a = [1, 2, 3, 4, 5]\n",
        "```\n",
        "Доступ к отдельному элементу списка осуществляется по его *индексу* (номеру). Например, код в ячейке ниже создает список и печатает все его элементы — выполните его:"
      ]
    },
    {
      "cell_type": "code",
      "execution_count": 1,
      "id": "6a5834a2",
      "metadata": {
        "id": "6a5834a2",
        "colab": {
          "base_uri": "https://localhost:8080/"
        },
        "outputId": "51547eec-fa57-4e22-ed9c-edc1a3bb2663"
      },
      "outputs": [
        {
          "output_type": "stream",
          "name": "stdout",
          "text": [
            "a[ 0 ]:  1\n",
            "a[ 1 ]:  2\n",
            "a[ 2 ]:  3\n",
            "a[ 3 ]:  4\n",
            "a[ 4 ]:  5\n"
          ]
        }
      ],
      "source": [
        "# @title\n",
        "a = [1, 2, 3, 4, 5]\n",
        "for i in range(5):\n",
        "    print('a[', i, ']: ', a[i])"
      ]
    },
    {
      "cell_type": "markdown",
      "id": "b9ac6821",
      "metadata": {
        "id": "b9ac6821"
      },
      "source": [
        "Полученный результат демонстрирует, что индексация начинается с индекса 0 и заканчивается индексом 4 (для массива из 5 элементов). Кроме того, для удобства в **Python** реализована возможность обращаться к последнему элементу по индексу -1, к предпоследнему -2 и так далее. Для списка из n элементов определены индексы от -n до n-1 включительно:"
      ]
    },
    {
      "cell_type": "code",
      "execution_count": 2,
      "id": "5028c5e7",
      "metadata": {
        "id": "5028c5e7",
        "colab": {
          "base_uri": "https://localhost:8080/"
        },
        "outputId": "5b8b7cf7-57be-425a-bc8b-1069bb3690de"
      },
      "outputs": [
        {
          "output_type": "stream",
          "name": "stdout",
          "text": [
            "5 4 3 2 1\n"
          ]
        }
      ],
      "source": [
        "print(a[-1], a[-2], a[-3], a[-4], a[-5])"
      ]
    },
    {
      "cell_type": "markdown",
      "id": "01d01aa1",
      "metadata": {
        "id": "01d01aa1"
      },
      "source": [
        "Длину списка, то есть количество элементов в нем, можно узнать при помощи функции `len()`:"
      ]
    },
    {
      "cell_type": "code",
      "execution_count": 3,
      "id": "64b2758c",
      "metadata": {
        "id": "64b2758c",
        "colab": {
          "base_uri": "https://localhost:8080/"
        },
        "outputId": "39f4213b-4a91-4bca-ed21-8aeb7893e9d8"
      },
      "outputs": [
        {
          "output_type": "execute_result",
          "data": {
            "text/plain": [
              "5"
            ]
          },
          "metadata": {},
          "execution_count": 3
        }
      ],
      "source": [
        "len(a)"
      ]
    },
    {
      "cell_type": "markdown",
      "id": "2377328f",
      "metadata": {
        "id": "2377328f"
      },
      "source": [
        "Существует несколько способов создания списков. Выше был рассмотрен вариант непосредственного перечисления элементов. Можно создать пустой список (не содержащий элементов) и добавлять элементы в конец списка при помощи метода `append()`. Например, если программа получает на вход количество элементов в списке n, а потом n элементов списка по одному в отдельной строке, то организовать создание списка можно так:"
      ]
    },
    {
      "cell_type": "code",
      "execution_count": 76,
      "id": "751eaa9d",
      "metadata": {
        "id": "751eaa9d",
        "colab": {
          "base_uri": "https://localhost:8080/"
        },
        "outputId": "aa304c85-f65f-4db2-ce97-f0f6c9a850e4"
      },
      "outputs": [
        {
          "output_type": "stream",
          "name": "stdout",
          "text": [
            "5\n",
            "6\n",
            "7\n",
            "8\n",
            "9\n",
            "10\n",
            "[6, 7, 8, 9, 10]\n"
          ]
        }
      ],
      "source": [
        "a = []\n",
        "for i in range(int(input())):\n",
        "    a.append(int(input()))\n",
        "print(a)"
      ]
    },
    {
      "cell_type": "markdown",
      "id": "8f7f9096",
      "metadata": {
        "id": "8f7f9096"
      },
      "source": [
        "Для списков целиком определены следующие операции: конкатенация списков (добавление одного списка в конец другого) и повторение списков (умножение списка на число):"
      ]
    },
    {
      "cell_type": "code",
      "execution_count": 15,
      "id": "5ebce3d9",
      "metadata": {
        "id": "5ebce3d9",
        "colab": {
          "base_uri": "https://localhost:8080/"
        },
        "outputId": "1c45fce2-8c1c-471e-94e3-b58a2e839e68"
      },
      "outputs": [
        {
          "output_type": "stream",
          "name": "stdout",
          "text": [
            "c:  [1, 2, 3, 4, 5]\n",
            "d:  [4, 5, 4, 5, 4, 5]\n"
          ]
        }
      ],
      "source": [
        "a = [1, 2, 3]\n",
        "b = [4, 5]\n",
        "c = a + b\n",
        "d = b * 3\n",
        "print('c: ', c)\n",
        "print('d: ', d)"
      ]
    },
    {
      "cell_type": "markdown",
      "id": "663d5256",
      "metadata": {
        "id": "663d5256"
      },
      "source": [
        "Исходя из этого, для создания списка, заполненного одинаковыми элементами, можно использовать оператор повторения списка:"
      ]
    },
    {
      "cell_type": "code",
      "execution_count": 14,
      "id": "efd8514c",
      "metadata": {
        "id": "efd8514c",
        "colab": {
          "base_uri": "https://localhost:8080/"
        },
        "outputId": "67e0c1d6-3e2d-46f6-dbe8-ee494df65bc7"
      },
      "outputs": [
        {
          "output_type": "stream",
          "name": "stdout",
          "text": [
            "[2, 2, 2, 2, 2]\n"
          ]
        }
      ],
      "source": [
        "a = [2] * 5\n",
        "print(a)"
      ]
    },
    {
      "cell_type": "markdown",
      "id": "292a106d",
      "metadata": {
        "id": "292a106d"
      },
      "source": [
        "Кроме того, есть различные методы списков. Например, `append()`, который мы обсудили выше - это один из методов. Есть метод `count()`, аналогичный методу `count()` строк и многие другие [методы](https://docs.python.org/3/tutorial/datastructures.html):"
      ]
    },
    {
      "cell_type": "code",
      "execution_count": 13,
      "id": "9e55123f",
      "metadata": {
        "id": "9e55123f",
        "colab": {
          "base_uri": "https://localhost:8080/"
        },
        "outputId": "bf0075e5-b8e1-41ea-9599-beecfb5b73d0"
      },
      "outputs": [
        {
          "output_type": "stream",
          "name": "stdout",
          "text": [
            "2\n"
          ]
        }
      ],
      "source": [
        "a = [1, 2, 3, 4, 3, 2, 5]\n",
        "print(a.count(3))"
      ]
    },
    {
      "cell_type": "code",
      "execution_count": 12,
      "id": "06697f25",
      "metadata": {
        "id": "06697f25",
        "colab": {
          "base_uri": "https://localhost:8080/"
        },
        "outputId": "a17cfa5a-1207-4016-ade5-2dada61b806b"
      },
      "outputs": [
        {
          "output_type": "stream",
          "name": "stdout",
          "text": [
            "[12, 13]\n"
          ]
        }
      ],
      "source": [
        "a = [10, 11, 12, 13, 14, 15, 16]\n",
        "print(a[2:4])"
      ]
    },
    {
      "cell_type": "markdown",
      "id": "4ca20b1b",
      "metadata": {
        "id": "4ca20b1b"
      },
      "source": [
        "Почему это так?"
      ]
    },
    {
      "cell_type": "code",
      "execution_count": 11,
      "id": "50330a07",
      "metadata": {
        "id": "50330a07",
        "colab": {
          "base_uri": "https://localhost:8080/"
        },
        "outputId": "4aff1ef0-bd3d-4113-afaa-7015809cc821"
      },
      "outputs": [
        {
          "output_type": "stream",
          "name": "stdout",
          "text": [
            "[8, 6, 4, 2]\n"
          ]
        }
      ],
      "source": [
        "print(a[::-1])"
      ]
    },
    {
      "cell_type": "code",
      "execution_count": 10,
      "id": "7c8da600",
      "metadata": {
        "id": "7c8da600",
        "colab": {
          "base_uri": "https://localhost:8080/"
        },
        "outputId": "84d772f6-e9c7-49f3-8d14-efb16fe6763e"
      },
      "outputs": [
        {
          "output_type": "stream",
          "name": "stdout",
          "text": [
            "[8, 4]\n"
          ]
        }
      ],
      "source": [
        "print(a[6::-2])"
      ]
    },
    {
      "cell_type": "markdown",
      "id": "30e1395e",
      "metadata": {
        "id": "30e1395e"
      },
      "source": [
        "### Генераторы списков\n",
        "Еще один способ создания списков — это использовать *генераторы списков*, *list comprehensions* (по-русски их ещё называют *списковые включения*). Общий вид генератора следующий:\n",
        "```python\n",
        "[выражение for переменная in список]\n",
        "```\n",
        "\n",
        "где *переменная* — идентификатор некоторой переменной, *список* — список значений, который принимает данная переменная (как правило, полученный при помощи функции `range()`), *выражение* — некоторое выражение, которым будут заполнены элементы списка, как правило, зависящее от использованной в генераторе переменной:"
      ]
    },
    {
      "cell_type": "code",
      "execution_count": 9,
      "id": "9fe91e13",
      "metadata": {
        "id": "9fe91e13",
        "colab": {
          "base_uri": "https://localhost:8080/"
        },
        "outputId": "7148cdfc-f5fc-44c0-f17b-0242cff4b996"
      },
      "outputs": [
        {
          "output_type": "stream",
          "name": "stdout",
          "text": [
            "[2, 4, 6, 8]\n"
          ]
        }
      ],
      "source": [
        "a = [x for x in range(2, 10, 2)]\n",
        "print(a)"
      ]
    },
    {
      "cell_type": "code",
      "execution_count": 8,
      "id": "83ad2b8d",
      "metadata": {
        "colab": {
          "base_uri": "https://localhost:8080/"
        },
        "id": "83ad2b8d",
        "outputId": "54342973-f264-420f-ed3d-7f702afe5844"
      },
      "outputs": [
        {
          "output_type": "stream",
          "name": "stdout",
          "text": [
            "[4, 8, 12, 16]\n"
          ]
        }
      ],
      "source": [
        "a = [2 * x for x in range(2, 10, 2)]\n",
        "print(a)"
      ]
    },
    {
      "cell_type": "markdown",
      "id": "39110ba8",
      "metadata": {
        "id": "39110ba8"
      },
      "source": [
        "**Пример. Заполните массив квадратами натуральных чисел:**"
      ]
    },
    {
      "cell_type": "code",
      "execution_count": 7,
      "id": "7f2d5aae",
      "metadata": {
        "id": "7f2d5aae",
        "colab": {
          "base_uri": "https://localhost:8080/"
        },
        "outputId": "0b5647ce-d304-493e-cc07-a39bb61ffe4e"
      },
      "outputs": [
        {
          "output_type": "stream",
          "name": "stdout",
          "text": [
            "[0, 1, 4, 9, 16, 25, 36, 49, 64, 81]\n"
          ]
        }
      ],
      "source": [
        "a = [i ** 2 for i in range(10)]\n",
        "print(a)"
      ]
    },
    {
      "cell_type": "markdown",
      "id": "422e7fc3",
      "metadata": {
        "id": "422e7fc3"
      },
      "source": [
        "**Задача 1: с помощью генератора списка создайте список *a*, содержащий 7 первых членов геометрической прогрессии. Первый член равен 5, знаменатель равен 3.9**"
      ]
    },
    {
      "cell_type": "code",
      "execution_count": 6,
      "id": "82750e6f",
      "metadata": {
        "id": "82750e6f",
        "colab": {
          "base_uri": "https://localhost:8080/"
        },
        "outputId": "3ad1dc9d-7da5-4624-9f2b-eb6af43d7a2b"
      },
      "outputs": [
        {
          "output_type": "stream",
          "name": "stdout",
          "text": [
            "[5.0, 19.5, 76.05, 296.59, 1156.72, 4511.21, 17593.72]\n"
          ]
        }
      ],
      "source": [
        "a1=5\n",
        "q=3.9\n",
        "n=7\n",
        "\n",
        "a=[round(a1 * q**i,2) for i in range(n)]\n",
        "\n",
        "print(a)"
      ]
    },
    {
      "cell_type": "markdown",
      "id": "a7d32eba",
      "metadata": {
        "id": "a7d32eba"
      },
      "source": [
        "## Разложение числа на множители\n",
        "Напомним, что алгоритм разложения числа на множители похож на алгоритм проверки числа на простоту. Будем проверять делимость данного числа *n* на натуральные числа подряд, начиная с числа 2. Если мы находим делитель числа *n*, то будем делить число *n* на данный делитель, пока число делится на него и добавлять делитель *в список* простых делителей.\n",
        "\n",
        "Перебор также необходимо продолжать до $\\sqrt{n}$. Если после окончания этого алгоритма число n не станет равно 1, то оставшееся значение также является простым, так как не делится ни на одно число, не превосходящее корня из оставшегося значения, поэтому его нужно добавить к списку простых делителей:"
      ]
    },
    {
      "cell_type": "code",
      "execution_count": 18,
      "id": "02dfbf97",
      "metadata": {
        "id": "02dfbf97",
        "colab": {
          "base_uri": "https://localhost:8080/"
        },
        "outputId": "6c4b6d43-f2a8-44f1-8d96-99cbeb67ef9f"
      },
      "outputs": [
        {
          "output_type": "stream",
          "name": "stdout",
          "text": [
            "Введите целое число: 6\n",
            "[2, 3]\n"
          ]
        }
      ],
      "source": [
        "def factorize(n):\n",
        "    a = []\n",
        "    d = 2\n",
        "    while d * d <= n:\n",
        "        if n % d == 0:\n",
        "            a.append(d)\n",
        "            n //= d\n",
        "        else:\n",
        "            d += 1\n",
        "    if n > 1:\n",
        "        a.append(n)\n",
        "    return a\n",
        "\n",
        "print(factorize(int(input('Введите целое число: '))))"
      ]
    },
    {
      "cell_type": "markdown",
      "id": "3790e3e6",
      "metadata": {
        "id": "3790e3e6"
      },
      "source": [
        "**Задача 2: Для введенного с клавиатуры числа определите число его простых делителей**"
      ]
    },
    {
      "cell_type": "code",
      "source": [
        "def factorize(n):\n",
        "    a = []\n",
        "    d = 2\n",
        "    while d * d <= n:\n",
        "        if n % d == 0:\n",
        "            a.append (d)\n",
        "            n //= d\n",
        "        else:\n",
        "            d += 1\n",
        "    if n > 1:\n",
        "        a.append (n)\n",
        "    return a\n",
        "\n",
        "def count_unique_prime_factors(n):\n",
        "    prime_factors = factorize(n)\n",
        "    unique_prime_factors = set(prime_factors)\n",
        "    return len(unique_prime_factors)\n",
        "\n",
        "# Ввод числа с клавиатуры\n",
        "number = int(input ('Введите целое число: '))\n",
        "unique_prime_count = count_unique_prime_factors(number)\n",
        "print(f'Число различных простых делителей: {unique_prime_count}')"
      ],
      "metadata": {
        "id": "sgblDxuRSRCP",
        "colab": {
          "base_uri": "https://localhost:8080/"
        },
        "outputId": "3692dfd0-07f8-45eb-fcca-d0de613dc54d"
      },
      "id": "sgblDxuRSRCP",
      "execution_count": 77,
      "outputs": [
        {
          "output_type": "stream",
          "name": "stdout",
          "text": [
            "Введите целое число: 5\n",
            "Число различных простых делителей: 1\n"
          ]
        }
      ]
    },
    {
      "cell_type": "markdown",
      "id": "08240e44",
      "metadata": {
        "id": "08240e44"
      },
      "source": [
        "## Двумерные списки\n",
        "Двумерных списков в Python нет. Но, если нам нужна двойная индексация, то мы можем использовать *вложенные списки*. Таким образом, *двумерный список* — это обычный список, элементами которого являются списки.\n",
        "\n",
        "Создадим список и рассмотрим обращение к элементам:"
      ]
    },
    {
      "cell_type": "code",
      "execution_count": 21,
      "id": "f0bc23ff",
      "metadata": {
        "id": "f0bc23ff",
        "colab": {
          "base_uri": "https://localhost:8080/"
        },
        "outputId": "fdd513dc-976c-4678-9f61-b2d14719d99d"
      },
      "outputs": [
        {
          "output_type": "stream",
          "name": "stdout",
          "text": [
            "[[1, 2, 3], [4, 5, 6]]\n",
            "[4, 5, 6]\n",
            "4\n",
            "6\n"
          ]
        }
      ],
      "source": [
        "a = [[1, 2, 3], [4, 5, 6]]\n",
        "print(a)\n",
        "print(a[1])\n",
        "print(a[1][0])\n",
        "print(a[-1][-1])"
      ]
    },
    {
      "cell_type": "markdown",
      "id": "d404560d",
      "metadata": {
        "id": "d404560d"
      },
      "source": [
        "Доступ к строчкам как к спискам:"
      ]
    },
    {
      "cell_type": "code",
      "execution_count": 22,
      "id": "0b67a6b2",
      "metadata": {
        "id": "0b67a6b2",
        "colab": {
          "base_uri": "https://localhost:8080/"
        },
        "outputId": "b793187d-f79f-48b0-b817-bdf63967fa8d"
      },
      "outputs": [
        {
          "output_type": "stream",
          "name": "stdout",
          "text": [
            "[1, 2, 3]\n",
            "[4, 5, 6]\n"
          ]
        }
      ],
      "source": [
        "for i in range(len(a)):\n",
        "    print(a[i])"
      ]
    },
    {
      "cell_type": "markdown",
      "id": "e0976912",
      "metadata": {
        "id": "e0976912"
      },
      "source": [
        "Доступ к элементам каждого списка по очереди:"
      ]
    },
    {
      "cell_type": "code",
      "execution_count": 23,
      "id": "667e63c3",
      "metadata": {
        "id": "667e63c3",
        "colab": {
          "base_uri": "https://localhost:8080/"
        },
        "outputId": "751973f0-60f1-4915-839f-eb2d380f0eab"
      },
      "outputs": [
        {
          "output_type": "stream",
          "name": "stdout",
          "text": [
            "1\t2\t3\t\n",
            "4\t5\t6\t\n"
          ]
        }
      ],
      "source": [
        "for i in range(len(a)):\n",
        "    for k in range(len(a[i])):\n",
        "        print(a[i][k], end='\\t')\n",
        "    print()"
      ]
    },
    {
      "cell_type": "markdown",
      "id": "c43763d0",
      "metadata": {
        "id": "c43763d0"
      },
      "source": [
        "В ситуации, когда мы не собираемся изменять в списках ссылки на элементы, можно итерироваться по спискам так:"
      ]
    },
    {
      "cell_type": "code",
      "execution_count": 24,
      "id": "26a43728",
      "metadata": {
        "id": "26a43728",
        "colab": {
          "base_uri": "https://localhost:8080/"
        },
        "outputId": "225d0d79-1643-4aca-d4cc-8af8c2f15fe0"
      },
      "outputs": [
        {
          "output_type": "stream",
          "name": "stdout",
          "text": [
            "1\t2\t3\t\n",
            "4\t5\t6\t\n"
          ]
        }
      ],
      "source": [
        "for line in a:\n",
        "    for element in line:\n",
        "        print(element, end='\\t')\n",
        "    print()"
      ]
    },
    {
      "cell_type": "markdown",
      "id": "b232ecfd",
      "metadata": {
        "id": "b232ecfd"
      },
      "source": [
        "Для создания списка можем использовать генераторы:"
      ]
    },
    {
      "cell_type": "code",
      "execution_count": 25,
      "id": "1affa9bb",
      "metadata": {
        "id": "1affa9bb",
        "colab": {
          "base_uri": "https://localhost:8080/"
        },
        "outputId": "64bfe115-8553-4d5d-bd13-dd3392d83704"
      },
      "outputs": [
        {
          "output_type": "stream",
          "name": "stdout",
          "text": [
            "[1, 2, 3]\n",
            "[1, 2, 3]\n",
            "[1, 2, 3]\n",
            "[1, 2, 3]\n"
          ]
        }
      ],
      "source": [
        "a = [[1, 2, 3] for i in range(4)]\n",
        "for i in range(len(a)):\n",
        "    print(a[i])"
      ]
    },
    {
      "cell_type": "code",
      "execution_count": 26,
      "id": "23f02a89",
      "metadata": {
        "id": "23f02a89",
        "colab": {
          "base_uri": "https://localhost:8080/"
        },
        "outputId": "41fac2aa-6b3b-4ad2-b280-fbe1cf6abbe3"
      },
      "outputs": [
        {
          "output_type": "stream",
          "name": "stdout",
          "text": [
            "[0, 1, 2]\n",
            "[1, 2, 3]\n",
            "[2, 3, 4]\n",
            "[3, 4, 5]\n"
          ]
        }
      ],
      "source": [
        "a = [[i, i+1, i+2] for i in range(4)]\n",
        "for i in range(len(a)):\n",
        "    print(a[i])"
      ]
    },
    {
      "cell_type": "code",
      "execution_count": 27,
      "id": "b596cc7c",
      "metadata": {
        "id": "b596cc7c",
        "colab": {
          "base_uri": "https://localhost:8080/"
        },
        "outputId": "de5d0244-d51e-47d1-a0e6-272ff3a62088"
      },
      "outputs": [
        {
          "output_type": "stream",
          "name": "stdout",
          "text": [
            "[0, 1, 2]\n",
            "[1, 2, 3]\n",
            "[2, 3, 4]\n",
            "[3, 4, 5]\n"
          ]
        }
      ],
      "source": [
        "for x in a:\n",
        "    print(x)"
      ]
    },
    {
      "cell_type": "code",
      "execution_count": 28,
      "id": "3197bfaa",
      "metadata": {
        "id": "3197bfaa",
        "colab": {
          "base_uri": "https://localhost:8080/"
        },
        "outputId": "b039f528-630c-4c21-f9a4-9be9b3c61508"
      },
      "outputs": [
        {
          "output_type": "stream",
          "name": "stdout",
          "text": [
            "[[0, 1, 2], [1, 2, 3], [2, 3, 4], [3, 4, 5]]\n"
          ]
        }
      ],
      "source": [
        "print(a)"
      ]
    },
    {
      "cell_type": "markdown",
      "id": "a0b2e748",
      "metadata": {
        "id": "a0b2e748"
      },
      "source": [
        "Вот пример создания списка списков при помощи генератора списка, вложенного в генератор списка:"
      ]
    },
    {
      "cell_type": "code",
      "execution_count": 29,
      "id": "5721c03d",
      "metadata": {
        "id": "5721c03d",
        "colab": {
          "base_uri": "https://localhost:8080/"
        },
        "outputId": "dadd1522-16bc-4f62-e65b-c6753bc207bd"
      },
      "outputs": [
        {
          "output_type": "stream",
          "name": "stdout",
          "text": [
            "[0, 1, 2, 3, 4]\n",
            "[0, 1, 2, 3, 4]\n",
            "[0, 1, 2, 3, 4]\n",
            "[0, 1, 2, 3, 4]\n",
            "[0, 1, 2, 3, 4]\n"
          ]
        }
      ],
      "source": [
        "a = [[j for j in range(5)] for i in range(5)]\n",
        "for x in a:\n",
        "    print(x)"
      ]
    },
    {
      "cell_type": "markdown",
      "id": "0d8af060",
      "metadata": {
        "id": "0d8af060"
      },
      "source": [
        "**Задача 3:  создайте двумерный список. Заполните его следующим образом: значение элемента - номер его строки**"
      ]
    },
    {
      "cell_type": "code",
      "execution_count": 32,
      "id": "b39e7dc3",
      "metadata": {
        "id": "b39e7dc3",
        "colab": {
          "base_uri": "https://localhost:8080/"
        },
        "outputId": "25a6b630-93e9-4a59-f459-729e402dfbcf"
      },
      "outputs": [
        {
          "output_type": "stream",
          "name": "stdout",
          "text": [
            "[0, 0, 0, 0]\n",
            "[1, 1, 1, 1]\n",
            "[2, 2, 2, 2]\n",
            "[3, 3, 3, 3]\n",
            "[4, 4, 4, 4]\n"
          ]
        }
      ],
      "source": [
        "# Определяем размеры двумерного списка\n",
        "rows = 5\n",
        "cols = 4\n",
        "\n",
        "matrix = [[i for _ in range(cols)]for i in range(rows)]\n",
        "\n",
        "for row in matrix:\n",
        "  print(row)"
      ]
    },
    {
      "cell_type": "markdown",
      "source": [
        "### Пример."
      ],
      "metadata": {
        "id": "PhwbhaPNxRsB"
      },
      "id": "PhwbhaPNxRsB"
    },
    {
      "cell_type": "markdown",
      "id": "43c3cde6",
      "metadata": {
        "id": "43c3cde6"
      },
      "source": [
        "**Пример.** Напечатаем таблицу умножения $10*10$:"
      ]
    },
    {
      "cell_type": "code",
      "execution_count": 66,
      "id": "6e82e392",
      "metadata": {
        "id": "6e82e392",
        "colab": {
          "base_uri": "https://localhost:8080/"
        },
        "outputId": "d1b8230b-01ef-4eb2-dece-c4d2e8854bb8"
      },
      "outputs": [
        {
          "output_type": "stream",
          "name": "stdout",
          "text": [
            "    1    2    3    4    5    6    7    8    9   10\n",
            "    2    4    6    8   10   12   14   16   18   20\n",
            "    3    6    9   12   15   18   21   24   27   30\n",
            "    4    8   12   16   20   24   28   32   36   40\n",
            "    5   10   15   20   25   30   35   40   45   50\n",
            "    6   12   18   24   30   36   42   48   54   60\n",
            "    7   14   21   28   35   42   49   56   63   70\n",
            "    8   16   24   32   40   48   56   64   72   80\n",
            "    9   18   27   36   45   54   63   72   81   90\n",
            "   10   20   30   40   50   60   70   80   90  100\n"
          ]
        }
      ],
      "source": [
        "row = 10\n",
        "columns = 10\n",
        "for row in range (1, row+1):\n",
        "  for col in range (1, columns+1):\n",
        "    print(\"{: >5}\".format(row * col), end=\"\")\n",
        "  print()"
      ]
    },
    {
      "cell_type": "markdown",
      "id": "5b23550c",
      "metadata": {
        "id": "5b23550c"
      },
      "source": [
        "### Оператор **in**\n",
        "Лексема `in` может быть использована не только как часть синтаксической конструкции цикла `for`, но и как *оператор* для проверки принадлежности элемента итерируемому объекту (`list` или `str`):"
      ]
    },
    {
      "cell_type": "code",
      "execution_count": 34,
      "id": "77f55b28",
      "metadata": {
        "id": "77f55b28",
        "colab": {
          "base_uri": "https://localhost:8080/"
        },
        "outputId": "fe76ff6e-fa0b-4acb-d5d3-199fff9c50d9"
      },
      "outputs": [
        {
          "output_type": "stream",
          "name": "stdout",
          "text": [
            "True\n",
            "False\n"
          ]
        }
      ],
      "source": [
        "print(4 in [1, 2, 3, 4, 5])\n",
        "print(6 in [1, 2, 3, 4, 5])"
      ]
    },
    {
      "cell_type": "code",
      "execution_count": 35,
      "id": "470314d2",
      "metadata": {
        "id": "470314d2",
        "colab": {
          "base_uri": "https://localhost:8080/"
        },
        "outputId": "22e27483-3f00-48a9-9dcf-1b47d1abac51"
      },
      "outputs": [
        {
          "output_type": "stream",
          "name": "stdout",
          "text": [
            "True\n",
            "False\n"
          ]
        }
      ],
      "source": [
        "print(4 in range(1, 6))\n",
        "print(6 in range(1, 6))"
      ]
    },
    {
      "cell_type": "code",
      "execution_count": 36,
      "id": "29cf3e40",
      "metadata": {
        "id": "29cf3e40",
        "colab": {
          "base_uri": "https://localhost:8080/"
        },
        "outputId": "51de8742-828c-4d80-c965-3f64e81c249b"
      },
      "outputs": [
        {
          "output_type": "stream",
          "name": "stdout",
          "text": [
            "True\n",
            "False\n"
          ]
        }
      ],
      "source": [
        "print('b' in 'abc')\n",
        "print('B' in 'abc')"
      ]
    },
    {
      "cell_type": "markdown",
      "id": "05df13b2",
      "metadata": {
        "id": "05df13b2"
      },
      "source": [
        "## Строки. Операции со строками. Методы строк.\n",
        "Строки в Python кодируются методом UTF-8, а значит могут содержать символы любых алфавитов мира. При этом **объекты типа `str` являются неизменяемыми**.\n",
        "\n",
        "Строка считывается со стандартного ввода функцией `input()`. Напомним, что для двух строк определена операция сложения (конкатенации), также определена операция умножения строки на число.\n",
        "Строка состоит из последовательности символов. Узнать количество символов (длину строки) можно при помощи функции `len()`:"
      ]
    },
    {
      "cell_type": "code",
      "execution_count": 37,
      "id": "b3501005",
      "metadata": {
        "id": "b3501005",
        "colab": {
          "base_uri": "https://localhost:8080/"
        },
        "outputId": "598ad5b5-4095-4cee-b6f0-743b24e30b2c"
      },
      "outputs": [
        {
          "output_type": "stream",
          "name": "stdout",
          "text": [
            "hshjke\n",
            "4 6\n"
          ]
        }
      ],
      "source": [
        "s = 'abcd'\n",
        "s1 = input()\n",
        "print(len(s), len(s1))"
      ]
    },
    {
      "cell_type": "markdown",
      "id": "30b7bd74",
      "metadata": {
        "id": "30b7bd74"
      },
      "source": [
        "Все сказанное про итерацию по спискам справедливо и для строки:"
      ]
    },
    {
      "cell_type": "code",
      "execution_count": 38,
      "id": "ebee2538",
      "metadata": {
        "id": "ebee2538",
        "colab": {
          "base_uri": "https://localhost:8080/"
        },
        "outputId": "8b1f042c-7e6e-4165-9e46-6d8ad01418b9"
      },
      "outputs": [
        {
          "output_type": "stream",
          "name": "stdout",
          "text": [
            "a\n",
            "b\n",
            "c\n",
            "d\n",
            "e\n",
            "f\n"
          ]
        }
      ],
      "source": [
        "s = 'abcdef'\n",
        "for x in s:\n",
        "    print(x)"
      ]
    },
    {
      "cell_type": "code",
      "execution_count": 39,
      "id": "b89bd886",
      "metadata": {
        "id": "b89bd886",
        "colab": {
          "base_uri": "https://localhost:8080/"
        },
        "outputId": "c1b3d18b-a254-4e5e-c25b-615aa90e17d7"
      },
      "outputs": [
        {
          "output_type": "stream",
          "name": "stdout",
          "text": [
            "b a f\n"
          ]
        }
      ],
      "source": [
        "print(s[1], s[0], s[-1])"
      ]
    },
    {
      "cell_type": "code",
      "execution_count": 40,
      "id": "f1b753c2",
      "metadata": {
        "id": "f1b753c2",
        "colab": {
          "base_uri": "https://localhost:8080/"
        },
        "outputId": "8546bba5-56fb-4ef8-cf10-d404abc74b35"
      },
      "outputs": [
        {
          "output_type": "stream",
          "name": "stdout",
          "text": [
            "a\n"
          ]
        }
      ],
      "source": [
        "print(s[-6])"
      ]
    },
    {
      "cell_type": "markdown",
      "id": "1159fadb",
      "metadata": {
        "id": "1159fadb"
      },
      "source": [
        "Ошибка `IndexError`\n",
        "возникает, когда индекс \"вылетает\" за допустимые пределы либо в положительную, либо в отрицательную сторону:"
      ]
    },
    {
      "cell_type": "code",
      "execution_count": 78,
      "id": "94d4e074",
      "metadata": {
        "colab": {
          "base_uri": "https://localhost:8080/"
        },
        "id": "94d4e074",
        "outputId": "af4b6fc8-0ca8-4d54-fc91-6df7eab774ce"
      },
      "outputs": [
        {
          "output_type": "stream",
          "name": "stdout",
          "text": [
            "c\n"
          ]
        }
      ],
      "source": [
        "print(s[-7])"
      ]
    },
    {
      "cell_type": "markdown",
      "id": "6a0b6dad",
      "metadata": {
        "id": "6a0b6dad"
      },
      "source": [
        "Для того чтобы вывести через пробел элементы объекта, по которому мы можем итерироваться, достаточно написать:"
      ]
    },
    {
      "cell_type": "markdown",
      "id": "39224030",
      "metadata": {
        "id": "39224030"
      },
      "source": [
        "$*$ - это разворачивание элементов итерируемого объекта в параметры функции. Соответственно, функция `print()` на примере ниже получает несколько аргументов, соответственно, выводит их через пробел"
      ]
    },
    {
      "cell_type": "code",
      "execution_count": 43,
      "id": "84e30807",
      "metadata": {
        "id": "84e30807",
        "colab": {
          "base_uri": "https://localhost:8080/"
        },
        "outputId": "dddf4977-be6a-48d7-9245-0d90f8618efe"
      },
      "outputs": [
        {
          "output_type": "stream",
          "name": "stdout",
          "text": [
            "[1, 2, 3, 4, 5, 6, 7, 8, 9, 10] [2, 4, 6, 8, 10, 12, 14, 16, 18, 20] [3, 6, 9, 12, 15, 18, 21, 24, 27, 30] [4, 8, 12, 16, 20, 24, 28, 32, 36, 40] [5, 10, 15, 20, 25, 30, 35, 40, 45, 50] [6, 12, 18, 24, 30, 36, 42, 48, 54, 60] [7, 14, 21, 28, 35, 42, 49, 56, 63, 70] [8, 16, 24, 32, 40, 48, 56, 64, 72, 80] [9, 18, 27, 36, 45, 54, 63, 72, 81, 90] [10, 20, 30, 40, 50, 60, 70, 80, 90, 100]\n"
          ]
        }
      ],
      "source": [
        "print(*a)"
      ]
    },
    {
      "cell_type": "code",
      "execution_count": 44,
      "id": "d2ba1c16",
      "metadata": {
        "id": "d2ba1c16",
        "colab": {
          "base_uri": "https://localhost:8080/"
        },
        "outputId": "54274184-f639-43b3-b698-9f5e7f2b4282"
      },
      "outputs": [
        {
          "output_type": "stream",
          "name": "stdout",
          "text": [
            "a b c d e f\n"
          ]
        }
      ],
      "source": [
        "print(*s)"
      ]
    },
    {
      "cell_type": "markdown",
      "id": "cabc819e",
      "metadata": {
        "id": "cabc819e"
      },
      "source": [
        "**Пример. Дана строка, содержащая только символы 'a', 'b' и 'c'. Удалить из нее все элементы 'b':**"
      ]
    },
    {
      "cell_type": "code",
      "execution_count": 45,
      "id": "bbd341fd",
      "metadata": {
        "id": "bbd341fd",
        "colab": {
          "base_uri": "https://localhost:8080/"
        },
        "outputId": "30968251-d1aa-4dd5-df55-17e22f7011ce"
      },
      "outputs": [
        {
          "output_type": "stream",
          "name": "stdout",
          "text": [
            "b\n",
            "\n"
          ]
        }
      ],
      "source": [
        "s = input()\n",
        "s1 = ''\n",
        "for x in s:\n",
        "    if x != 'b':\n",
        "        s1 = s1 + x\n",
        "print(s1)"
      ]
    },
    {
      "cell_type": "markdown",
      "id": "5dd8c59d",
      "metadata": {
        "id": "5dd8c59d"
      },
      "source": [
        "**Пример. Дана символьная строка, содержащая больше 5 символов. Требуется удалить символы с третьего по пятый:**"
      ]
    },
    {
      "cell_type": "code",
      "execution_count": 46,
      "id": "412760f9",
      "metadata": {
        "id": "412760f9",
        "colab": {
          "base_uri": "https://localhost:8080/"
        },
        "outputId": "6cf4e401-c3bf-4189-e0fe-ad6dd7cd0bb5"
      },
      "outputs": [
        {
          "output_type": "stream",
          "name": "stdout",
          "text": [
            "vjftdfgk\n",
            "vjfgk\n"
          ]
        }
      ],
      "source": [
        "s = input()\n",
        "s1 = ''\n",
        "for i in range(2):\n",
        "    s1 = s1 + s[i]\n",
        "for i in range(5, len(s)):\n",
        "    s1 = s1 + s[i]\n",
        "print(s1)"
      ]
    },
    {
      "cell_type": "markdown",
      "id": "1852bc94",
      "metadata": {
        "id": "1852bc94"
      },
      "source": [
        "Для преобразования строки, полученной вводом через `input()` используется следующая конструкция, детали которой подробнее мы обсудим ниже:"
      ]
    },
    {
      "cell_type": "code",
      "execution_count": 47,
      "id": "73be662a",
      "metadata": {
        "id": "73be662a",
        "colab": {
          "base_uri": "https://localhost:8080/"
        },
        "outputId": "437e9f53-8c61-4f9f-ebf9-a78441e89bce"
      },
      "outputs": [
        {
          "output_type": "stream",
          "name": "stdout",
          "text": [
            "2\n",
            "[2]\n"
          ]
        }
      ],
      "source": [
        "a = [int(i) for i in input().split()]\n",
        "print(a)"
      ]
    },
    {
      "cell_type": "markdown",
      "id": "f093edb6",
      "metadata": {
        "id": "f093edb6"
      },
      "source": [
        "**Задача 4 Считать список. Удалить из него все элементы, равные единице. Вывести элементы полученного списка через пробел:**"
      ]
    },
    {
      "cell_type": "code",
      "execution_count": 1,
      "id": "6e55ada8",
      "metadata": {
        "id": "6e55ada8",
        "colab": {
          "base_uri": "https://localhost:8080/"
        },
        "outputId": "b1fe15a0-9f98-4611-e468-6ac6dd2c914d"
      },
      "outputs": [
        {
          "output_type": "stream",
          "name": "stdout",
          "text": [
            "1 3 4 2 1\n",
            " 3 4 2 \n"
          ]
        }
      ],
      "source": [
        "s = input()\n",
        "s1 = ''\n",
        "for x in s:\n",
        "    if x != '1':\n",
        "        s1 = s1 + x\n",
        "print(s1)"
      ]
    },
    {
      "cell_type": "markdown",
      "id": "cc440ce6",
      "metadata": {
        "id": "cc440ce6"
      },
      "source": [
        "Хотелось бы иметь возможность делать такие преобразования проще. Для этого в Python есть срезы. **Срез (slice)** — извлечение из данной строки одного символа или некоторого фрагмента подстроки или подпоследовательности. Синтаксис среза напоминает синтаксис `range()`:\n",
        "`s[start:stop:step]` - срез элементов строки/списка с индексами `[start; stop)` с шагом step.\n",
        "\n",
        "Посмотрим, как упростится решение задачи про удаление символов с третьего по пятый:"
      ]
    },
    {
      "cell_type": "code",
      "execution_count": 48,
      "id": "37ef09e3",
      "metadata": {
        "id": "37ef09e3",
        "colab": {
          "base_uri": "https://localhost:8080/"
        },
        "outputId": "db19f04f-60f4-4c26-f7b6-3e3ba59814ae"
      },
      "outputs": [
        {
          "output_type": "stream",
          "name": "stdout",
          "text": [
            "abfghij\n"
          ]
        }
      ],
      "source": [
        "s = 'abcdefghij'\n",
        "s1 = s[0:2:1] + s[5:len(s):1]\n",
        "print(s1)"
      ]
    },
    {
      "cell_type": "markdown",
      "id": "c4add40b",
      "metadata": {
        "id": "c4add40b"
      },
      "source": [
        "Шаг указывать не обязательно, более того, не обязательно указывать начало, если начинаем с нулевого элемента и конец, если заканчиваем последним:"
      ]
    },
    {
      "cell_type": "code",
      "execution_count": 49,
      "id": "4f81cde7",
      "metadata": {
        "id": "4f81cde7",
        "colab": {
          "base_uri": "https://localhost:8080/"
        },
        "outputId": "7e4bb5c5-760b-4b7e-cd1e-74ee6ad4d6f3"
      },
      "outputs": [
        {
          "output_type": "stream",
          "name": "stdout",
          "text": [
            "abfghij\n"
          ]
        }
      ],
      "source": [
        "print(s[:2] + s[5:])"
      ]
    },
    {
      "cell_type": "code",
      "execution_count": 52,
      "id": "88df1fb7",
      "metadata": {
        "id": "88df1fb7",
        "colab": {
          "base_uri": "https://localhost:8080/"
        },
        "outputId": "6aa36aa7-a881-463f-f0b8-07eca6993874"
      },
      "outputs": [
        {
          "output_type": "stream",
          "name": "stdout",
          "text": [
            "fdb\n"
          ]
        }
      ],
      "source": [
        "print(s[5:0:-2])"
      ]
    },
    {
      "cell_type": "code",
      "execution_count": 50,
      "id": "fff2388c",
      "metadata": {
        "id": "fff2388c",
        "colab": {
          "base_uri": "https://localhost:8080/"
        },
        "outputId": "13b56155-0c63-4f2f-8eca-9eebd1f6e905"
      },
      "outputs": [
        {
          "output_type": "stream",
          "name": "stdout",
          "text": [
            "ec\n"
          ]
        }
      ],
      "source": [
        "print(s[4:0:-2])"
      ]
    },
    {
      "cell_type": "code",
      "execution_count": 51,
      "id": "f01c3e32",
      "metadata": {
        "id": "f01c3e32",
        "colab": {
          "base_uri": "https://localhost:8080/"
        },
        "outputId": "f9ca9029-6b29-414b-b66d-590e0d6535cd"
      },
      "outputs": [
        {
          "output_type": "stream",
          "name": "stdout",
          "text": [
            "\n"
          ]
        }
      ],
      "source": [
        "print(s[4:-1:-2])"
      ]
    },
    {
      "cell_type": "markdown",
      "id": "f9c47c8b",
      "metadata": {
        "id": "f9c47c8b"
      },
      "source": [
        "Как интерпретировать этот результат? `-1` - это индекс последнего элемента строки. При отрицательном шаге у нас получается пустая последовательность, т.к. 4-й элемент стоит левее последнего. Для получения того, что мы ожидаем получить, можно просто не указывать значение параметра stop:"
      ]
    },
    {
      "cell_type": "code",
      "execution_count": 53,
      "id": "e5ce7681",
      "metadata": {
        "id": "e5ce7681",
        "colab": {
          "base_uri": "https://localhost:8080/"
        },
        "outputId": "e56e8163-e11c-4df8-fbb9-19f91909b36c"
      },
      "outputs": [
        {
          "output_type": "stream",
          "name": "stdout",
          "text": [
            "eca\n"
          ]
        }
      ],
      "source": [
        "print(s[4::-2])"
      ]
    },
    {
      "cell_type": "code",
      "execution_count": 54,
      "id": "b1820241",
      "metadata": {
        "id": "b1820241",
        "colab": {
          "base_uri": "https://localhost:8080/"
        },
        "outputId": "b89446f6-4620-40ef-ffb9-23fadff03a8f"
      },
      "outputs": [
        {
          "output_type": "stream",
          "name": "stdout",
          "text": [
            "jihgfedcba\n"
          ]
        }
      ],
      "source": [
        "print(s[::-1])"
      ]
    },
    {
      "cell_type": "markdown",
      "id": "64606636",
      "metadata": {
        "id": "64606636"
      },
      "source": [
        "### Методы строк\n",
        "Один из основных методов строк — `split()`. Это способ разбить строку на список строк по некоторому разделителю. Синтаксис: `str.split(sep)`, sep (от слова separator) — разделитель. По умолчанию `sep=' '`."
      ]
    },
    {
      "cell_type": "code",
      "execution_count": 55,
      "id": "97067758",
      "metadata": {
        "id": "97067758",
        "colab": {
          "base_uri": "https://localhost:8080/"
        },
        "outputId": "6b1575dc-c0ac-4ca9-94fa-142001a0773a"
      },
      "outputs": [
        {
          "output_type": "stream",
          "name": "stdout",
          "text": [
            "['1', '2', '3', '4']\n"
          ]
        }
      ],
      "source": [
        "s = '1+2+3+4'\n",
        "print(s.split('+'))"
      ]
    },
    {
      "cell_type": "code",
      "execution_count": 56,
      "id": "f7d65995",
      "metadata": {
        "id": "f7d65995",
        "colab": {
          "base_uri": "https://localhost:8080/"
        },
        "outputId": "0073229f-093a-4cc8-9806-0cdd82fddd10"
      },
      "outputs": [
        {
          "output_type": "stream",
          "name": "stdout",
          "text": [
            "['1', '2', '3', '4']\n"
          ]
        }
      ],
      "source": [
        "s = '1 2 3 4'\n",
        "print(s.split())"
      ]
    },
    {
      "cell_type": "code",
      "execution_count": 57,
      "id": "bd3e54ed",
      "metadata": {
        "id": "bd3e54ed",
        "colab": {
          "base_uri": "https://localhost:8080/"
        },
        "outputId": "c133c47e-98ad-4b26-ee02-c6440398e1f8"
      },
      "outputs": [
        {
          "output_type": "stream",
          "name": "stdout",
          "text": [
            "['www', 'mipt', 'ru']\n",
            "mipt\n"
          ]
        }
      ],
      "source": [
        "s = 'www.mipt.ru'\n",
        "print(s.split('.'))\n",
        "print(s.split('.')[1])"
      ]
    },
    {
      "cell_type": "markdown",
      "id": "74db20b1",
      "metadata": {
        "id": "74db20b1"
      },
      "source": [
        "Обратный к нему метод — `join()`:"
      ]
    },
    {
      "cell_type": "code",
      "execution_count": 58,
      "id": "3114d02e",
      "metadata": {
        "id": "3114d02e",
        "colab": {
          "base_uri": "https://localhost:8080/"
        },
        "outputId": "4e976732-a66b-4dcc-f6f7-87b4077ee04d"
      },
      "outputs": [
        {
          "output_type": "stream",
          "name": "stdout",
          "text": [
            "1 2 3 4 5\n"
          ]
        }
      ],
      "source": [
        "a = [1, 2, 3, 4, 5]\n",
        "print(' '.join(map(str, a)))"
      ]
    },
    {
      "cell_type": "code",
      "execution_count": 59,
      "id": "d4dd7524",
      "metadata": {
        "id": "d4dd7524",
        "colab": {
          "base_uri": "https://localhost:8080/"
        },
        "outputId": "c0e77c9c-d7cd-47aa-b830-f66bdcc2e8fa"
      },
      "outputs": [
        {
          "output_type": "stream",
          "name": "stdout",
          "text": [
            "['1', '2', '3', '4', '5']\n",
            "1, 2, 3, 4, 5\n"
          ]
        }
      ],
      "source": [
        "a = [1, 2, 3, 4, 5]\n",
        "for i in range(len(a)):\n",
        "    a[i] = str(a[i])\n",
        "print(a)\n",
        "print(', '.join(a))"
      ]
    },
    {
      "cell_type": "markdown",
      "id": "78aa42f0",
      "metadata": {
        "id": "78aa42f0"
      },
      "source": [
        "Для замены фрагмента используется метод `replace`."
      ]
    },
    {
      "cell_type": "code",
      "execution_count": 60,
      "id": "fc430fc0",
      "metadata": {
        "id": "fc430fc0",
        "colab": {
          "base_uri": "https://localhost:8080/"
        },
        "outputId": "0a5bdfb0-9a74-4ea6-d550-470caed05336"
      },
      "outputs": [
        {
          "output_type": "stream",
          "name": "stdout",
          "text": [
            "AbrAkAdAbrA\n"
          ]
        }
      ],
      "source": [
        "s = 'abrakadabra'\n",
        "print(s.replace('a', 'A'))"
      ]
    },
    {
      "cell_type": "markdown",
      "id": "8a308e42",
      "metadata": {
        "id": "8a308e42"
      },
      "source": [
        "Также этот метод можно использовать для удаления частей строки:"
      ]
    },
    {
      "cell_type": "code",
      "execution_count": 61,
      "id": "defba463",
      "metadata": {
        "id": "defba463",
        "colab": {
          "base_uri": "https://localhost:8080/"
        },
        "outputId": "9bf8139c-8d84-462a-9471-e811499d84be"
      },
      "outputs": [
        {
          "output_type": "stream",
          "name": "stdout",
          "text": [
            "accdca\n"
          ]
        }
      ],
      "source": [
        "s = 'abcbcdcba'\n",
        "s1 = s.replace('b', '')\n",
        "print(s1)"
      ]
    },
    {
      "cell_type": "markdown",
      "id": "02a429bb",
      "metadata": {
        "id": "02a429bb"
      },
      "source": [
        "Обратите внимание! Любая операция, изменяющая строку, как, например, `replace` *не меняет исходную строку, а создаёт новую*, в которой осуществлена эта замена."
      ]
    },
    {
      "cell_type": "markdown",
      "id": "4f5392d5",
      "metadata": {
        "id": "4f5392d5"
      },
      "source": [
        "**Пример: Рассмотрим задачу подсчета количества вхождений символа `'b'` в строку. Ее можно решить следующим образом:**"
      ]
    },
    {
      "cell_type": "code",
      "execution_count": 62,
      "id": "2456f5a4",
      "metadata": {
        "id": "2456f5a4",
        "colab": {
          "base_uri": "https://localhost:8080/"
        },
        "outputId": "98e9f291-0b80-4ac6-f00c-f0ab3b81d627"
      },
      "outputs": [
        {
          "output_type": "stream",
          "name": "stdout",
          "text": [
            "3\n"
          ]
        }
      ],
      "source": [
        "s = 'abcbdbegh'\n",
        "k = 0\n",
        "for x in s:\n",
        "    if x == 'b':\n",
        "        k += 1\n",
        "print(k)"
      ]
    },
    {
      "cell_type": "markdown",
      "id": "f67ed7aa",
      "metadata": {
        "id": "f67ed7aa"
      },
      "source": [
        "А можно воспользоваться методом `count`:"
      ]
    },
    {
      "cell_type": "code",
      "execution_count": 63,
      "id": "aa1264b9",
      "metadata": {
        "id": "aa1264b9",
        "colab": {
          "base_uri": "https://localhost:8080/"
        },
        "outputId": "d43cc6a8-e342-4ac9-ebea-bd19e0270544"
      },
      "outputs": [
        {
          "output_type": "stream",
          "name": "stdout",
          "text": [
            "3\n"
          ]
        }
      ],
      "source": [
        "s = 'abcbdbegh'\n",
        "print(s.count('b'))"
      ]
    },
    {
      "cell_type": "markdown",
      "id": "034cf944",
      "metadata": {
        "id": "034cf944"
      },
      "source": [
        "Существуют также методы для поиска первого и последнего вхождения подстроки в строку, перевода букв из верхнего регистра в нижний и обратно и многого другого: см.[методы строк](https://docs.python.org/3/library/stdtypes.html#string-methods)."
      ]
    },
    {
      "cell_type": "markdown",
      "id": "e56d693a",
      "metadata": {
        "id": "e56d693a"
      },
      "source": [
        "## Функции, возвращающие значение\n",
        "Функции — это вспомогательные алгоритмы."
      ]
    },
    {
      "cell_type": "markdown",
      "id": "145bff7b",
      "metadata": {
        "id": "145bff7b"
      },
      "source": [
        "###  Логическое значение как результат работы функции\n",
        "Ниже описаны три аналогичных функции. Прочитайте их тела и объясните почему они работают одинаково.\n",
        "Какая из них вам больше нравится?"
      ]
    },
    {
      "cell_type": "code",
      "execution_count": 67,
      "id": "103e416d",
      "metadata": {
        "id": "103e416d",
        "colab": {
          "base_uri": "https://localhost:8080/"
        },
        "outputId": "2605aacd-8302-4d32-c1a7-5f22a72b41d6"
      },
      "outputs": [
        {
          "output_type": "stream",
          "name": "stdout",
          "text": [
            "True\n",
            "False\n"
          ]
        }
      ],
      "source": [
        "def is_positive(x):\n",
        "    if x > 0:\n",
        "        return True\n",
        "    else:\n",
        "        return False\n",
        "\n",
        "print(is_positive(5))\n",
        "print(is_positive(-5))"
      ]
    },
    {
      "cell_type": "code",
      "execution_count": 68,
      "id": "b7e0ff2f",
      "metadata": {
        "id": "b7e0ff2f",
        "colab": {
          "base_uri": "https://localhost:8080/"
        },
        "outputId": "3c636a7f-8ccf-4d03-8e52-5e58d4d4f582"
      },
      "outputs": [
        {
          "output_type": "stream",
          "name": "stdout",
          "text": [
            "True\n",
            "False\n"
          ]
        }
      ],
      "source": [
        "def is_positive(x):\n",
        "    if x > 0:\n",
        "        return True\n",
        "    return False\n",
        "\n",
        "print(is_positive(5))\n",
        "print(is_positive(-5))"
      ]
    },
    {
      "cell_type": "code",
      "execution_count": 69,
      "id": "03cd8477",
      "metadata": {
        "id": "03cd8477",
        "colab": {
          "base_uri": "https://localhost:8080/"
        },
        "outputId": "57329ccb-a8f3-4866-8524-ed0938c99daa"
      },
      "outputs": [
        {
          "output_type": "stream",
          "name": "stdout",
          "text": [
            "True\n",
            "False\n"
          ]
        }
      ],
      "source": [
        "def is_positive(x):\n",
        "    return x > 0\n",
        "\n",
        "print(is_positive(5))\n",
        "print(is_positive(-5))"
      ]
    },
    {
      "cell_type": "markdown",
      "id": "88a665d7",
      "metadata": {
        "id": "88a665d7"
      },
      "source": [
        "## Функции как аргументы функций map и filter\n",
        "Для поэлементной обработки любого итерируемого объекта можно использовать функции `map` и `filter`:"
      ]
    },
    {
      "cell_type": "code",
      "execution_count": 70,
      "id": "975ca3d2",
      "metadata": {
        "id": "975ca3d2",
        "colab": {
          "base_uri": "https://localhost:8080/"
        },
        "outputId": "e6364bf9-9a4a-42f6-c049-69784211f8f0"
      },
      "outputs": [
        {
          "output_type": "stream",
          "name": "stdout",
          "text": [
            "['1', '2', '-3', '4', '-5']\n",
            "[1, 2, -3, 4, -5]\n"
          ]
        }
      ],
      "source": [
        "a = '1 2 -3 4 -5'.split()\n",
        "print(a)\n",
        "a = list(map(int, a))\n",
        "print(a)"
      ]
    },
    {
      "cell_type": "code",
      "execution_count": 71,
      "id": "55e5c083",
      "metadata": {
        "id": "55e5c083",
        "colab": {
          "base_uri": "https://localhost:8080/"
        },
        "outputId": "e1ddc0e7-d642-4fbc-daec-dfb84d5dd4d7"
      },
      "outputs": [
        {
          "output_type": "stream",
          "name": "stdout",
          "text": [
            "['1', '2', '-3', '4', '-5']\n",
            "[1.0, 2.0, -3.0, 4.0, -5.0]\n"
          ]
        }
      ],
      "source": [
        "a = '1 2 -3 4 -5'.split()\n",
        "print(a)\n",
        "a = list(map(float, a))\n",
        "print(a)"
      ]
    },
    {
      "cell_type": "code",
      "execution_count": 72,
      "id": "85085e66",
      "metadata": {
        "id": "85085e66",
        "colab": {
          "base_uri": "https://localhost:8080/"
        },
        "outputId": "dcfbdc80-10e4-4051-de8b-b8e802dbedbe"
      },
      "outputs": [
        {
          "output_type": "stream",
          "name": "stdout",
          "text": [
            "['1', '2', '-3', '4', '-5', '0']\n",
            "[True, True, True, True, True, True]\n"
          ]
        }
      ],
      "source": [
        "a = '1 2 -3 4 -5 0'.split()\n",
        "print(a)\n",
        "a = list(map(bool, a))\n",
        "print(a)"
      ]
    },
    {
      "cell_type": "code",
      "execution_count": 73,
      "id": "9c53542f",
      "metadata": {
        "id": "9c53542f",
        "colab": {
          "base_uri": "https://localhost:8080/"
        },
        "outputId": "a2c7885d-5e36-4458-c235-af66b12e18cc"
      },
      "outputs": [
        {
          "output_type": "stream",
          "name": "stdout",
          "text": [
            "['1', '2', '-3', '4', '-5', '0']\n",
            "[1, 2, -3, 4, -5, 0]\n",
            "[True, True, True, True, True, False]\n"
          ]
        }
      ],
      "source": [
        "a = '1 2 -3 4 -5 0'.split()\n",
        "print(a)\n",
        "a = list(map(int, a))\n",
        "print(a)\n",
        "a = list(map(bool, a))\n",
        "print(a)"
      ]
    },
    {
      "cell_type": "markdown",
      "id": "f5e0f5ad",
      "metadata": {
        "id": "f5e0f5ad"
      },
      "source": [
        "Как параметр для `map` можно передавать не только стандартные функции, но и свои собственные:"
      ]
    },
    {
      "cell_type": "code",
      "execution_count": 74,
      "id": "57f58005",
      "metadata": {
        "id": "57f58005",
        "colab": {
          "base_uri": "https://localhost:8080/"
        },
        "outputId": "03637be1-7205-47fe-98d7-e11ef99f2a1c"
      },
      "outputs": [
        {
          "output_type": "stream",
          "name": "stdout",
          "text": [
            "['1', '2', '-3', '4', '-5']\n",
            "['11', '22', '-3-3', '44', '-5-5']\n"
          ]
        }
      ],
      "source": [
        "def my_function(x):\n",
        "    return x * 2\n",
        "\n",
        "a = '1 2 -3 4 -5'.split()\n",
        "print(a)\n",
        "a = list(map(my_function, a))\n",
        "print(a)"
      ]
    },
    {
      "cell_type": "markdown",
      "id": "b1807e6c",
      "metadata": {
        "id": "b1807e6c"
      },
      "source": [
        "Такие \"одноразовые функции\" загрязняют пространство имён, поэтому есть возможность создать **безымянную функцию** при помощи слова `lambda`. Вычисляясь, лямбда-выражение \"изготавливает\" новую функцию и передаёт её как объект туда, где она нужна — в функцию `map()`. Затем она сразу забывается."
      ]
    },
    {
      "cell_type": "code",
      "execution_count": 2,
      "id": "07c2401a",
      "metadata": {
        "id": "07c2401a",
        "colab": {
          "base_uri": "https://localhost:8080/"
        },
        "outputId": "c89e4a17-c89a-41b3-c4cf-3c6d9e260987"
      },
      "outputs": [
        {
          "output_type": "stream",
          "name": "stdout",
          "text": [
            "['1', '2', '-3', '4', '-5']\n",
            "['11', '22', '-3-3', '44', '-5-5']\n"
          ]
        }
      ],
      "source": [
        "a = '1 2 -3 4 -5'.split()\n",
        "print(a)\n",
        "a = list(map(lambda x: x * 2, a))\n",
        "print(a)"
      ]
    },
    {
      "cell_type": "code",
      "execution_count": 1,
      "id": "6ad5a84b",
      "metadata": {
        "id": "6ad5a84b",
        "colab": {
          "base_uri": "https://localhost:8080/",
          "height": 211
        },
        "outputId": "29e478e8-eb64-4af0-b316-24845abf3ce0"
      },
      "outputs": [
        {
          "output_type": "error",
          "ename": "NameError",
          "evalue": "name 'is_positive' is not defined",
          "traceback": [
            "\u001b[0;31m---------------------------------------------------------------------------\u001b[0m",
            "\u001b[0;31mNameError\u001b[0m                                 Traceback (most recent call last)",
            "\u001b[0;32m<ipython-input-1-0e901d7df2e8>\u001b[0m in \u001b[0;36m<cell line: 0>\u001b[0;34m()\u001b[0m\n\u001b[1;32m      1\u001b[0m \u001b[0ma\u001b[0m \u001b[0;34m=\u001b[0m \u001b[0;34m[\u001b[0m\u001b[0;36m1\u001b[0m\u001b[0;34m,\u001b[0m \u001b[0;36m2\u001b[0m\u001b[0;34m,\u001b[0m \u001b[0;34m-\u001b[0m\u001b[0;36m3\u001b[0m\u001b[0;34m,\u001b[0m \u001b[0;36m4\u001b[0m\u001b[0;34m,\u001b[0m \u001b[0;34m-\u001b[0m\u001b[0;36m5\u001b[0m\u001b[0;34m]\u001b[0m\u001b[0;34m\u001b[0m\u001b[0;34m\u001b[0m\u001b[0m\n\u001b[0;32m----> 2\u001b[0;31m \u001b[0mb\u001b[0m \u001b[0;34m=\u001b[0m \u001b[0mlist\u001b[0m\u001b[0;34m(\u001b[0m\u001b[0mmap\u001b[0m\u001b[0;34m(\u001b[0m\u001b[0mis_positive\u001b[0m\u001b[0;34m,\u001b[0m \u001b[0ma\u001b[0m\u001b[0;34m)\u001b[0m\u001b[0;34m)\u001b[0m\u001b[0;34m\u001b[0m\u001b[0;34m\u001b[0m\u001b[0m\n\u001b[0m\u001b[1;32m      3\u001b[0m \u001b[0mc\u001b[0m \u001b[0;34m=\u001b[0m \u001b[0mlist\u001b[0m\u001b[0;34m(\u001b[0m\u001b[0mfilter\u001b[0m\u001b[0;34m(\u001b[0m\u001b[0mis_positive\u001b[0m\u001b[0;34m,\u001b[0m \u001b[0ma\u001b[0m\u001b[0;34m)\u001b[0m\u001b[0;34m)\u001b[0m\u001b[0;34m\u001b[0m\u001b[0;34m\u001b[0m\u001b[0m\n\u001b[1;32m      4\u001b[0m \u001b[0mprint\u001b[0m\u001b[0;34m(\u001b[0m\u001b[0mb\u001b[0m\u001b[0;34m)\u001b[0m\u001b[0;34m\u001b[0m\u001b[0;34m\u001b[0m\u001b[0m\n\u001b[1;32m      5\u001b[0m \u001b[0mprint\u001b[0m\u001b[0;34m(\u001b[0m\u001b[0mc\u001b[0m\u001b[0;34m)\u001b[0m\u001b[0;34m\u001b[0m\u001b[0;34m\u001b[0m\u001b[0m\n",
            "\u001b[0;31mNameError\u001b[0m: name 'is_positive' is not defined"
          ]
        }
      ],
      "source": [
        "a = [1, 2, -3, 4, -5]\n",
        "b = list(map(is_positive, a))\n",
        "c = list(filter(is_positive, a))\n",
        "print(b)\n",
        "print(c)"
      ]
    },
    {
      "cell_type": "code",
      "execution_count": 2,
      "id": "13dcdf2a",
      "metadata": {
        "id": "13dcdf2a",
        "colab": {
          "base_uri": "https://localhost:8080/"
        },
        "outputId": "bac4cb2b-77e0-4fdf-ea88-d7b3d0f4e9f1"
      },
      "outputs": [
        {
          "output_type": "stream",
          "name": "stdout",
          "text": [
            "[True, True, False, True, False]\n",
            "[1, 2, 4]\n"
          ]
        }
      ],
      "source": [
        "a = [1, 2, -3, 4, -5]\n",
        "b = list(map(lambda x: x > 0, a))\n",
        "c = list(filter(lambda x: x > 0, a))\n",
        "print(b)\n",
        "print(c)"
      ]
    },
    {
      "cell_type": "markdown",
      "source": [
        "**b = list(map(lambda x: x > 0, a))**\n",
        "\n",
        "**Функция map** применяет заданную функцию (в данном случае лямбда-функцию lambda x: x > 0) к каждому элементу списка a.\n",
        "\n",
        "**Лямбда-функция lambda x: x > 0** проверяет, является ли элемент x положительным (x > 0). Она возвращает True, если элемент положительный, и False, если элемент отрицательный или равен нулю.\n",
        "\n",
        "Результатом map будет объект-итератор, содержащий булевы значения (True или False) для каждого элемента списка a.\n",
        "\n",
        "**Функция list преобразует этот объект-итератор в список.**\n",
        "\n",
        "Таким образом, b будет списком [True, True, False, True, False], где True соответствует положительным элементам, а False - отрицательным или нулевым элементам списка a.\n",
        "\n",
        "---\n",
        "\n",
        "\n",
        "\n",
        "**c = list(filter(lambda x: x > 0, a))**\n",
        "\n",
        "**Функция filter** фильтрует элементы списка a на основе заданной функции (в данном случае лямбда-функции lambda x: x > 0).\n",
        "\n",
        "Лямбда-функция lambda x: x > 0 проверяет, является ли элемент x положительным (x > 0). Она возвращает True, если элемент положительный, и False, если элемент отрицательный или равен нулю.\n",
        "\n",
        "filter сохраняет только те элементы списка a, для которых лямбда-функция возвращает True."
      ],
      "metadata": {
        "id": "zR474fjL3GiD"
      },
      "id": "zR474fjL3GiD"
    },
    {
      "cell_type": "markdown",
      "id": "b4fc19cb",
      "metadata": {
        "id": "b4fc19cb"
      },
      "source": [
        "Можем делать \"сложную\" лямбда-функцию:"
      ]
    },
    {
      "cell_type": "code",
      "execution_count": 3,
      "id": "299db087",
      "metadata": {
        "id": "299db087",
        "colab": {
          "base_uri": "https://localhost:8080/"
        },
        "outputId": "c44a5e2e-cb66-4cec-80ce-1e42e3e45561"
      },
      "outputs": [
        {
          "output_type": "stream",
          "name": "stdout",
          "text": [
            "['1', '2', '-3', '4', '-5']\n",
            "[1, 2, 3, 4, 5]\n"
          ]
        }
      ],
      "source": [
        "a = '1 2 -3 4 -5'.split()\n",
        "print(a)\n",
        "a = list(map(lambda x: abs(int(x)), a))\n",
        "print(a)"
      ]
    },
    {
      "cell_type": "markdown",
      "source": [
        "**a = list(map(lambda x: abs(int(x)), a))** - применяет функцию abs(int(x)) к каждому элементу x списка a с помощью функции map().\n",
        "\n",
        "**Выражение lambda x: abs(int(x))** - это анонимная функция, которая принимает строку x, преобразует ее в целое число с помощью int(x), а затем берет модуль (абсолютное значение) результата с помощью abs().\n",
        "\n",
        "**Результат map() преобразуется в список с помощью list()** и присваивается переменной a. После этого шага a будет содержать список целых чисел, где все отрицательные числа заменены их абсолютными значениями: [1, 2, 3, 4, 5]."
      ],
      "metadata": {
        "id": "SadnDd1628qT"
      },
      "id": "SadnDd1628qT"
    },
    {
      "cell_type": "markdown",
      "id": "d429832b",
      "metadata": {
        "id": "d429832b"
      },
      "source": [
        "**Задача 5:** считайте список с клавиатуры. С помощью функции `filter` удалите из него те элементы, которые *не* являются квадратами однозначных натуральных чисел."
      ]
    },
    {
      "cell_type": "code",
      "execution_count": 4,
      "id": "508e0597",
      "metadata": {
        "id": "508e0597",
        "colab": {
          "base_uri": "https://localhost:8080/"
        },
        "outputId": "b0acf4a2-da6a-4240-e7b9-32273ffee107"
      },
      "outputs": [
        {
          "output_type": "stream",
          "name": "stdout",
          "text": [
            "Введите элементы списка через пробел: 3 4 5 9 13\n",
            "4 9\n"
          ]
        }
      ],
      "source": [
        "# Шаг 1: Считать список элементов\n",
        "input_string = input (\"Введите элементы списка через пробел: \")\n",
        "\n",
        "# Разделить строку на отдельные элементы и преобразовать их в целые числа\n",
        "input_list = list(map(int, input_string.split()))\n",
        "# Шаг 2: Определить квадраты однозначных натуральных чисел\n",
        "squares_of_single_digit_numbers = {1, 4, 9, 16, 25, 36, 49, 64, 81}\n",
        "# Шаг 3: Использовать filter с лямбда-функцией для фильтрации элементов\n",
        "filtered_list = list(filter(lambda x: x in squares_of_single_digit_numbers, input_list))\n",
        "# Шаг 4: Вывести оставшиеся элементы через пробел\n",
        "print(*filtered_list, sep=' ')"
      ]
    },
    {
      "cell_type": "markdown",
      "id": "18e37ffd",
      "metadata": {
        "id": "18e37ffd"
      },
      "source": [
        "Можно использовать `map` для обработки считанного списка. Считываем с помощью функции `input()` объект типа `str`, к нему применяем метод `split()` и получаем `list`, ко всем его элементам функция `map` применяет функцию `int`, а конструктор списка `list` сохраняет результат в список:"
      ]
    },
    {
      "cell_type": "code",
      "execution_count": 5,
      "id": "585f1b42",
      "metadata": {
        "id": "585f1b42",
        "colab": {
          "base_uri": "https://localhost:8080/"
        },
        "outputId": "5f25ff51-0da0-4b87-acf7-bf1905f31b62"
      },
      "outputs": [
        {
          "output_type": "stream",
          "name": "stdout",
          "text": [
            "1\n",
            "[1]\n"
          ]
        }
      ],
      "source": [
        "a = list(map(int, input().split()))\n",
        "print(a)"
      ]
    },
    {
      "cell_type": "code",
      "execution_count": 6,
      "id": "c3533289",
      "metadata": {
        "id": "c3533289",
        "colab": {
          "base_uri": "https://localhost:8080/"
        },
        "outputId": "05859a9d-e593-4b91-92f5-e159954c06bf"
      },
      "outputs": [
        {
          "name": "stdout",
          "output_type": "stream",
          "text": [
            "2\n",
            "3\n",
            "4\n",
            "6\n",
            "7\n"
          ]
        }
      ],
      "source": [
        "a = [list(map(int, input().split())) for i in range(5)]\n"
      ]
    },
    {
      "cell_type": "code",
      "execution_count": 7,
      "id": "58d1976e",
      "metadata": {
        "id": "58d1976e",
        "colab": {
          "base_uri": "https://localhost:8080/"
        },
        "outputId": "cde1ac0a-1174-41bf-a7da-b14815aa15ca"
      },
      "outputs": [
        {
          "output_type": "stream",
          "name": "stdout",
          "text": [
            "2\n",
            "3\n",
            "4\n",
            "6\n",
            "7\n"
          ]
        }
      ],
      "source": [
        "for x in a:\n",
        "    print(*x)"
      ]
    },
    {
      "cell_type": "markdown",
      "id": "2d59c688",
      "metadata": {
        "id": "2d59c688"
      },
      "source": [
        "Пример: удалить из матрицы строки с отрицательной суммой"
      ]
    },
    {
      "cell_type": "code",
      "execution_count": 8,
      "id": "f4eb5d7c",
      "metadata": {
        "id": "f4eb5d7c",
        "colab": {
          "base_uri": "https://localhost:8080/"
        },
        "outputId": "04bfcd78-3596-4860-bd67-1b0337fe16ac"
      },
      "outputs": [
        {
          "output_type": "stream",
          "name": "stdout",
          "text": [
            "5 -2 3\n",
            "-1 2 -3\n",
            "-8 4 5\n"
          ]
        }
      ],
      "source": [
        "a = [[5, -2, 3], [-1, 2, -3], [-8, 4, 5]]\n",
        "for x in a:\n",
        "    print(*x)"
      ]
    },
    {
      "cell_type": "code",
      "execution_count": 9,
      "id": "2ccf5f8e",
      "metadata": {
        "id": "2ccf5f8e",
        "colab": {
          "base_uri": "https://localhost:8080/"
        },
        "outputId": "4e0abe91-e675-4ee2-d5dc-9c87fa1c1536"
      },
      "outputs": [
        {
          "output_type": "stream",
          "name": "stdout",
          "text": [
            "[[5, -2, 3], [-8, 4, 5]]\n"
          ]
        }
      ],
      "source": [
        "a = list(filter(lambda x: sum(x) >= 0, a))\n",
        "print(a)"
      ]
    },
    {
      "cell_type": "code",
      "execution_count": 10,
      "id": "3253433b",
      "metadata": {
        "id": "3253433b",
        "colab": {
          "base_uri": "https://localhost:8080/"
        },
        "outputId": "915ce5e4-d34b-489f-f16d-3edb3fd9f394"
      },
      "outputs": [
        {
          "output_type": "stream",
          "name": "stdout",
          "text": [
            "6 1\n"
          ]
        }
      ],
      "source": [
        "print(sum(a[0]), sum(a[1]))"
      ]
    },
    {
      "cell_type": "markdown",
      "id": "f0651e0f",
      "metadata": {
        "id": "f0651e0f"
      },
      "source": [
        "## Работа с текстовыми файлами\n",
        "Текстовые файлы содержат в себе символы, закодированные различными кодировками. Долгое время существовали *однобайтные кодировки* со специфическими национальными кодовыми страницами: DOS CP866, Windows CP-1251, KOI-8R и другие.\n",
        "\n",
        "С появлением консорциума Unicode были разработаны международные кодировки: двухбайтная UTF-16, четырёхбайтная UTF-32 и кодировка с переменным количеством байт на символ UTF-8, которая пользуется особой популярностью в сети Интернет.\n",
        "Тем не менее, в Интернете встречаются файлы с разными кодировками.\n",
        "\n",
        "В Python можно открывать файлы как на чтение, так и на запись в любых кодировках."
      ]
    },
    {
      "cell_type": "markdown",
      "id": "fc9ac06f",
      "metadata": {
        "id": "fc9ac06f"
      },
      "source": [
        "Пример: создайте в текстовом редакторе файл `input.txt` в папке рядом с этим *ноутбуком*.ipynb, скопируйте туда таблицу с числами ниже:\n",
        "\n",
        "    1 2 3\n",
        "    4 5 6"
      ]
    },
    {
      "cell_type": "code",
      "source": [
        "from google.colab import files\n",
        "\n",
        "# создаем объект этого класса, применяем метод .upload()\n",
        "uploaded = files.upload()"
      ],
      "metadata": {
        "colab": {
          "base_uri": "https://localhost:8080/",
          "height": 342
        },
        "id": "2rHeXtPc7MNA",
        "outputId": "c1eea525-a29f-4389-e201-2401f973e4af"
      },
      "id": "2rHeXtPc7MNA",
      "execution_count": 12,
      "outputs": [
        {
          "output_type": "display_data",
          "data": {
            "text/plain": [
              "<IPython.core.display.HTML object>"
            ],
            "text/html": [
              "\n",
              "     <input type=\"file\" id=\"files-bd537e4b-e4d1-4391-9e95-a8cbdb4b3be4\" name=\"files[]\" multiple disabled\n",
              "        style=\"border:none\" />\n",
              "     <output id=\"result-bd537e4b-e4d1-4391-9e95-a8cbdb4b3be4\">\n",
              "      Upload widget is only available when the cell has been executed in the\n",
              "      current browser session. Please rerun this cell to enable.\n",
              "      </output>\n",
              "      <script>// Copyright 2017 Google LLC\n",
              "//\n",
              "// Licensed under the Apache License, Version 2.0 (the \"License\");\n",
              "// you may not use this file except in compliance with the License.\n",
              "// You may obtain a copy of the License at\n",
              "//\n",
              "//      http://www.apache.org/licenses/LICENSE-2.0\n",
              "//\n",
              "// Unless required by applicable law or agreed to in writing, software\n",
              "// distributed under the License is distributed on an \"AS IS\" BASIS,\n",
              "// WITHOUT WARRANTIES OR CONDITIONS OF ANY KIND, either express or implied.\n",
              "// See the License for the specific language governing permissions and\n",
              "// limitations under the License.\n",
              "\n",
              "/**\n",
              " * @fileoverview Helpers for google.colab Python module.\n",
              " */\n",
              "(function(scope) {\n",
              "function span(text, styleAttributes = {}) {\n",
              "  const element = document.createElement('span');\n",
              "  element.textContent = text;\n",
              "  for (const key of Object.keys(styleAttributes)) {\n",
              "    element.style[key] = styleAttributes[key];\n",
              "  }\n",
              "  return element;\n",
              "}\n",
              "\n",
              "// Max number of bytes which will be uploaded at a time.\n",
              "const MAX_PAYLOAD_SIZE = 100 * 1024;\n",
              "\n",
              "function _uploadFiles(inputId, outputId) {\n",
              "  const steps = uploadFilesStep(inputId, outputId);\n",
              "  const outputElement = document.getElementById(outputId);\n",
              "  // Cache steps on the outputElement to make it available for the next call\n",
              "  // to uploadFilesContinue from Python.\n",
              "  outputElement.steps = steps;\n",
              "\n",
              "  return _uploadFilesContinue(outputId);\n",
              "}\n",
              "\n",
              "// This is roughly an async generator (not supported in the browser yet),\n",
              "// where there are multiple asynchronous steps and the Python side is going\n",
              "// to poll for completion of each step.\n",
              "// This uses a Promise to block the python side on completion of each step,\n",
              "// then passes the result of the previous step as the input to the next step.\n",
              "function _uploadFilesContinue(outputId) {\n",
              "  const outputElement = document.getElementById(outputId);\n",
              "  const steps = outputElement.steps;\n",
              "\n",
              "  const next = steps.next(outputElement.lastPromiseValue);\n",
              "  return Promise.resolve(next.value.promise).then((value) => {\n",
              "    // Cache the last promise value to make it available to the next\n",
              "    // step of the generator.\n",
              "    outputElement.lastPromiseValue = value;\n",
              "    return next.value.response;\n",
              "  });\n",
              "}\n",
              "\n",
              "/**\n",
              " * Generator function which is called between each async step of the upload\n",
              " * process.\n",
              " * @param {string} inputId Element ID of the input file picker element.\n",
              " * @param {string} outputId Element ID of the output display.\n",
              " * @return {!Iterable<!Object>} Iterable of next steps.\n",
              " */\n",
              "function* uploadFilesStep(inputId, outputId) {\n",
              "  const inputElement = document.getElementById(inputId);\n",
              "  inputElement.disabled = false;\n",
              "\n",
              "  const outputElement = document.getElementById(outputId);\n",
              "  outputElement.innerHTML = '';\n",
              "\n",
              "  const pickedPromise = new Promise((resolve) => {\n",
              "    inputElement.addEventListener('change', (e) => {\n",
              "      resolve(e.target.files);\n",
              "    });\n",
              "  });\n",
              "\n",
              "  const cancel = document.createElement('button');\n",
              "  inputElement.parentElement.appendChild(cancel);\n",
              "  cancel.textContent = 'Cancel upload';\n",
              "  const cancelPromise = new Promise((resolve) => {\n",
              "    cancel.onclick = () => {\n",
              "      resolve(null);\n",
              "    };\n",
              "  });\n",
              "\n",
              "  // Wait for the user to pick the files.\n",
              "  const files = yield {\n",
              "    promise: Promise.race([pickedPromise, cancelPromise]),\n",
              "    response: {\n",
              "      action: 'starting',\n",
              "    }\n",
              "  };\n",
              "\n",
              "  cancel.remove();\n",
              "\n",
              "  // Disable the input element since further picks are not allowed.\n",
              "  inputElement.disabled = true;\n",
              "\n",
              "  if (!files) {\n",
              "    return {\n",
              "      response: {\n",
              "        action: 'complete',\n",
              "      }\n",
              "    };\n",
              "  }\n",
              "\n",
              "  for (const file of files) {\n",
              "    const li = document.createElement('li');\n",
              "    li.append(span(file.name, {fontWeight: 'bold'}));\n",
              "    li.append(span(\n",
              "        `(${file.type || 'n/a'}) - ${file.size} bytes, ` +\n",
              "        `last modified: ${\n",
              "            file.lastModifiedDate ? file.lastModifiedDate.toLocaleDateString() :\n",
              "                                    'n/a'} - `));\n",
              "    const percent = span('0% done');\n",
              "    li.appendChild(percent);\n",
              "\n",
              "    outputElement.appendChild(li);\n",
              "\n",
              "    const fileDataPromise = new Promise((resolve) => {\n",
              "      const reader = new FileReader();\n",
              "      reader.onload = (e) => {\n",
              "        resolve(e.target.result);\n",
              "      };\n",
              "      reader.readAsArrayBuffer(file);\n",
              "    });\n",
              "    // Wait for the data to be ready.\n",
              "    let fileData = yield {\n",
              "      promise: fileDataPromise,\n",
              "      response: {\n",
              "        action: 'continue',\n",
              "      }\n",
              "    };\n",
              "\n",
              "    // Use a chunked sending to avoid message size limits. See b/62115660.\n",
              "    let position = 0;\n",
              "    do {\n",
              "      const length = Math.min(fileData.byteLength - position, MAX_PAYLOAD_SIZE);\n",
              "      const chunk = new Uint8Array(fileData, position, length);\n",
              "      position += length;\n",
              "\n",
              "      const base64 = btoa(String.fromCharCode.apply(null, chunk));\n",
              "      yield {\n",
              "        response: {\n",
              "          action: 'append',\n",
              "          file: file.name,\n",
              "          data: base64,\n",
              "        },\n",
              "      };\n",
              "\n",
              "      let percentDone = fileData.byteLength === 0 ?\n",
              "          100 :\n",
              "          Math.round((position / fileData.byteLength) * 100);\n",
              "      percent.textContent = `${percentDone}% done`;\n",
              "\n",
              "    } while (position < fileData.byteLength);\n",
              "  }\n",
              "\n",
              "  // All done.\n",
              "  yield {\n",
              "    response: {\n",
              "      action: 'complete',\n",
              "    }\n",
              "  };\n",
              "}\n",
              "\n",
              "scope.google = scope.google || {};\n",
              "scope.google.colab = scope.google.colab || {};\n",
              "scope.google.colab._files = {\n",
              "  _uploadFiles,\n",
              "  _uploadFilesContinue,\n",
              "};\n",
              "})(self);\n",
              "</script> "
            ]
          },
          "metadata": {}
        },
        {
          "output_type": "error",
          "ename": "KeyboardInterrupt",
          "evalue": "",
          "traceback": [
            "\u001b[0;31m---------------------------------------------------------------------------\u001b[0m",
            "\u001b[0;31mKeyboardInterrupt\u001b[0m                         Traceback (most recent call last)",
            "\u001b[0;32m<ipython-input-12-ad9c5e5b1539>\u001b[0m in \u001b[0;36m<cell line: 0>\u001b[0;34m()\u001b[0m\n\u001b[1;32m      2\u001b[0m \u001b[0;34m\u001b[0m\u001b[0m\n\u001b[1;32m      3\u001b[0m \u001b[0;31m# создаем объект этого класса, применяем метод .upload()\u001b[0m\u001b[0;34m\u001b[0m\u001b[0;34m\u001b[0m\u001b[0m\n\u001b[0;32m----> 4\u001b[0;31m \u001b[0muploaded\u001b[0m \u001b[0;34m=\u001b[0m \u001b[0mfiles\u001b[0m\u001b[0;34m.\u001b[0m\u001b[0mupload\u001b[0m\u001b[0;34m(\u001b[0m\u001b[0;34m)\u001b[0m\u001b[0;34m\u001b[0m\u001b[0;34m\u001b[0m\u001b[0m\n\u001b[0m",
            "\u001b[0;32m/usr/local/lib/python3.11/dist-packages/google/colab/files.py\u001b[0m in \u001b[0;36mupload\u001b[0;34m(target_dir)\u001b[0m\n\u001b[1;32m     70\u001b[0m   \"\"\"\n\u001b[1;32m     71\u001b[0m \u001b[0;34m\u001b[0m\u001b[0m\n\u001b[0;32m---> 72\u001b[0;31m   \u001b[0muploaded_files\u001b[0m \u001b[0;34m=\u001b[0m \u001b[0m_upload_files\u001b[0m\u001b[0;34m(\u001b[0m\u001b[0mmultiple\u001b[0m\u001b[0;34m=\u001b[0m\u001b[0;32mTrue\u001b[0m\u001b[0;34m)\u001b[0m\u001b[0;34m\u001b[0m\u001b[0;34m\u001b[0m\u001b[0m\n\u001b[0m\u001b[1;32m     73\u001b[0m   \u001b[0;31m# Mapping from original filename to filename as saved locally.\u001b[0m\u001b[0;34m\u001b[0m\u001b[0;34m\u001b[0m\u001b[0m\n\u001b[1;32m     74\u001b[0m   \u001b[0mlocal_filenames\u001b[0m \u001b[0;34m=\u001b[0m \u001b[0mdict\u001b[0m\u001b[0;34m(\u001b[0m\u001b[0;34m)\u001b[0m\u001b[0;34m\u001b[0m\u001b[0;34m\u001b[0m\u001b[0m\n",
            "\u001b[0;32m/usr/local/lib/python3.11/dist-packages/google/colab/files.py\u001b[0m in \u001b[0;36m_upload_files\u001b[0;34m(multiple)\u001b[0m\n\u001b[1;32m    162\u001b[0m \u001b[0;34m\u001b[0m\u001b[0m\n\u001b[1;32m    163\u001b[0m   \u001b[0;31m# First result is always an indication that the file picker has completed.\u001b[0m\u001b[0;34m\u001b[0m\u001b[0;34m\u001b[0m\u001b[0m\n\u001b[0;32m--> 164\u001b[0;31m   result = _output.eval_js(\n\u001b[0m\u001b[1;32m    165\u001b[0m       'google.colab._files._uploadFiles(\"{input_id}\", \"{output_id}\")'.format(\n\u001b[1;32m    166\u001b[0m           \u001b[0minput_id\u001b[0m\u001b[0;34m=\u001b[0m\u001b[0minput_id\u001b[0m\u001b[0;34m,\u001b[0m \u001b[0moutput_id\u001b[0m\u001b[0;34m=\u001b[0m\u001b[0moutput_id\u001b[0m\u001b[0;34m\u001b[0m\u001b[0;34m\u001b[0m\u001b[0m\n",
            "\u001b[0;32m/usr/local/lib/python3.11/dist-packages/google/colab/output/_js.py\u001b[0m in \u001b[0;36meval_js\u001b[0;34m(script, ignore_result, timeout_sec)\u001b[0m\n\u001b[1;32m     38\u001b[0m   \u001b[0;32mif\u001b[0m \u001b[0mignore_result\u001b[0m\u001b[0;34m:\u001b[0m\u001b[0;34m\u001b[0m\u001b[0;34m\u001b[0m\u001b[0m\n\u001b[1;32m     39\u001b[0m     \u001b[0;32mreturn\u001b[0m\u001b[0;34m\u001b[0m\u001b[0;34m\u001b[0m\u001b[0m\n\u001b[0;32m---> 40\u001b[0;31m   \u001b[0;32mreturn\u001b[0m \u001b[0m_message\u001b[0m\u001b[0;34m.\u001b[0m\u001b[0mread_reply_from_input\u001b[0m\u001b[0;34m(\u001b[0m\u001b[0mrequest_id\u001b[0m\u001b[0;34m,\u001b[0m \u001b[0mtimeout_sec\u001b[0m\u001b[0;34m)\u001b[0m\u001b[0;34m\u001b[0m\u001b[0;34m\u001b[0m\u001b[0m\n\u001b[0m\u001b[1;32m     41\u001b[0m \u001b[0;34m\u001b[0m\u001b[0m\n\u001b[1;32m     42\u001b[0m \u001b[0;34m\u001b[0m\u001b[0m\n",
            "\u001b[0;32m/usr/local/lib/python3.11/dist-packages/google/colab/_message.py\u001b[0m in \u001b[0;36mread_reply_from_input\u001b[0;34m(message_id, timeout_sec)\u001b[0m\n\u001b[1;32m     94\u001b[0m     \u001b[0mreply\u001b[0m \u001b[0;34m=\u001b[0m \u001b[0m_read_next_input_message\u001b[0m\u001b[0;34m(\u001b[0m\u001b[0;34m)\u001b[0m\u001b[0;34m\u001b[0m\u001b[0;34m\u001b[0m\u001b[0m\n\u001b[1;32m     95\u001b[0m     \u001b[0;32mif\u001b[0m \u001b[0mreply\u001b[0m \u001b[0;34m==\u001b[0m \u001b[0m_NOT_READY\u001b[0m \u001b[0;32mor\u001b[0m \u001b[0;32mnot\u001b[0m \u001b[0misinstance\u001b[0m\u001b[0;34m(\u001b[0m\u001b[0mreply\u001b[0m\u001b[0;34m,\u001b[0m \u001b[0mdict\u001b[0m\u001b[0;34m)\u001b[0m\u001b[0;34m:\u001b[0m\u001b[0;34m\u001b[0m\u001b[0;34m\u001b[0m\u001b[0m\n\u001b[0;32m---> 96\u001b[0;31m       \u001b[0mtime\u001b[0m\u001b[0;34m.\u001b[0m\u001b[0msleep\u001b[0m\u001b[0;34m(\u001b[0m\u001b[0;36m0.025\u001b[0m\u001b[0;34m)\u001b[0m\u001b[0;34m\u001b[0m\u001b[0;34m\u001b[0m\u001b[0m\n\u001b[0m\u001b[1;32m     97\u001b[0m       \u001b[0;32mcontinue\u001b[0m\u001b[0;34m\u001b[0m\u001b[0;34m\u001b[0m\u001b[0m\n\u001b[1;32m     98\u001b[0m     if (\n",
            "\u001b[0;31mKeyboardInterrupt\u001b[0m: "
          ]
        }
      ]
    },
    {
      "cell_type": "code",
      "execution_count": null,
      "id": "cec56e10",
      "metadata": {
        "id": "cec56e10"
      },
      "outputs": [],
      "source": [
        "with open('input.txt', 'r') as f:\n",
        "    print(f.read())"
      ]
    },
    {
      "cell_type": "code",
      "execution_count": null,
      "id": "3c7c703a",
      "metadata": {
        "id": "3c7c703a"
      },
      "outputs": [],
      "source": [
        "with open('input.txt', 'r', encoding='utf8') as f:  # здесь явно указана кодировка файла\n",
        "    s = f.read()\n",
        "    print(s)"
      ]
    },
    {
      "cell_type": "code",
      "execution_count": null,
      "id": "367b9ebe",
      "metadata": {
        "id": "367b9ebe"
      },
      "outputs": [],
      "source": [
        "s, type(s)"
      ]
    },
    {
      "cell_type": "markdown",
      "id": "aefef8aa",
      "metadata": {
        "id": "aefef8aa"
      },
      "source": [
        "Так выглядит внутреннее представление строки `s`. Когда мы вызываем функцию `print()` символ переноса строки `\\n` переводит курсор на новую строку:"
      ]
    },
    {
      "cell_type": "code",
      "execution_count": null,
      "id": "542a74b0",
      "metadata": {
        "id": "542a74b0"
      },
      "outputs": [],
      "source": [
        "print('1\\n2')"
      ]
    },
    {
      "cell_type": "code",
      "execution_count": null,
      "id": "6a642a4e",
      "metadata": {
        "id": "6a642a4e"
      },
      "outputs": [],
      "source": [
        "with open('input.txt', 'r') as f:\n",
        "    a = f.readlines()\n",
        "print(a)"
      ]
    },
    {
      "cell_type": "markdown",
      "id": "3fa92c15",
      "metadata": {
        "id": "3fa92c15"
      },
      "source": [
        "Функция `rstrip()` удаляет пробельные элементы из конца строки, в частности, символ переноса строки:"
      ]
    },
    {
      "cell_type": "code",
      "execution_count": null,
      "id": "8ab11849",
      "metadata": {
        "id": "8ab11849"
      },
      "outputs": [],
      "source": [
        "with open('input.txt', 'r') as f:\n",
        "    a = f.readlines()\n",
        "    a = list(map(lambda x: x.rstrip(), a))\n",
        "print(a)"
      ]
    },
    {
      "cell_type": "code",
      "execution_count": null,
      "id": "81a4d937",
      "metadata": {
        "id": "81a4d937"
      },
      "outputs": [],
      "source": [
        "with open('input.txt', 'r') as f:\n",
        "    a = f.readlines()\n",
        "    a = list(map(lambda x: x.rstrip().split(), a))\n",
        "print(a)"
      ]
    },
    {
      "cell_type": "markdown",
      "id": "1deb1164",
      "metadata": {
        "id": "1deb1164"
      },
      "source": [
        "Или проще:"
      ]
    },
    {
      "cell_type": "code",
      "execution_count": null,
      "id": "ed142aae",
      "metadata": {
        "id": "ed142aae"
      },
      "outputs": [],
      "source": [
        "with open('input.txt', 'r') as f:\n",
        "    a = f.readlines()\n",
        "    a = list(map(lambda x: x.rstrip().split(), a))\n",
        "    for i in range(len(a)):\n",
        "        for j in range(len(a[i])):\n",
        "            a[i][j] = int(a[i][j])\n",
        "print(a)"
      ]
    },
    {
      "cell_type": "markdown",
      "id": "95d40ac1",
      "metadata": {
        "id": "95d40ac1"
      },
      "source": [
        "**Пример:** в созданный файл запишем вместо чисел, которые там были, новые числа, равные квадратам исходных"
      ]
    },
    {
      "cell_type": "code",
      "execution_count": null,
      "id": "e4571cf2",
      "metadata": {
        "id": "e4571cf2"
      },
      "outputs": [],
      "source": [
        "b = [[str(a[i][j] ** 2) for j in range(len(a[i]))] for i in range(len(a))]\n",
        "print(b)"
      ]
    },
    {
      "cell_type": "code",
      "execution_count": null,
      "id": "b177df21",
      "metadata": {
        "id": "b177df21"
      },
      "outputs": [],
      "source": [
        "with open('output.txt', 'w') as f:\n",
        "    f.writelines([' '.join(x) for x in b])"
      ]
    },
    {
      "cell_type": "markdown",
      "id": "879fc0db",
      "metadata": {
        "id": "879fc0db"
      },
      "source": [
        "Посмотрите, что записалось в файл. Не совсем то, что нужно — не хватает символов переноса строки:"
      ]
    },
    {
      "cell_type": "code",
      "execution_count": null,
      "id": "86aaea69",
      "metadata": {
        "id": "86aaea69"
      },
      "outputs": [],
      "source": [
        "b = [[str(x) for x in b[i]] for i in range(len(b))]\n",
        "with open('output.txt', 'w') as f:\n",
        "    f.writelines([' '.join(x) + '\\n' for x in b])"
      ]
    },
    {
      "cell_type": "markdown",
      "id": "20c92378",
      "metadata": {
        "id": "20c92378"
      },
      "source": [
        "Файлы можно открывать не только на запись, но и на дозапись. Обратите внимание, что в предыдущей ячейке предыдущее сожержимое файла стерлось запуском `open()`, для этого используем флажок `a` вместо `w`:"
      ]
    },
    {
      "cell_type": "code",
      "execution_count": null,
      "id": "a229887e",
      "metadata": {
        "id": "a229887e"
      },
      "outputs": [],
      "source": [
        "with open('output.txt', 'a') as f:\n",
        "    f.write('done!')"
      ]
    },
    {
      "cell_type": "markdown",
      "id": "8cc89081",
      "metadata": {
        "id": "8cc89081"
      },
      "source": [
        "Кстати, у обыкновенной функции `print` есть именованный параметр `file` для вывода в файл. Естественно, такой файл должен быть открыт на запись с параметром `w` или `a`."
      ]
    },
    {
      "cell_type": "code",
      "execution_count": null,
      "id": "dc0085fa",
      "metadata": {
        "id": "dc0085fa"
      },
      "outputs": [],
      "source": [
        "with open('output.txt', 'a') as f:\n",
        "    print('Print can write to files!', file=f)"
      ]
    },
    {
      "cell_type": "markdown",
      "id": "ddfa1fa9",
      "metadata": {
        "id": "ddfa1fa9"
      },
      "source": [
        "После выполения этой ячейки не забудьте посмотреть на содержимое файла `output.txt`."
      ]
    },
    {
      "cell_type": "code",
      "source": [
        "with open('output.txt', 'r') as f:\n",
        "    content = f.read()\n",
        "    print(\"Содержимое файла:\")\n",
        "    print(content)"
      ],
      "metadata": {
        "id": "N7gLXWWX81Rq"
      },
      "id": "N7gLXWWX81Rq",
      "execution_count": null,
      "outputs": []
    },
    {
      "cell_type": "markdown",
      "id": "95400f79",
      "metadata": {
        "id": "95400f79"
      },
      "source": [
        "## Сортировка списков"
      ]
    },
    {
      "cell_type": "markdown",
      "id": "7144afcc",
      "metadata": {
        "id": "7144afcc"
      },
      "source": [
        "Для сортировки списков в Python существуют функции `sort()` и `sorted()`. Первая изменяет сортируемый объект, вторая создает новый, а исходный остается:"
      ]
    },
    {
      "cell_type": "code",
      "execution_count": null,
      "id": "15ee506e",
      "metadata": {
        "id": "15ee506e"
      },
      "outputs": [],
      "source": [
        "a = [3, 1, 5, 4, 2]\n",
        "a.sort()\n",
        "print(a)"
      ]
    },
    {
      "cell_type": "code",
      "execution_count": null,
      "id": "469f0e4e",
      "metadata": {
        "id": "469f0e4e"
      },
      "outputs": [],
      "source": [
        "a = [3, 1, 5, 4, 2]\n",
        "print(sorted(a))\n",
        "print(a)"
      ]
    },
    {
      "cell_type": "markdown",
      "id": "b8b8aea5",
      "metadata": {
        "id": "b8b8aea5"
      },
      "source": [
        "Но можем использовать вторую вместо первой:"
      ]
    },
    {
      "cell_type": "code",
      "execution_count": null,
      "id": "de84007e",
      "metadata": {
        "id": "de84007e"
      },
      "outputs": [],
      "source": [
        "a = [3, 1, 5, 4, 2]\n",
        "a = sorted(a)\n",
        "print(a)"
      ]
    },
    {
      "cell_type": "markdown",
      "id": "1b2c09a0",
      "metadata": {
        "id": "1b2c09a0"
      },
      "source": [
        "Сортировка по ключу. key - это второй параметр функции `sorted()` и он часто записывает в виде лямбда-функции, которая возвращает функции от объектов, которые мы используем в качестве меры этих объектов для сортировки:"
      ]
    },
    {
      "cell_type": "code",
      "execution_count": null,
      "id": "6dfdee19",
      "metadata": {
        "id": "6dfdee19"
      },
      "outputs": [],
      "source": [
        "a = [3, 1, 5, 4, 2]\n",
        "a = sorted(a, key = lambda x: -x)\n",
        "print(a)"
      ]
    },
    {
      "cell_type": "code",
      "execution_count": null,
      "id": "7e710ac0",
      "metadata": {
        "id": "7e710ac0"
      },
      "outputs": [],
      "source": [
        "a = [[1, 5], [3, 3], [5, 5], [3, 0]]\n",
        "print(sorted(a, key = lambda x: sum(x)))"
      ]
    },
    {
      "cell_type": "code",
      "execution_count": null,
      "id": "e676f91f",
      "metadata": {
        "id": "e676f91f"
      },
      "outputs": [],
      "source": [
        "a = [[1, 5], [3, 3], [5, 5], [3, 0]]\n",
        "print(sorted(a, key = lambda x: x[0] ** 2 + x[1] ** 2))"
      ]
    },
    {
      "cell_type": "markdown",
      "id": "c73f6ca7",
      "metadata": {
        "id": "c73f6ca7"
      },
      "source": [
        "Можем сортировать по нескольким параметрам в порядке убывания приоритета:"
      ]
    },
    {
      "cell_type": "code",
      "execution_count": null,
      "id": "676cbd5e",
      "metadata": {
        "id": "676cbd5e"
      },
      "outputs": [],
      "source": [
        "a = [[1, 6], [2, 5], [3, 4]]\n",
        "print(sorted(a, key = lambda x: (sum(x), x[1])))"
      ]
    },
    {
      "cell_type": "markdown",
      "id": "25ed595a",
      "metadata": {
        "id": "25ed595a"
      },
      "source": [
        "`(sum(x), x[1])` - это кортеж. Кортежи похожи на списки, но они неизменяемы (нельзя присваивать по индексу и добавлять элементы):"
      ]
    },
    {
      "cell_type": "code",
      "execution_count": null,
      "id": "ca77645f",
      "metadata": {
        "id": "ca77645f"
      },
      "outputs": [],
      "source": [
        "a = [1, 2]\n",
        "a[1] = 3\n",
        "print(a)"
      ]
    },
    {
      "cell_type": "code",
      "execution_count": null,
      "id": "5e1f7c16",
      "metadata": {
        "id": "5e1f7c16"
      },
      "outputs": [],
      "source": [
        "a = [1, 2]\n",
        "a[1] = 3\n",
        "print(a)"
      ]
    },
    {
      "cell_type": "code",
      "execution_count": null,
      "id": "bf36128b",
      "metadata": {
        "id": "bf36128b"
      },
      "outputs": [],
      "source": [
        "a = [1, 2]\n",
        "a.append(3)\n",
        "print(a)"
      ]
    },
    {
      "cell_type": "code",
      "execution_count": null,
      "id": "393e338e",
      "metadata": {
        "id": "393e338e"
      },
      "outputs": [],
      "source": [
        "a = (1, 2)\n",
        "a.append(3)\n",
        "print(a)"
      ]
    },
    {
      "cell_type": "code",
      "execution_count": null,
      "id": "a57634ff",
      "metadata": {
        "id": "a57634ff"
      },
      "outputs": [],
      "source": [
        "a = [1, 2]\n",
        "a = [3, 4]\n",
        "print(a)"
      ]
    },
    {
      "cell_type": "code",
      "execution_count": null,
      "id": "c8fb196c",
      "metadata": {
        "id": "c8fb196c"
      },
      "outputs": [],
      "source": [
        "a = (1, 2)\n",
        "a = (3, 4)\n",
        "print(a)"
      ]
    },
    {
      "cell_type": "markdown",
      "id": "fcbcb75a",
      "metadata": {
        "id": "fcbcb75a"
      },
      "source": [
        "Строки сортируются в лексикографическом порядке:"
      ]
    },
    {
      "cell_type": "code",
      "execution_count": null,
      "id": "326dc2c9",
      "metadata": {
        "id": "326dc2c9"
      },
      "outputs": [],
      "source": [
        "a = ['100', '11', '12', '120', '119']\n",
        "print(sorted(a))"
      ]
    },
    {
      "cell_type": "code",
      "execution_count": null,
      "id": "9b7cbb15",
      "metadata": {
        "id": "9b7cbb15"
      },
      "outputs": [],
      "source": [
        "a = ['100', '11', '12', '120', '119']\n",
        "print(sorted(a, key = lambda x: int(x)))"
      ]
    }
  ],
  "metadata": {
    "kernelspec": {
      "display_name": "Python 3 (ipykernel)",
      "language": "python",
      "name": "python3"
    },
    "language_info": {
      "codemirror_mode": {
        "name": "ipython",
        "version": 3
      },
      "file_extension": ".py",
      "mimetype": "text/x-python",
      "name": "python",
      "nbconvert_exporter": "python",
      "pygments_lexer": "ipython3",
      "version": "3.9.0"
    },
    "colab": {
      "provenance": [],
      "include_colab_link": true
    }
  },
  "nbformat": 4,
  "nbformat_minor": 5
}