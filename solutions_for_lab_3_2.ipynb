{
  "nbformat": 4,
  "nbformat_minor": 0,
  "metadata": {
    "colab": {
      "provenance": [],
      "authorship_tag": "ABX9TyMwApODJamVQ2jjMIS91ASj",
      "include_colab_link": true
    },
    "kernelspec": {
      "name": "python3",
      "display_name": "Python 3"
    },
    "language_info": {
      "name": "python"
    }
  },
  "cells": [
    {
      "cell_type": "markdown",
      "metadata": {
        "id": "view-in-github",
        "colab_type": "text"
      },
      "source": [
        "<a href=\"https://colab.research.google.com/github/SofronovaKA/programming/blob/main/solutions_for_lab_3_2.ipynb\" target=\"_parent\"><img src=\"https://colab.research.google.com/assets/colab-badge.svg\" alt=\"Open In Colab\"/></a>"
      ]
    },
    {
      "cell_type": "markdown",
      "source": [
        "№ 3.2.1:"
      ],
      "metadata": {
        "id": "1dGPQPTSj7lj"
      }
    },
    {
      "cell_type": "code",
      "execution_count": 2,
      "metadata": {
        "colab": {
          "base_uri": "https://localhost:8080/"
        },
        "id": "xdCJQlKNjjFv",
        "outputId": "26bfb59e-9bf8-4cf2-c3da-9faa71e2d70e"
      },
      "outputs": [
        {
          "output_type": "execute_result",
          "data": {
            "text/plain": [
              "[-4, -3, -3, -2, 1, 1, 2, 2, 3, 4, 4, 6, 6, 6, 7, 9, 76]"
            ]
          },
          "metadata": {},
          "execution_count": 2
        }
      ],
      "source": [
        "def foo(a):\n",
        "    \"\"\"Алгоритм: сортировка\n",
        "    Сложность: O(N^2).\n",
        "    \"\"\"\n",
        "    for i in range(len(a), 0, -1):\n",
        "        for j in range(1, i):\n",
        "            if a[j-1] > a[j]:\n",
        "                a[j-1], a[j] = a[j], a[j-1]\n",
        "    return a\n",
        "\n",
        "\n",
        "a = [6, 7, 3, 4, 6, 2, 9, 6, 1, 2, 1, 76, 4, -3, -2, -4, -3]\n",
        "foo(a)"
      ]
    },
    {
      "cell_type": "markdown",
      "source": [
        "№ 3.2.10:"
      ],
      "metadata": {
        "id": "CWEwyQr8kPau"
      }
    },
    {
      "cell_type": "code",
      "source": [
        "import random\n",
        "import time\n",
        "\n",
        "\n",
        "def timeit(func, *args, **kw):\n",
        "    \"\"\"Выполнить функицю 'func' с параметрами '*args', '**kw' и\n",
        "    вернуть время выполнения в мс.\"\"\"\n",
        "\n",
        "    time_start = time.time()\n",
        "    res = func(*args, **kw)\n",
        "    time_end = time.time()\n",
        "\n",
        "    return (time_end - time_start) * 1000.0, res\n",
        "\n",
        "\n",
        "def top3_1(db):\n",
        "    \"\"\"Вернуть список из ТОП-3 клиентов по сумме активов.\n",
        "\n",
        "    Алгоритм:\n",
        "        Сортировка (встроенный метод sort()) и возврат 3-х элементов.\n",
        "\n",
        "    Сложность: O(n log n).\n",
        "\n",
        "    Параметры:\n",
        "        - db (list of dict): список клиентов.\n",
        "\n",
        "    Результат:\n",
        "        tuple of dict: 3 клиента с максимальной суммой активов.\"\"\"\n",
        "    db_sorted = sorted(db, key=lambda x: x['assets'], reverse=True)\n",
        "    return tuple(db_sorted[:3])\n",
        "\n",
        "\n",
        "def top3_2(db):\n",
        "    \"\"\"Вернуть список из ТОП-3 клиентов по сумме активов.\n",
        "\n",
        "    Алгоритм:\n",
        "        Прямой перебор (1 проход в цикле).\n",
        "\n",
        "    Сложность: O(n).\n",
        "\n",
        "    Параметры:\n",
        "        - db (list of dict): список клиентов.\n",
        "\n",
        "    Результат:\n",
        "        tuple of dict: 3 клиента с максимальной суммой активов.\"\"\"\n",
        "    top = [{'client_id': 0, 'assets': -1}] * 3\n",
        "    for client in db:\n",
        "        if client['assets'] > top[0]['assets']:\n",
        "            top[2] = top[1]\n",
        "            top[1] = top[0]\n",
        "            top[0] = client\n",
        "        elif client['assets'] > top[1]['assets']:\n",
        "            top[2] = top[1]\n",
        "            top[1] = client\n",
        "        elif client['assets'] > top[2]['assets']:\n",
        "            top[2] = client\n",
        "\n",
        "    return tuple(top)\n",
        "\n",
        "\n",
        "if __name__ == \"__main__\":\n",
        "    print(\"Загрузка базы данных... \")\n",
        "\n",
        "    GEN_LIMIT = 10000000\n",
        "\n",
        "    db = []\n",
        "    for client_id, assets in enumerate(\n",
        "      random.sample(range(0, 10 * GEN_LIMIT), GEN_LIMIT),\n",
        "      start=1):\n",
        "        db.append(dict(client_id=client_id, assets=assets))\n",
        "\n",
        "    print(\"Загружено записей: {:,}.\\n\\nПримеры:\".format(GEN_LIMIT))\n",
        "    print(\"Первый элемент:\", db[0])\n",
        "    print(\"Последний элемент:\", db[-1])\n",
        "    print(\"\\n\")\n",
        "\n",
        "    res1 = timeit(top3_1, db)\n",
        "    res2 = timeit(top3_2, db)\n",
        "\n",
        "    for i, (func_time, res) in enumerate((res1, res2), start=1):\n",
        "        print(\"Способ №{}\".format(i))\n",
        "        print(\"Время: {:.2f} мс.\".format(func_time))\n",
        "        for j, client in enumerate(res, start=1):\n",
        "            print(\"{}-е место: ID={client_id} Активы={assets:,} руб.\".\n",
        "                  format(j, **client))\n",
        "        print()"
      ],
      "metadata": {
        "colab": {
          "base_uri": "https://localhost:8080/"
        },
        "id": "g62C_Y0QkRpz",
        "outputId": "9719def9-6a43-463e-af0b-bb99908d085f"
      },
      "execution_count": 3,
      "outputs": [
        {
          "output_type": "stream",
          "name": "stdout",
          "text": [
            "Загрузка базы данных... \n",
            "Загружено записей: 10,000,000.\n",
            "\n",
            "Примеры:\n",
            "Первый элемент: {'client_id': 1, 'assets': 78099496}\n",
            "Последний элемент: {'client_id': 10000000, 'assets': 30896674}\n",
            "\n",
            "\n",
            "Способ №1\n",
            "Время: 9444.75 мс.\n",
            "1-е место: ID=8691507 Активы=99,999,997 руб.\n",
            "2-е место: ID=2678436 Активы=99,999,983 руб.\n",
            "3-е место: ID=9911264 Активы=99,999,970 руб.\n",
            "\n",
            "Способ №2\n",
            "Время: 2261.94 мс.\n",
            "1-е место: ID=8691507 Активы=99,999,997 руб.\n",
            "2-е место: ID=2678436 Активы=99,999,983 руб.\n",
            "3-е место: ID=9911264 Активы=99,999,970 руб.\n",
            "\n"
          ]
        }
      ]
    },
    {
      "cell_type": "markdown",
      "source": [
        "№ 3.2.2:"
      ],
      "metadata": {
        "id": "DXHJSgKfkve8"
      }
    },
    {
      "cell_type": "code",
      "source": [
        "def foo(i):\n",
        "    \"\"\"Алгоритм: Преобразование целого числа в строку (деление на 10 с остатком).\n",
        "\n",
        "    Параметры:\n",
        "        - i (int): число.\n",
        "\n",
        "    Сложность: O(log(N)), где N — входное число.\n",
        "    \"\"\"\n",
        "    digits = \"0123456789\"\n",
        "    if i == 0:\n",
        "        return \"0\"\n",
        "    result = \"\"\n",
        "    while i > 0:\n",
        "        result = digits[i%10] + result\n",
        "        i = i // 10\n",
        "    return result"
      ],
      "metadata": {
        "id": "Ejm0lTtckzgQ"
      },
      "execution_count": 7,
      "outputs": []
    },
    {
      "cell_type": "markdown",
      "source": [
        "№ 3.2.3:"
      ],
      "metadata": {
        "id": "gmu8eqsBlgac"
      }
    },
    {
      "cell_type": "code",
      "source": [
        "def foo(s):\n",
        "    \"\"\"Алгоритм: Суммирование всех цифр в строке.\n",
        "\n",
        "    Параметры:\n",
        "        - s (str): строка.\n",
        "\n",
        "    Сложность: O(N), где N — длина строки.\n",
        "    \"\"\"\n",
        "    val = 0\n",
        "    for c in s:\n",
        "        if c.isdigit():\n",
        "            val += int(c)\n",
        "    return val"
      ],
      "metadata": {
        "id": "79d7JD2tlidG"
      },
      "execution_count": 8,
      "outputs": []
    },
    {
      "cell_type": "markdown",
      "source": [
        "№ 3.2.4:"
      ],
      "metadata": {
        "id": "gzHjZWPhl1ZA"
      }
    },
    {
      "cell_type": "code",
      "source": [
        "def foo(n):\n",
        "    \"\"\"Алгоритм: Поиск простых чисел от 1 до n\n",
        "\n",
        "    Параметры:\n",
        "        - n (int): число.\n",
        "\n",
        "    Сложность: O(N^2), где N — входное число.\n",
        "    \"\"\"\n",
        "    res = []\n",
        "    for i in range(1, n + 1):\n",
        "        divisors = 0\n",
        "        j = 2\n",
        "        while j < i and divisors == 0:\n",
        "            if i % j == 0:\n",
        "                divisors += 1\n",
        "            j += 1\n",
        "\n",
        "        if divisors == 0:\n",
        "            res.append(i)\n",
        "\n",
        "    return res"
      ],
      "metadata": {
        "id": "UmrEMf-Gl3aZ"
      },
      "execution_count": 9,
      "outputs": []
    },
    {
      "cell_type": "markdown",
      "source": [
        "№ 3.2.5:"
      ],
      "metadata": {
        "id": "MX-rQ7hHmTYP"
      }
    },
    {
      "cell_type": "code",
      "source": [
        "def foo(nums):\n",
        "    \"\"\"Алгоритм: проверяет, содержит ли список nums хотя бы одно чётное число\n",
        "\n",
        "    Параметры:\n",
        "        - nums (list): список.\n",
        "\n",
        "    Сложность: O(n)\n",
        "    \"\"\"\n",
        "    for x in nums:\n",
        "        if x % 2 == 0:\n",
        "            return True\n",
        "    else:\n",
        "        return False"
      ],
      "metadata": {
        "id": "PQVncu1_mUxK"
      },
      "execution_count": 10,
      "outputs": []
    },
    {
      "cell_type": "markdown",
      "source": [
        "№ 3.2.6:"
      ],
      "metadata": {
        "id": "PYhpvMbdmnjZ"
      }
    },
    {
      "cell_type": "code",
      "source": [
        "def foo(nums):\n",
        "    \"\"\"Алгоритм возвращает сумму первого элемента списка и квадрат последнего.\n",
        "\n",
        "    Параметры:\n",
        "        - nums (list): список.\n",
        "\n",
        "    Сложность: O(1)\n",
        "    \"\"\"\n",
        "    return (nums[0] + nums[-1] ** 2)"
      ],
      "metadata": {
        "id": "MrtK2ToOmo_i"
      },
      "execution_count": 11,
      "outputs": []
    },
    {
      "cell_type": "markdown",
      "source": [
        "№ 3.2.7:"
      ],
      "metadata": {
        "id": "3HEDIfmimz6J"
      }
    },
    {
      "cell_type": "code",
      "source": [
        "def foo(low, high):\n",
        "    \"\"\"Функция foo(low, high) реализует алгоритм бинарного поиска для угадывания числа в заданном диапазоне\n",
        "\n",
        "    Параметры:\n",
        "        - low (int): нижняя граница;\n",
        "        - high (int): верхняя граница.\n",
        "\n",
        "    Сложность: O(log n)\n",
        "    \"\"\"\n",
        "    guessing = True\n",
        "    while guessing:\n",
        "        guess = (low + high) // 2\n",
        "        print(\"Загаданное число {0}?\".format(guess))\n",
        "        pointer = input(\n",
        "            \"Введите '+', если Ваше число меньше.\\n\"\n",
        "            \"Введите '-' если Ваше число больше.\\n\"\n",
        "            \"Введите '=', если я угадал.\\n\").lower()\n",
        "        if pointer == \"+\":\n",
        "            high = guess\n",
        "        elif pointer == \"-\":\n",
        "            low = guess\n",
        "        elif pointer == \"=\":\n",
        "            guessing = False\n",
        "        else:\n",
        "            print(\"Введите '+', '-' или '='.\")\n",
        "\n",
        "    return guess\n",
        "\n",
        "\n",
        "# ЗАКОММЕНТИРУЙТЕ этот код перед запуском проверки\n",
        "low, high = 0, 100\n",
        "print(\"Загадайте число от {0} до {1}!\".format(low, high))\n",
        "guess = foo(low, high)\n",
        "print(\"Поздравляю, Вы загадали число: {0}.\".format(guess))"
      ],
      "metadata": {
        "colab": {
          "base_uri": "https://localhost:8080/"
        },
        "id": "0IwvhJfTm1gW",
        "outputId": "c8338c1a-74c2-4af4-a0d6-01d4cf596aff"
      },
      "execution_count": 14,
      "outputs": [
        {
          "output_type": "stream",
          "name": "stdout",
          "text": [
            "Загадайте число от 0 до 100!\n",
            "Загаданное число 50?\n",
            "Введите '+', если Ваше число меньше.\n",
            "Введите '-' если Ваше число больше.\n",
            "Введите '=', если я угадал.\n",
            "-\n",
            "Загаданное число 75?\n",
            "Введите '+', если Ваше число меньше.\n",
            "Введите '-' если Ваше число больше.\n",
            "Введите '=', если я угадал.\n",
            "-\n",
            "Загаданное число 87?\n",
            "Введите '+', если Ваше число меньше.\n",
            "Введите '-' если Ваше число больше.\n",
            "Введите '=', если я угадал.\n",
            "-\n",
            "Загаданное число 93?\n",
            "Введите '+', если Ваше число меньше.\n",
            "Введите '-' если Ваше число больше.\n",
            "Введите '=', если я угадал.\n",
            "-\n",
            "Загаданное число 96?\n",
            "Введите '+', если Ваше число меньше.\n",
            "Введите '-' если Ваше число больше.\n",
            "Введите '=', если я угадал.\n",
            "-\n",
            "Загаданное число 98?\n",
            "Введите '+', если Ваше число меньше.\n",
            "Введите '-' если Ваше число больше.\n",
            "Введите '=', если я угадал.\n",
            "-\n",
            "Загаданное число 99?\n",
            "Введите '+', если Ваше число меньше.\n",
            "Введите '-' если Ваше число больше.\n",
            "Введите '=', если я угадал.\n",
            "=\n",
            "Поздравляю, Вы загадали число: 99.\n"
          ]
        }
      ]
    },
    {
      "cell_type": "markdown",
      "source": [
        "№ 3.2.8:"
      ],
      "metadata": {
        "id": "QtO-EuD4nwtA"
      }
    },
    {
      "cell_type": "code",
      "source": [
        "import random\n",
        "import time\n",
        "\n",
        "\n",
        "def timeit(func, *args, **kw):\n",
        "    \"\"\"Выполнить функицю 'func' с параметрами '*args', '**kw' и\n",
        "    вернуть время выполнения в мс.\"\"\"\n",
        "\n",
        "    time_start = time.time()\n",
        "    res = func(*args, **kw)\n",
        "    time_end = time.time()\n",
        "\n",
        "    return (time_end - time_start) * 1000.0, res\n",
        "\n",
        "\n",
        "def maxmin1(data):\n",
        "    \"\"\"Вернуть минимум и максимум из 'data'.\n",
        "\n",
        "    Алгоритм:\n",
        "        Последовательный перебор всего массива.\n",
        "\n",
        "    Сложность: !!!.\n",
        "\n",
        "    Параметры:\n",
        "        - data (list of int): список целых чисел.\n",
        "\n",
        "    Результат:\n",
        "        tuple: мин. и макс. значения.\"\"\"\n",
        "\n",
        "    if not data:\n",
        "        return (None, None)\n",
        "\n",
        "    min_val = max_val = data[0]\n",
        "    for num in data[1:]:\n",
        "        if num < min_val:\n",
        "            min_val = num\n",
        "        elif num > max_val:\n",
        "            max_val = num\n",
        "    return (min_val, max_val)\n",
        "\n",
        "\n",
        "def maxmin2(data):\n",
        "    \"\"\"Вернуть минимум и максимум из 'data'.\n",
        "\n",
        "    Алгоритм:\n",
        "        Сортировка списка, и возврат первого и последнего элементов.\n",
        "\n",
        "    Сложность: !!!.\n",
        "\n",
        "    Параметры:\n",
        "        - data (list of int): список целых чисел.\n",
        "\n",
        "    Результат:\n",
        "        tuple: мин. и макс. значения.\"\"\"\n",
        "\n",
        "    if not data:\n",
        "        return (None, None)\n",
        "\n",
        "    sorted_data = sorted(data)\n",
        "    return (sorted_data[0], sorted_data[-1])\n",
        "\n",
        "\n",
        "def maxmin3(data):\n",
        "    \"\"\"Вернуть минимум и максимум из 'data'.\n",
        "\n",
        "    Алгоритм:\n",
        "        Используя встроенные функции min() и max().\n",
        "\n",
        "    Сложность: !!!.\n",
        "\n",
        "    Параметры:\n",
        "        - data (list of int): список целых чисел.\n",
        "\n",
        "    Результат:\n",
        "        tuple: мин. и макс. значения.\"\"\"\n",
        "\n",
        "    if not data:\n",
        "        return (None, None)\n",
        "\n",
        "    return (min(data), max(data))\n",
        "\n",
        "if __name__ == \"__main__\":\n",
        "    GEN_LIMIT = 1000000\n",
        "    dataset = []\n",
        "    for i in range(4, 7):\n",
        "        dataset.append(random.sample(range(-GEN_LIMIT, GEN_LIMIT), 10**i))\n",
        "\n",
        "    res = [[\"i\", \"1 способ (мс.)\", \"2 способ (мс.)\", \"3 способ (мс.)\"]]\n",
        "    for data in dataset:\n",
        "        res.append([len(data),\n",
        "                   timeit(maxmin1, data)[0],\n",
        "                   timeit(maxmin2, data)[0],\n",
        "                   timeit(maxmin3, data)[0]])\n",
        "\n",
        "    # Вывод\n",
        "    print(\"{:>15} {:>15} {:>15} {:>15}\".format(*res[0]))\n",
        "    for r in res[1:]:\n",
        "        print(\"{:>15} {:>15.2f} {:>15.2f} {:>15.2f}\".format(*r))"
      ],
      "metadata": {
        "colab": {
          "base_uri": "https://localhost:8080/"
        },
        "id": "whWjx1pun1aA",
        "outputId": "f6bd0b46-1be7-4645-8ef4-db48545cd37e"
      },
      "execution_count": 15,
      "outputs": [
        {
          "output_type": "stream",
          "name": "stdout",
          "text": [
            "              i  1 способ (мс.)  2 способ (мс.)  3 способ (мс.)\n",
            "          10000            0.46            2.10            0.38\n",
            "         100000            4.58           32.14            4.22\n",
            "        1000000          245.92          675.90          149.20\n"
          ]
        }
      ]
    },
    {
      "cell_type": "markdown",
      "source": [
        "№ 3.2.9:"
      ],
      "metadata": {
        "id": "DBD3z4adoGfj"
      }
    },
    {
      "cell_type": "code",
      "source": [
        "import random\n",
        "import time\n",
        "\n",
        "\n",
        "def timeit(func, *args, **kw):\n",
        "    \"\"\"Выполнить функицю 'func' с параметрами '*args', '**kw' и\n",
        "    вернуть время выполнения в мс.\"\"\"\n",
        "\n",
        "    time_start = time.time()\n",
        "    res = func(*args, **kw)\n",
        "    time_end = time.time()\n",
        "\n",
        "    return (time_end - time_start) * 1000.0, res\n",
        "\n",
        "\n",
        "def is_ok_to_pass_1(db, passport_id):\n",
        "    \"\"\"Вернуть отметку о допуске из 'db' для паспорта с номером 'passport_id'.\n",
        "\n",
        "    Если паспорт не найден в базе данных, возвращается отказ в допуске.\n",
        "\n",
        "    Алгоритм:\n",
        "        Последовательный перебор списка.\n",
        "\n",
        "    Сложность: O(n).\n",
        "\n",
        "    Параметры:\n",
        "        - db (list of dict): база данных;\n",
        "        - passport_id (str): номер паспорта.\n",
        "\n",
        "    Результат:\n",
        "        bool: отметка о допуске.\"\"\"\n",
        "    for entry in db:\n",
        "        if entry['id'] == passport_id:\n",
        "            return entry['ok']\n",
        "    return False\n",
        "\n",
        "\n",
        "def is_ok_to_pass_2(db_opt, passport_id):\n",
        "    \"\"\"Вернуть отметку о допуске из 'db_opt' для паспорта с номером 'passport_id'.\n",
        "\n",
        "    Если паспорт не найден в базе данных, возвращается отказ в допуске.\n",
        "\n",
        "    Алгоритм:\n",
        "        Поиск в хэш-таблице (словаре).\n",
        "\n",
        "    Сложность: O(1).\n",
        "\n",
        "    Параметры:\n",
        "        - db_opt (dict): оптимизированная база данных для поиска;\n",
        "        - passport_id (str): номер паспорта.\n",
        "\n",
        "    Результат:\n",
        "        bool: отметка о допуске.\"\"\"\n",
        "    return db_opt.get(passport_id, False)\n",
        "\n",
        "\n",
        "def ok_str(flag):\n",
        "    return \"Да\" if flag else \"Нет\"\n",
        "\n",
        "\n",
        "if __name__ == \"__main__\":\n",
        "    print(\"Загрузка базы данных... \")\n",
        "\n",
        "    GEN_LIMIT = 1000000\n",
        "\n",
        "    db = [{\"id\": \"{:07d}\".format(i), \"ok\": random.random() < 0.9}\n",
        "          for i in random.sample(range(GEN_LIMIT, 10 * GEN_LIMIT), GEN_LIMIT)]\n",
        "\n",
        "\n",
        "    db_opt = {entry['id']: entry['ok'] for entry in db}\n",
        "\n",
        "    print(\"Загружено записей: {:,}.\\n\\nПримеры:\".format(GEN_LIMIT))\n",
        "    print(\"Первый элемент:\", db[0])\n",
        "    print(\"Последний элемент:\", db[-1])\n",
        "    print(\"\\n\")\n",
        "\n",
        "    passport_id = input(\"Введите номер паспорта (7 цифр): \").strip()\n",
        "\n",
        "    output = \"\"\"\n",
        "                  1 способ   2 способ\n",
        "    Допущен     {:>10s} {:>10s}\n",
        "    Время (мс.) {:>10.2f} {:>10.2f}\\\n",
        "    \"\"\"\n",
        "\n",
        "    res1 = timeit(is_ok_to_pass_1, db, passport_id)\n",
        "    res2 = timeit(is_ok_to_pass_2, db_opt, passport_id)\n",
        "\n",
        "    print(output.format(ok_str(res1[1]),\n",
        "                        ok_str(res2[1]),\n",
        "                        res1[0],\n",
        "                        res2[0]))"
      ],
      "metadata": {
        "colab": {
          "base_uri": "https://localhost:8080/"
        },
        "id": "hvPjIquloIA0",
        "outputId": "4482e6f1-1794-4c7c-be0f-e9bf78548209"
      },
      "execution_count": 17,
      "outputs": [
        {
          "output_type": "stream",
          "name": "stdout",
          "text": [
            "Загрузка базы данных... \n",
            "Загружено записей: 1,000,000.\n",
            "\n",
            "Примеры:\n",
            "Первый элемент: {'id': '7603893', 'ok': True}\n",
            "Последний элемент: {'id': '5863799', 'ok': True}\n",
            "\n",
            "\n",
            "Введите номер паспорта (7 цифр): 7603893\n",
            "\n",
            "                  1 способ   2 способ\n",
            "    Допущен             Да         Да\n",
            "    Время (мс.)       0.00       0.00    \n"
          ]
        }
      ]
    }
  ]
}