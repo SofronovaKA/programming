{
  "nbformat": 4,
  "nbformat_minor": 0,
  "metadata": {
    "colab": {
      "provenance": [],
      "authorship_tag": "ABX9TyMKA0ZqpZJxVimvpg7uYGUJ",
      "include_colab_link": true
    },
    "kernelspec": {
      "name": "python3",
      "display_name": "Python 3"
    },
    "language_info": {
      "name": "python"
    }
  },
  "cells": [
    {
      "cell_type": "markdown",
      "metadata": {
        "id": "view-in-github",
        "colab_type": "text"
      },
      "source": [
        "<a href=\"https://colab.research.google.com/github/SofronovaKA/programming/blob/main/%D0%9E%D0%BF%D1%82%D0%B8%D0%BC%D0%B8%D0%B7%D0%B0%D1%86%D0%B8%D1%8F_%D0%B7%D0%B0%D0%B4%D0%B0%D1%87_%D0%BF%D0%BE%D0%B4_%D0%9C%D1%83%D0%B4%D0%BB.ipynb\" target=\"_parent\"><img src=\"https://colab.research.google.com/assets/colab-badge.svg\" alt=\"Open In Colab\"/></a>"
      ]
    },
    {
      "cell_type": "code",
      "execution_count": null,
      "metadata": {
        "colab": {
          "base_uri": "https://localhost:8080/"
        },
        "id": "8gwbGFF6s40K",
        "outputId": "b4cd9065-27c5-4ca1-9211-c702f0d75ce4"
      },
      "outputs": [
        {
          "output_type": "stream",
          "name": "stdout",
          "text": [
            "s\n",
            "invalid literal for int() with base 10: 's'\n"
          ]
        }
      ],
      "source": [
        "try:\n",
        "  n = int(input())\n",
        "except Exception as e:\n",
        "  print(e)"
      ]
    },
    {
      "cell_type": "code",
      "source": [
        "def count_digits(n):\n",
        "  if n<10:\n",
        "    return 1\n",
        "  else:\n",
        "    return count_digits(n // 10) + 1\n",
        "\n",
        "try:\n",
        "  n = int(input())\n",
        "\n",
        "  if n < 0:\n",
        "    print(\"Ошибка: Введите натуральное (положительное) число.\")\n",
        "  else:\n",
        "    print(count_digits(n))\n",
        "except Exception as e:\n",
        "  print(e)"
      ],
      "metadata": {
        "colab": {
          "base_uri": "https://localhost:8080/"
        },
        "id": "mF6HC5iPtnTh",
        "outputId": "6486f2d8-f914-4378-8fcd-bee6b143f99e"
      },
      "execution_count": null,
      "outputs": [
        {
          "output_type": "stream",
          "name": "stdout",
          "text": [
            "ghjd\n",
            "invalid literal for int() with base 10: 'ghjd'\n"
          ]
        }
      ]
    },
    {
      "cell_type": "code",
      "source": [
        "def power_recursive(base, exp):\n",
        "  if exp == 0:\n",
        "    return 1\n",
        "  if exp > 0:\n",
        "    return power_recursive(base, exp -1) * base\n",
        "  else:\n",
        "    return 1/(base*abs(exp))\n",
        "\n",
        "try:\n",
        "  base = float(input())\n",
        "  exp = int(input())\n",
        "\n",
        "  if base == 0 and exp < 0:\n",
        "    raise ZeroDivisionError\n",
        "\n",
        "  print(power_recursive(base, exp))\n",
        "except ZeroDivisionError as e:\n",
        "  print(\"Нельзя возвести 0 в отрицательную степень.\")\n",
        "except Exception as e:\n",
        "  print(e)"
      ],
      "metadata": {
        "colab": {
          "base_uri": "https://localhost:8080/"
        },
        "id": "K1adE6ao1i9Z",
        "outputId": "18feecd5-7e91-47db-d51c-470a2b88e59e"
      },
      "execution_count": 43,
      "outputs": [
        {
          "output_type": "stream",
          "name": "stdout",
          "text": [
            "0\n",
            "-2\n",
            "Нельзя возвести 0 в отрицательную степень.\n"
          ]
        }
      ]
    },
    {
      "cell_type": "code",
      "source": [
        "def sum_of_digits(n):\n",
        "  if n<10:\n",
        "    return n\n",
        "  if n>=10:\n",
        "    return sum_of_digits(n//10) + n % 10\n",
        "\n",
        "try:\n",
        "  n = int(input())\n",
        "  if n<0:\n",
        "    raise ZeroDivisionError\n",
        "  print(sum_of_digits(n))\n",
        "except ZeroDivisionError as e:\n",
        "  print(\"Ошибка: Введите натуральное (положительное) число.\")\n",
        "except Exception as e:\n",
        "  print(e)\n",
        "\n"
      ],
      "metadata": {
        "colab": {
          "base_uri": "https://localhost:8080/"
        },
        "id": "Y1AAjPV7Iz3U",
        "outputId": "5a32b941-ee3f-4717-c4b9-4fc6d5744ff6"
      },
      "execution_count": 51,
      "outputs": [
        {
          "output_type": "stream",
          "name": "stdout",
          "text": [
            "13\n",
            "4\n"
          ]
        }
      ]
    },
    {
      "cell_type": "code",
      "source": [
        "def is_lucky_number(n):\n",
        "  even = 0\n",
        "  odd = 0\n",
        "  while n!=0:\n",
        "    a = n % 10\n",
        "    if a % 2 == 0:\n",
        "      even += 1\n",
        "    else:\n",
        "      odd += 1\n",
        "    n = n // 10\n",
        "  return even == odd\n",
        "\n",
        "def find_lucky_numbers(n):\n",
        "  a = int(input())\n",
        "  b = int(input())\n",
        "  m = []\n",
        "  for i in range(a, b+1):\n",
        "    if is_lucky_number(i):\n",
        "      if is_lucky_number(i) == True:\n",
        "        m.append(i)\n",
        "  return m\n",
        "\n",
        "print(find_lucky_numbers(n))"
      ],
      "metadata": {
        "colab": {
          "base_uri": "https://localhost:8080/"
        },
        "id": "0ZIKINtmNHtW",
        "outputId": "0d1f59c8-d5e7-4aef-85a4-0ab051107912"
      },
      "execution_count": 67,
      "outputs": [
        {
          "output_type": "stream",
          "name": "stdout",
          "text": [
            "10\n",
            "25\n",
            "[10, 12, 14, 16, 18, 21, 23, 25]\n"
          ]
        }
      ]
    },
    {
      "cell_type": "code",
      "source": [
        "def avg(data):\n",
        "  sum = 0\n",
        "  for i in data:\n",
        "    sum = sum + i\n",
        "  return sum/len(data)\n",
        "\n",
        "def cleared_data(data):\n",
        "  trud_crut = [i for i in data if i != None]\n",
        "  return trud_crut\n",
        "\n",
        "m = []\n",
        "n = int(input())\n",
        "for i in range(n):\n",
        "  y = input()\n",
        "  if y == \"-\":\n",
        "    m.append(None)\n",
        "  else:\n",
        "    m.append(int(y))\n",
        "\n",
        "p = cleared_data(m)\n",
        "print(avg(p))\n"
      ],
      "metadata": {
        "colab": {
          "base_uri": "https://localhost:8080/"
        },
        "id": "HDY1InpGT5a-",
        "outputId": "ad8658b4-1bf4-4dc9-e6c6-b7652726020c"
      },
      "execution_count": 79,
      "outputs": [
        {
          "output_type": "stream",
          "name": "stdout",
          "text": [
            "3\n",
            "20\n",
            "-\n",
            "10\n",
            "15.0\n"
          ]
        }
      ]
    }
  ]
}