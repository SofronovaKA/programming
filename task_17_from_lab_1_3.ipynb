{
  "nbformat": 4,
  "nbformat_minor": 0,
  "metadata": {
    "colab": {
      "provenance": [],
      "authorship_tag": "ABX9TyNUCPFBGaEQ9AVyKcfIaQ6G",
      "include_colab_link": true
    },
    "kernelspec": {
      "name": "python3",
      "display_name": "Python 3"
    },
    "language_info": {
      "name": "python"
    }
  },
  "cells": [
    {
      "cell_type": "markdown",
      "metadata": {
        "id": "view-in-github",
        "colab_type": "text"
      },
      "source": [
        "<a href=\"https://colab.research.google.com/github/SofronovaKA/programming/blob/main/task_17_from_lab_1_3.ipynb\" target=\"_parent\"><img src=\"https://colab.research.google.com/assets/colab-badge.svg\" alt=\"Open In Colab\"/></a>"
      ]
    },
    {
      "cell_type": "code",
      "execution_count": 1,
      "metadata": {
        "colab": {
          "base_uri": "https://localhost:8080/"
        },
        "id": "jaHyr8FzLgRr",
        "outputId": "47f88c19-a0c4-4c74-f350-6ac5ff68dad8"
      },
      "outputs": [
        {
          "output_type": "stream",
          "name": "stdout",
          "text": [
            "sos\n",
            "True\n"
          ]
        }
      ],
      "source": [
        "def is_palindrome(s, left=0, right=None):\n",
        "    if right is None:              # O(n)\n",
        "        right = len(s) - 1         # O(1)\n",
        "    if left >= right:              # O(n)\n",
        "        return True                # O(1)\n",
        "    if s[left] != s[right]:        # O(n)\n",
        "        return False               # O(1)\n",
        "    return is_palindrome(s, left + 1, right - 1)   # O(1)\n",
        "\n",
        "s = input()      # O(1)\n",
        "print(is_palindrome(s, left=0, right=None))"
      ]
    }
  ]
}