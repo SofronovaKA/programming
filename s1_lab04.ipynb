{
  "cells": [
    {
      "cell_type": "markdown",
      "metadata": {
        "id": "view-in-github",
        "colab_type": "text"
      },
      "source": [
        "<a href=\"https://colab.research.google.com/github/SofronovaKA/programming/blob/main/s1_lab04.ipynb\" target=\"_parent\"><img src=\"https://colab.research.google.com/assets/colab-badge.svg\" alt=\"Open In Colab\"/></a>"
      ]
    },
    {
      "cell_type": "code",
      "execution_count": null,
      "id": "abc1e4fa",
      "metadata": {
        "id": "abc1e4fa"
      },
      "outputs": [],
      "source": [
        "- title: Занятие 4\n",
        "- author: Kononov Dmitry\n",
        "- date: 2022-10-30\n",
        "- test_link: http://olymp3.vdi.mipt.ru/cgi-bin/new-client?contest_id=10101&locale_id=1- test_comment: Задание №1- slug: s1_lab04\n",
        "- ipynb_url: download/s1_lab04.ipynb"
      ]
    },
    {
      "cell_type": "markdown",
      "id": "1e48c462",
      "metadata": {
        "id": "1e48c462"
      },
      "source": [
        "# Практическое занятие 4: Обработка числовых последовательностей в **Python**\n",
        "## Цель: Рассмотреть основы языка **Python** на примере задач обработки числовых последовательностей\n",
        "## Задачи:\n",
        "1. Рассмотреть встроенные функции `min()` и `max()`\n",
        "2. Рассмотреть  статистические функции `mean()`, `median()` и `stdev()` библиотеки **statistics**\n",
        "3. Познакомиться с понятием **редукция последовательности**\n",
        "4. Познакомиться с примерами задач обработки числовых данных в потоке"
      ]
    },
    {
      "cell_type": "markdown",
      "id": "fe0e7133",
      "metadata": {
        "id": "fe0e7133"
      },
      "source": [
        "### Встроенные функции  `max()` и `min()`\n",
        "Во второй практической работе мы уже использовали встроенную функцию `max()` для нахождения большего из двух чисел. Сегодня мы более подробно рассмотрим эту функцию, а также функцию для нахождения минимума - `min()`.\n",
        "Функция [`max()`](https://docs.python.org/3/library/functions.html#max) возвращает наибольшее значение элемента итерируемого объекта или наибольшее из двух или более переданных позиционных аргументов:"
      ]
    },
    {
      "cell_type": "code",
      "execution_count": 1,
      "id": "e4f8656c",
      "metadata": {
        "colab": {
          "base_uri": "https://localhost:8080/"
        },
        "id": "e4f8656c",
        "outputId": "449936f0-208a-406a-cb4c-2ff2996fc9d5"
      },
      "outputs": [
        {
          "output_type": "stream",
          "name": "stdout",
          "text": [
            "5\n"
          ]
        }
      ],
      "source": [
        "x = [1, 5, -8]\n",
        "print(max(x))"
      ]
    },
    {
      "cell_type": "code",
      "execution_count": 2,
      "id": "b242887e",
      "metadata": {
        "colab": {
          "base_uri": "https://localhost:8080/"
        },
        "id": "b242887e",
        "outputId": "8b824886-7b70-425d-a129-a6d8a0c1c8e6"
      },
      "outputs": [
        {
          "output_type": "stream",
          "name": "stdout",
          "text": [
            "5\n"
          ]
        }
      ],
      "source": [
        "print(max(1, 5, -8))"
      ]
    },
    {
      "cell_type": "markdown",
      "id": "3990ff4f",
      "metadata": {
        "id": "3990ff4f"
      },
      "source": [
        "В качестве ключевого аргумента *key* может быть использована функция одного аргумента, которая будет применяться к каждому из сравниваемых значений.\n",
        "\n",
        "Поясните результат функции `max()` из примера ниже:"
      ]
    },
    {
      "cell_type": "code",
      "execution_count": 3,
      "id": "746031f5",
      "metadata": {
        "colab": {
          "base_uri": "https://localhost:8080/"
        },
        "id": "746031f5",
        "outputId": "7c881de6-415b-4763-b68a-d8ed0adddb94"
      },
      "outputs": [
        {
          "output_type": "stream",
          "name": "stdout",
          "text": [
            "-8\n"
          ]
        }
      ],
      "source": [
        "print(max(x, key=abs))"
      ]
    },
    {
      "cell_type": "markdown",
      "id": "2745b4f6",
      "metadata": {
        "id": "2745b4f6"
      },
      "source": [
        "**Задача 1: с помощью функции `max()` вычислите наибольшее значение списка *x*, применяя к элементам списка следующие функции:**\n",
        "\n",
        "— взведение в квадрат;\n",
        "\n",
        "— добавление константы 10;\n",
        "\n",
        "— вычисление остатка от деления на число 2.\n",
        "\n",
        "Проанализируйте результаты."
      ]
    },
    {
      "cell_type": "code",
      "execution_count": 8,
      "id": "9b35ecaf",
      "metadata": {
        "colab": {
          "base_uri": "https://localhost:8080/"
        },
        "id": "9b35ecaf",
        "outputId": "5b23d16c-98e5-4472-91ac-479e14c9008b"
      },
      "outputs": [
        {
          "output_type": "stream",
          "name": "stdout",
          "text": [
            "Введите элементы списка через пробел: 3 4 7 20\n",
            "Наибольшее значение при возведении в квадрат: 20\n"
          ]
        }
      ],
      "source": [
        "# Шаг 1: Считать список чисел\n",
        "input_string = input (\"Введите элементы списка через пробел: \")\n",
        "x = list(map(int, input_string. split()))\n",
        "# Шаг 2: Применить функции к элементам списка и найти максимальные значения\n",
        "max_square = max(x)\n",
        "# Взведение в квадрат\n",
        "max_square = max(x, key=lambda y: y**2)\n",
        "# Шаг 3: Вывести результаты\n",
        "print (f\"Наибольшее значение при возведении в квадрат: {max_square}\")"
      ]
    },
    {
      "cell_type": "code",
      "execution_count": 9,
      "id": "b2a8975a",
      "metadata": {
        "colab": {
          "base_uri": "https://localhost:8080/"
        },
        "id": "b2a8975a",
        "outputId": "9b8f1442-1341-4ffb-8241-a4fb49eba1df"
      },
      "outputs": [
        {
          "output_type": "stream",
          "name": "stdout",
          "text": [
            "Введите элементы списка через пробел: 4 5 29 1\n",
            "Наибольшее значение при добавлении константы 10: 29\n"
          ]
        }
      ],
      "source": [
        "# Добавление константы 10\n",
        "input_string = input (\"Введите элементы списка через пробел: \")\n",
        "x = list(map(int, input_string. split()))\n",
        "max_add_10 = max(x, key=lambda y : y + 10)\n",
        "print(f'Наибольшее значение при добавлении константы 10: {max_add_10}')"
      ]
    },
    {
      "cell_type": "code",
      "execution_count": 11,
      "id": "e716d972",
      "metadata": {
        "colab": {
          "base_uri": "https://localhost:8080/"
        },
        "id": "e716d972",
        "outputId": "8a15505a-bb0e-4d09-c5fb-579b14a4a937"
      },
      "outputs": [
        {
          "output_type": "stream",
          "name": "stdout",
          "text": [
            "Введите элементы списка через пробел: 2 3 20 45 100\n",
            "Наибольшее значение при вычислении остатка от деления на число 2: 100\n"
          ]
        }
      ],
      "source": [
        "# Остаток от деления на 2\n",
        "input_string = input (\"Введите элементы списка через пробел: \")\n",
        "x = list(map(int, input_string. split()))\n",
        "max_add_2 = max(x, key=lambda y : y / 2)\n",
        "print(f'Наибольшее значение при вычислении остатка от деления на число 2: {max_add_2}')"
      ]
    },
    {
      "cell_type": "markdown",
      "id": "b9ac6821",
      "metadata": {
        "id": "b9ac6821"
      },
      "source": [
        "Формат вызова функции [`min()`](https://docs.python.org/3/library/functions.html#min) аналогичен рассмотренной ранее функции `max()`:"
      ]
    },
    {
      "cell_type": "code",
      "execution_count": 19,
      "id": "5028c5e7",
      "metadata": {
        "colab": {
          "base_uri": "https://localhost:8080/"
        },
        "id": "5028c5e7",
        "outputId": "b66d71cd-6d65-4b4f-e33e-9fb9839a26c7"
      },
      "outputs": [
        {
          "output_type": "stream",
          "name": "stdout",
          "text": [
            "-8\n"
          ]
        }
      ],
      "source": [
        "print(min(x))"
      ]
    },
    {
      "cell_type": "code",
      "execution_count": 20,
      "id": "48e995e2",
      "metadata": {
        "colab": {
          "base_uri": "https://localhost:8080/"
        },
        "id": "48e995e2",
        "outputId": "6318e030-8689-456e-fe7d-50c65a4338cf"
      },
      "outputs": [
        {
          "output_type": "stream",
          "name": "stdout",
          "text": [
            "1\n"
          ]
        }
      ],
      "source": [
        "print(min(x, key=abs))"
      ]
    },
    {
      "cell_type": "markdown",
      "id": "ca73e6f0",
      "metadata": {
        "id": "ca73e6f0"
      },
      "source": [
        "**Задача 2: с помощью функции `min()` вычислите наименьшее значение списка *x*, применяя к элементам списка следующие функции:**\n",
        "\n",
        "— возведение в степень 3;\n",
        "\n",
        "— добавление константы 10;\n",
        "\n",
        "— вычисление остатка от деления на число 2.\n",
        "\n",
        "Проанализируйте результаты."
      ]
    },
    {
      "cell_type": "code",
      "execution_count": 12,
      "id": "30b40fc8",
      "metadata": {
        "colab": {
          "base_uri": "https://localhost:8080/"
        },
        "id": "30b40fc8",
        "outputId": "ddc8cb93-8d93-462d-c841-844f954d98e0"
      },
      "outputs": [
        {
          "output_type": "stream",
          "name": "stdout",
          "text": [
            "Введите элементы списка через пробел: 3 2 6 10\n",
            "2 2\n"
          ]
        }
      ],
      "source": [
        "# Шаг 1: Считать список чисел\n",
        "input_string = input (\"Введите элементы списка через пробел: \")\n",
        "x = list(map(int, input_string. split()))\n",
        "# Шаг 2: Применить функции к элементам списка и найти наименьшие значения\n",
        "min_cubed = min(x)\n",
        "# Возведение в степень 3\n",
        "min_cubed = min(x, key=lambda y: y**3)\n",
        "# Добавление константы 10\n",
        "min_add_10 = min(x, key=lambda y: y + 10)\n",
        "print(min_cubed, min_add_10)"
      ]
    },
    {
      "cell_type": "markdown",
      "id": "7ebc926a",
      "metadata": {
        "id": "7ebc926a"
      },
      "source": [
        "## Статистические функции  `mean()`, `median()` и `stdev()` библиотеки **statistics**  \n",
        "В библитеке [**statistics**](https://docs.python.org/3/library/statistics.html) собраны функции статистической обработки числовых последовательностей. Мы рассмотрим три из них:\n",
        "\n",
        "— поиска среднего арифметического: `mean()`;\n",
        "\n",
        "— поиска медианы: `median()`;\n",
        "\n",
        "— поиска среднеквадратического отклонения: `stdev()`."
      ]
    },
    {
      "cell_type": "code",
      "execution_count": 21,
      "id": "2e5dbee9",
      "metadata": {
        "colab": {
          "base_uri": "https://localhost:8080/"
        },
        "id": "2e5dbee9",
        "outputId": "17cf5f94-7df5-4b86-8629-2a4ca7631c07"
      },
      "outputs": [
        {
          "output_type": "stream",
          "name": "stdout",
          "text": [
            "-0.6666666666666666\n"
          ]
        }
      ],
      "source": [
        "import statistics\n",
        "print(statistics.mean(x))"
      ]
    },
    {
      "cell_type": "code",
      "execution_count": 22,
      "id": "2120336b",
      "metadata": {
        "colab": {
          "base_uri": "https://localhost:8080/"
        },
        "id": "2120336b",
        "outputId": "f87f36dd-4b72-4e27-8118-25fcbd37fae7"
      },
      "outputs": [
        {
          "output_type": "stream",
          "name": "stdout",
          "text": [
            "1\n"
          ]
        }
      ],
      "source": [
        "print(statistics.median(x))"
      ]
    },
    {
      "cell_type": "code",
      "execution_count": 23,
      "id": "b828f515",
      "metadata": {
        "colab": {
          "base_uri": "https://localhost:8080/"
        },
        "id": "b828f515",
        "outputId": "6514fc63-135e-42df-dd0f-867baa3aec12"
      },
      "outputs": [
        {
          "output_type": "stream",
          "name": "stdout",
          "text": [
            "3.0\n"
          ]
        }
      ],
      "source": [
        "print(statistics.median([1, 5, -8, 10]))"
      ]
    },
    {
      "cell_type": "code",
      "execution_count": 24,
      "id": "f2a083fe",
      "metadata": {
        "colab": {
          "base_uri": "https://localhost:8080/"
        },
        "id": "f2a083fe",
        "outputId": "429e0b29-8bb6-4c98-bb2a-1e3bd700a248"
      },
      "outputs": [
        {
          "output_type": "stream",
          "name": "stdout",
          "text": [
            "6.6583281184793925\n"
          ]
        }
      ],
      "source": [
        "print(statistics.stdev(x))"
      ]
    },
    {
      "cell_type": "markdown",
      "id": "b1876a60",
      "metadata": {
        "id": "b1876a60"
      },
      "source": [
        "## Редукция последовательности чисел\n",
        "Когда на вход алгоритму поступает последовательность чисел произвольной длины, а результат — некоторое интегральное число, например *сумма всех чисел* или *произведение всех чисел* или даже просто их количество, то это называется **редукцией последовательности**.\n"
      ]
    },
    {
      "cell_type": "code",
      "execution_count": 25,
      "id": "654a2528",
      "metadata": {
        "colab": {
          "base_uri": "https://localhost:8080/"
        },
        "id": "654a2528",
        "outputId": "c74529bf-abbc-46f8-e383-1cd2635c0b02"
      },
      "outputs": [
        {
          "output_type": "stream",
          "name": "stdout",
          "text": [
            "15\n"
          ]
        }
      ],
      "source": [
        "A = [1, 2, 3, 4, 5]\n",
        "print(sum(A))"
      ]
    },
    {
      "cell_type": "code",
      "execution_count": 26,
      "id": "3c941fff",
      "metadata": {
        "id": "3c941fff"
      },
      "outputs": [],
      "source": [
        "import functools"
      ]
    },
    {
      "cell_type": "code",
      "execution_count": 27,
      "id": "db5e62d8",
      "metadata": {
        "colab": {
          "base_uri": "https://localhost:8080/"
        },
        "id": "db5e62d8",
        "outputId": "82f9dec0-b9ef-4d38-f886-e201bb3f1197"
      },
      "outputs": [
        {
          "output_type": "execute_result",
          "data": {
            "text/plain": [
              "15"
            ]
          },
          "metadata": {},
          "execution_count": 27
        }
      ],
      "source": [
        "functools.reduce((lambda s, x: s + x), A)"
      ]
    },
    {
      "cell_type": "markdown",
      "id": "cbb1b5ea",
      "metadata": {
        "id": "cbb1b5ea"
      },
      "source": [
        "Функцию для редукции последовательности можно взять произвольную:"
      ]
    },
    {
      "cell_type": "code",
      "execution_count": 28,
      "id": "3533d1ef",
      "metadata": {
        "colab": {
          "base_uri": "https://localhost:8080/"
        },
        "id": "3533d1ef",
        "outputId": "e1a21a58-23da-419d-b1e5-ed20392a110e"
      },
      "outputs": [
        {
          "output_type": "execute_result",
          "data": {
            "text/plain": [
              "120"
            ]
          },
          "metadata": {},
          "execution_count": 28
        }
      ],
      "source": [
        "functools.reduce((lambda p, x: p * x), A)"
      ]
    },
    {
      "cell_type": "code",
      "execution_count": 29,
      "id": "c64e2004",
      "metadata": {
        "colab": {
          "base_uri": "https://localhost:8080/"
        },
        "id": "c64e2004",
        "outputId": "6e114cca-bf36-4c16-8e64-a645c1d7d1d5"
      },
      "outputs": [
        {
          "output_type": "execute_result",
          "data": {
            "text/plain": [
              "1"
            ]
          },
          "metadata": {},
          "execution_count": 29
        }
      ],
      "source": [
        "functools.reduce((lambda xor, x: xor ^ x), A)"
      ]
    },
    {
      "cell_type": "markdown",
      "id": "bdb1dc50",
      "metadata": {
        "id": "bdb1dc50"
      },
      "source": [
        "Но не обязательно уже иметь все данные в списке или другом контейнере. Поскольку редукция происходит индуктивно, мы можем получать поток чисел с клавиатуры. Чтобы сигнализировать алгоритму, что поток чисел закончился, нужно либо изначально знать их количество, либо задать значение *терминального элемента*. Допустим, это -1.\n",
        "\n",
        "Поскольку редукция будет осуществляться за один проход, такой алгоритм может быть назван *однопроходным*:"
      ]
    },
    {
      "cell_type": "code",
      "execution_count": 30,
      "id": "3d48e355",
      "metadata": {
        "colab": {
          "base_uri": "https://localhost:8080/",
          "height": 453
        },
        "id": "3d48e355",
        "outputId": "7a5cfdff-be8e-4c13-b59f-4f466e345514"
      },
      "outputs": [
        {
          "name": "stdout",
          "output_type": "stream",
          "text": [
            "1\n",
            "2\n",
            "3\n",
            "4\n",
            "5\n",
            "6\n",
            "7\n",
            "8\n",
            "9\n",
            "10\n",
            "6\n",
            "8\n",
            "4\n",
            "3\n",
            "0 0 1\n"
          ]
        },
        {
          "output_type": "error",
          "ename": "ValueError",
          "evalue": "invalid literal for int() with base 10: '0 0 1'",
          "traceback": [
            "\u001b[0;31m---------------------------------------------------------------------------\u001b[0m",
            "\u001b[0;31mValueError\u001b[0m                                Traceback (most recent call last)",
            "\u001b[0;32m<ipython-input-30-d7e52d5afede>\u001b[0m in \u001b[0;36m<cell line: 0>\u001b[0;34m()\u001b[0m\n\u001b[1;32m     11\u001b[0m     \u001b[0mp\u001b[0m \u001b[0;34m=\u001b[0m \u001b[0mp\u001b[0m \u001b[0;34m*\u001b[0m \u001b[0mx\u001b[0m\u001b[0;34m\u001b[0m\u001b[0;34m\u001b[0m\u001b[0m\n\u001b[1;32m     12\u001b[0m     \u001b[0;31m# ввод нового числа:\u001b[0m\u001b[0;34m\u001b[0m\u001b[0;34m\u001b[0m\u001b[0m\n\u001b[0;32m---> 13\u001b[0;31m     \u001b[0mx\u001b[0m \u001b[0;34m=\u001b[0m \u001b[0mint\u001b[0m\u001b[0;34m(\u001b[0m\u001b[0minput\u001b[0m\u001b[0;34m(\u001b[0m\u001b[0;34m)\u001b[0m\u001b[0;34m)\u001b[0m\u001b[0;34m\u001b[0m\u001b[0;34m\u001b[0m\u001b[0m\n\u001b[0m\u001b[1;32m     14\u001b[0m \u001b[0mprint\u001b[0m\u001b[0;34m(\u001b[0m\u001b[0mn\u001b[0m\u001b[0;34m,\u001b[0m \u001b[0ms\u001b[0m\u001b[0;34m,\u001b[0m \u001b[0mp\u001b[0m\u001b[0;34m)\u001b[0m\u001b[0;34m\u001b[0m\u001b[0;34m\u001b[0m\u001b[0m\n",
            "\u001b[0;31mValueError\u001b[0m: invalid literal for int() with base 10: '0 0 1'"
          ]
        }
      ],
      "source": [
        "n = 0\n",
        "s = 0\n",
        "p = 1\n",
        "# ввод первого числа:\n",
        "x = int(input())\n",
        "# проверка, что очередное число не является терминатором последовательности:\n",
        "while x != -1:\n",
        "    # учёт нового числа:\n",
        "    n = n + 1\n",
        "    s = s + x\n",
        "    p = p * x\n",
        "    # ввод нового числа:\n",
        "    x = int(input())\n",
        "print(n, s, p)"
      ]
    },
    {
      "cell_type": "markdown",
      "id": "671eb920",
      "metadata": {
        "id": "671eb920"
      },
      "source": [
        "На вход алгоритма, редуцирующего последовательность, мы можем подавать не оригинальную, а *отфильтрованную* последовательность — через некий *критерий отбора*."
      ]
    },
    {
      "cell_type": "code",
      "execution_count": null,
      "id": "a01b1fbf",
      "metadata": {
        "id": "a01b1fbf"
      },
      "outputs": [],
      "source": [
        "n = 0\n",
        "s = 0\n",
        "p = 1\n",
        "# ввод первого числа:\n",
        "x = int(input())\n",
        "# проверка, что очередное число не является терминатором последовательности:\n",
        "while x != -1:\n",
        "    # учёт нового числа, если оно чётное:\n",
        "    if x % 2 == 0:\n",
        "        n = n + 1\n",
        "        s = s + x\n",
        "        p = p * x\n",
        "    # ввод нового числа:\n",
        "    x = int(input())\n",
        "print(n, s, p)"
      ]
    },
    {
      "cell_type": "markdown",
      "id": "6b5ee6c7",
      "metadata": {
        "id": "6b5ee6c7"
      },
      "source": [
        "Поиск максимального или минимального элемента также является редукцией:"
      ]
    },
    {
      "cell_type": "code",
      "execution_count": null,
      "id": "5d4fa4b3",
      "metadata": {
        "id": "5d4fa4b3"
      },
      "outputs": [],
      "source": [
        "A = [1, 2, 3, 4, 5, 5, 3, 2]\n",
        "functools.reduce((lambda m, x: max(m, x)), A)"
      ]
    },
    {
      "cell_type": "markdown",
      "id": "a40b6286",
      "metadata": {
        "id": "a40b6286"
      },
      "source": [
        "Без контейнера простым циклом это делается так:"
      ]
    },
    {
      "cell_type": "code",
      "execution_count": null,
      "id": "a258a703",
      "metadata": {
        "id": "a258a703"
      },
      "outputs": [],
      "source": [
        "# ввод первого числа:\n",
        "x = m = int(input())\n",
        "# проверка, что очередное число не является терминатором последовательности:\n",
        "while x != -1:\n",
        "    # учёт нового числа:\n",
        "    m = max(m, x)\n",
        "    # ввод нового числа:\n",
        "    x = int(input())\n",
        "print(m)"
      ]
    },
    {
      "cell_type": "markdown",
      "id": "cbb1b7d7",
      "metadata": {
        "id": "cbb1b7d7"
      },
      "source": [
        "Можно избавиться от вызова встроенной функции `max`, да ещё и добавить дополнительную функциональность — запоминать местоположение первого числа среди равных максимальному:"
      ]
    },
    {
      "cell_type": "code",
      "execution_count": null,
      "id": "1b4f960b",
      "metadata": {
        "id": "1b4f960b"
      },
      "outputs": [],
      "source": [
        "# ввод первого числа:\n",
        "x = m = int(input())\n",
        "index = 0\n",
        "# проверка, что очередное число не является терминатором последовательности:\n",
        "while x != -1:\n",
        "    # учёт нового числа -- если оно больше ранее найденного максимума -- обновить:\n",
        "    if x > m:\n",
        "        m = x\n",
        "        m_index = index\n",
        "    # ввод нового числа:\n",
        "    x = int(input())\n",
        "    index += 1  # счётчик позиции числа во входной последовательности\n",
        "print(m, m_index)"
      ]
    },
    {
      "cell_type": "markdown",
      "id": "33499f15",
      "metadata": {
        "id": "33499f15"
      },
      "source": [
        "**Пример 1 однопроходного алгоритма (взят с сайта Константина Полякова):**\n",
        "\n",
        "Имеется список учеников разных школ, сдававших экзамен по информатике, с указанием их фамилии, имени, школы и набранного балла. Необходимо написать программу, которая будет определять двух учеников школы № 50, которые лучше всех сдали информатику, и выводить на экран их фамилии и имена.\n",
        "\n",
        "Если наибольший балл набрали более двух человек, нужно вывести только их количество. Если наибольший балл набрал один человек, а следующий балл набрало несколько человек, нужно вывести только фамилию и имя лучшего. Известно, что информатику сдавали не менее 5 учеников школы № 50.\n",
        "\n",
        "На вход программе в первой строке подается количество учеников списке N. В каждой из последующих N строк находится информация в следующем формате:\n",
        "\n",
        "**<Фамилия> <Имя> <Школа> <Балл>**\n",
        "\n",
        "где <Фамилия> — строка, состоящая не более, чем из 20 символов без пробелов, <Имя> — строка, состоящая не более, чем из 20 символов без пробелов, <Школа> — целое число от 1 до 99, <Балл> — целое число от 1 до 100.\n",
        "\n",
        "Пример входной строки:\n",
        "\n",
        "**Иванов Сергей 50 87**\n",
        "\n",
        "Пример выходных данных, когда найдено два лучших:\n",
        "\n",
        "**Иванов Сергей\n",
        "Сергеев Иван**\n",
        "\n",
        "Если больше двух учеников набрали высший балл, то программа должна вывести их количество. Пример вывода в этом случае:\n",
        "\n",
        "**8**\n",
        "\n",
        "Если высший балл набрал один человек, а следующий балл набрало несколько человек, то про-грамма должна вывести только фамилию и имя лучшего. Пример вывода в этом случае:\n",
        "\n",
        "**Иванов Сергей**\n",
        "\n",
        "Для выполнения примера необходимо разместить файл [students.txt](../extra/lab4/students.txt) в директории с ноутбуком практической работы."
      ]
    },
    {
      "cell_type": "markdown",
      "id": "cc3e1d42",
      "metadata": {
        "id": "cc3e1d42"
      },
      "source": [
        "**Решение**\n",
        "\n",
        "Вначале необходимо определить, как обрабатывать данные.  Запоминать все данные не нужно, так как\n",
        "•\tколичество учеников неизвестно\n",
        "•\tнас интересуют только фамилии двух лучших, то есть достаточно ввести всего две переменных (*name1* и *name2*)\n",
        "Две переменных  *max1* и *max2* будут использоваться для хранения баллов, которые набрали два лучших ученика. Кроме того, нужно считать, сколько учеников набрали высший балл. Для этого используются счетчики *count1* и *count2*.\n"
      ]
    },
    {
      "cell_type": "code",
      "execution_count": null,
      "id": "b7ba9090",
      "metadata": {
        "id": "b7ba9090"
      },
      "outputs": [],
      "source": [
        "# инициируем значения переменных, хранящих значение наибольшего и следующего балла\n",
        "max1 = -1\n",
        "max2 = -1\n",
        "\n",
        "# инициируем значения переменных, хранящих число учеников с наибольшим и следующим баллом\n",
        "count1 = 0\n",
        "count2 = 0\n",
        "\n",
        "# инициируем значением пустой строки имена учеников с наибольшим и следующим баллом\n",
        "name1 = ''\n",
        "name2 = ''"
      ]
    },
    {
      "cell_type": "markdown",
      "id": "146c39ca",
      "metadata": {
        "id": "146c39ca"
      },
      "source": [
        "Предположим, что мы прочитали данные очередного ученика (и он из школы № 50): его имя находится в переменной *name*, набранные баллы – в переменной *mark*.\n",
        "Если балл ученика больше, чем *max1*, нужно запомнить нового лидера (записать его имя и балл в переменные *max1* и *name1*, в счетчик *count1* – единицу), но предварительно записать данные по старому лидеру в переменные *max2*, *name2* и *count2*."
      ]
    },
    {
      "cell_type": "markdown",
      "id": "96eea170",
      "metadata": {
        "id": "96eea170"
      },
      "source": [
        "Если балл равен максимальному, нужно увеличить счетчик *count1* и запомнить данные нового ученика в переменных  *max2* и *name2* (теперь он второй)."
      ]
    },
    {
      "cell_type": "markdown",
      "id": "a4b5a027",
      "metadata": {
        "id": "a4b5a027"
      },
      "source": [
        "Если балл находится между *max1* и *max2*, нужно сохранить новые данные по второму ученику (пока он один, поэтому в *count2* записываем 1)."
      ]
    },
    {
      "cell_type": "markdown",
      "id": "9253b5f5",
      "metadata": {
        "id": "9253b5f5"
      },
      "source": [
        "Если *mark* = *max2*, мы нашли еще одного ученика, имеющего второй результат, нужно его посчитать."
      ]
    },
    {
      "cell_type": "code",
      "execution_count": null,
      "id": "769f0931",
      "metadata": {
        "id": "769f0931"
      },
      "outputs": [],
      "source": [
        "# читаем данные из файла с потоковой обработкой данных\n",
        "with open('students.txt', 'r', encoding='utf8') as F:\n",
        "    # число учеников - не требуется далее\n",
        "    N = F.readline()\n",
        "\n",
        "    # считываем строку за строкой - со второй до последней - из файла\n",
        "    for line in F:\n",
        "        # разбиваем строку на составляющие\n",
        "        s = line.split()\n",
        "\n",
        "        # запоминаем имя\n",
        "        name = s[0] + ' ' + s[1]\n",
        "        # запоминаем номер школы\n",
        "        school = int(s[2])\n",
        "        #запоминаем набранный балл\n",
        "        mark = int(s[3])\n",
        "        # выделяем ученика только из 50-й школы\n",
        "        if school == 50:\n",
        "            # выделяем ученика с наибольшим баллом\n",
        "            if mark > max1:\n",
        "                # теперь данный ученик с наибольшим баллом (name1), а предыдущий становится name2\n",
        "                name2 = name1\n",
        "                max2 = max1\n",
        "                count2 = count1\n",
        "                name1 = name\n",
        "                max1 = mark\n",
        "                count1 = 1\n",
        "            # если нашли еще одного ученика с наибольшим баллом\n",
        "            elif mark == max1:\n",
        "                count1 += 1\n",
        "                max2 = mark\n",
        "                name2 = name\n",
        "            # если нашли ученика с новым значением следующего балла\n",
        "            elif mark > max2:\n",
        "                count2 = 1\n",
        "                max2 = mark\n",
        "                name2 = name\n",
        "            # если нашли еще одного ученика со следующим баллом\n",
        "            elif mark == max2:\n",
        "                count2 += 1"
      ]
    },
    {
      "cell_type": "markdown",
      "id": "75fda833",
      "metadata": {
        "id": "75fda833"
      },
      "source": [
        "При выводе результата нужно учесть три варианта:\n",
        "1.\tЕсли count1 = 2 или count1+count2 = 2, выводим фамилии первых двух учеников.\n",
        "2.\tЕсли count1 = 1 и count2 > 1, выводим только фамилию и имя лидера.\n",
        "3.\tЕсли count1 > 2, выводим только count1."
      ]
    },
    {
      "cell_type": "code",
      "execution_count": null,
      "id": "30e87baf",
      "metadata": {
        "id": "30e87baf"
      },
      "outputs": [],
      "source": [
        "# вывод результатов\n",
        "if (count1 == 2) or (count1 + count2 == 2):\n",
        "    print(name1, name2, sep='\\n')\n",
        "elif (count1 == 1) and (count2 > 1):\n",
        "    print(name1)\n",
        "else:\n",
        "    print(count1) # count1 > 2"
      ]
    },
    {
      "cell_type": "markdown",
      "id": "72e19d6e",
      "metadata": {
        "id": "72e19d6e"
      },
      "source": [
        "## Когда редукция не работает\n",
        "Есть задачи, котоыре принципиально не могут быть решены за один проход по числам, но обязательно требуется запомнить их все.\n",
        "Например, реверс послеловательности чисел или циклический сдвиг вправо. Или вывод на экран всех чисел, которые больше среднего арифметического всех чисел в последовательности."
      ]
    },
    {
      "cell_type": "markdown",
      "id": "44a83e72",
      "metadata": {
        "id": "44a83e72"
      },
      "source": [
        "**Пример 2  (взят с сайта Константина Полякова):**\n",
        "\n",
        "На вход программы подается 366 строк, которые содержат информацию о среднесуточной температуре всех дней 2008 года. Формат каждой из строк следующий: сначала записана дата в виде dd.mm (на запись номера дня и номера месяца в числовом формате отводится строго два символа, день от месяца отделен точкой), затем через пробел записано значение температуры — число со знаком плюс или минус, с точностью до 1 цифры после десятичной точки. Данная информация отсортирована по значению температуры, то есть хронологический порядок нарушен.\n",
        "\n",
        "Требуется написать программу, которая будет выводить на экран информацию о месяце (месяцах), среднемесячная температура у которого (которых) наименее отклоняется от среднегодовой. В первой строке вывести среднегодовую температуру. Найденные значения для каждого из месяцев следует выводить в отдельной строке в виде: номер месяца, значение среднемесячной температуры, отклонение от среднегодовой температуры.\n",
        "\n",
        "Для выполнения примера необходимо разместить файл [weather2008.txt](../extra/lab4/weather2008.txt) в директории с ноутбуком практической работы."
      ]
    },
    {
      "cell_type": "markdown",
      "id": "63592c59",
      "metadata": {
        "id": "63592c59"
      },
      "source": [
        "**Решение**\n",
        "\n",
        "В этой задаче не нужно хранить в памяти все отсчеты, нас интересуют только средние значения температуры по каждому месяцу и по году. В начале программы не забываем обнулить ячейки, где будут накапливаться суммарные величины (*month_av* и *year_av*). Также введем массив констант – дней в каждом месяце (*month_days*)."
      ]
    },
    {
      "cell_type": "code",
      "execution_count": null,
      "id": "5040dac1",
      "metadata": {
        "id": "5040dac1"
      },
      "outputs": [],
      "source": [
        "N_days = 366\n",
        "month_days = [31, 29, 31, 30, 31, 30, 31, 31, 30, 31, 30, 31]\n",
        "month_av = 12*[0]\n",
        "year_av = 0"
      ]
    },
    {
      "cell_type": "markdown",
      "id": "8e40bb07",
      "metadata": {
        "id": "8e40bb07"
      },
      "source": [
        "При вводе данных в каждой строке сначала пропускаем  все символы до точки (с помощью метода [`find()`](https://docs.python.org/3/library/stdtypes.html#str.find) и среза строки), затем читаем номер месяца (целое число) и температуру (вещественное число). Температуру добавляем к сумме нужного месяца и к годовой сумме:"
      ]
    },
    {
      "cell_type": "code",
      "execution_count": null,
      "id": "daae921b",
      "metadata": {
        "id": "daae921b"
      },
      "outputs": [],
      "source": [
        "with open('weather2008.txt', 'r') as F:\n",
        "    for line in F:\n",
        "        s = line.split()\n",
        "        month = int(s[0][s[0].find('.')+1:])\n",
        "        t = float(s[1])\n",
        "        #накапливаем сумму по месяцу и по году\n",
        "        month_av[month - 1] += t\n",
        "        year_av += t"
      ]
    },
    {
      "cell_type": "markdown",
      "id": "7df14e4d",
      "metadata": {
        "id": "7df14e4d"
      },
      "source": [
        "Далее находим средние по каждому месяцу и по году:"
      ]
    },
    {
      "cell_type": "code",
      "execution_count": null,
      "id": "48c95473",
      "metadata": {
        "id": "48c95473"
      },
      "outputs": [],
      "source": [
        "#считаем средние по месяцам и по году\n",
        "for i in range(12):\n",
        "    month_av[i] /= month_days[i]\n",
        "year_av /= N_days"
      ]
    },
    {
      "cell_type": "markdown",
      "id": "728ccadc",
      "metadata": {
        "id": "728ccadc"
      },
      "source": [
        "Теперь можно искать минимальное отклонение среднемесячной температуры от среднегодовой :"
      ]
    },
    {
      "cell_type": "code",
      "execution_count": null,
      "id": "bad5a969",
      "metadata": {
        "id": "bad5a969"
      },
      "outputs": [],
      "source": [
        "#находим минимальное отклонения от среднегодовой\n",
        "min_dev = abs(month_av[0] - year_av)\n",
        "for i in range(1, 12):\n",
        "    if abs(month_av[i] - year_av) < min_dev:\n",
        "        min_dev = abs(month_av[i] - year_av)"
      ]
    },
    {
      "cell_type": "markdown",
      "id": "d2069e65",
      "metadata": {
        "id": "d2069e65"
      },
      "source": [
        "Выводим результат. При выводе результата мы используем метод [`format()`](https://docs.python.org/3/library/stdtypes.html#str.format):"
      ]
    },
    {
      "cell_type": "code",
      "execution_count": null,
      "id": "fcfb9cef",
      "metadata": {
        "id": "fcfb9cef"
      },
      "outputs": [],
      "source": [
        "#Выводим результат\n",
        "print('{0:.3f}'.format(year_av))\n",
        "for i in range(0, 12):\n",
        "    if abs(month_av[i] - year_av) == min_dev:\n",
        "        print('{0:d}, {1:.3f}, {2:.3f}'.format(i+1, month_av[i], min_dev))"
      ]
    }
  ],
  "metadata": {
    "kernelspec": {
      "display_name": "Python 3 (ipykernel)",
      "language": "python",
      "name": "python3"
    },
    "language_info": {
      "codemirror_mode": {
        "name": "ipython",
        "version": 3
      },
      "file_extension": ".py",
      "mimetype": "text/x-python",
      "name": "python",
      "nbconvert_exporter": "python",
      "pygments_lexer": "ipython3",
      "version": "3.9.0"
    },
    "colab": {
      "provenance": [],
      "include_colab_link": true
    }
  },
  "nbformat": 4,
  "nbformat_minor": 5
}