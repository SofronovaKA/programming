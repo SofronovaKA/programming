{
  "nbformat": 4,
  "nbformat_minor": 0,
  "metadata": {
    "colab": {
      "provenance": [],
      "authorship_tag": "ABX9TyM47JQ7b/QwBM9IvOoz78ri",
      "include_colab_link": true
    },
    "kernelspec": {
      "name": "python3",
      "display_name": "Python 3"
    },
    "language_info": {
      "name": "python"
    }
  },
  "cells": [
    {
      "cell_type": "markdown",
      "metadata": {
        "id": "view-in-github",
        "colab_type": "text"
      },
      "source": [
        "<a href=\"https://colab.research.google.com/github/SofronovaKA/programming/blob/main/solutions_for_lab_3.ipynb\" target=\"_parent\"><img src=\"https://colab.research.google.com/assets/colab-badge.svg\" alt=\"Open In Colab\"/></a>"
      ]
    },
    {
      "cell_type": "markdown",
      "source": [
        "Задача №3.1.1:"
      ],
      "metadata": {
        "id": "ayv29phMBjhm"
      }
    },
    {
      "cell_type": "code",
      "source": [
        "def sgn(a):\n",
        "  if a>0:\n",
        "    return 1\n",
        "  elif a==0:\n",
        "    return 0\n",
        "  else:\n",
        "    return -1\n",
        "\n",
        "x = float(input())\n",
        "y = float(input())\n",
        "\n",
        "numerator = sgn(x) + y**2\n",
        "denominator = sgn(y) - abs(x)*0.5\n",
        "\n",
        "if denominator == 0:\n",
        "  print(\"Ошибка: знаменатель не может быть равен нулю!\")\n",
        "else:\n",
        "  z = numerator / denominator\n",
        "  print(f'Результат: z = {z}')"
      ],
      "metadata": {
        "id": "TQP-8_rATL1o",
        "colab": {
          "base_uri": "https://localhost:8080/"
        },
        "outputId": "c5211bef-a4b2-45e9-b540-4d7734bd3df1"
      },
      "execution_count": 22,
      "outputs": [
        {
          "output_type": "stream",
          "name": "stdout",
          "text": [
            "4\n",
            "5\n",
            "Результат: z = -26.0\n"
          ]
        }
      ]
    },
    {
      "cell_type": "markdown",
      "source": [
        "Задача №3.1.2:"
      ],
      "metadata": {
        "id": "Oxb35Neq7Y22"
      }
    },
    {
      "cell_type": "code",
      "source": [
        "def calculate_average_temperature(temperatures):\n",
        "    \"\"\"\n",
        "    Вычисляет среднюю температуру, игнорируя None значения\n",
        "\n",
        "    :param temperatures: список температур с возможными None значениями\n",
        "    :return: средняя температура (float)\n",
        "    \"\"\"\n",
        "    # Фильтруем список, удаляя None значения\n",
        "    valid_temps = [temp for temp in temperatures if temp is not None]\n",
        "\n",
        "    # Вычисляем среднее значение\n",
        "    average_temp = sum(valid_temps) / len(valid_temps)\n",
        "\n",
        "    return average_temp\n",
        "\n",
        "# Пример использования\n",
        "temperature_data = [22, None, 24, None, 21, 23, None, 20]\n",
        "avg_temp = calculate_average_temperature(temperature_data)\n",
        "\n",
        "print(f\"Средняя температура: {avg_temp:.1f}°C\")  # Выведет: Средняя температура: 22.0°C"
      ],
      "metadata": {
        "colab": {
          "base_uri": "https://localhost:8080/"
        },
        "id": "d3dBAgY0WKSN",
        "outputId": "d7c46372-25ed-4f20-f16c-e7c3d7a4f56d"
      },
      "execution_count": 21,
      "outputs": [
        {
          "output_type": "stream",
          "name": "stdout",
          "text": [
            "Средняя температура: 22.0°C\n"
          ]
        }
      ]
    },
    {
      "cell_type": "markdown",
      "source": [
        "Задача №3.1.3:"
      ],
      "metadata": {
        "id": "3etIfmzSFRNq"
      }
    },
    {
      "cell_type": "code",
      "source": [
        "def count_even_odd_digits(number):\n",
        "    \"\"\"Подсчитывает количество чётных и нечётных цифр в числе.\"\"\"\n",
        "    even = 0\n",
        "    odd = 0\n",
        "    for digit in str(number):\n",
        "        num = int(digit)\n",
        "        if num % 2 == 0:\n",
        "            even += 1\n",
        "        else:\n",
        "            odd += 1\n",
        "    return even, odd\n",
        "\n",
        "def lucky_tickets(a, b):\n",
        "    \"\"\"Возвращает список счастливых билетов в диапазоне [a, b].\"\"\"\n",
        "    lucky = []\n",
        "    for number in range(a, b + 1):\n",
        "        even, odd = count_even_odd_digits(number)\n",
        "        if even == odd:\n",
        "            lucky.append(number)\n",
        "    return lucky\n",
        "\n",
        "# Ввод диапазона\n",
        "a = int(input(\"Введите начало диапазона (a): \"))\n",
        "b = int(input(\"Введите конец диапазона (b): \"))\n",
        "\n",
        "# Получение и вывод результата\n",
        "result = lucky_tickets(a, b)\n",
        "print(\"Счастливые номера билетов:\", result)"
      ],
      "metadata": {
        "id": "rF7q0yRDFT33",
        "colab": {
          "base_uri": "https://localhost:8080/"
        },
        "outputId": "79c0cf70-f3aa-456d-bb3c-15883bab7ce1"
      },
      "execution_count": 2,
      "outputs": [
        {
          "output_type": "stream",
          "name": "stdout",
          "text": [
            "Введите начало диапазона (a): 5\n",
            "Введите конец диапазона (b): 78\n",
            "Счастливые номера билетов: [10, 12, 14, 16, 18, 21, 23, 25, 27, 29, 30, 32, 34, 36, 38, 41, 43, 45, 47, 49, 50, 52, 54, 56, 58, 61, 63, 65, 67, 69, 70, 72, 74, 76, 78]\n"
          ]
        }
      ]
    },
    {
      "cell_type": "markdown",
      "source": [
        "Задача №3.1.4:"
      ],
      "metadata": {
        "id": "ao5RmfjNWU1E"
      }
    },
    {
      "cell_type": "code",
      "source": [
        "def is_leap_year(year):\n",
        "\n",
        "    \"\"\"Проверяет, является ли год високосным.\"\"\"\n",
        "    if year % 4 != 0:\n",
        "        return False\n",
        "    elif year % 100 != 0:\n",
        "        return True\n",
        "    else:\n",
        "        return year % 400 == 0\n",
        "\n",
        "def days_in_month(month, year):\n",
        "    \"\"\"Возвращает количество дней в месяце с учётом високосного года.\"\"\"\n",
        "    if month == 2:\n",
        "        return 29 if is_leap_year(year) else 28\n",
        "    elif month in [4, 6, 9, 11]:\n",
        "        return 30\n",
        "    else:\n",
        "        return 31\n",
        "\n",
        "def previous_date(day, month, year):\n",
        "    \"\"\"Возвращает вчерашнюю дату.\"\"\"\n",
        "    if day > 1:\n",
        "        return f\"{day - 1}/{month}/{year}\"\n",
        "    else:\n",
        "        if month == 1:\n",
        "            return f\"{31}/{12}/{year - 1}\"\n",
        "        else:\n",
        "            prev_month = month - 1\n",
        "            prev_days = days_in_month(prev_month, year)\n",
        "            return f\"{prev_days}/{prev_month}/{year}\"\n",
        "\n",
        "def next_date(day, month, year):\n",
        "    \"\"\"Возвращает завтрашнюю дату.\"\"\"\n",
        "    days_in_current = days_in_month(month, year)\n",
        "    if day < days_in_current:\n",
        "        return f\"{day + 1}/{month}/{year}\"\n",
        "    else:\n",
        "        if month == 12:\n",
        "            return f\"{1}/{1}/{year + 1}\"\n",
        "        else:\n",
        "            return f\"{1}/{month + 1}/{year}\"\n",
        "\n",
        "input_str = input(\"День, месяц, год через пробел: \")\n",
        "day, month, year = map(int, input_str.split(' '))\n",
        "print(\"Предыдущий день: \" + str(previous_date(day, month, year)))\n",
        "print(\"Следующий день: \" + str(next_date(day, month, year)))"
      ],
      "metadata": {
        "id": "-5B82-mKWZe3",
        "colab": {
          "base_uri": "https://localhost:8080/"
        },
        "outputId": "da047a6a-29cd-4e8a-9e4d-a59dd904a831"
      },
      "execution_count": 3,
      "outputs": [
        {
          "output_type": "stream",
          "name": "stdout",
          "text": [
            "День, месяц, год через пробел: 4 5 2000\n",
            "Предыдущий день: 3/5/2000\n",
            "Следующий день: 5/5/2000\n"
          ]
        }
      ]
    },
    {
      "cell_type": "markdown",
      "source": [
        "Задача №3.1.5:"
      ],
      "metadata": {
        "id": "RPWj9SiMKCkz"
      }
    },
    {
      "cell_type": "code",
      "source": [
        "def another_date(day, month, year, delta=1):\n",
        "    \"\"\"\n",
        "    Вычисляет дату, отстоящую от заданной на delta дней\n",
        "    :param day: день\n",
        "    :param month: месяц\n",
        "    :param year: год\n",
        "    :param delta: количество дней для добавления (или вычитания, если отрицательный)\n",
        "    :return: кортеж (новый_день, новый_месяц, новый_год)\n",
        "    \"\"\"\n",
        "\n",
        "    def is_leap(y):\n",
        "        \"\"\"Проверяет, является ли год високосным\"\"\"\n",
        "        return y % 4 == 0 and (y % 100 != 0 or y % 400 == 0)\n",
        "\n",
        "    def days_in_month(m, y):\n",
        "        \"\"\"Возвращает количество дней в месяце\"\"\"\n",
        "        if m == 2:\n",
        "            return 29 if is_leap(y) else 28\n",
        "        return 30 if m in [4, 6, 9, 11] else 31\n",
        "\n",
        "    def next_date(d, m, y):\n",
        "        \"\"\"Вычисляет следующую дату (локальная функция)\"\"\"\n",
        "        if d < days_in_month(m, y):\n",
        "            return d + 1, m, y\n",
        "        elif m < 12:\n",
        "            return 1, m + 1, y\n",
        "        else:\n",
        "            return 1, 1, y + 1\n",
        "\n",
        "    def prev_date(d, m, y):\n",
        "        \"\"\"Вычисляет предыдущую дату (локальная функция)\"\"\"\n",
        "        if d > 1:\n",
        "            return d - 1, m, y\n",
        "        elif m > 1:\n",
        "            return days_in_month(m - 1, y), m - 1, y\n",
        "        else:\n",
        "            return 31, 12, y - 1\n",
        "\n",
        "    current_day, current_month, current_year = day, month, year\n",
        "\n",
        "    if delta > 0:\n",
        "        for _ in range(delta):\n",
        "            current_day, current_month, current_year = next_date(current_day, current_month, current_year)\n",
        "    elif delta < 0:\n",
        "        for _ in range(abs(delta)):\n",
        "            current_day, current_month, current_year = prev_date(current_day, current_month, current_year)\n",
        "\n",
        "    return current_day, current_month, current_year\n",
        "\n",
        "\n",
        "# Примеры использования\n",
        "print(another_date(1, 1, 2023, 1))    # (2, 1, 2023)\n",
        "print(another_date(1, 1, 2023, -1))    # (31, 12, 2022)\n",
        "print(another_date(28, 2, 2020, 1))    # (29, 2, 2020) - високосный год\n",
        "print(another_date(1, 3, 2023, -1))    # (28, 2, 2023)\n",
        "print(another_date(31, 12, 2022, 5))   # (5, 1, 2023)\n",
        "print(another_date(15, 6, 2023, -30))  # (16, 5, 2023)"
      ],
      "metadata": {
        "colab": {
          "base_uri": "https://localhost:8080/"
        },
        "id": "RYj1jNwUKCJ4",
        "outputId": "00717bd0-31f7-446d-dfa9-622843e194cd"
      },
      "execution_count": 19,
      "outputs": [
        {
          "output_type": "stream",
          "name": "stdout",
          "text": [
            "(2, 1, 2023)\n",
            "(31, 12, 2022)\n",
            "(29, 2, 2020)\n",
            "(28, 2, 2023)\n",
            "(5, 1, 2023)\n",
            "(16, 5, 2023)\n"
          ]
        }
      ]
    },
    {
      "cell_type": "markdown",
      "source": [
        "Задача №3.1.6:"
      ],
      "metadata": {
        "id": "PqF3Vl5Z9qXX"
      }
    },
    {
      "cell_type": "code",
      "source": [
        "import math\n",
        "from functools import reduce\n",
        "\n",
        "def compute_gcd(list_numbers):\n",
        "    \"\"\"Вычисляет НОД списка чисел\"\"\"\n",
        "    return reduce(math.gcd, list_numbers)\n",
        "\n",
        "def compute_lcm(list_numbers):\n",
        "    \"\"\"Вычисляет НОК списка чисел\"\"\"\n",
        "    def lcm(a, b):\n",
        "        return abs(a * b) // math.gcd(a, b) if a and b else 0\n",
        "    return reduce(lcm, list_numbers, 1)\n",
        "\n",
        "# Пример использования\n",
        "numbers = [12, 18, 24]\n",
        "gcd_result = compute_gcd(numbers)\n",
        "lcm_result = compute_lcm(numbers)\n",
        "\n",
        "print(f\"НОД чисел {numbers}: {gcd_result}\")  # НОД: 6\n",
        "print(f\"НОК чисел {numbers}: {lcm_result}\")  # НОК: 72"
      ],
      "metadata": {
        "colab": {
          "base_uri": "https://localhost:8080/"
        },
        "id": "-mUy2sks9tD0",
        "outputId": "7f697d50-6584-4a17-c7da-7926ac4f5438"
      },
      "execution_count": 2,
      "outputs": [
        {
          "output_type": "stream",
          "name": "stdout",
          "text": [
            "НОД чисел [12, 18, 24]: 6\n",
            "НОК чисел [12, 18, 24]: 72\n"
          ]
        }
      ]
    },
    {
      "cell_type": "markdown",
      "source": [
        "Задача №3.1.7:"
      ],
      "metadata": {
        "id": "3SwMXHfK5y_1"
      }
    },
    {
      "cell_type": "code",
      "source": [
        "def count_sentences_with_digits(sentences):\n",
        "\n",
        "    count = 0\n",
        "    for sentence in sentences:\n",
        "        if any(char.isdigit() for char in sentence):\n",
        "            count += 1\n",
        "    return count\n",
        "\n",
        "# Пример использования:\n",
        "n = int(input(\"Введите количество предложений: \"))\n",
        "input_sentences = []\n",
        "for i in range(n):\n",
        "    sentence = input(f\"Введите предложение {i+1}: \")\n",
        "    input_sentences.append(sentence)\n",
        "\n",
        "result = count_sentences_with_digits(input_sentences)\n",
        "print(f\"Количество предложений с цифрами: {result}\")"
      ],
      "metadata": {
        "colab": {
          "base_uri": "https://localhost:8080/"
        },
        "id": "tC213ei251rN",
        "outputId": "2c573be9-c747-4a60-dcfe-a9575364948e"
      },
      "execution_count": 1,
      "outputs": [
        {
          "output_type": "stream",
          "name": "stdout",
          "text": [
            "Введите количество предложений: 5\n",
            "Введите предложение 1: Привет, я Кира\n",
            "Введите предложение 2: Мне 18\n",
            "Введите предложение 3: Учусь, я студентка\n",
            "Введите предложение 4: Вуз - МГПУ\n",
            "Введите предложение 5: 1 курс, профиль: бизнес-информатика\n",
            "Количество предложений с цифрами: 2\n"
          ]
        }
      ]
    },
    {
      "cell_type": "markdown",
      "source": [
        "Задача №3.1.8:"
      ],
      "metadata": {
        "id": "yXVA3Hty_FrC"
      }
    },
    {
      "cell_type": "code",
      "source": [
        "def draw_frame(s: str, k: str = \"*\") -> str:\n",
        "\n",
        "    if not s:\n",
        "        return \"\"\n",
        "\n",
        "    if not k or len(k) != 1:\n",
        "        raise ValueError(\"Символ рамки должен быть одним символом\")\n",
        "\n",
        "    border = k * (len(s) + 4)\n",
        "    middle = f\"{k} {s} {k}\"\n",
        "\n",
        "    return \"\\n\".join([border, middle, border])\n",
        "\n",
        "print(draw_frame(\"Всё плохо, сдаюсь\", \"%\"))\n",
        "print(draw_frame(\"Кира\", \"#\"))"
      ],
      "metadata": {
        "colab": {
          "base_uri": "https://localhost:8080/"
        },
        "id": "47XyMjLy_vbf",
        "outputId": "f5939263-e093-478e-dc1e-ada90655890a"
      },
      "execution_count": 6,
      "outputs": [
        {
          "output_type": "stream",
          "name": "stdout",
          "text": [
            "%%%%%%%%%%%%%%%%%%%%%\n",
            "% Всё плохо, сдаюсь %\n",
            "%%%%%%%%%%%%%%%%%%%%%\n",
            "########\n",
            "# Кира #\n",
            "########\n",
            "******\n",
            "* Хы *\n",
            "******\n"
          ]
        }
      ]
    },
    {
      "cell_type": "markdown",
      "source": [
        "Задача №3.1.9:"
      ],
      "metadata": {
        "id": "4Rdq4NhpBNt3"
      }
    },
    {
      "cell_type": "code",
      "source": [
        "def from_decimal(number: int, base: int) -> str:\n",
        "    \"\"\"\n",
        "    Переводит число из 10-й системы в N-ю (2 ≤ N ≤ 16)\n",
        "\n",
        "    :param number: число в десятичной системе (int)\n",
        "    :param base: основание целевой системы (int)\n",
        "    :return: строка-представление числа в N-й системе\n",
        "    :raises ValueError: при некорректных параметрах\n",
        "    \"\"\"\n",
        "    if not 2 <= base <= 16:\n",
        "        raise ValueError(\"Основание должно быть от 2 до 16\")\n",
        "    if number == 0:\n",
        "        return '0'\n",
        "\n",
        "    digits = \"0123456789ABCDEF\"\n",
        "    result = []\n",
        "    is_negative = number < 0\n",
        "    number = abs(number)\n",
        "\n",
        "    while number > 0:\n",
        "        result.append(digits[number % base])\n",
        "        number = number // base\n",
        "\n",
        "    if is_negative:\n",
        "        result.append('-')\n",
        "\n",
        "    return ''.join(reversed(result)) or '0'\n",
        "\n",
        "def to_decimal(number_str: str, base: int) -> int:\n",
        "    \"\"\"\n",
        "    Переводит число из N-й системы в 10-ю (2 ≤ N ≤ 16)\n",
        "\n",
        "    :param number_str: строковое представление числа\n",
        "    :param base: основание исходной системы (int)\n",
        "    :return: число в десятичной системе\n",
        "    :raises ValueError: при некорректных параметрах\n",
        "    \"\"\"\n",
        "    if not 2 <= base <= 16:\n",
        "        raise ValueError(\"Основание должно быть от 2 до 16\")\n",
        "\n",
        "    digits = \"0123456789ABCDEF\"\n",
        "    number_str = number_str.upper().strip()\n",
        "    if not all(c in digits[:base] for c in number_str if c not in '+-'):\n",
        "        raise ValueError(f\"Число содержит недопустимые символы для системы с основанием {base}\")\n",
        "\n",
        "    is_negative = number_str.startswith('-')\n",
        "    number_str = number_str.lstrip('+-')\n",
        "\n",
        "    result = 0\n",
        "    for i, char in enumerate(reversed(number_str)):\n",
        "        digit = digits.index(char)\n",
        "        result += digit * (base ** i)\n",
        "\n",
        "    return -result if is_negative else result\n",
        "\n",
        "# Из 10-й в другие\n",
        "print(from_decimal(42, 2))   # '101010'\n",
        "print(from_decimal(255, 16)) # 'FF'\n",
        "print(from_decimal(-10, 8))  # '-12'\n",
        "\n",
        "# Из других в 10-ю\n",
        "print(to_decimal('101010', 2))  # 42\n",
        "print(to_decimal('FF', 16))     # 255\n",
        "print(to_decimal('-12', 8))     # -10"
      ],
      "metadata": {
        "colab": {
          "base_uri": "https://localhost:8080/"
        },
        "id": "fAuO7H7SBRnz",
        "outputId": "e2ac83d7-aebb-4cd0-a369-d7eb90895c6a"
      },
      "execution_count": 7,
      "outputs": [
        {
          "output_type": "stream",
          "name": "stdout",
          "text": [
            "101010\n",
            "FF\n",
            "-12\n",
            "42\n",
            "255\n",
            "-10\n"
          ]
        }
      ]
    },
    {
      "cell_type": "markdown",
      "source": [
        "Задача №3.1.10:"
      ],
      "metadata": {
        "id": "E2BoCNVKB1dk"
      }
    },
    {
      "cell_type": "code",
      "source": [
        "from collections import Counter\n",
        "\n",
        "def char_statistics_enhanced(sentence, ignore_spaces=False, ignore_punctuation=False):\n",
        "    \"\"\"\n",
        "    :param sentence: входная строка\n",
        "    :param ignore_spaces: игнорировать пробелы\n",
        "    :param ignore_punctuation: игнорировать пунктуацию\n",
        "    :return: отсортированный словарь статистики\n",
        "    \"\"\"\n",
        "    # Приводим к нижнему регистру\n",
        "    processed = sentence.lower()\n",
        "\n",
        "    # Фильтрация при необходимости\n",
        "    if ignore_spaces:\n",
        "        processed = processed.replace(' ', '')\n",
        "    if ignore_punctuation:\n",
        "        processed = ''.join(c for c in processed if c.isalnum())\n",
        "\n",
        "    # Используем Counter для подсчета\n",
        "    stats = Counter(processed)\n",
        "\n",
        "    # Сортируем и выводим\n",
        "    for char, count in sorted(stats.items()):\n",
        "        print(f\"'{char}'={count}\")\n",
        "\n",
        "    return stats\n",
        "\n",
        "# Примеры использования\n",
        "print(\"\\nБез пробелов:\")\n",
        "char_statistics_enhanced(\"Hello World!\", ignore_spaces=True)\n",
        "\n",
        "print(\"\\nТолько буквы и цифры:\")\n",
        "char_statistics_enhanced(\"Python 3.9!\", ignore_punctuation=True)"
      ],
      "metadata": {
        "colab": {
          "base_uri": "https://localhost:8080/"
        },
        "id": "U346i6fDB4Q7",
        "outputId": "5cc764c0-c757-4794-dc5a-2184bfd745ac"
      },
      "execution_count": 8,
      "outputs": [
        {
          "output_type": "stream",
          "name": "stdout",
          "text": [
            "\n",
            "Без пробелов:\n",
            "'!'=1\n",
            "'d'=1\n",
            "'e'=1\n",
            "'h'=1\n",
            "'l'=3\n",
            "'o'=2\n",
            "'r'=1\n",
            "'w'=1\n",
            "\n",
            "Только буквы и цифры:\n",
            "'3'=1\n",
            "'9'=1\n",
            "'h'=1\n",
            "'n'=1\n",
            "'o'=1\n",
            "'p'=1\n",
            "'t'=1\n",
            "'y'=1\n"
          ]
        },
        {
          "output_type": "execute_result",
          "data": {
            "text/plain": [
              "Counter({'p': 1, 'y': 1, 't': 1, 'h': 1, 'o': 1, 'n': 1, '3': 1, '9': 1})"
            ]
          },
          "metadata": {},
          "execution_count": 8
        }
      ]
    },
    {
      "cell_type": "markdown",
      "source": [
        "Задача №3.1.11:"
      ],
      "metadata": {
        "id": "UiqYwaVlCZnI"
      }
    },
    {
      "cell_type": "code",
      "source": [
        "def caesar_cipher(text, shift, mode='encrypt'):\n",
        "    \"\"\"\n",
        "    Шифр Цезаря для русского алфавита\n",
        "\n",
        "    :param text: исходный текст\n",
        "    :param shift: величина сдвига (положительное число)\n",
        "    :param mode: 'encrypt' (зашифровать) или 'decrypt' (расшифровать)\n",
        "    :return: преобразованный текст\n",
        "    \"\"\"\n",
        "    ru_upper = 'АБВГДЕЁЖЗИЙКЛМНОПРСТУФХЦЧШЩЪЫЬЭЮЯ'\n",
        "    ru_lower = 'абвгдеёжзийклмнопрстуфхцчшщъыьэюя'\n",
        "    result = []\n",
        "\n",
        "    # Для дешифрования используем отрицательный сдвиг\n",
        "    if mode == 'decrypt':\n",
        "        shift = -shift\n",
        "\n",
        "    for char in text:\n",
        "        if char in ru_upper:\n",
        "            alphabet = ru_upper\n",
        "        elif char in ru_lower:\n",
        "            alphabet = ru_lower\n",
        "        else:\n",
        "            # Оставляем символы не из алфавита без изменений\n",
        "            result.append(char)\n",
        "            continue\n",
        "\n",
        "        # Вычисляем новую позицию с учетом сдвига\n",
        "        index = (alphabet.index(char) + shift) % len(alphabet)\n",
        "        result.append(alphabet[index])\n",
        "\n",
        "    return ''.join(result)\n",
        "\n",
        "# Пример использования\n",
        "original = \"Привет, Мир!\"\n",
        "shift = 5\n",
        "\n",
        "# Шифрование\n",
        "encrypted = caesar_cipher(original, shift, 'encrypt')\n",
        "print(f\"Зашифровано: {encrypted}\")  # Ухезч, Чнх!\n",
        "\n",
        "# Дешифрование\n",
        "decrypted = caesar_cipher(encrypted, shift, 'decrypt')\n",
        "print(f\"Расшифровано: {decrypted}\")  # Привет, Мир!"
      ],
      "metadata": {
        "colab": {
          "base_uri": "https://localhost:8080/"
        },
        "id": "v6YWqcTMCcJb",
        "outputId": "a4469498-260f-40ac-b198-ba4f4c0d6ad2"
      },
      "execution_count": 10,
      "outputs": [
        {
          "output_type": "stream",
          "name": "stdout",
          "text": [
            "Зашифровано: Фхнжйч, Снх!\n",
            "Расшифровано: Привет, Мир!\n"
          ]
        }
      ]
    },
    {
      "cell_type": "markdown",
      "source": [
        "Задача №3.1.12:"
      ],
      "metadata": {
        "id": "AMudYW_oEhVM"
      }
    },
    {
      "cell_type": "code",
      "source": [
        " def analyze_train(coaches):\n",
        "    \"\"\"\n",
        "    Анализирует занятость мест в вагоне-купе\n",
        "    :param coaches: список словарей с информацией о занятости купе\n",
        "    :return: словарь с результатами анализа\n",
        "    \"\"\"\n",
        "    result = {\n",
        "        'empty_coaches': [],\n",
        "        'all_free_seats': [],\n",
        "        'free_lower_seats': [],\n",
        "        'free_upper_seats': [],\n",
        "        'male_only_free_seats': [],\n",
        "        'female_only_free_seats': []\n",
        "    }\n",
        "\n",
        "    for coach_idx, coach in enumerate(coaches, 1):\n",
        "        # Свободные места в текущем купе\n",
        "        free_in_coach = [seat for seat, occup in coach.items() if occup is None]\n",
        "\n",
        "        # 1. Полностью свободные купе\n",
        "        if all(occup is None for occup in coach.values()):\n",
        "            result['empty_coaches'].append(coach_idx)\n",
        "\n",
        "        # 2. Все свободные места в вагоне\n",
        "        result['all_free_seats'].extend([(coach_idx, seat) for seat in free_in_coach])\n",
        "\n",
        "        # 3. Свободные нижние/верхние места\n",
        "        for seat in free_in_coach:\n",
        "            if seat % 2 == 1:  # Нечетные - нижние\n",
        "                result['free_lower_seats'].append((coach_idx, seat))\n",
        "            else:  # Четные - верхние\n",
        "                result['free_upper_seats'].append((coach_idx, seat))\n",
        "\n",
        "        # Занятые места\n",
        "        occupied = {seat: occup for seat, occup in coach.items() if occup is not None}\n",
        "\n",
        "        # 4. Купе с исключительно мужской компанией\n",
        "        if occupied and all(gender == 'м' for gender in occupied.values()):\n",
        "            result['male_only_free_seats'].extend([(coach_idx, seat) for seat in free_in_coach])\n",
        "\n",
        "        # 5. Купе с исключительно женской компанией\n",
        "        if occupied and all(gender == 'ж' for gender in occupied.values()):\n",
        "            result['female_only_free_seats'].extend([(coach_idx, seat) for seat in free_in_coach])\n",
        "\n",
        "    return result\n",
        "\n",
        "# Пример использования\n",
        "train = [\n",
        "    {1: 'м', 2: None, 3: None, 4: 'ж'},  # Купе 1\n",
        "    {1: None, 2: None, 3: None, 4: None}, # Купе 2 (пустое)\n",
        "    {1: 'м', 2: 'м', 3: None, 4: 'м'},    # Купе 3 (только мужчины)\n",
        "    {1: 'ж', 2: None, 3: 'ж', 4: None}     # Купе 4 (только женщины)\n",
        "]\n",
        "\n",
        "\n",
        "analysis = analyze_train(train)\n",
        "\n",
        "print(\"Полностью свободные купе:\", analysis['empty_coaches'])\n",
        "print(\"Все свободные места:\", analysis['all_free_seats'])\n",
        "print(\"Свободные нижние места:\", analysis['free_lower_seats'])\n",
        "print(\"Свободные верхние места:\", analysis['free_upper_seats'])\n",
        "print(\"Свободные места в мужских купе:\", analysis['male_only_free_seats'])\n",
        "print(\"Свободные места в женских купе:\", analysis['female_only_free_seats'])"
      ],
      "metadata": {
        "colab": {
          "base_uri": "https://localhost:8080/"
        },
        "id": "_G9EEQd_EjVd",
        "outputId": "afc173f0-90d6-4239-e756-125288e4847e"
      },
      "execution_count": 13,
      "outputs": [
        {
          "output_type": "stream",
          "name": "stdout",
          "text": [
            "Полностью свободные купе: [2]\n",
            "Все свободные места: [(1, 2), (1, 3), (2, 1), (2, 2), (2, 3), (2, 4), (3, 3), (4, 2), (4, 4)]\n",
            "Свободные нижние места: [(1, 3), (2, 1), (2, 3), (3, 3)]\n",
            "Свободные верхние места: [(1, 2), (2, 2), (2, 4), (4, 2), (4, 4)]\n",
            "Свободные места в мужских купе: [(3, 3)]\n",
            "Свободные места в женских купе: [(4, 2), (4, 4)]\n"
          ]
        }
      ]
    },
    {
      "cell_type": "markdown",
      "source": [
        "Задача №3.1.13:"
      ],
      "metadata": {
        "id": "g3AKedSuFT9f"
      }
    },
    {
      "cell_type": "code",
      "source": [
        "def election_results(votes):\n",
        "    # Создаем словарь для подсчета голосов\n",
        "    parties = {\n",
        "        1: {'name': 'Партия №1', 'votes': 0},\n",
        "        2: {'name': 'Партия №2', 'votes': 0},\n",
        "        3: {'name': 'Партия №3', 'votes': 0},\n",
        "        4: {'name': 'Партия №4', 'votes': 0},\n",
        "        5: {'name': 'Партия №5', 'votes': 0},\n",
        "        -1: {'name': 'Испорченные бланки', 'votes': 0}\n",
        "    }\n",
        "\n",
        "    # Подсчитываем голоса\n",
        "    for vote in votes:\n",
        "        parties[vote]['votes'] += 1\n",
        "\n",
        "    # Вычисляем общее количество действительных голосов (без испорченных бланков)\n",
        "    total_valid = sum(parties[i]['votes'] for i in range(1, 6))\n",
        "    total_all = len(votes)\n",
        "\n",
        "    # Сортируем партии по количеству голосов (по убыванию)\n",
        "    sorted_parties = sorted(\n",
        "        [party for party in parties.values() if party['name'] != 'Испорченные бланки'],\n",
        "        key=lambda x: x['votes'],\n",
        "        reverse=True\n",
        "    )\n",
        "\n",
        "    # Добавляем испорченные бланки в конец\n",
        "    sorted_parties.append(parties[-1])\n",
        "\n",
        "    # Выводим результаты\n",
        "    print(\"Результаты выборов:\")\n",
        "    for i, party in enumerate(sorted_parties, 1):\n",
        "        if party['name'] == 'Испорченные бланки':\n",
        "            percentage = (party['votes'] / total_all) * 100\n",
        "            print(f\"{i}. {party['name']} | {party['votes']:4} | {percentage:.2f}%\")\n",
        "        else:\n",
        "            percentage = (party['votes'] / total_valid) * 100 if total_valid > 0 else 0\n",
        "            print(f\"{i}. {party['name']} | {party['votes']:4} | {percentage:.2f}%\")\n",
        "\n",
        "# Пример использования\n",
        "votes = [1, 3, 2, 2, 2, 5, -1, 2, 4, 4, 4, 1, 3, 2, -1, 5, 5, 2]\n",
        "election_results(votes)"
      ],
      "metadata": {
        "colab": {
          "base_uri": "https://localhost:8080/"
        },
        "id": "bvXUPZ5GFWV7",
        "outputId": "8a0c5e37-cef7-48ce-99fa-3c890c2b8364"
      },
      "execution_count": 14,
      "outputs": [
        {
          "output_type": "stream",
          "name": "stdout",
          "text": [
            "Результаты выборов:\n",
            "1. Партия №2 |    6 | 37.50%\n",
            "2. Партия №4 |    3 | 18.75%\n",
            "3. Партия №5 |    3 | 18.75%\n",
            "4. Партия №1 |    2 | 12.50%\n",
            "5. Партия №3 |    2 | 12.50%\n",
            "6. Испорченные бланки |    2 | 11.11%\n"
          ]
        }
      ]
    },
    {
      "cell_type": "markdown",
      "source": [
        "Задача №3.1.14:"
      ],
      "metadata": {
        "id": "3VjJVDcgt0ng"
      }
    },
    {
      "cell_type": "code",
      "source": [
        "#1 вариант\n",
        "def arg(*a):\n",
        "    s = list(filter(lambda x: x<0, a))\n",
        "    d = list(filter(lambda x: x>0, a))\n",
        "\n",
        "    g = sorted(s, reverse=True)\n",
        "    w = sorted(d)\n",
        "\n",
        "    return (g, w)\n",
        "\n",
        "print(arg(9, 7, -1, 0, -3, 4))\n",
        "\n",
        "#2 вариант\n",
        "def arg2(*a):\n",
        "    list = []\n",
        "    list_2 = []\n",
        "    for i in a:\n",
        "        if i<0:\n",
        "            list.append(i)\n",
        "        else:\n",
        "            list_2.append(i)\n",
        "\n",
        "    list.sort(reverse=True)\n",
        "    list_2.sort()\n",
        "    return (list, list_2)\n",
        "print(arg2(5, -8, 7, -2, 3))"
      ],
      "metadata": {
        "id": "6XcIs_kot5oX",
        "colab": {
          "base_uri": "https://localhost:8080/"
        },
        "outputId": "7c4fa2c9-b86b-4d65-c731-be70807d4482"
      },
      "execution_count": 4,
      "outputs": [
        {
          "output_type": "stream",
          "name": "stdout",
          "text": [
            "([-1, -3], [4, 7, 9])\n",
            "([-2, -8], [3, 5, 7])\n"
          ]
        }
      ]
    },
    {
      "cell_type": "markdown",
      "source": [
        "Задача №3.1.15:"
      ],
      "metadata": {
        "id": "pToS_BP_FJfE"
      }
    },
    {
      "cell_type": "code",
      "source": [
        "def calculate_gdp(c, i, g, ex, im):\n",
        "    \"\"\"\n",
        "    Вычисляет ВВП по формуле: Y = C + I + G + Ex - Im\n",
        "    :param c: конечное потребление\n",
        "    :param i: валовое накопление капитала\n",
        "    :param g: государственные расходы\n",
        "    :param ex: экспорт\n",
        "    :param im: импорт\n",
        "    :return: значение ВВП\n",
        "    \"\"\"\n",
        "    return c + i + g + ex - im\n",
        "\n",
        "# Ввод данных с клавиатуры\n",
        "print(\"Введите показатели для расчета ВВП (целые числа):\")\n",
        "c = int(input(\"Конечное потребление (C): \"))\n",
        "i = int(input(\"Валовое накопление капитала (I): \"))\n",
        "g = int(input(\"Государственные расходы (G): \"))\n",
        "ex = int(input(\"Экспорт (Ex): \"))\n",
        "im = int(input(\"Импорт (Im): \"))\n",
        "\n",
        "# Сохраняем в список (в порядке C, I, G, Ex, Im)\n",
        "gdp_list = [c, i, g, ex, im]\n",
        "\n",
        "# Сохраняем в словарь\n",
        "gdp_dict = {\n",
        "    'c': c,\n",
        "    'i': i,\n",
        "    'g': g,\n",
        "    'ex': ex,\n",
        "    'im': im\n",
        "}\n",
        "\n",
        "# Расчет ВВП разными способами\n",
        "# 1. Прямая передача параметров\n",
        "gdp1 = calculate_gdp(c, i, g, ex, im)\n",
        "\n",
        "# 2. Использование распаковки списка\n",
        "gdp2 = calculate_gdp(*gdp_list)\n",
        "\n",
        "# 3. Использование распаковки словаря (именованные параметры)\n",
        "gdp3 = calculate_gdp(**gdp_dict)\n",
        "\n",
        "# Вывод результатов\n",
        "print(\"\\nРезультаты расчета ВВП:\")\n",
        "print(f\"Способ 1 (прямые значения): {gdp1}\")\n",
        "print(f\"Способ 2 (распаковка списка): {gdp2}\")\n",
        "print(f\"Способ 3 (распаковка словаря): {gdp3}\")\n",
        "\n",
        "# Проверка совпадения результатов\n",
        "if gdp1 == gdp2 == gdp3:\n",
        "    print(\"Все методы расчета дали одинаковый результат!\")\n",
        "else:\n",
        "    print(\"Ошибка в расчетах - результаты не совпадают!\")"
      ],
      "metadata": {
        "colab": {
          "base_uri": "https://localhost:8080/"
        },
        "id": "xDSm4rpEFNFQ",
        "outputId": "2f6681a4-8c87-4fc4-c2f1-e04a2e16b8d8"
      },
      "execution_count": 15,
      "outputs": [
        {
          "output_type": "stream",
          "name": "stdout",
          "text": [
            "Введите показатели для расчета ВВП (целые числа):\n",
            "Конечное потребление (C): 56\n",
            "Валовое накопление капитала (I): 87\n",
            "Государственные расходы (G): 12\n",
            "Экспорт (Ex): 7\n",
            "Импорт (Im): 54\n",
            "\n",
            "Результаты расчета ВВП:\n",
            "Способ 1 (прямые значения): 108\n",
            "Способ 2 (распаковка списка): 108\n",
            "Способ 3 (распаковка словаря): 108\n",
            "Все методы расчета дали одинаковый результат!\n"
          ]
        }
      ]
    },
    {
      "cell_type": "markdown",
      "source": [
        "Задача №3.1.16:"
      ],
      "metadata": {
        "id": "i2s-dRk5AhSU"
      }
    },
    {
      "cell_type": "code",
      "source": [
        "# Функция возведения числа в степень\n",
        "def qvadro(n):\n",
        "  return n ** s\n",
        "\n",
        "n = int(input(\"Введите число n: \"))\n",
        "s = int(input(\"Введите степень s: \"))\n",
        "\n",
        "print(qvadro(n))"
      ],
      "metadata": {
        "colab": {
          "base_uri": "https://localhost:8080/"
        },
        "id": "0HN7MCv2BuZ9",
        "outputId": "ac7b6818-503e-4d70-cb1c-f4091d3bc918"
      },
      "execution_count": null,
      "outputs": [
        {
          "output_type": "stream",
          "name": "stdout",
          "text": [
            "Введите число n: 2\n",
            "Введите степень s: 5\n",
            "32\n"
          ]
        }
      ]
    },
    {
      "cell_type": "code",
      "source": [
        "# Рекурсивная функция возведения числа в степень\n",
        "def number(n, s):\n",
        "  while s != 0:\n",
        "    if s>0:\n",
        "      return number(n**s, s)\n",
        "    elif s<0:\n",
        "      print(\"Ошибка, введите степень больше 0!\")\n",
        "  if s==0:\n",
        "    return 1\n",
        "n = int(input(\"Введите число n: \"))\n",
        "s = int(input(\"Введите степень s: \"))\n",
        "print(number(n, s))"
      ],
      "metadata": {
        "colab": {
          "base_uri": "https://localhost:8080/"
        },
        "id": "UofcQBqLCreL",
        "outputId": "620fe433-1a9e-4a7d-cd27-281409a49b67"
      },
      "execution_count": null,
      "outputs": [
        {
          "name": "stdout",
          "output_type": "stream",
          "text": [
            "Введите число n: 2\n",
            "Введите степень s: 5\n"
          ]
        }
      ]
    },
    {
      "cell_type": "markdown",
      "source": [
        "Задача №3.1.17:"
      ],
      "metadata": {
        "id": "sUA8X8UrIkka"
      }
    },
    {
      "cell_type": "code",
      "source": [
        "def sum_digits(n):\n",
        "    \"\"\"\n",
        "    Рекурсивно вычисляет сумму цифр натурального числа\n",
        "    :param n: натуральное число\n",
        "    :return: сумма цифр числа\n",
        "    \"\"\"\n",
        "    if n < 10:\n",
        "        return n\n",
        "    return n % 10 + sum_digits(n // 10)\n",
        "\n",
        "def count_digits(n):\n",
        "    \"\"\"\n",
        "    Рекурсивно вычисляет количество цифр в натуральном числе\n",
        "    :param n: натуральное число\n",
        "    :return: количество цифр\n",
        "    \"\"\"\n",
        "    if n < 10:\n",
        "        return 1\n",
        "    return 1 + count_digits(n // 10)\n",
        "\n",
        "# Пример использования\n",
        "number = int(input(\"Введите натуральное число: \"))\n",
        "\n",
        "print(f\"Сумма цифр числа {number}: {sum_digits(number)}\")\n",
        "print(f\"Количество цифр в числе {number}: {count_digits(number)}\")"
      ],
      "metadata": {
        "colab": {
          "base_uri": "https://localhost:8080/"
        },
        "id": "_hVYu8CPIr5e",
        "outputId": "380b0ddd-5f2f-4a01-ef47-eafc0aacd196"
      },
      "execution_count": 18,
      "outputs": [
        {
          "output_type": "stream",
          "name": "stdout",
          "text": [
            "Введите натуральное число: 456\n",
            "Сумма цифр числа 456: 15\n",
            "Количество цифр в числе 456: 3\n"
          ]
        }
      ]
    }
  ]
}