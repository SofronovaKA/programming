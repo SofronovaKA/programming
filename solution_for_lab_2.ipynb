{
  "nbformat": 4,
  "nbformat_minor": 0,
  "metadata": {
    "colab": {
      "provenance": [],
      "authorship_tag": "ABX9TyPSzAZCQ3AnrsgYViCiQIuI",
      "include_colab_link": true
    },
    "kernelspec": {
      "name": "python3",
      "display_name": "Python 3"
    },
    "language_info": {
      "name": "python"
    }
  },
  "cells": [
    {
      "cell_type": "markdown",
      "metadata": {
        "id": "view-in-github",
        "colab_type": "text"
      },
      "source": [
        "<a href=\"https://colab.research.google.com/github/SofronovaKA/programming/blob/main/solution_for_lab_2.ipynb\" target=\"_parent\"><img src=\"https://colab.research.google.com/assets/colab-badge.svg\" alt=\"Open In Colab\"/></a>"
      ]
    },
    {
      "cell_type": "markdown",
      "source": [
        "Задача №2.1:"
      ],
      "metadata": {
        "id": "nGkL5KqoF6XX"
      }
    },
    {
      "cell_type": "code",
      "source": [
        "x = float(input())\n",
        "\n",
        "if x>=0:\n",
        "  f = x**0.5 + x**2\n",
        "  print(round(f, 2))\n",
        "else:\n",
        "  f = 1/x\n",
        "  print(round(f, 2))"
      ],
      "metadata": {
        "id": "c5WcSFz9GDi_",
        "outputId": "0e9a312e-6964-4c81-d736-df926661d5c4",
        "colab": {
          "base_uri": "https://localhost:8080/"
        }
      },
      "execution_count": null,
      "outputs": [
        {
          "output_type": "stream",
          "name": "stdout",
          "text": [
            "4\n",
            "18.0\n"
          ]
        }
      ]
    },
    {
      "cell_type": "markdown",
      "source": [
        "Задача 2.2:"
      ],
      "metadata": {
        "id": "vavWVrLYGGQd"
      }
    },
    {
      "cell_type": "code",
      "source": [
        "a = int(input())\n",
        "b = int(input())\n",
        "\n",
        "if a>b:\n",
        "  print(f\"{a} - максимальное число, {b} - минимальное\")\n",
        "else:\n",
        "  print(f\"{b} - максимальное число, {a} - минимальное\")"
      ],
      "metadata": {
        "id": "rBZosVl_GH44",
        "colab": {
          "base_uri": "https://localhost:8080/"
        },
        "outputId": "36ccf9bb-992c-42bc-fe29-0edda25ec35f"
      },
      "execution_count": null,
      "outputs": [
        {
          "output_type": "stream",
          "name": "stdout",
          "text": [
            "4\n",
            "6\n",
            "6 - максимальное число, 4 - минимальное\n"
          ]
        }
      ]
    },
    {
      "cell_type": "markdown",
      "source": [
        "Задача 2.3:"
      ],
      "metadata": {
        "id": "OMfPoHeBGJ4E"
      }
    },
    {
      "cell_type": "code",
      "source": [
        "a = int(input())\n",
        "b = int(input())\n",
        "d = int(input())\n",
        "\n",
        "if d+2 <= a and d+2 <= b:\n",
        "  print(\"Вася сможет высунуть голову в форточку\")\n",
        "else:\n",
        "  print(\"Вася не сможет высунуть голову в форточку\")"
      ],
      "metadata": {
        "colab": {
          "base_uri": "https://localhost:8080/"
        },
        "id": "PnVB1uCKGLz_",
        "outputId": "0da6afde-f918-451b-e102-07e84252b07d"
      },
      "execution_count": null,
      "outputs": [
        {
          "output_type": "stream",
          "name": "stdout",
          "text": [
            "40\n",
            "30\n",
            "20\n",
            "Вася сможет высунуть голову в форточку\n"
          ]
        }
      ]
    },
    {
      "cell_type": "markdown",
      "source": [
        "Задача №2.4:"
      ],
      "metadata": {
        "id": "Rr3QHLoKNlqB"
      }
    },
    {
      "cell_type": "code",
      "source": [
        "number_year = int(input(\"Введите текущий год: \"))\n",
        "number_month = int(input(\"Введите номер текущего месяца: \"))\n",
        "birthday_number_year = int(input(\"Введите год рождения: \"))\n",
        "birthday_number_month = int(input(\"Введите номер месяца рождения: \"))\n",
        "\n",
        "if number_month > birthday_number_month:\n",
        "  age = number_year - birthday_number_year\n",
        "  print(f\"Возраст человека - {age} лет\")\n",
        "else:\n",
        "  print(f\"Возраст человека - {age-1} лет\")"
      ],
      "metadata": {
        "id": "85MF8_bdNoGR",
        "colab": {
          "base_uri": "https://localhost:8080/"
        },
        "outputId": "d33d6f9f-d332-43e7-b67f-386e324bce9c"
      },
      "execution_count": null,
      "outputs": [
        {
          "output_type": "stream",
          "name": "stdout",
          "text": [
            "Введите текущий год: 2025\n",
            "Введите номер текущего месяца: 3\n",
            "Введите год рождения: 2008\n",
            "Введите номер месяца рождения: 2\n",
            "Возраст человека - 17 лет\n"
          ]
        }
      ]
    },
    {
      "cell_type": "markdown",
      "source": [
        "Задача №2.5:"
      ],
      "metadata": {
        "id": "zMXLtkQiR-v-"
      }
    },
    {
      "cell_type": "code",
      "source": [
        "x = int(input())\n",
        "y = int(input())\n",
        "\n",
        "if x > 0 and y > 0:\n",
        "  print(\"Точка находится в 1 четверти\")\n",
        "if x < 0 and y > 0:\n",
        "  print(\"Точка находится во 2 четверти\")\n",
        "if x < 0 and y < 0:\n",
        "  print(\"Точка находится в 3 четверти\")\n",
        "if x > 0 and y < 0:\n",
        "  print(\"Точка находится в 4 четверти\")"
      ],
      "metadata": {
        "id": "LCAsXvxhSFwP",
        "colab": {
          "base_uri": "https://localhost:8080/"
        },
        "outputId": "c0c8a454-42f1-4bf1-c55e-21b8790c65c5"
      },
      "execution_count": null,
      "outputs": [
        {
          "output_type": "stream",
          "name": "stdout",
          "text": [
            "3\n",
            "-4\n",
            "Точка находится в 4 четверти\n"
          ]
        }
      ]
    },
    {
      "cell_type": "markdown",
      "source": [
        "Задача №2.6:"
      ],
      "metadata": {
        "id": "GR3iGnf7UPOA"
      }
    },
    {
      "cell_type": "code",
      "source": [
        "a = float(input())\n",
        "b = float(input())\n",
        "c = float(input())\n",
        "\n",
        "def quadro(a, b, c):\n",
        "\n",
        "    D = b**2 - 4*a*c\n",
        "\n",
        "    if D > 0:\n",
        "        x1 = (-b + math.sqrt(D)) / (2*a)\n",
        "        x2 = (-b - math.sqrt(D)) / (2*a)\n",
        "        return round(x1, 1), round(x2, 1)\n",
        "    elif D == 0:\n",
        "        x = (-b) / (2 * a)\n",
        "        return round(x, 1)\n",
        "    else:\n",
        "        return \"Нет вещественных корней\"\n",
        "\n",
        "print(quadro(a, b, c))"
      ],
      "metadata": {
        "colab": {
          "base_uri": "https://localhost:8080/"
        },
        "id": "L1EAfwUYUSal",
        "outputId": "9f7d799b-07fd-45f9-8d93-a83d582ae07d"
      },
      "execution_count": null,
      "outputs": [
        {
          "output_type": "stream",
          "name": "stdout",
          "text": [
            "4\n",
            "20\n",
            "2\n",
            "(-0.1, -4.9)\n"
          ]
        }
      ]
    },
    {
      "cell_type": "markdown",
      "source": [
        "Задача №2.7:"
      ],
      "metadata": {
        "id": "vtgMez9Yo7ab"
      }
    },
    {
      "cell_type": "code",
      "source": [
        "total = 0\n",
        "count = 0\n",
        "\n",
        "isNull = False\n",
        "while (not isNull):\n",
        "  a = int(input())\n",
        "  if (a==0):\n",
        "    isNull = True\n",
        "  else:\n",
        "    count = count + 1\n",
        "    total = total + a\n",
        "\n",
        "print(f'Сумма чисел: {total}')\n",
        "print(f'Количество чисел: {count}')"
      ],
      "metadata": {
        "colab": {
          "base_uri": "https://localhost:8080/"
        },
        "id": "sLVem6lzo9yy",
        "outputId": "a9e3e908-526e-4156-a850-0c448752db30"
      },
      "execution_count": null,
      "outputs": [
        {
          "output_type": "stream",
          "name": "stdout",
          "text": [
            "6754\n",
            "89\n",
            "90\n",
            "0\n",
            "Сумма чисел: 6933\n",
            "Количество чисел: 3\n"
          ]
        }
      ]
    },
    {
      "cell_type": "markdown",
      "source": [
        "Задача №2.8:"
      ],
      "metadata": {
        "id": "8ZF-DvRIZ_tQ"
      }
    },
    {
      "cell_type": "code",
      "source": [
        "n = int(input())\n",
        "\n",
        "for i in range (0, n, 5):\n",
        "  print(i)"
      ],
      "metadata": {
        "colab": {
          "base_uri": "https://localhost:8080/"
        },
        "id": "fzGM9EIrar10",
        "outputId": "2cc18989-c391-44a5-ae15-78fc6c465a96"
      },
      "execution_count": null,
      "outputs": [
        {
          "output_type": "stream",
          "name": "stdout",
          "text": [
            "29\n",
            "0\n",
            "5\n",
            "10\n",
            "15\n",
            "20\n",
            "25\n"
          ]
        }
      ]
    },
    {
      "cell_type": "markdown",
      "source": [
        "Задача №2.9:"
      ],
      "metadata": {
        "id": "Q0jhrN10G7y4"
      }
    },
    {
      "cell_type": "code",
      "source": [
        "a = int(input())\n",
        "sum = 0\n",
        "counter = 0\n",
        "\n",
        "while (a>=sum):\n",
        "  counter = counter + 1\n",
        "  sum = sum + 1/counter\n",
        "print(counter)"
      ],
      "metadata": {
        "colab": {
          "base_uri": "https://localhost:8080/"
        },
        "id": "F5-SAhUIG_Zl",
        "outputId": "cc8f72e2-fea5-41d3-e94c-61e9bff5c120"
      },
      "execution_count": null,
      "outputs": [
        {
          "output_type": "stream",
          "name": "stdout",
          "text": [
            "6\n",
            "227\n"
          ]
        }
      ]
    },
    {
      "cell_type": "markdown",
      "source": [
        "Задача №2.10:"
      ],
      "metadata": {
        "id": "Xw84CF9JLo4l"
      }
    },
    {
      "cell_type": "code",
      "source": [
        "n = int(input())\n",
        "sum = 0\n",
        "count = 0\n",
        "\n",
        "while n!=0:\n",
        "  s = n % 10\n",
        "  sum = sum + s\n",
        "  count = count + 1\n",
        "  n = n//10\n",
        "print(sum, count)"
      ],
      "metadata": {
        "colab": {
          "base_uri": "https://localhost:8080/"
        },
        "id": "H-eYMIQILrJv",
        "outputId": "5ca7679e-69fe-4f46-9774-3deb14fe67c6"
      },
      "execution_count": null,
      "outputs": [
        {
          "output_type": "stream",
          "name": "stdout",
          "text": [
            "1234\n",
            "10 4\n"
          ]
        }
      ]
    },
    {
      "cell_type": "markdown",
      "source": [
        "Задача №2.11:"
      ],
      "metadata": {
        "id": "Mc_p2KFmr4_a"
      }
    },
    {
      "cell_type": "code",
      "source": [
        "k = int(input())\n",
        "s = int(input())\n",
        "start = int(input())\n",
        "\n",
        "m = []\n",
        "while len(m)<10:\n",
        "  if start % 10 == k and start % s == 0:\n",
        "    m.append(str(start))\n",
        "\n",
        "  start = start + 1\n",
        "  string = \" \".join(m)\n",
        "print(string)"
      ],
      "metadata": {
        "colab": {
          "base_uri": "https://localhost:8080/"
        },
        "id": "hSeFePTVr7mt",
        "outputId": "407e6a6a-07ce-49a3-e33a-5d16ac81a752"
      },
      "execution_count": null,
      "outputs": [
        {
          "output_type": "stream",
          "name": "stdout",
          "text": [
            "6\n",
            "2\n",
            "12\n",
            "16 26 36 46 56 66 76 86 96 106\n"
          ]
        }
      ]
    },
    {
      "cell_type": "markdown",
      "source": [
        "Задача №2.12:"
      ],
      "metadata": {
        "id": "Rnalqeofteds"
      }
    },
    {
      "cell_type": "code",
      "source": [
        "# Ввод целых чисел a и b\n",
        "a = int(input(\"Введите число a: \"))\n",
        "b = int(input(\"Введите число b: \"))\n",
        "\n",
        "# Определение минимального и максимального числа\n",
        "min_num = min(a, b)\n",
        "max_num = max(a, b)\n",
        "\n",
        "# Вывод чисел от минимального до максимального в строку\n",
        "print(\"Числа от минимального до максимального в строку:\")\n",
        "print(\" \".join(map(str, range(min_num, max_num + 1))))\n",
        "\n",
        "# Вывод чисел от максимального до минимального в столбик\n",
        "print(\"\\nЧисла от максимального до минимального в столбик:\")\n",
        "for num in range(max_num, min_num - 1, -1):\n",
        "    print(num)"
      ],
      "metadata": {
        "colab": {
          "base_uri": "https://localhost:8080/"
        },
        "id": "AuxS8KBOtgw4",
        "outputId": "f3382a60-b0cb-4026-831f-1e2e57390d29"
      },
      "execution_count": null,
      "outputs": [
        {
          "output_type": "stream",
          "name": "stdout",
          "text": [
            "Введите число a: 5\n",
            "Введите число b: 15\n",
            "Числа от минимального до максимального в строку:\n",
            "5 6 7 8 9 10 11 12 13 14 15\n",
            "\n",
            "Числа от максимального до минимального в столбик:\n",
            "15\n",
            "14\n",
            "13\n",
            "12\n",
            "11\n",
            "10\n",
            "9\n",
            "8\n",
            "7\n",
            "6\n",
            "5\n"
          ]
        }
      ]
    },
    {
      "cell_type": "markdown",
      "source": [
        "Задача №2.18:"
      ],
      "metadata": {
        "id": "r4hu_dXZaZoY"
      }
    },
    {
      "cell_type": "code",
      "source": [
        "sentense = input()\n",
        "count_a = 0\n",
        "count_b = 0\n",
        "\n",
        "m = 'аоуыэяёюие'\n",
        "for char in sentense:\n",
        "  if char == \" \": continue\n",
        "  elif char in m:\n",
        "    count_a = count_a + 1\n",
        "  else:\n",
        "    count_b = count_b + 1\n",
        "\n",
        "print(count_a)\n",
        "print(count_b)"
      ],
      "metadata": {
        "colab": {
          "base_uri": "https://localhost:8080/"
        },
        "id": "pu8oQ08Kab-4",
        "outputId": "cdb0df0a-8a25-4d04-c716-1b3195b36fbb"
      },
      "execution_count": null,
      "outputs": [
        {
          "output_type": "stream",
          "name": "stdout",
          "text": [
            "Привет\n",
            "2\n",
            "4\n"
          ]
        }
      ]
    },
    {
      "cell_type": "markdown",
      "source": [
        "Напищите программу, которая сортирует список чисел по убыванию и выводит его."
      ],
      "metadata": {
        "id": "Vn3Bt-hiohhI"
      }
    },
    {
      "cell_type": "code",
      "source": [
        "s = input()\n",
        "\n",
        "modified_string = s.replace('a', 'A')\n",
        "count_a = s.count('a')\n",
        "\n",
        "print(f\"Измененная строка: {modified_string}\")\n",
        "print(f\"Количество символов 'a': {count_a}\")"
      ],
      "metadata": {
        "colab": {
          "base_uri": "https://localhost:8080/"
        },
        "id": "aStUZf5re0sm",
        "outputId": "f1f2cb66-842b-47de-91e6-ce620112ab91"
      },
      "execution_count": null,
      "outputs": [
        {
          "output_type": "stream",
          "name": "stdout",
          "text": [
            "banana\n",
            "Измененная строка: bAnAnA\n",
            "Количество символов 'a': 3\n"
          ]
        }
      ]
    },
    {
      "cell_type": "markdown",
      "source": [
        "Дана точка с целыми ненулевыми координатами (x;y). Определить номер четверти\n",
        "координатной плоскости, которой она принадлежит. (Входные данные: 3 4 и 0 0), запрос повтора программы."
      ],
      "metadata": {
        "id": "MK-CUg6ToFaG"
      }
    },
    {
      "cell_type": "code",
      "source": [
        "for i in range(2):\n",
        "  x = int(input())\n",
        "  y = int(input())\n",
        "\n",
        "  if x>0 and y>0:\n",
        "    print(\"Точка находится в первой четверти.\")\n",
        "  elif x<0 and y>0:\n",
        "    print(\"Точка находится во второй четверти.\")\n",
        "  elif x<0 and y>0:\n",
        "    print(\"Точка находится в третьей четверти.\")\n",
        "  elif x<0 and y<0:\n",
        "    print(\"Точка находится в четвертой четверти.\")\n",
        "  else:\n",
        "    print(\"Точка лежит на оси.\")"
      ],
      "metadata": {
        "colab": {
          "base_uri": "https://localhost:8080/"
        },
        "id": "9n9UvCi0jy-P",
        "outputId": "29503ca5-dc80-4e02-8796-cb4561f8f914"
      },
      "execution_count": null,
      "outputs": [
        {
          "output_type": "stream",
          "name": "stdout",
          "text": [
            "3\n",
            "4\n",
            "Точка находится в первой четверти.\n",
            "0\n",
            "0\n",
            "Точка лежит на оси.\n"
          ]
        }
      ]
    },
    {
      "cell_type": "markdown",
      "source": [
        "Задача №2.19:"
      ],
      "metadata": {
        "id": "T7pWKgMreSGu"
      }
    },
    {
      "cell_type": "code",
      "source": [
        "a = int(input())\n",
        "b = int(input())\n",
        "c = int(input())\n",
        "\n",
        "for i in range(a, b + 1):\n",
        "    if i % c == 0:\n",
        "        print(i, end=\" \")"
      ],
      "metadata": {
        "colab": {
          "base_uri": "https://localhost:8080/"
        },
        "id": "W9RGoWC3wJDX",
        "outputId": "5448562d-94f6-4e28-b394-1c809f6fcc15"
      },
      "execution_count": null,
      "outputs": [
        {
          "output_type": "stream",
          "name": "stdout",
          "text": [
            "Введите целое число a: 5\n",
            "Введите целое число b: 20\n",
            "Введите целое число c: 5\n",
            "Числа от 5 до 20, кратные 5:\n",
            "5 10 15 20 "
          ]
        }
      ]
    },
    {
      "cell_type": "markdown",
      "source": [
        "Задача №2.23:"
      ],
      "metadata": {
        "id": "_1MSDmgEx936"
      }
    },
    {
      "cell_type": "code",
      "source": [
        "def is_fibonacci(n):\n",
        "    try:\n",
        "        n = int(n)\n",
        "        if n < 0:\n",
        "            return False\n",
        "        a, b = 0, 1\n",
        "\n",
        "        while b < n:\n",
        "            a, b = b, a + b\n",
        "\n",
        "        return b == n or n == 0\n",
        "\n",
        "    except (ValueError, TypeError):\n",
        "        return False\n",
        "\n",
        "user_input = input()\n",
        "\n",
        "if is_fibonacci(user_input):\n",
        "    print(f\"{user_input} является членом последовательности Фибоначчи.\")\n",
        "else:\n",
        "    print(f\"{user_input} не является членом последовательности Фибоначчи.\")"
      ],
      "metadata": {
        "colab": {
          "base_uri": "https://localhost:8080/"
        },
        "id": "7fK6ixAGoPV_",
        "outputId": "eafba04c-2f41-422d-fcee-55fe75a19ce0"
      },
      "execution_count": null,
      "outputs": [
        {
          "output_type": "stream",
          "name": "stdout",
          "text": [
            "9\n",
            "9 не является членом последовательности Фибоначчи.\n"
          ]
        }
      ]
    },
    {
      "cell_type": "code",
      "source": [
        "def is_fibonacci(n):\n",
        "  try:\n",
        "      n = int(input())\n",
        "      if n<0:\n",
        "        return False\n",
        "      a, b = 0, 1\n",
        "\n",
        "      while b<n:\n",
        "        a, b = b, a + b\n",
        "\n",
        "      return b == n or n == 0\n",
        "\n",
        "  except (ValueError, TypeError):\n",
        "      return False\n",
        "\n",
        "if is_fibonacci(n):\n",
        "  print(f\"{n} является членом последовательности Фибоначчи.\")\n",
        "else:\n",
        "  print(f\"{n} является членом последовательности Фибоначчи.\")"
      ],
      "metadata": {
        "colab": {
          "base_uri": "https://localhost:8080/"
        },
        "id": "UcdsELiYpQwZ",
        "outputId": "1361f867-ab73-46b2-94a3-3f9ae44f10d8"
      },
      "execution_count": null,
      "outputs": [
        {
          "output_type": "stream",
          "name": "stdout",
          "text": [
            "0\n",
            "-5 является членом последовательности Фибоначчи.\n"
          ]
        }
      ]
    },
    {
      "cell_type": "markdown",
      "source": [
        "Задача №2.25:"
      ],
      "metadata": {
        "id": "Cxv9qcbYz9nT"
      }
    },
    {
      "cell_type": "code",
      "source": [
        "n = int(input())\n",
        "\n",
        "if n>2 and n<=9:\n",
        "  for i in range(1, n+1):\n",
        "    for j in range(1, n+1):\n",
        "      print(f\"{i} * {j} = {i*j}\", end = \"\\t\")\n",
        "    print()"
      ],
      "metadata": {
        "colab": {
          "base_uri": "https://localhost:8080/"
        },
        "id": "GN25cmRzz_Qk",
        "outputId": "451dead5-703d-4789-a762-037547ffb13a"
      },
      "execution_count": null,
      "outputs": [
        {
          "output_type": "stream",
          "name": "stdout",
          "text": [
            "4\n",
            "1 * 1 = 1\t1 * 2 = 2\t1 * 3 = 3\t1 * 4 = 4\t\n",
            "2 * 1 = 2\t2 * 2 = 4\t2 * 3 = 6\t2 * 4 = 8\t\n",
            "3 * 1 = 3\t3 * 2 = 6\t3 * 3 = 9\t3 * 4 = 12\t\n",
            "4 * 1 = 4\t4 * 2 = 8\t4 * 3 = 12\t4 * 4 = 16\t\n"
          ]
        }
      ]
    },
    {
      "cell_type": "markdown",
      "source": [
        "Задача №2.26:"
      ],
      "metadata": {
        "id": "xJeSJWK84-mL"
      }
    },
    {
      "cell_type": "code",
      "source": [
        "n = int(input(\"Введите число n: \"))\n",
        "\n",
        "# Функция для подсчета количества делителей числа\n",
        "def count_divisors(num):\n",
        "    count = 0\n",
        "    for i in range(1, num + 1):\n",
        "        if num % i == 0:  # Если i делит num без остатка\n",
        "            count += 1\n",
        "    return count\n",
        "\n",
        "# Вывод чисел от 1 до n с символами *\n",
        "for num in range(1, n + 1):\n",
        "    divisors = count_divisors(num)  # Количество делителей\n",
        "    print(f\"{num} {'*' * divisors}\")"
      ],
      "metadata": {
        "colab": {
          "base_uri": "https://localhost:8080/"
        },
        "id": "_iYfgfiS5Abo",
        "outputId": "3ae2e259-5c17-4ee2-e274-715cca21bc47"
      },
      "execution_count": null,
      "outputs": [
        {
          "output_type": "stream",
          "name": "stdout",
          "text": [
            "Введите число n: 5\n",
            "1 *\n",
            "2 **\n",
            "3 **\n",
            "4 ***\n",
            "5 **\n"
          ]
        }
      ]
    },
    {
      "cell_type": "code",
      "source": [
        "n = int(input())\n",
        "def count_divisors(num):\n",
        "  d = 0\n",
        "  for i in range(1, num + 1):\n",
        "    if num % i == 0:\n",
        "      d += 1\n",
        "    return d\n",
        "for\n",
        "    print(f\"{num} {'*' * d}\")"
      ],
      "metadata": {
        "colab": {
          "base_uri": "https://localhost:8080/"
        },
        "id": "EtIpqG2j6Wx8",
        "outputId": "bf6f09a9-c954-43c6-db8b-da774d411b16"
      },
      "execution_count": null,
      "outputs": [
        {
          "output_type": "stream",
          "name": "stdout",
          "text": [
            "5\n",
            "5 *\n",
            "5 *\n",
            "5 *\n",
            "5 *\n",
            "5 **\n"
          ]
        }
      ]
    },
    {
      "cell_type": "markdown",
      "source": [
        "Задача №2.34:"
      ],
      "metadata": {
        "id": "4kxE8ReKh2U0"
      }
    },
    {
      "cell_type": "code",
      "source": [
        "#{\"name\": \"\", \"initial_sum\": 0, \"rate\": 0.0}\n",
        "\n"
      ],
      "metadata": {
        "id": "wPIPQg6oh5S1"
      },
      "execution_count": null,
      "outputs": []
    },
    {
      "cell_type": "code",
      "source": [
        "n = int(input())\n",
        "m = []\n",
        "\n",
        "for i in range(n):\n",
        "  a = input()\n",
        "  d = a.split(\" \")\n",
        "  m.append({\"name\": d[0], \"initial_sum\": int(d[1]), \"rate\": float(d[2])})\n",
        "\n",
        "min_sum = m[0][\"initial_sum\"]\n",
        "dostup = m[0][\"name\"]\n",
        "max_pr = m[0][\"initial_sum\"] * m[0][\"rate\"] / 100\n",
        "vigoda = m[0][\"name\"]\n",
        "\n",
        "for q in range(1, len(m)):\n",
        "  if (m[q][\"initial_sum\"] < min_sum):\n",
        "    min_sum = m[q][\"initial_sum\"]\n",
        "    dostup =  m[q][\"name\"]\n",
        "\n",
        "  d = m[q][\"initial_sum\"] * m[q][\"rate\"] / 100\n",
        "  if (d > max_pr):\n",
        "    max_pr = d\n",
        "    vigoda = m[q][\"name\"]\n",
        "\n",
        "\n",
        "print(dostup, vigoda)\n",
        "\n"
      ],
      "metadata": {
        "colab": {
          "base_uri": "https://localhost:8080/"
        },
        "id": "8jUH2-cEjQ_B",
        "outputId": "8f89f7ea-1fdb-4a3c-f65d-c5058e769394"
      },
      "execution_count": null,
      "outputs": [
        {
          "output_type": "stream",
          "name": "stdout",
          "text": [
            "2\n",
            "ggggg 55555 5.5\n",
            "kkkkk 33333 3.3\n",
            "kkkkk ggggg\n"
          ]
        }
      ]
    },
    {
      "cell_type": "code",
      "source": [],
      "metadata": {
        "id": "9NycrJ-8tbX_"
      },
      "execution_count": null,
      "outputs": []
    }
  ]
}