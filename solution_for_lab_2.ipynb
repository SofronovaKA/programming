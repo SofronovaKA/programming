{
  "nbformat": 4,
  "nbformat_minor": 0,
  "metadata": {
    "colab": {
      "provenance": [],
      "authorship_tag": "ABX9TyPkM4/n+Wb2IS0l1pRNrZ8i",
      "include_colab_link": true
    },
    "kernelspec": {
      "name": "python3",
      "display_name": "Python 3"
    },
    "language_info": {
      "name": "python"
    }
  },
  "cells": [
    {
      "cell_type": "markdown",
      "metadata": {
        "id": "view-in-github",
        "colab_type": "text"
      },
      "source": [
        "<a href=\"https://colab.research.google.com/github/SofronovaKA/programming/blob/main/solution_for_lab_2.ipynb\" target=\"_parent\"><img src=\"https://colab.research.google.com/assets/colab-badge.svg\" alt=\"Open In Colab\"/></a>"
      ]
    },
    {
      "cell_type": "markdown",
      "source": [
        "Задача №2.1:"
      ],
      "metadata": {
        "id": "nGkL5KqoF6XX"
      }
    },
    {
      "cell_type": "code",
      "source": [
        "x = float(input())\n",
        "\n",
        "if x>=0:\n",
        "  f = x**0.5 + x**2\n",
        "  print(round(f, 2))\n",
        "else:\n",
        "  f = 1/x\n",
        "  print(round(f, 2))"
      ],
      "metadata": {
        "id": "c5WcSFz9GDi_",
        "outputId": "0e9a312e-6964-4c81-d736-df926661d5c4",
        "colab": {
          "base_uri": "https://localhost:8080/"
        }
      },
      "execution_count": null,
      "outputs": [
        {
          "output_type": "stream",
          "name": "stdout",
          "text": [
            "4\n",
            "18.0\n"
          ]
        }
      ]
    },
    {
      "cell_type": "markdown",
      "source": [
        "Задача 2.2:"
      ],
      "metadata": {
        "id": "vavWVrLYGGQd"
      }
    },
    {
      "cell_type": "code",
      "source": [
        "a = int(input())\n",
        "b = int(input())\n",
        "\n",
        "if a>b:\n",
        "  print(f\"{a} - максимальное число, {b} - минимальное\")\n",
        "else:\n",
        "  print(f\"{b} - максимальное число, {a} - минимальное\")"
      ],
      "metadata": {
        "id": "rBZosVl_GH44",
        "colab": {
          "base_uri": "https://localhost:8080/"
        },
        "outputId": "36ccf9bb-992c-42bc-fe29-0edda25ec35f"
      },
      "execution_count": null,
      "outputs": [
        {
          "output_type": "stream",
          "name": "stdout",
          "text": [
            "4\n",
            "6\n",
            "6 - максимальное число, 4 - минимальное\n"
          ]
        }
      ]
    },
    {
      "cell_type": "markdown",
      "source": [
        "Задача 2.3:"
      ],
      "metadata": {
        "id": "OMfPoHeBGJ4E"
      }
    },
    {
      "cell_type": "code",
      "source": [
        "a = int(input())\n",
        "b = int(input())\n",
        "d = int(input())\n",
        "\n",
        "if d+2 <= a and d+2 <= b:\n",
        "  print(\"Вася сможет высунуть голову в форточку\")\n",
        "else:\n",
        "  print(\"Вася не сможет высунуть голову в форточку\")"
      ],
      "metadata": {
        "colab": {
          "base_uri": "https://localhost:8080/"
        },
        "id": "PnVB1uCKGLz_",
        "outputId": "0da6afde-f918-451b-e102-07e84252b07d"
      },
      "execution_count": null,
      "outputs": [
        {
          "output_type": "stream",
          "name": "stdout",
          "text": [
            "40\n",
            "30\n",
            "20\n",
            "Вася сможет высунуть голову в форточку\n"
          ]
        }
      ]
    },
    {
      "cell_type": "markdown",
      "source": [
        "Задача №2.4:"
      ],
      "metadata": {
        "id": "Rr3QHLoKNlqB"
      }
    },
    {
      "cell_type": "code",
      "source": [
        "number_year = int(input(\"Введите текущий год: \"))\n",
        "number_month = int(input(\"Введите номер текущего месяца: \"))\n",
        "birthday_number_year = int(input(\"Введите год рождения: \"))\n",
        "birthday_number_month = int(input(\"Введите номер месяца рождения: \"))\n",
        "\n",
        "if number_month > birthday_number_month:\n",
        "  age = number_year - birthday_number_year\n",
        "  print(f\"Возраст человека - {age} лет\")\n",
        "else:\n",
        "  print(f\"Возраст человека - {age-1} лет\")"
      ],
      "metadata": {
        "id": "85MF8_bdNoGR",
        "colab": {
          "base_uri": "https://localhost:8080/"
        },
        "outputId": "d33d6f9f-d332-43e7-b67f-386e324bce9c"
      },
      "execution_count": null,
      "outputs": [
        {
          "output_type": "stream",
          "name": "stdout",
          "text": [
            "Введите текущий год: 2025\n",
            "Введите номер текущего месяца: 3\n",
            "Введите год рождения: 2008\n",
            "Введите номер месяца рождения: 2\n",
            "Возраст человека - 17 лет\n"
          ]
        }
      ]
    },
    {
      "cell_type": "markdown",
      "source": [
        "Задача №2.5:"
      ],
      "metadata": {
        "id": "zMXLtkQiR-v-"
      }
    },
    {
      "cell_type": "code",
      "source": [
        "x = int(input())\n",
        "y = int(input())\n",
        "\n",
        "if x > 0 and y > 0:\n",
        "  print(\"Точка находится в 1 четверти\")\n",
        "if x < 0 and y > 0:\n",
        "  print(\"Точка находится во 2 четверти\")\n",
        "if x < 0 and y < 0:\n",
        "  print(\"Точка находится в 3 четверти\")\n",
        "if x > 0 and y < 0:\n",
        "  print(\"Точка находится в 4 четверти\")"
      ],
      "metadata": {
        "id": "LCAsXvxhSFwP",
        "colab": {
          "base_uri": "https://localhost:8080/"
        },
        "outputId": "c0c8a454-42f1-4bf1-c55e-21b8790c65c5"
      },
      "execution_count": null,
      "outputs": [
        {
          "output_type": "stream",
          "name": "stdout",
          "text": [
            "3\n",
            "-4\n",
            "Точка находится в 4 четверти\n"
          ]
        }
      ]
    },
    {
      "cell_type": "markdown",
      "source": [
        "Задача №2.6:"
      ],
      "metadata": {
        "id": "GR3iGnf7UPOA"
      }
    },
    {
      "cell_type": "code",
      "source": [
        "a = float(input())\n",
        "b = float(input())\n",
        "c = float(input())\n",
        "\n",
        "def quadro(a, b, c):\n",
        "\n",
        "    D = b**2 - 4*a*c\n",
        "\n",
        "    if D > 0:\n",
        "        x1 = (-b + math.sqrt(D)) / (2*a)\n",
        "        x2 = (-b - math.sqrt(D)) / (2*a)\n",
        "        return round(x1, 1), round(x2, 1)\n",
        "    elif D == 0:\n",
        "        x = (-b) / (2 * a)\n",
        "        return round(x, 1)\n",
        "    else:\n",
        "        return \"Нет вещественных корней\"\n",
        "\n",
        "print(quadro(a, b, c))"
      ],
      "metadata": {
        "colab": {
          "base_uri": "https://localhost:8080/"
        },
        "id": "L1EAfwUYUSal",
        "outputId": "9f7d799b-07fd-45f9-8d93-a83d582ae07d"
      },
      "execution_count": null,
      "outputs": [
        {
          "output_type": "stream",
          "name": "stdout",
          "text": [
            "4\n",
            "20\n",
            "2\n",
            "(-0.1, -4.9)\n"
          ]
        }
      ]
    },
    {
      "cell_type": "markdown",
      "source": [
        "Задача №2.7:"
      ],
      "metadata": {
        "id": "vtgMez9Yo7ab"
      }
    },
    {
      "cell_type": "code",
      "source": [
        "total = 0\n",
        "count = 0\n",
        "\n",
        "isNull = False\n",
        "while (not isNull):\n",
        "  a = int(input())\n",
        "  if (a==0):\n",
        "    isNull = True\n",
        "  else:\n",
        "    count = count + 1\n",
        "    total = total + a\n",
        "\n",
        "print(f'Сумма чисел: {total}')\n",
        "print(f'Количество чисел: {count}')"
      ],
      "metadata": {
        "colab": {
          "base_uri": "https://localhost:8080/"
        },
        "id": "sLVem6lzo9yy",
        "outputId": "a9e3e908-526e-4156-a850-0c448752db30"
      },
      "execution_count": null,
      "outputs": [
        {
          "output_type": "stream",
          "name": "stdout",
          "text": [
            "6754\n",
            "89\n",
            "90\n",
            "0\n",
            "Сумма чисел: 6933\n",
            "Количество чисел: 3\n"
          ]
        }
      ]
    },
    {
      "cell_type": "markdown",
      "source": [
        "Задача №2.8:"
      ],
      "metadata": {
        "id": "8ZF-DvRIZ_tQ"
      }
    },
    {
      "cell_type": "code",
      "source": [
        "n = int(input())\n",
        "\n",
        "for i in range (0, n, 5):\n",
        "  print(i)"
      ],
      "metadata": {
        "colab": {
          "base_uri": "https://localhost:8080/"
        },
        "id": "fzGM9EIrar10",
        "outputId": "2cc18989-c391-44a5-ae15-78fc6c465a96"
      },
      "execution_count": null,
      "outputs": [
        {
          "output_type": "stream",
          "name": "stdout",
          "text": [
            "29\n",
            "0\n",
            "5\n",
            "10\n",
            "15\n",
            "20\n",
            "25\n"
          ]
        }
      ]
    },
    {
      "cell_type": "markdown",
      "source": [
        "Задача №2.9:"
      ],
      "metadata": {
        "id": "Q0jhrN10G7y4"
      }
    },
    {
      "cell_type": "code",
      "source": [
        "a = int(input())\n",
        "sum = 0\n",
        "counter = 0\n",
        "\n",
        "while (a>=sum):\n",
        "  counter = counter + 1\n",
        "  sum = sum + 1/counter\n",
        "print(counter)"
      ],
      "metadata": {
        "colab": {
          "base_uri": "https://localhost:8080/"
        },
        "id": "F5-SAhUIG_Zl",
        "outputId": "cc8f72e2-fea5-41d3-e94c-61e9bff5c120"
      },
      "execution_count": null,
      "outputs": [
        {
          "output_type": "stream",
          "name": "stdout",
          "text": [
            "6\n",
            "227\n"
          ]
        }
      ]
    },
    {
      "cell_type": "markdown",
      "source": [
        "Задача №2.10:"
      ],
      "metadata": {
        "id": "Xw84CF9JLo4l"
      }
    },
    {
      "cell_type": "code",
      "source": [
        "n = int(input())\n",
        "sum = 0\n",
        "count = 0\n",
        "\n",
        "while n!=0:\n",
        "  s = n % 10\n",
        "  sum = sum + s\n",
        "  count = count + 1\n",
        "  n = n//10\n",
        "print(sum, count)"
      ],
      "metadata": {
        "colab": {
          "base_uri": "https://localhost:8080/"
        },
        "id": "H-eYMIQILrJv",
        "outputId": "5ca7679e-69fe-4f46-9774-3deb14fe67c6"
      },
      "execution_count": null,
      "outputs": [
        {
          "output_type": "stream",
          "name": "stdout",
          "text": [
            "1234\n",
            "10 4\n"
          ]
        }
      ]
    },
    {
      "cell_type": "markdown",
      "source": [
        "Задача №2.11:"
      ],
      "metadata": {
        "id": "Mc_p2KFmr4_a"
      }
    },
    {
      "cell_type": "code",
      "source": [
        "k = int(input())\n",
        "s = int(input())\n",
        "start = int(input())\n",
        "\n",
        "m = []\n",
        "while len(m)<10:\n",
        "  if start % 10 == k and start % s == 0:\n",
        "    m.append(str(start))\n",
        "\n",
        "  start = start + 1\n",
        "  string = \" \".join(m)\n",
        "print(string)"
      ],
      "metadata": {
        "colab": {
          "base_uri": "https://localhost:8080/"
        },
        "id": "hSeFePTVr7mt",
        "outputId": "407e6a6a-07ce-49a3-e33a-5d16ac81a752"
      },
      "execution_count": null,
      "outputs": [
        {
          "output_type": "stream",
          "name": "stdout",
          "text": [
            "6\n",
            "2\n",
            "12\n",
            "16 26 36 46 56 66 76 86 96 106\n"
          ]
        }
      ]
    },
    {
      "cell_type": "markdown",
      "source": [
        "Задача №2.12:"
      ],
      "metadata": {
        "id": "Rnalqeofteds"
      }
    },
    {
      "cell_type": "code",
      "source": [
        "# Ввод целых чисел a и b\n",
        "a = int(input(\"Введите число a: \"))\n",
        "b = int(input(\"Введите число b: \"))\n",
        "\n",
        "# Определение минимального и максимального числа\n",
        "min_num = min(a, b)\n",
        "max_num = max(a, b)\n",
        "\n",
        "# Вывод чисел от минимального до максимального в строку\n",
        "print(\"Числа от минимального до максимального в строку:\")\n",
        "print(\" \".join(map(str, range(min_num, max_num + 1))))\n",
        "\n",
        "# Вывод чисел от максимального до минимального в столбик\n",
        "print(\"\\nЧисла от максимального до минимального в столбик:\")\n",
        "for num in range(max_num, min_num - 1, -1):\n",
        "    print(num)"
      ],
      "metadata": {
        "colab": {
          "base_uri": "https://localhost:8080/"
        },
        "id": "AuxS8KBOtgw4",
        "outputId": "f3382a60-b0cb-4026-831f-1e2e57390d29"
      },
      "execution_count": null,
      "outputs": [
        {
          "output_type": "stream",
          "name": "stdout",
          "text": [
            "Введите число a: 5\n",
            "Введите число b: 15\n",
            "Числа от минимального до максимального в строку:\n",
            "5 6 7 8 9 10 11 12 13 14 15\n",
            "\n",
            "Числа от максимального до минимального в столбик:\n",
            "15\n",
            "14\n",
            "13\n",
            "12\n",
            "11\n",
            "10\n",
            "9\n",
            "8\n",
            "7\n",
            "6\n",
            "5\n"
          ]
        }
      ]
    },
    {
      "cell_type": "markdown",
      "source": [
        "Задача №2.13:"
      ],
      "metadata": {
        "id": "0hwoEEFPN9zV"
      }
    },
    {
      "cell_type": "code",
      "source": [
        "a = int(input(\"Введите целое число a (a ≤ b): \"))\n",
        "b = int(input(\"Введите целое число b (a ≤ b): \"))\n",
        "\n",
        "# 1. Сумма всех целых чисел от a до b\n",
        "sum_all = sum(range(a, b + 1))\n",
        "\n",
        "# 2. Произведение всех целых чисел от a до b\n",
        "product = 1\n",
        "for num in range(a, b + 1):\n",
        "    product *= num\n",
        "\n",
        "# 3. Среднее арифметическое всех целых чисел от a до b\n",
        "count = b - a + 1\n",
        "average = sum_all / count\n",
        "\n",
        "# 4. Среднее геометрическое нечетных чисел от a до b\n",
        "odd_numbers = [num for num in range(a, b + 1) if num % 2 != 0]\n",
        "geom_average = 1.0\n",
        "if odd_numbers:\n",
        "    product_odd = 1\n",
        "    for num in odd_numbers:\n",
        "        product_odd *= num\n",
        "    geom_average = product_odd ** (1 / len(odd_numbers))\n",
        "\n",
        "# Вывод результатов\n",
        "print(f\"1. Сумма чисел от {a} до {b}: {sum_all}\")\n",
        "print(f\"2. Произведение чисел от {a} до {b}: {product}\")\n",
        "print(f\"3. Среднее арифметическое: {average:.2f}\")\n",
        "if odd_numbers:\n",
        "    print(f\"4. Среднее геометрическое нечетных чисел: {geom_average:.2f}\")\n",
        "else:\n",
        "    print(\"4. В диапазоне нет нечетных чисел\")"
      ],
      "metadata": {
        "colab": {
          "base_uri": "https://localhost:8080/"
        },
        "id": "AGZ6z7VkOBRm",
        "outputId": "8230769c-6032-43c8-a556-da5694c7dd2a"
      },
      "execution_count": 1,
      "outputs": [
        {
          "output_type": "stream",
          "name": "stdout",
          "text": [
            "Введите целое число a (a ≤ b): 4\n",
            "Введите целое число b (a ≤ b): 5\n",
            "1. Сумма чисел от 4 до 5: 9\n",
            "2. Произведение чисел от 4 до 5: 20\n",
            "3. Среднее арифметическое: 4.50\n",
            "4. Среднее геометрическое нечетных чисел: 5.00\n"
          ]
        }
      ]
    },
    {
      "cell_type": "markdown",
      "source": [
        "Задача №2.14:"
      ],
      "metadata": {
        "id": "d9DNzKRUPIGv"
      }
    },
    {
      "cell_type": "code",
      "source": [
        "s = float(input(\"Введите пробег в первый день (км, s > 0): \"))\n",
        "p = float(input(\"Введите процент увеличения (0 < p ≤ 100): \"))\n",
        "\n",
        "daily_runs = []  # Список для хранения пробега по дням\n",
        "current_run = s   # Пробег в текущий день\n",
        "\n",
        "# Рассчитываем пробег для каждого дня (со 2 по 10)\n",
        "for day in range(1, 11):\n",
        "    daily_runs.append(current_run)\n",
        "    if day < 10:\n",
        "        current_run *= (1 + p / 100)  # Увеличиваем пробег на p%\n",
        "\n",
        "# Выводим результаты по дням (со 2 по 10)\n",
        "print(\"\\nПробег по дням:\")\n",
        "for day in range(1, 10):\n",
        "    print(f\"День {day + 1}: {daily_runs[day]:.1f} км\")\n",
        "\n",
        "# Суммарный пробег за 10 дней\n",
        "total_distance = sum(daily_runs)\n",
        "print(f\"\\nСуммарный пробег за 10 дней: {total_distance:.1f} км\")"
      ],
      "metadata": {
        "colab": {
          "base_uri": "https://localhost:8080/"
        },
        "id": "fkG1YwsQPRMG",
        "outputId": "80bff5e6-ea7e-4edf-b761-1d44ddbc7e90"
      },
      "execution_count": 2,
      "outputs": [
        {
          "output_type": "stream",
          "name": "stdout",
          "text": [
            "Введите пробег в первый день (км, s > 0): 60\n",
            "Введите процент увеличения (0 < p ≤ 100): 50\n",
            "\n",
            "Пробег по дням:\n",
            "День 2: 90.0 км\n",
            "День 3: 135.0 км\n",
            "День 4: 202.5 км\n",
            "День 5: 303.8 км\n",
            "День 6: 455.6 км\n",
            "День 7: 683.4 км\n",
            "День 8: 1025.2 км\n",
            "День 9: 1537.7 км\n",
            "День 10: 2306.6 км\n",
            "\n",
            "Суммарный пробег за 10 дней: 6799.8 км\n"
          ]
        }
      ]
    },
    {
      "cell_type": "markdown",
      "source": [
        "Задача №2.15:"
      ],
      "metadata": {
        "id": "sjgjhr6DPx2M"
      }
    },
    {
      "cell_type": "code",
      "source": [
        "def check_transport_possibility():\n",
        "    \"\"\"\n",
        "    Определяет возможность перевозки груза на грузовике\n",
        "    \"\"\"\n",
        "    # Ввод грузоподъемности грузовика\n",
        "    while True:\n",
        "        try:\n",
        "            p = float(input(\"Введите грузоподъемность грузовика (кг): \"))\n",
        "            if p <= 0:\n",
        "                print(\"Грузоподъемность должна быть положительным числом!\")\n",
        "                continue\n",
        "            break\n",
        "        except ValueError:\n",
        "            print(\"Ошибка! Введите числовое значение.\")\n",
        "\n",
        "    # Ввод количества предметов\n",
        "    while True:\n",
        "        try:\n",
        "            n = int(input(\"Введите количество предметов: \"))\n",
        "            if n <= 0:\n",
        "                print(\"Количество предметов должно быть положительным!\")\n",
        "                continue\n",
        "            break\n",
        "        except ValueError:\n",
        "            print(\"Ошибка! Введите целое число.\")\n",
        "\n",
        "    # Ввод массы каждого предмета\n",
        "    total_weight = 0.0\n",
        "    items = []\n",
        "    for i in range(n):\n",
        "        while True:\n",
        "            try:\n",
        "                weight = float(input(f\"Введите массу предмета {i+1} (кг): \"))\n",
        "                if weight <= 0:\n",
        "                    print(\"Масса предмета должна быть положительной!\")\n",
        "                    continue\n",
        "                items.append(weight)\n",
        "                total_weight += weight\n",
        "                break\n",
        "            except ValueError:\n",
        "                print(\"Ошибка! Введите числовое значение.\")\n",
        "\n",
        "    # Проверка возможности перевозки\n",
        "    print(\"\\nРезультаты расчета:\")\n",
        "    print(f\"Общая масса груза: {total_weight:.2f} кг\")\n",
        "    print(f\"Грузоподъемность грузовика: {p:.2f} кг\")\n",
        "\n",
        "    if total_weight <= p:\n",
        "        print(\"✅ Перевозка возможна! Общий вес груза не превышает грузоподъемность.\")\n",
        "    else:\n",
        "        excess = total_weight - p\n",
        "        print(f\"❌ Перевозка невозможна! Превышение грузоподъемности на {excess:.2f} кг.\")\n",
        "\n",
        "# Запуск программы\n",
        "check_transport_possibility()"
      ],
      "metadata": {
        "colab": {
          "base_uri": "https://localhost:8080/"
        },
        "id": "Pf9102VrQL-T",
        "outputId": "92d4b5ba-9d64-4a29-a9a3-e0ee18aa5845"
      },
      "execution_count": 3,
      "outputs": [
        {
          "output_type": "stream",
          "name": "stdout",
          "text": [
            "Введите грузоподъемность грузовика (кг): 400\n",
            "Введите количество предметов: 6\n",
            "Введите массу предмета 1 (кг): 12\n",
            "Введите массу предмета 2 (кг): 45\n",
            "Введите массу предмета 3 (кг): 87\n",
            "Введите массу предмета 4 (кг): 89\n",
            "Введите массу предмета 5 (кг): 45\n",
            "Введите массу предмета 6 (кг): 120\n",
            "\n",
            "Результаты расчета:\n",
            "Общая масса груза: 398.00 кг\n",
            "Грузоподъемность грузовика: 400.00 кг\n",
            "✅ Перевозка возможна! Общий вес груза не превышает грузоподъемность.\n"
          ]
        }
      ]
    },
    {
      "cell_type": "markdown",
      "source": [
        "Задача №2.16:"
      ],
      "metadata": {
        "id": "NCrqreAVRbwl"
      }
    },
    {
      "cell_type": "code",
      "source": [
        "def calculate_wheat_harvest():\n",
        "    \"\"\"\n",
        "    Рассчитывает общее количество пшеницы, собранное по области\n",
        "    \"\"\"\n",
        "    # Ввод количества районов\n",
        "    while True:\n",
        "        try:\n",
        "            num_districts = int(input(\"Введите количество районов: \"))\n",
        "            if num_districts <= 0:\n",
        "                print(\"Количество районов должно быть положительным числом!\")\n",
        "                continue\n",
        "            break\n",
        "        except ValueError:\n",
        "            print(\"Ошибка! Введите целое число.\")\n",
        "\n",
        "    total_harvest = 0.0\n",
        "\n",
        "    # Ввод данных по каждому району\n",
        "    for i in range(num_districts):\n",
        "        print(f\"\\nРайон {i+1}:\")\n",
        "\n",
        "        # Ввод площади\n",
        "        while True:\n",
        "            try:\n",
        "                area = float(input(\"Введите площадь посевов (га): \"))\n",
        "                if area <= 0:\n",
        "                    print(\"Площадь должна быть положительной!\")\n",
        "                    continue\n",
        "                break\n",
        "            except ValueError:\n",
        "                print(\"Ошибка! Введите числовое значение.\")\n",
        "\n",
        "        # Ввод урожайности\n",
        "        while True:\n",
        "            try:\n",
        "                yield_per_ha = float(input(\"Введите урожайность (ц/га): \"))\n",
        "                if yield_per_ha <= 0:\n",
        "                    print(\"Урожайность должна быть положительной!\")\n",
        "                    continue\n",
        "                break\n",
        "            except ValueError:\n",
        "                print(\"Ошибка! Введите числовое значение.\")\n",
        "\n",
        "        # Расчет сбора по району и добавление к общему\n",
        "        district_harvest = area * yield_per_ha\n",
        "        total_harvest += district_harvest\n",
        "        print(f\"Собрано в районе: {district_harvest:.1f} ц\")\n",
        "\n",
        "    # Вывод общего результата\n",
        "    print(f\"\\nОбщий сбор пшеницы по области: {total_harvest:.1f} ц\")\n",
        "\n",
        "# Запуск программы\n",
        "calculate_wheat_harvest()"
      ],
      "metadata": {
        "colab": {
          "base_uri": "https://localhost:8080/"
        },
        "id": "Qoub65pFRdrZ",
        "outputId": "ef3e7324-7d3b-443d-d4e0-708b1f530994"
      },
      "execution_count": 4,
      "outputs": [
        {
          "output_type": "stream",
          "name": "stdout",
          "text": [
            "Введите количество районов: 4\n",
            "\n",
            "Район 1:\n",
            "Введите площадь посевов (га): 34\n",
            "Введите урожайность (ц/га): 4\n",
            "Собрано в районе: 136.0 ц\n",
            "\n",
            "Район 2:\n",
            "Введите площадь посевов (га): 56\n",
            "Введите урожайность (ц/га): 5\n",
            "Собрано в районе: 280.0 ц\n",
            "\n",
            "Район 3:\n",
            "Введите площадь посевов (га): 89\n",
            "Введите урожайность (ц/га): 56\n",
            "Собрано в районе: 4984.0 ц\n",
            "\n",
            "Район 4:\n",
            "Введите площадь посевов (га): 34\n",
            "Введите урожайность (ц/га): 12\n",
            "Собрано в районе: 408.0 ц\n",
            "\n",
            "Общий сбор пшеницы по области: 5808.0 ц\n"
          ]
        }
      ]
    },
    {
      "cell_type": "markdown",
      "source": [
        "Задача №2.17:"
      ],
      "metadata": {
        "id": "QhscLPs7R73r"
      }
    },
    {
      "cell_type": "code",
      "source": [
        "while True:\n",
        "    # Ввод данных\n",
        "    a = int(input(\"Введите целое число a (a ≤ b): \"))\n",
        "    b = int(input(\"Введите целое число b (a ≤ b): \"))\n",
        "\n",
        "    # Проверка условия a ≤ b\n",
        "    if a > b:\n",
        "        print(\"Ошибка: a должно быть меньше или равно b!\")\n",
        "        continue  # Пропускаем итерацию и запрашиваем ввод снова\n",
        "\n",
        "    # 1. Сумма всех целых чисел от a до b\n",
        "    sum_all = sum(range(a, b + 1))\n",
        "\n",
        "    # 2. Произведение всех целых чисел от a до b\n",
        "    product = 1\n",
        "    for num in range(a, b + 1):\n",
        "        product *= num\n",
        "\n",
        "    # 3. Среднее арифметическое всех целых чисел от a до b\n",
        "    count = b - a + 1\n",
        "    average = sum_all / count\n",
        "\n",
        "    # 4. Среднее геометрическое нечетных чисел от a до b\n",
        "    odd_numbers = [num for num in range(a, b + 1) if num % 2 != 0]\n",
        "    if odd_numbers:\n",
        "        product_odd = 1\n",
        "        for num in odd_numbers:\n",
        "            product_odd *= num\n",
        "        geom_average = product_odd ** (1 / len(odd_numbers))\n",
        "    else:\n",
        "        geom_average = 0\n",
        "\n",
        "    # Вывод результатов\n",
        "    print(f\"\\n1. Сумма чисел от {a} до {b}: {sum_all}\")\n",
        "    print(f\"2. Произведение чисел от {a} до {b}: {product}\")\n",
        "    print(f\"3. Среднее арифметическое: {average:.2f}\")\n",
        "    if odd_numbers:\n",
        "        print(f\"4. Среднее геометрическое нечетных чисел: {geom_average:.2f}\")\n",
        "    else:\n",
        "        print(\"4. В диапазоне нет нечетных чисел\")\n",
        "\n",
        "    # Проверка условия выхода\n",
        "    choice = input(\"\\nХотите продолжить? (да/нет): \").lower()\n",
        "    if choice != 'да':\n",
        "        break  # Выход из бесконечного цикла\n",
        "\n",
        "print(\"\\nПрограмма завершена.\")"
      ],
      "metadata": {
        "colab": {
          "base_uri": "https://localhost:8080/"
        },
        "id": "t7iCBMGMR_dx",
        "outputId": "236f09d2-afea-405a-dead-985bbcc2b5e3"
      },
      "execution_count": 5,
      "outputs": [
        {
          "output_type": "stream",
          "name": "stdout",
          "text": [
            "Введите целое число a (a ≤ b): 3\n",
            "Введите целое число b (a ≤ b): 7\n",
            "\n",
            "1. Сумма чисел от 3 до 7: 25\n",
            "2. Произведение чисел от 3 до 7: 2520\n",
            "3. Среднее арифметическое: 5.00\n",
            "4. Среднее геометрическое нечетных чисел: 4.72\n",
            "\n",
            "Хотите продолжить? (да/нет): нет\n",
            "\n",
            "Программа завершена.\n"
          ]
        }
      ]
    },
    {
      "cell_type": "markdown",
      "source": [
        "Задача №2.18:"
      ],
      "metadata": {
        "id": "r4hu_dXZaZoY"
      }
    },
    {
      "cell_type": "code",
      "source": [
        "sentense = input()\n",
        "count_a = 0\n",
        "count_b = 0\n",
        "\n",
        "m = 'аоуыэяёюие'\n",
        "for char in sentense:\n",
        "  if char == \" \": continue\n",
        "  elif char in m:\n",
        "    count_a = count_a + 1\n",
        "  else:\n",
        "    count_b = count_b + 1\n",
        "\n",
        "print(count_a)\n",
        "print(count_b)"
      ],
      "metadata": {
        "colab": {
          "base_uri": "https://localhost:8080/"
        },
        "id": "pu8oQ08Kab-4",
        "outputId": "cdb0df0a-8a25-4d04-c716-1b3195b36fbb"
      },
      "execution_count": null,
      "outputs": [
        {
          "output_type": "stream",
          "name": "stdout",
          "text": [
            "Привет\n",
            "2\n",
            "4\n"
          ]
        }
      ]
    },
    {
      "cell_type": "markdown",
      "source": [
        "Напищите программу, которая сортирует список чисел по убыванию и выводит его."
      ],
      "metadata": {
        "id": "Vn3Bt-hiohhI"
      }
    },
    {
      "cell_type": "code",
      "source": [
        "s = input()\n",
        "\n",
        "modified_string = s.replace('a', 'A')\n",
        "count_a = s.count('a')\n",
        "\n",
        "print(f\"Измененная строка: {modified_string}\")\n",
        "print(f\"Количество символов 'a': {count_a}\")"
      ],
      "metadata": {
        "colab": {
          "base_uri": "https://localhost:8080/"
        },
        "id": "aStUZf5re0sm",
        "outputId": "f1f2cb66-842b-47de-91e6-ce620112ab91"
      },
      "execution_count": null,
      "outputs": [
        {
          "output_type": "stream",
          "name": "stdout",
          "text": [
            "banana\n",
            "Измененная строка: bAnAnA\n",
            "Количество символов 'a': 3\n"
          ]
        }
      ]
    },
    {
      "cell_type": "markdown",
      "source": [
        "Дана точка с целыми ненулевыми координатами (x;y). Определить номер четверти\n",
        "координатной плоскости, которой она принадлежит. (Входные данные: 3 4 и 0 0), запрос повтора программы."
      ],
      "metadata": {
        "id": "MK-CUg6ToFaG"
      }
    },
    {
      "cell_type": "code",
      "source": [
        "for i in range(2):\n",
        "  x = int(input())\n",
        "  y = int(input())\n",
        "\n",
        "  if x>0 and y>0:\n",
        "    print(\"Точка находится в первой четверти.\")\n",
        "  elif x<0 and y>0:\n",
        "    print(\"Точка находится во второй четверти.\")\n",
        "  elif x<0 and y>0:\n",
        "    print(\"Точка находится в третьей четверти.\")\n",
        "  elif x<0 and y<0:\n",
        "    print(\"Точка находится в четвертой четверти.\")\n",
        "  else:\n",
        "    print(\"Точка лежит на оси.\")"
      ],
      "metadata": {
        "colab": {
          "base_uri": "https://localhost:8080/"
        },
        "id": "9n9UvCi0jy-P",
        "outputId": "29503ca5-dc80-4e02-8796-cb4561f8f914"
      },
      "execution_count": null,
      "outputs": [
        {
          "output_type": "stream",
          "name": "stdout",
          "text": [
            "3\n",
            "4\n",
            "Точка находится в первой четверти.\n",
            "0\n",
            "0\n",
            "Точка лежит на оси.\n"
          ]
        }
      ]
    },
    {
      "cell_type": "markdown",
      "source": [
        "Задача №2.19:"
      ],
      "metadata": {
        "id": "T7pWKgMreSGu"
      }
    },
    {
      "cell_type": "code",
      "source": [
        "a = int(input())\n",
        "b = int(input())\n",
        "c = int(input())\n",
        "\n",
        "for i in range(a, b + 1):\n",
        "    if i % c == 0:\n",
        "        print(i, end=\" \")"
      ],
      "metadata": {
        "colab": {
          "base_uri": "https://localhost:8080/"
        },
        "id": "W9RGoWC3wJDX",
        "outputId": "5448562d-94f6-4e28-b394-1c809f6fcc15"
      },
      "execution_count": null,
      "outputs": [
        {
          "output_type": "stream",
          "name": "stdout",
          "text": [
            "Введите целое число a: 5\n",
            "Введите целое число b: 20\n",
            "Введите целое число c: 5\n",
            "Числа от 5 до 20, кратные 5:\n",
            "5 10 15 20 "
          ]
        }
      ]
    },
    {
      "cell_type": "markdown",
      "source": [
        "Задача №2.20:"
      ],
      "metadata": {
        "id": "xcAIGAHiT2_T"
      }
    },
    {
      "cell_type": "code",
      "source": [
        "n = int(input(\"Введите целое число n (0 < n ≤ 27): \"))\n",
        "\n",
        "result = []\n",
        "for num in range(100, 1000):  # Перебираем все трёхзначные числа\n",
        "    # Разбиваем число на цифры\n",
        "    digit1 = num // 100        # Первая цифра (сотни)\n",
        "    digit2 = (num // 10) % 10  # Вторая цифра (десятки)\n",
        "    digit3 = num % 10          # Третья цифра (единицы)\n",
        "\n",
        "    # Проверяем сумму цифр\n",
        "    if digit1 + digit2 + digit3 == n:\n",
        "        result.append(str(num))\n",
        "\n",
        "# Выводим результат в строку через пробел\n",
        "print(\" \".join(result))"
      ],
      "metadata": {
        "colab": {
          "base_uri": "https://localhost:8080/"
        },
        "id": "HKS11NLpT42v",
        "outputId": "71950f48-e487-4bf1-c1e1-7bc62733f045"
      },
      "execution_count": 6,
      "outputs": [
        {
          "output_type": "stream",
          "name": "stdout",
          "text": [
            "Введите целое число n (0 < n ≤ 27): 22\n",
            "499 589 598 679 688 697 769 778 787 796 859 868 877 886 895 949 958 967 976 985 994\n"
          ]
        }
      ]
    },
    {
      "cell_type": "markdown",
      "source": [
        "Задача 2.21:"
      ],
      "metadata": {
        "id": "z4nIDwZrUUJ9"
      }
    },
    {
      "cell_type": "code",
      "source": [
        "# Ввод количества учеников\n",
        "n = int(input(\"Введите количество учеников в классе: \"))\n",
        "\n",
        "boys_heights = []\n",
        "girls_heights = []\n",
        "\n",
        "# Ввод роста каждого ученика\n",
        "for i in range(n):\n",
        "    while True:\n",
        "        try:\n",
        "            height = int(input(f\"Введите рост ученика {i+1} (см, мальчики - отрицательные числа): \"))\n",
        "            if height == 0:\n",
        "                print(\"Рост не может быть равен 0!\")\n",
        "                continue\n",
        "            break\n",
        "        except ValueError:\n",
        "            print(\"Ошибка! Введите целое число.\")\n",
        "\n",
        "    if height < 0:\n",
        "        boys_heights.append(abs(height))  # Для мальчиков берем модуль числа\n",
        "    else:\n",
        "        girls_heights.append(height)\n",
        "\n",
        "# Расчет среднего роста\n",
        "avg_boys = sum(boys_heights) / len(boys_heights) if boys_heights else 0\n",
        "avg_girls = sum(girls_heights) / len(girls_heights) if girls_heights else 0\n",
        "\n",
        "# Вывод результатов\n",
        "print(\"\\nРезультаты:\")\n",
        "if boys_heights:\n",
        "    print(f\"Средний рост мальчиков: {avg_boys:.1f} см\")\n",
        "else:\n",
        "    print(\"В классе нет мальчиков\")\n",
        "\n",
        "if girls_heights:\n",
        "    print(f\"Средний рост девочек: {avg_girls:.1f} см\")\n",
        "else:\n",
        "    print(\"В классе нет девочек\")"
      ],
      "metadata": {
        "colab": {
          "base_uri": "https://localhost:8080/"
        },
        "id": "8jvNRDP_UVe2",
        "outputId": "bd2f247d-ba4a-4e15-a20c-2b8bf92bc35b"
      },
      "execution_count": 7,
      "outputs": [
        {
          "output_type": "stream",
          "name": "stdout",
          "text": [
            "Введите количество учеников в классе: 21\n",
            "Введите рост ученика 1 (см, мальчики - отрицательные числа): 165\n",
            "Введите рост ученика 2 (см, мальчики - отрицательные числа): -170\n",
            "Введите рост ученика 3 (см, мальчики - отрицательные числа): 158\n",
            "Введите рост ученика 4 (см, мальчики - отрицательные числа): 175\n",
            "Введите рост ученика 5 (см, мальчики - отрицательные числа): -180\n",
            "Введите рост ученика 6 (см, мальчики - отрицательные числа): -181\n",
            "Введите рост ученика 7 (см, мальчики - отрицательные числа): -171\n",
            "Введите рост ученика 8 (см, мальчики - отрицательные числа): 172\n",
            "Введите рост ученика 9 (см, мальчики - отрицательные числа): -178\n",
            "Введите рост ученика 10 (см, мальчики - отрицательные числа): 167\n",
            "Введите рост ученика 11 (см, мальчики - отрицательные числа): 168\n",
            "Введите рост ученика 12 (см, мальчики - отрицательные числа): 169\n",
            "Введите рост ученика 13 (см, мальчики - отрицательные числа): 175\n",
            "Введите рост ученика 14 (см, мальчики - отрицательные числа): 174\n",
            "Введите рост ученика 15 (см, мальчики - отрицательные числа): -174\n",
            "Введите рост ученика 16 (см, мальчики - отрицательные числа): -176\n",
            "Введите рост ученика 17 (см, мальчики - отрицательные числа): -190\n",
            "Введите рост ученика 18 (см, мальчики - отрицательные числа): -173\n",
            "Введите рост ученика 19 (см, мальчики - отрицательные числа): 173\n",
            "Введите рост ученика 20 (см, мальчики - отрицательные числа): 174\n",
            "Введите рост ученика 21 (см, мальчики - отрицательные числа): 178\n",
            "\n",
            "Результаты:\n",
            "Средний рост мальчиков: 177.0 см\n",
            "Средний рост девочек: 170.7 см\n"
          ]
        }
      ]
    },
    {
      "cell_type": "markdown",
      "source": [
        "Задача №2.22:"
      ],
      "metadata": {
        "id": "IlGXS16lVCZv"
      }
    },
    {
      "cell_type": "code",
      "source": [
        "n = int(input(\"Введите количество чисел: \"))\n",
        "\n",
        "if n <= 0:\n",
        "    print(\"Ошибка: количество чисел должно быть положительным!\")\n",
        "else:\n",
        "    numbers = []\n",
        "\n",
        "    # Ввод чисел\n",
        "    for i in range(n):\n",
        "        while True:\n",
        "            try:\n",
        "                num = float(input(f\"Введите число {i+1}: \"))\n",
        "                numbers.append(num)\n",
        "                break\n",
        "            except ValueError:\n",
        "                print(\"Ошибка! Введите вещественное число.\")\n",
        "\n",
        "    # Определение минимального и максимального значений\n",
        "    min_num = min(numbers)\n",
        "    max_num = max(numbers)\n",
        "\n",
        "    # Вывод результатов\n",
        "    print(f\"\\nМинимальное число: {min_num:.2f}\")\n",
        "    print(f\"Максимальное число: {max_num:.2f}\")"
      ],
      "metadata": {
        "colab": {
          "base_uri": "https://localhost:8080/"
        },
        "id": "mdjQHk4SVEMd",
        "outputId": "a1f250d9-1289-46a5-f5ce-a390ee8e0576"
      },
      "execution_count": 8,
      "outputs": [
        {
          "output_type": "stream",
          "name": "stdout",
          "text": [
            "Введите количество чисел: 2\n",
            "Введите число 1: 2\n",
            "Введите число 2: 3\n",
            "\n",
            "Минимальное число: 2.00\n",
            "Максимальное число: 3.00\n"
          ]
        }
      ]
    },
    {
      "cell_type": "markdown",
      "source": [
        "Задача №2.23:"
      ],
      "metadata": {
        "id": "_1MSDmgEx936"
      }
    },
    {
      "cell_type": "code",
      "source": [
        "def is_fibonacci(n):\n",
        "    try:\n",
        "        n = int(n)\n",
        "        if n < 0:\n",
        "            return False\n",
        "        a, b = 0, 1\n",
        "\n",
        "        while b < n:\n",
        "            a, b = b, a + b\n",
        "\n",
        "        return b == n or n == 0\n",
        "\n",
        "    except (ValueError, TypeError):\n",
        "        return False\n",
        "\n",
        "user_input = input()\n",
        "\n",
        "if is_fibonacci(user_input):\n",
        "    print(f\"{user_input} является членом последовательности Фибоначчи.\")\n",
        "else:\n",
        "    print(f\"{user_input} не является членом последовательности Фибоначчи.\")"
      ],
      "metadata": {
        "colab": {
          "base_uri": "https://localhost:8080/"
        },
        "id": "7fK6ixAGoPV_",
        "outputId": "eafba04c-2f41-422d-fcee-55fe75a19ce0"
      },
      "execution_count": null,
      "outputs": [
        {
          "output_type": "stream",
          "name": "stdout",
          "text": [
            "9\n",
            "9 не является членом последовательности Фибоначчи.\n"
          ]
        }
      ]
    },
    {
      "cell_type": "code",
      "source": [
        "def is_fibonacci(n):\n",
        "  try:\n",
        "      n = int(input())\n",
        "      if n<0:\n",
        "        return False\n",
        "      a, b = 0, 1\n",
        "\n",
        "      while b<n:\n",
        "        a, b = b, a + b\n",
        "\n",
        "      return b == n or n == 0\n",
        "\n",
        "  except (ValueError, TypeError):\n",
        "      return False\n",
        "\n",
        "if is_fibonacci(n):\n",
        "  print(f\"{n} является членом последовательности Фибоначчи.\")\n",
        "else:\n",
        "  print(f\"{n} является членом последовательности Фибоначчи.\")"
      ],
      "metadata": {
        "colab": {
          "base_uri": "https://localhost:8080/"
        },
        "id": "UcdsELiYpQwZ",
        "outputId": "1361f867-ab73-46b2-94a3-3f9ae44f10d8"
      },
      "execution_count": null,
      "outputs": [
        {
          "output_type": "stream",
          "name": "stdout",
          "text": [
            "0\n",
            "-5 является членом последовательности Фибоначчи.\n"
          ]
        }
      ]
    },
    {
      "cell_type": "markdown",
      "source": [
        "Задача №2.24:"
      ],
      "metadata": {
        "id": "pCAjVqKOVT8d"
      }
    },
    {
      "cell_type": "code",
      "source": [
        "n = int(input(\"Введите количество чисел: \"))\n",
        "\n",
        "if n <= 0:\n",
        "    print(\"Ошибка: количество чисел должно быть положительным!\")\n",
        "else:\n",
        "    numbers = []\n",
        "\n",
        "    # Ввод чисел\n",
        "    for i in range(n):\n",
        "        while True:\n",
        "            try:\n",
        "                num = float(input(f\"Введите число {i+1}: \"))\n",
        "                numbers.append(num)\n",
        "                break\n",
        "            except ValueError:\n",
        "                print(\"Ошибка! Введите вещественное число.\")\n",
        "\n",
        "    # Проверка упорядоченности\n",
        "    index = -1  # Флажок (индекс нарушения порядка)\n",
        "\n",
        "    for i in range(n - 1):\n",
        "        if numbers[i] >= numbers[i + 1]:\n",
        "            index = i + 1  # Запоминаем индекс числа, нарушающего порядок\n",
        "            break\n",
        "\n",
        "    # Вывод результата\n",
        "    if index == -1:\n",
        "        print(\"Последовательность упорядочена по возрастанию.\")\n",
        "    else:\n",
        "        print(f\"Последовательность не упорядочена. Нарушение на позиции {index + 1} (число {numbers[index]:.2f})\")"
      ],
      "metadata": {
        "colab": {
          "base_uri": "https://localhost:8080/"
        },
        "id": "yflKGTS1VWW4",
        "outputId": "2ab26245-8470-44e0-dbd1-4eb8c87c149d"
      },
      "execution_count": 10,
      "outputs": [
        {
          "output_type": "stream",
          "name": "stdout",
          "text": [
            "Введите количество чисел: 4\n",
            "Введите число 1: 2\n",
            "Введите число 2: 1\n",
            "Введите число 3: 9\n",
            "Введите число 4: 8\n",
            "Последовательность не упорядочена. Нарушение на позиции 2 (число 1.00)\n"
          ]
        }
      ]
    },
    {
      "cell_type": "markdown",
      "source": [
        "Задача №4.2.25:"
      ],
      "metadata": {
        "id": "Cxv9qcbYz9nT"
      }
    },
    {
      "cell_type": "code",
      "source": [
        "n = int(input())\n",
        "\n",
        "if n>2 and n<=9:\n",
        "  for i in range(1, n+1):\n",
        "    for j in range(1, n+1):\n",
        "      print(f\"{i} * {j} = {i*j}\", end = \"\\t\")\n",
        "    print()"
      ],
      "metadata": {
        "colab": {
          "base_uri": "https://localhost:8080/"
        },
        "id": "GN25cmRzz_Qk",
        "outputId": "451dead5-703d-4789-a762-037547ffb13a"
      },
      "execution_count": null,
      "outputs": [
        {
          "output_type": "stream",
          "name": "stdout",
          "text": [
            "4\n",
            "1 * 1 = 1\t1 * 2 = 2\t1 * 3 = 3\t1 * 4 = 4\t\n",
            "2 * 1 = 2\t2 * 2 = 4\t2 * 3 = 6\t2 * 4 = 8\t\n",
            "3 * 1 = 3\t3 * 2 = 6\t3 * 3 = 9\t3 * 4 = 12\t\n",
            "4 * 1 = 4\t4 * 2 = 8\t4 * 3 = 12\t4 * 4 = 16\t\n"
          ]
        }
      ]
    },
    {
      "cell_type": "markdown",
      "source": [
        "Задача №2.26:"
      ],
      "metadata": {
        "id": "xJeSJWK84-mL"
      }
    },
    {
      "cell_type": "code",
      "source": [
        "n = int(input(\"Введите число n: \"))\n",
        "\n",
        "# Функция для подсчета количества делителей числа\n",
        "def count_divisors(num):\n",
        "    count = 0\n",
        "    for i in range(1, num + 1):\n",
        "        if num % i == 0:  # Если i делит num без остатка\n",
        "            count += 1\n",
        "    return count\n",
        "\n",
        "# Вывод чисел от 1 до n с символами *\n",
        "for num in range(1, n + 1):\n",
        "    divisors = count_divisors(num)  # Количество делителей\n",
        "    print(f\"{num} {'*' * divisors}\")"
      ],
      "metadata": {
        "colab": {
          "base_uri": "https://localhost:8080/"
        },
        "id": "_iYfgfiS5Abo",
        "outputId": "3ae2e259-5c17-4ee2-e274-715cca21bc47"
      },
      "execution_count": null,
      "outputs": [
        {
          "output_type": "stream",
          "name": "stdout",
          "text": [
            "Введите число n: 5\n",
            "1 *\n",
            "2 **\n",
            "3 **\n",
            "4 ***\n",
            "5 **\n"
          ]
        }
      ]
    },
    {
      "cell_type": "markdown",
      "source": [
        "Задача №2.27:"
      ],
      "metadata": {
        "id": "MQ8U43nbWbhg"
      }
    },
    {
      "cell_type": "code",
      "source": [
        "n = int(input(\"Введите количество простых чисел: \"))\n",
        "\n",
        "def is_prime(num):\n",
        "    \"\"\"Проверяет, является ли число простым\"\"\"\n",
        "    if num < 2:\n",
        "        return False\n",
        "    for i in range(2, int(num**0.5) + 1):\n",
        "        if num % i == 0:\n",
        "            return False\n",
        "    return True\n",
        "\n",
        "count = 0  # Количество найденных простых чисел\n",
        "current = 2  # Первое простое число\n",
        "primes = []  # Список для хранения простых чисел\n",
        "\n",
        "while count < n:\n",
        "    if is_prime(current):\n",
        "        primes.append(str(current))\n",
        "        count += 1\n",
        "    current += 1\n",
        "\n",
        "print(\" \".join(primes))"
      ],
      "metadata": {
        "colab": {
          "base_uri": "https://localhost:8080/"
        },
        "id": "dEhsaIrGWfOF",
        "outputId": "35660876-dc2c-49d6-c39d-1f0795cf8297"
      },
      "execution_count": 11,
      "outputs": [
        {
          "output_type": "stream",
          "name": "stdout",
          "text": [
            "Введите количество простых чисел: 6\n",
            "2 3 5 7 11 13\n"
          ]
        }
      ]
    },
    {
      "cell_type": "markdown",
      "source": [
        "Задача №2.28:"
      ],
      "metadata": {
        "id": "7UuaA_KxWq3b"
      }
    },
    {
      "cell_type": "code",
      "source": [
        "k = int(input(\"Введите натуральное число k: \"))\n",
        "\n",
        "solutions = []\n",
        "\n",
        "# Перебираем все возможные комбинации x, y, z в диапазоне [1, 30]\n",
        "for x in range(1, 31):\n",
        "    for y in range(1, 31):\n",
        "        for z in range(1, 31):\n",
        "            if x**2 + y**2 + z**2 == k**2:\n",
        "                solutions.append((x, y, z))\n",
        "\n",
        "# Выводим результаты\n",
        "if solutions:\n",
        "    print(f\"Найдено {len(solutions)} решений для k = {k}:\")\n",
        "    for solution in solutions:\n",
        "        print(f\"x = {solution[0]}, y = {solution[1]}, z = {solution[2]}\")\n",
        "else:\n",
        "    print(f\"Решений для k = {k} в диапазоне [1, 30] не найдено.\")"
      ],
      "metadata": {
        "colab": {
          "base_uri": "https://localhost:8080/"
        },
        "id": "F5Px79zFWtDp",
        "outputId": "45a9063f-6e07-4992-8181-7ebd18a6c15b"
      },
      "execution_count": 12,
      "outputs": [
        {
          "output_type": "stream",
          "name": "stdout",
          "text": [
            "Введите натуральное число k: 4\n",
            "Решений для k = 4 в диапазоне [1, 30] не найдено.\n"
          ]
        }
      ]
    },
    {
      "cell_type": "markdown",
      "source": [
        "Задача №2.29:"
      ],
      "metadata": {
        "id": "Kmuoo2SMW8Hs"
      }
    },
    {
      "cell_type": "code",
      "source": [
        "# Ввод списка вещественных чисел\n",
        "n = int(input(\"Введите количество чисел: \"))\n",
        "numbers = []\n",
        "for i in range(n):\n",
        "    num = float(input(f\"Введите число {i+1}: \"))\n",
        "    numbers.append(num)\n",
        "\n",
        "# Формирование списков\n",
        "positive_numbers = [num for num in numbers if num > 0]  # Списковое включение для положительных\n",
        "\n",
        "negative_numbers = []\n",
        "for num in numbers:  # Без спискового включения для отрицательных\n",
        "    if num < 0:\n",
        "        negative_numbers.append(num)\n",
        "\n",
        "# Вычисление средних значений\n",
        "avg_positive = sum(positive_numbers) / len(positive_numbers) if positive_numbers else 0\n",
        "geom_negative = 1.0\n",
        "if negative_numbers:\n",
        "    for num in negative_numbers:\n",
        "        geom_negative *= abs(num)\n",
        "    geom_negative **= 1 / len(negative_numbers)\n",
        "\n",
        "# Вывод результатов\n",
        "print(\"\\nИсходный список:\", [f\"{num:.2f}\" for num in numbers])\n",
        "print(\"Список положительных чисел:\", [f\"{num:.2f}\" for num in positive_numbers])\n",
        "print(\"Список отрицательных чисел:\", [f\"{num:.2f}\" for num in negative_numbers])\n",
        "print(f\"Среднее арифметическое положительных чисел: {avg_positive:.2f}\")\n",
        "if negative_numbers:\n",
        "    print(f\"Среднее геометрическое отрицательных чисел: {geom_negative:.2f}\")\n",
        "else:\n",
        "    print(\"Нет отрицательных чисел для вычисления среднего геометрического\")"
      ],
      "metadata": {
        "colab": {
          "base_uri": "https://localhost:8080/"
        },
        "id": "KiAFMwufW9lw",
        "outputId": "f9b16908-c29b-4c94-911a-b3555877fbec"
      },
      "execution_count": 13,
      "outputs": [
        {
          "output_type": "stream",
          "name": "stdout",
          "text": [
            "Введите количество чисел: 4\n",
            "Введите число 1: 3.4\n",
            "Введите число 2: 3.2\n",
            "Введите число 3: 5.4\n",
            "Введите число 4: 4.5\n",
            "\n",
            "Исходный список: ['3.40', '3.20', '5.40', '4.50']\n",
            "Список положительных чисел: ['3.40', '3.20', '5.40', '4.50']\n",
            "Список отрицательных чисел: []\n",
            "Среднее арифметическое положительных чисел: 4.12\n",
            "Нет отрицательных чисел для вычисления среднего геометрического\n"
          ]
        }
      ]
    },
    {
      "cell_type": "markdown",
      "source": [
        "Задача №2.30:"
      ],
      "metadata": {
        "id": "fwz02lK5XO83"
      }
    },
    {
      "cell_type": "code",
      "source": [
        "# Ввод списка чисел\n",
        "input_str = input(\"Введите целые числа через пробел: \")\n",
        "numbers = [int(num) for num in input_str.split()]\n",
        "\n",
        "print(\"\\nИсходный список:\", numbers)\n",
        "\n",
        "# 1. Все ли элементы положительные?\n",
        "# Способ 1: цикл с флажком\n",
        "all_positive_loop = True\n",
        "for num in numbers:\n",
        "    if num <= 0:\n",
        "        all_positive_loop = False\n",
        "        break\n",
        "\n",
        "# Способ 2: функция all()\n",
        "all_positive_func = all(num > 0 for num in numbers)\n",
        "\n",
        "print(\"\\n1. Все ли элементы положительные?\")\n",
        "print(\"   Цикл с флажком:\", all_positive_loop)\n",
        "print(\"   Функция all():\", all_positive_func)\n",
        "\n",
        "# 2. Есть ли хотя бы один нулевой элемент?\n",
        "# Способ 1: цикл с флажком\n",
        "has_zero_loop = False\n",
        "for num in numbers:\n",
        "    if num == 0:\n",
        "        has_zero_loop = True\n",
        "        break\n",
        "\n",
        "# Способ 2: функция any()\n",
        "has_zero_func = any(num == 0 for num in numbers)\n",
        "\n",
        "print(\"\\n2. Есть ли хотя бы один нулевой элемент?\")\n",
        "print(\"   Цикл с флажком:\", has_zero_loop)\n",
        "print(\"   Функция any():\", has_zero_func)\n",
        "\n",
        "# 3. Все ли элементы четные?\n",
        "# Способ 1: цикл с флажком\n",
        "all_even_loop = True\n",
        "for num in numbers:\n",
        "    if num % 2 != 0:\n",
        "        all_even_loop = False\n",
        "        break\n",
        "\n",
        "# Способ 2: функция all()\n",
        "all_even_func = all(num % 2 == 0 for num in numbers)\n",
        "\n",
        "print(\"\\n3. Все ли элементы четные?\")\n",
        "print(\"   Цикл с флажком:\", all_even_loop)\n",
        "print(\"   Функция all():\", all_even_func)\n",
        "\n",
        "# 4. Есть ли хотя бы один нечетный элемент?\n",
        "# Способ 1: цикл с флажком\n",
        "has_odd_loop = False\n",
        "for num in numbers:\n",
        "    if num % 2 != 0:\n",
        "        has_odd_loop = True\n",
        "        break\n",
        "\n",
        "# Способ 2: функция any()\n",
        "has_odd_func = any(num % 2 != 0 for num in numbers)\n",
        "\n",
        "print(\"\\n4. Есть ли хотя бы один нечетный элемент?\")\n",
        "print(\"   Цикл с флажком:\", has_odd_loop)\n",
        "print(\"   Функция any():\", has_odd_func)"
      ],
      "metadata": {
        "colab": {
          "base_uri": "https://localhost:8080/"
        },
        "id": "Px8RiBRpXRYK",
        "outputId": "84f5f6e3-fb38-4acc-b234-192ec09ec1c2"
      },
      "execution_count": 14,
      "outputs": [
        {
          "output_type": "stream",
          "name": "stdout",
          "text": [
            "Введите целые числа через пробел: 3 4 89 65 34 21 12 11\n",
            "\n",
            "Исходный список: [3, 4, 89, 65, 34, 21, 12, 11]\n",
            "\n",
            "1. Все ли элементы положительные?\n",
            "   Цикл с флажком: True\n",
            "   Функция all(): True\n",
            "\n",
            "2. Есть ли хотя бы один нулевой элемент?\n",
            "   Цикл с флажком: False\n",
            "   Функция any(): False\n",
            "\n",
            "3. Все ли элементы четные?\n",
            "   Цикл с флажком: False\n",
            "   Функция all(): False\n",
            "\n",
            "4. Есть ли хотя бы один нечетный элемент?\n",
            "   Цикл с флажком: True\n",
            "   Функция any(): True\n"
          ]
        }
      ]
    },
    {
      "cell_type": "markdown",
      "source": [
        "Задача №2.31:"
      ],
      "metadata": {
        "id": "AXmszNORXlNA"
      }
    },
    {
      "cell_type": "code",
      "source": [
        "# Ввод данных\n",
        "text = input(\"Введите предложение: \")\n",
        "char = input(\"Введите букву для удаления слов: \").lower()\n",
        "\n",
        "# Разбиваем текст на слова\n",
        "words = text.split()\n",
        "\n",
        "# Фильтруем слова (вариант с циклом)\n",
        "filtered = []\n",
        "for word in words:\n",
        "    if char not in word.lower():\n",
        "        filtered.append(word)\n",
        "\n",
        "# Или вариант с list comprehension:\n",
        "# filtered = [w for w in words if char not in w.lower()]\n",
        "\n",
        "# Собираем результат\n",
        "output = ' '.join(filtered)\n",
        "\n",
        "# Выводим результат\n",
        "print(\"\\nОтфильтрованное предложение:\")\n",
        "print(output)"
      ],
      "metadata": {
        "colab": {
          "base_uri": "https://localhost:8080/"
        },
        "id": "WZf1WCg-XnmK",
        "outputId": "61b3b8be-ce86-4894-94e1-52a96c8eb1b7"
      },
      "execution_count": 15,
      "outputs": [
        {
          "output_type": "stream",
          "name": "stdout",
          "text": [
            "Введите предложение: Очень вкусно\n",
            "Введите букву для удаления слов: о\n",
            "\n",
            "Отфильтрованное предложение:\n",
            "\n"
          ]
        }
      ]
    },
    {
      "cell_type": "markdown",
      "source": [
        "Задача №2.32:"
      ],
      "metadata": {
        "id": "qFFhP8HrYEm0"
      }
    },
    {
      "cell_type": "code",
      "source": [
        "# Ввод данных о занятости мест\n",
        "n = int(input(\"Введите количество рядов: \"))\n",
        "cinema = []\n",
        "\n",
        "for row in range(1, n+1):\n",
        "    while True:\n",
        "        try:\n",
        "            seats = input(f\"Введите занятость мест для ряда {row} (0 - свободно, 1 - занято): \")\n",
        "            # Преобразуем строку в список целых чисел\n",
        "            seats_list = [int(seat) for seat in seats if seat in '01']\n",
        "            if not seats_list:\n",
        "                print(\"Ошибка! Введите хотя бы одно место.\")\n",
        "                continue\n",
        "            cinema.append(seats_list)\n",
        "            break\n",
        "        except ValueError:\n",
        "            print(\"Ошибка! Вводите только 0 и 1 без пробелов.\")\n",
        "\n",
        "# Функция для отображения свободных мест\n",
        "def show_free_seats():\n",
        "    total_free = 0\n",
        "    print(\"\\nСвободные места:\")\n",
        "    for i, row in enumerate(cinema, 1):\n",
        "        free_in_row = row.count(0)\n",
        "        total_free += free_in_row\n",
        "        print(f\"Ряд {i}: свободно {free_in_row} мест\")\n",
        "    print(f\"Всего свободных мест: {total_free}\")\n",
        "\n",
        "# Функция для проверки конкретного места\n",
        "def check_seat():\n",
        "    try:\n",
        "        row = int(input(\"\\nВведите номер ряда: \"))\n",
        "        seat = int(input(\"Введите номер места: \"))\n",
        "\n",
        "        if 1 <= row <= len(cinema) and 1 <= seat <= len(cinema[row-1]):\n",
        "            if cinema[row-1][seat-1] == 0:\n",
        "                print(f\"Место {seat} в ряду {row} свободно.\")\n",
        "            else:\n",
        "                print(f\"Место {seat} в ряду {row} занято.\")\n",
        "        else:\n",
        "            print(\"Ошибка! Такого места не существует.\")\n",
        "    except ValueError:\n",
        "        print(\"Ошибка! Введите числовые значения.\")\n",
        "\n",
        "# Основное меню\n",
        "while True:\n",
        "    print(\"\\nМеню:\")\n",
        "    print(\"1. Показать свободные места\")\n",
        "    print(\"2. Проверить место\")\n",
        "    print(\"3. Выход\")\n",
        "\n",
        "    choice = input(\"Выберите действие: \")\n",
        "\n",
        "    if choice == '1':\n",
        "        show_free_seats()\n",
        "    elif choice == '2':\n",
        "        check_seat()\n",
        "    elif choice == '3':\n",
        "        break\n",
        "    else:\n",
        "        print(\"Неверный ввод. Попробуйте снова.\")"
      ],
      "metadata": {
        "colab": {
          "base_uri": "https://localhost:8080/"
        },
        "id": "G2Ba3-zHYGHU",
        "outputId": "b78e6bf1-b7c8-44ba-a2cd-c695bd53208d"
      },
      "execution_count": 16,
      "outputs": [
        {
          "name": "stdout",
          "output_type": "stream",
          "text": [
            "Введите количество рядов: 3\n",
            "Введите занятость мест для ряда 1 (0 - свободно, 1 - занято): 0\n",
            "Введите занятость мест для ряда 2 (0 - свободно, 1 - занято): 1\n",
            "Введите занятость мест для ряда 3 (0 - свободно, 1 - занято): 0\n",
            "\n",
            "Меню:\n",
            "1. Показать свободные места\n",
            "2. Проверить место\n",
            "3. Выход\n",
            "Выберите действие: 2\n",
            "\n",
            "Введите номер ряда: 1\n",
            "Введите номер места: 3\n",
            "Ошибка! Такого места не существует.\n",
            "\n",
            "Меню:\n",
            "1. Показать свободные места\n",
            "2. Проверить место\n",
            "3. Выход\n",
            "Выберите действие: 3\n"
          ]
        }
      ]
    },
    {
      "cell_type": "markdown",
      "source": [
        "Задача №3.33:"
      ],
      "metadata": {
        "id": "Ebq2GhUOYh82"
      }
    },
    {
      "cell_type": "code",
      "source": [
        "# Ввод данных о сотрудниках\n",
        "n = int(input(\"Введите количество сотрудников: \"))\n",
        "employees = []\n",
        "\n",
        "for i in range(n):\n",
        "    data = input(f\"Введите данные сотрудника {i+1} (Ф И О Пол Стаж): \").split()\n",
        "    # Преобразуем стаж в число и сохраняем данные\n",
        "    employees.append([data[0], data[1], data[2], data[3], int(data[4])])\n",
        "\n",
        "# Определение самого молодого и старого сотрудника\n",
        "sorted_by_exp = sorted(employees, key=lambda x: x[4])\n",
        "youngest = sorted_by_exp[0]\n",
        "oldest = sorted_by_exp[-1]\n",
        "\n",
        "# Разделение на мужчин и женщин\n",
        "men = [emp for emp in employees if emp[3] == 'М']\n",
        "women = [emp for emp in employees if emp[3] == 'Ж']\n",
        "\n",
        "# Ввод буквы для анализа имен\n",
        "k = input(\"Введите букву для анализа имен: \").upper()\n",
        "\n",
        "# Подсчет имен на букву k в каждом списке\n",
        "men_k = sum(1 for emp in men if emp[1].startswith(k))\n",
        "women_k = sum(1 for emp in women if emp[1].startswith(k))\n",
        "\n",
        "# Вывод результатов\n",
        "print(\"\\nСамый молодой сотрудник по стажу:\")\n",
        "print(f\"{youngest[0]} {youngest[1]} {youngest[2]}, стаж {youngest[4]} лет\")\n",
        "\n",
        "print(\"\\nСамый старый сотрудник по стажу:\")\n",
        "print(f\"{oldest[0]} {oldest[1]} {oldest[2]}, стаж {oldest[4]} лет\")\n",
        "\n",
        "print(\"\\nАнализ имен по букве\", k)\n",
        "print(f\"Мужчин с именами на '{k}': {men_k}\")\n",
        "print(f\"Женщин с именами на '{k}': {women_k}\")\n",
        "\n",
        "if men_k > women_k:\n",
        "    print(f\"Больше мужских имен на букву '{k}'\")\n",
        "elif women_k > men_k:\n",
        "    print(f\"Больше женских имен на букву '{k}'\")\n",
        "else:\n",
        "    print(f\"Одинаковое количество имен на букву '{k}' в обоих списках\")"
      ],
      "metadata": {
        "colab": {
          "base_uri": "https://localhost:8080/"
        },
        "id": "oQ17hEyqYj0s",
        "outputId": "ec92b9ee-9588-4669-d9cb-b66d03a4a894"
      },
      "execution_count": 1,
      "outputs": [
        {
          "output_type": "stream",
          "name": "stdout",
          "text": [
            "Введите количество сотрудников: 2\n",
            "Введите данные сотрудника 1 (Ф И О Пол Стаж): Софронова Кира Андреевна Ж 5\n",
            "Введите данные сотрудника 2 (Ф И О Пол Стаж): Софронова Софья Андреевна Ж 2\n",
            "Введите букву для анализа имен: К\n",
            "\n",
            "Самый молодой сотрудник по стажу:\n",
            "Софронова Софья Андреевна, стаж 2 лет\n",
            "\n",
            "Самый старый сотрудник по стажу:\n",
            "Софронова Кира Андреевна, стаж 5 лет\n",
            "\n",
            "Анализ имен по букве К\n",
            "Мужчин с именами на 'К': 0\n",
            "Женщин с именами на 'К': 1\n",
            "Больше женских имен на букву 'К'\n"
          ]
        }
      ]
    },
    {
      "cell_type": "markdown",
      "source": [
        "Задача №2.34:"
      ],
      "metadata": {
        "id": "4kxE8ReKh2U0"
      }
    },
    {
      "cell_type": "code",
      "source": [
        "#{\"name\": \"\", \"initial_sum\": 0, \"rate\": 0.0}"
      ],
      "metadata": {
        "id": "wPIPQg6oh5S1"
      },
      "execution_count": null,
      "outputs": []
    },
    {
      "cell_type": "code",
      "source": [
        "# Ввод данных о вкладах\n",
        "n = int(input(\"Введите количество банков: \"))\n",
        "deposits = []\n",
        "\n",
        "for i in range(n):\n",
        "    while True:\n",
        "        try:\n",
        "            data = input(f\"Введите данные по вкладу {i+1} (Банк Сумма Процент): \").split()\n",
        "            bank = data[0]\n",
        "            initial_sum = int(data[1])\n",
        "            rate = float(data[2])\n",
        "\n",
        "            if initial_sum <= 0:\n",
        "                print(\"Сумма должна быть положительной!\")\n",
        "                continue\n",
        "            if not (0 < rate <= 100):\n",
        "                print(\"Процент должен быть в диапазоне (0, 100]!\")\n",
        "                continue\n",
        "\n",
        "            deposits.append({\n",
        "                \"name\": bank,\n",
        "                \"initial_sum\": initial_sum,\n",
        "                \"rate\": rate\n",
        "            })\n",
        "            break\n",
        "        except (ValueError, IndexError):\n",
        "            print(\"Ошибка ввода! Проверьте формат данных.\")\n",
        "\n",
        "# Поиск самого доступного банка (с минимальной суммой)\n",
        "cheapest = min(deposits, key=lambda x: x[\"initial_sum\"])\n",
        "\n",
        "# Поиск самого выгодного банка (с максимальной прибылью)\n",
        "most_profitable = max(deposits, key=lambda x: x[\"initial_sum\"] * x[\"rate\"] / 100)\n",
        "\n",
        "# Вывод результатов\n",
        "print(\"\\nСамый доступный банк:\")\n",
        "print(f\"Банк: {cheapest['name']}\")\n",
        "print(f\"Минимальная сумма: {cheapest['initial_sum']:,} руб.\".replace(',', ' '))\n",
        "print(f\"Процентная ставка: {cheapest['rate']:.2f}%\")\n",
        "\n",
        "print(\"\\nСамый выгодный банк:\")\n",
        "print(f\"Банк: {most_profitable['name']}\")\n",
        "print(f\"Сумма вклада: {most_profitable['initial_sum']:,} руб.\".replace(',', ' '))\n",
        "print(f\"Процентная ставка: {most_profitable['rate']:.2f}%\")\n",
        "profit = most_profitable[\"initial_sum\"] * most_profitable[\"rate\"] / 100\n",
        "print(f\"Прибыль за год: {profit:,.2f} руб.\".replace(',', ' '))"
      ],
      "metadata": {
        "id": "9NycrJ-8tbX_",
        "colab": {
          "base_uri": "https://localhost:8080/"
        },
        "outputId": "f9c7bf8c-4995-4f4e-f2b1-f58efe998428"
      },
      "execution_count": 2,
      "outputs": [
        {
          "output_type": "stream",
          "name": "stdout",
          "text": [
            "Введите количество банков: 2\n",
            "Введите данные по вкладу 1 (Банк Сумма Процент): ggggg 55555 5.5\n",
            "Введите данные по вкладу 2 (Банк Сумма Процент): kkkkk 33333 3.3\n",
            "\n",
            "Самый доступный банк:\n",
            "Банк: kkkkk\n",
            "Минимальная сумма: 33 333 руб.\n",
            "Процентная ставка: 3.30%\n",
            "\n",
            "Самый выгодный банк:\n",
            "Банк: ggggg\n",
            "Сумма вклада: 55 555 руб.\n",
            "Процентная ставка: 5.50%\n",
            "Прибыль за год: 3 055.53 руб.\n"
          ]
        }
      ]
    }
  ]
}